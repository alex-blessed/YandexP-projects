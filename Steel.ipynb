{
 "cells": [
  {
   "cell_type": "markdown",
   "id": "2c838a61-895d-446b-9625-cde67a6c046f",
   "metadata": {},
   "source": [
    "# Предсказание выходной температуры сплава при плавке стали "
   ]
  },
  {
   "cell_type": "markdown",
   "id": "8423dab0-817d-475b-aeed-072190a0522e",
   "metadata": {},
   "source": [
    "Чтобы оптимизировать производственные расходы, металлургический комбинат ООО «Так закаляем сталь» решил уменьшить потребление электроэнергии на этапе обработки стали. Кратко, процесс плавки представляет собой замер температуры, нагревание сплава электродами, добавление примесей, продувка газом и снова замер температуры. Процесс повторяется необходимое количество раз.  \n",
    "\n",
    "**Цель работы:**  \n",
    "Создать модель прогнозирования температуры сплава на последней итерации цикла плавки (задача регрессии). Исходные данные - техническая информация(циклы нагрева и мощность электродов, информация о примесях, продувке газом и пр.) для чуть более 3000 циклов плавки.  \n",
    "Метрика качества - MAE. Она должна быть не выше 6.8.\n",
    "\n",
    "**Ход работы**\n",
    "1. Исследование данных\n",
    "2. Предобработка данных\n",
    "3. Выбор и исследование нескольких моделей машинного обучения\n",
    "4. Тестирование наиболее подходящей модели\n",
    "5. Создание отчета по итогам проведенной работы"
   ]
  },
  {
   "cell_type": "markdown",
   "id": "4e464b54-a00b-4adc-a71a-8df450141c01",
   "metadata": {},
   "source": [
    "# Исследование данных"
   ]
  },
  {
   "cell_type": "code",
   "execution_count": 1,
   "id": "920f5918-1a3d-4038-a300-cd331f24f0c6",
   "metadata": {},
   "outputs": [],
   "source": [
    "import pandas as pd\n",
    "import numpy as np\n",
    "import matplotlib.pyplot as plt\n",
    "import seaborn as sns\n",
    "from sklearn.model_selection import (train_test_split, GridSearchCV, \n",
    "                                     cross_val_score)\n",
    "from sklearn.preprocessing import StandardScaler\n",
    "from sklearn.pipeline import make_pipeline\n",
    "from sklearn.linear_model import Lasso, ElasticNet\n",
    "from lightgbm import LGBMRegressor\n",
    "from sklearn.metrics import mean_absolute_error\n",
    "from sklearn.dummy import DummyRegressor"
   ]
  },
  {
   "cell_type": "code",
   "execution_count": 2,
   "id": "129a3fd8-41f1-49e3-9845-7c53d440a91c",
   "metadata": {},
   "outputs": [],
   "source": [
    "RANDOM_STATE = 110923"
   ]
  },
  {
   "cell_type": "markdown",
   "id": "60751f63-c84b-4598-b116-c4a1dc601814",
   "metadata": {
    "slideshow": {
     "slide_type": ""
    },
    "tags": []
   },
   "source": [
    "Импортируем наши датасеты"
   ]
  },
  {
   "cell_type": "code",
   "execution_count": 3,
   "id": "e03e7691-8850-49cf-9d60-ccd55a3c33aa",
   "metadata": {},
   "outputs": [],
   "source": [
    "try:\n",
    "    data_arc = pd.read_csv('data_arc_new.csv')\n",
    "    data_bulk = pd.read_csv('data_bulk_new.csv')\n",
    "    data_bulk_time = pd.read_csv('data_bulk_time_new.csv')\n",
    "    data_gas = pd.read_csv('data_gas_new.csv')\n",
    "    data_temp = pd.read_csv('data_temp_new.csv')\n",
    "    data_wire = pd.read_csv('data_wire_new.csv')\n",
    "    data_wire_time = pd.read_csv('data_wire_time_new.csv')\n",
    "\n",
    "except:\n",
    "    data_arc = pd.read_csv('/datasets/data_arc_new.csv')\n",
    "    data_bulk = pd.read_csv('/datasets/data_bulk_new.csv')\n",
    "    data_bulk_time = pd.read_csv('/datasets/data_bulk_time_new.csv')\n",
    "    data_gas = pd.read_csv('/datasets/data_gas_new.csv')\n",
    "    data_temp = pd.read_csv('/datasets/data_temp_new.csv')\n",
    "    data_wire = pd.read_csv('/datasets/data_wire_new.csv')\n",
    "    data_wire_time = pd.read_csv('/datasets/data_wire_time_new.csv')"
   ]
  },
  {
   "cell_type": "markdown",
   "id": "8da14552-c49f-41a1-9026-4d6f4cc67daa",
   "metadata": {},
   "source": [
    "Посмотрим на каждый из датасетов"
   ]
  },
  {
   "cell_type": "markdown",
   "id": "60df0847-c772-45df-8f18-52ec8951b329",
   "metadata": {},
   "source": [
    "## Data_arc"
   ]
  },
  {
   "cell_type": "markdown",
   "id": "dfb0adfb-989c-4ceb-b5c8-bf52a20a5fe7",
   "metadata": {},
   "source": [
    "`data_arc` - это датасет с данными об электродах, которые опускают в ковш, для плавки находящегося в нем стального сплава"
   ]
  },
  {
   "cell_type": "markdown",
   "id": "f8a46483-09f3-44e0-8e69-092fd85d3856",
   "metadata": {},
   "source": [
    "### Общая информация о датасете"
   ]
  },
  {
   "cell_type": "code",
   "execution_count": 4,
   "id": "44086fb6-37d8-4149-8f02-4fb0cc0517ca",
   "metadata": {},
   "outputs": [
    {
     "name": "stdout",
     "output_type": "stream",
     "text": [
      "<class 'pandas.core.frame.DataFrame'>\n",
      "RangeIndex: 14876 entries, 0 to 14875\n",
      "Data columns (total 5 columns):\n",
      " #   Column                Non-Null Count  Dtype  \n",
      "---  ------                --------------  -----  \n",
      " 0   key                   14876 non-null  int64  \n",
      " 1   Начало нагрева дугой  14876 non-null  object \n",
      " 2   Конец нагрева дугой   14876 non-null  object \n",
      " 3   Активная мощность     14876 non-null  float64\n",
      " 4   Реактивная мощность   14876 non-null  float64\n",
      "dtypes: float64(2), int64(1), object(2)\n",
      "memory usage: 581.2+ KB\n"
     ]
    }
   ],
   "source": [
    "data_arc.info()"
   ]
  },
  {
   "cell_type": "code",
   "execution_count": 5,
   "id": "93d56a96-f19d-40cf-858b-bcebbb1f32df",
   "metadata": {
    "scrolled": true
   },
   "outputs": [
    {
     "data": {
      "text/html": [
       "<div>\n",
       "<style scoped>\n",
       "    .dataframe tbody tr th:only-of-type {\n",
       "        vertical-align: middle;\n",
       "    }\n",
       "\n",
       "    .dataframe tbody tr th {\n",
       "        vertical-align: top;\n",
       "    }\n",
       "\n",
       "    .dataframe thead th {\n",
       "        text-align: right;\n",
       "    }\n",
       "</style>\n",
       "<table border=\"1\" class=\"dataframe\">\n",
       "  <thead>\n",
       "    <tr style=\"text-align: right;\">\n",
       "      <th></th>\n",
       "      <th>key</th>\n",
       "      <th>Начало нагрева дугой</th>\n",
       "      <th>Конец нагрева дугой</th>\n",
       "      <th>Активная мощность</th>\n",
       "      <th>Реактивная мощность</th>\n",
       "    </tr>\n",
       "  </thead>\n",
       "  <tbody>\n",
       "    <tr>\n",
       "      <th>0</th>\n",
       "      <td>1</td>\n",
       "      <td>2019-05-03 11:02:14</td>\n",
       "      <td>2019-05-03 11:06:02</td>\n",
       "      <td>0.305130</td>\n",
       "      <td>0.211253</td>\n",
       "    </tr>\n",
       "    <tr>\n",
       "      <th>1</th>\n",
       "      <td>1</td>\n",
       "      <td>2019-05-03 11:07:28</td>\n",
       "      <td>2019-05-03 11:10:33</td>\n",
       "      <td>0.765658</td>\n",
       "      <td>0.477438</td>\n",
       "    </tr>\n",
       "    <tr>\n",
       "      <th>2</th>\n",
       "      <td>1</td>\n",
       "      <td>2019-05-03 11:11:44</td>\n",
       "      <td>2019-05-03 11:14:36</td>\n",
       "      <td>0.580313</td>\n",
       "      <td>0.430460</td>\n",
       "    </tr>\n",
       "    <tr>\n",
       "      <th>3</th>\n",
       "      <td>1</td>\n",
       "      <td>2019-05-03 11:18:14</td>\n",
       "      <td>2019-05-03 11:24:19</td>\n",
       "      <td>0.518496</td>\n",
       "      <td>0.379979</td>\n",
       "    </tr>\n",
       "    <tr>\n",
       "      <th>4</th>\n",
       "      <td>1</td>\n",
       "      <td>2019-05-03 11:26:09</td>\n",
       "      <td>2019-05-03 11:28:37</td>\n",
       "      <td>0.867133</td>\n",
       "      <td>0.643691</td>\n",
       "    </tr>\n",
       "    <tr>\n",
       "      <th>5</th>\n",
       "      <td>2</td>\n",
       "      <td>2019-05-03 11:34:14</td>\n",
       "      <td>2019-05-03 11:36:31</td>\n",
       "      <td>0.381124</td>\n",
       "      <td>0.220351</td>\n",
       "    </tr>\n",
       "    <tr>\n",
       "      <th>6</th>\n",
       "      <td>2</td>\n",
       "      <td>2019-05-03 11:38:50</td>\n",
       "      <td>2019-05-03 11:44:28</td>\n",
       "      <td>0.261665</td>\n",
       "      <td>0.205527</td>\n",
       "    </tr>\n",
       "    <tr>\n",
       "      <th>7</th>\n",
       "      <td>2</td>\n",
       "      <td>2019-05-03 11:46:19</td>\n",
       "      <td>2019-05-03 11:48:25</td>\n",
       "      <td>0.710297</td>\n",
       "      <td>0.484962</td>\n",
       "    </tr>\n",
       "    <tr>\n",
       "      <th>8</th>\n",
       "      <td>2</td>\n",
       "      <td>2019-05-03 11:49:48</td>\n",
       "      <td>2019-05-03 11:53:18</td>\n",
       "      <td>0.786322</td>\n",
       "      <td>0.542517</td>\n",
       "    </tr>\n",
       "    <tr>\n",
       "      <th>9</th>\n",
       "      <td>3</td>\n",
       "      <td>2019-05-03 12:06:54</td>\n",
       "      <td>2019-05-03 12:11:34</td>\n",
       "      <td>1.101678</td>\n",
       "      <td>0.820856</td>\n",
       "    </tr>\n",
       "  </tbody>\n",
       "</table>\n",
       "</div>"
      ],
      "text/plain": [
       "   key Начало нагрева дугой  Конец нагрева дугой  Активная мощность  \\\n",
       "0    1  2019-05-03 11:02:14  2019-05-03 11:06:02           0.305130   \n",
       "1    1  2019-05-03 11:07:28  2019-05-03 11:10:33           0.765658   \n",
       "2    1  2019-05-03 11:11:44  2019-05-03 11:14:36           0.580313   \n",
       "3    1  2019-05-03 11:18:14  2019-05-03 11:24:19           0.518496   \n",
       "4    1  2019-05-03 11:26:09  2019-05-03 11:28:37           0.867133   \n",
       "5    2  2019-05-03 11:34:14  2019-05-03 11:36:31           0.381124   \n",
       "6    2  2019-05-03 11:38:50  2019-05-03 11:44:28           0.261665   \n",
       "7    2  2019-05-03 11:46:19  2019-05-03 11:48:25           0.710297   \n",
       "8    2  2019-05-03 11:49:48  2019-05-03 11:53:18           0.786322   \n",
       "9    3  2019-05-03 12:06:54  2019-05-03 12:11:34           1.101678   \n",
       "\n",
       "   Реактивная мощность  \n",
       "0             0.211253  \n",
       "1             0.477438  \n",
       "2             0.430460  \n",
       "3             0.379979  \n",
       "4             0.643691  \n",
       "5             0.220351  \n",
       "6             0.205527  \n",
       "7             0.484962  \n",
       "8             0.542517  \n",
       "9             0.820856  "
      ]
     },
     "execution_count": 5,
     "metadata": {},
     "output_type": "execute_result"
    }
   ],
   "source": [
    "data_arc.head(10)"
   ]
  },
  {
   "cell_type": "code",
   "execution_count": 6,
   "id": "718930d3-c3b8-4e64-bb90-719d9ca8ff2f",
   "metadata": {},
   "outputs": [
    {
     "data": {
      "text/html": [
       "<div>\n",
       "<style scoped>\n",
       "    .dataframe tbody tr th:only-of-type {\n",
       "        vertical-align: middle;\n",
       "    }\n",
       "\n",
       "    .dataframe tbody tr th {\n",
       "        vertical-align: top;\n",
       "    }\n",
       "\n",
       "    .dataframe thead th {\n",
       "        text-align: right;\n",
       "    }\n",
       "</style>\n",
       "<table border=\"1\" class=\"dataframe\">\n",
       "  <thead>\n",
       "    <tr style=\"text-align: right;\">\n",
       "      <th></th>\n",
       "      <th>key</th>\n",
       "      <th>Активная мощность</th>\n",
       "      <th>Реактивная мощность</th>\n",
       "    </tr>\n",
       "  </thead>\n",
       "  <tbody>\n",
       "    <tr>\n",
       "      <th>count</th>\n",
       "      <td>14876.000000</td>\n",
       "      <td>14876.000000</td>\n",
       "      <td>14876.000000</td>\n",
       "    </tr>\n",
       "    <tr>\n",
       "      <th>mean</th>\n",
       "      <td>1615.220422</td>\n",
       "      <td>0.662752</td>\n",
       "      <td>0.438986</td>\n",
       "    </tr>\n",
       "    <tr>\n",
       "      <th>std</th>\n",
       "      <td>934.571502</td>\n",
       "      <td>0.258885</td>\n",
       "      <td>5.873485</td>\n",
       "    </tr>\n",
       "    <tr>\n",
       "      <th>min</th>\n",
       "      <td>1.000000</td>\n",
       "      <td>0.223120</td>\n",
       "      <td>-715.479924</td>\n",
       "    </tr>\n",
       "    <tr>\n",
       "      <th>25%</th>\n",
       "      <td>806.000000</td>\n",
       "      <td>0.467115</td>\n",
       "      <td>0.337175</td>\n",
       "    </tr>\n",
       "    <tr>\n",
       "      <th>50%</th>\n",
       "      <td>1617.000000</td>\n",
       "      <td>0.599587</td>\n",
       "      <td>0.441639</td>\n",
       "    </tr>\n",
       "    <tr>\n",
       "      <th>75%</th>\n",
       "      <td>2429.000000</td>\n",
       "      <td>0.830070</td>\n",
       "      <td>0.608201</td>\n",
       "    </tr>\n",
       "    <tr>\n",
       "      <th>max</th>\n",
       "      <td>3241.000000</td>\n",
       "      <td>1.463773</td>\n",
       "      <td>1.270284</td>\n",
       "    </tr>\n",
       "  </tbody>\n",
       "</table>\n",
       "</div>"
      ],
      "text/plain": [
       "                key  Активная мощность  Реактивная мощность\n",
       "count  14876.000000       14876.000000         14876.000000\n",
       "mean    1615.220422           0.662752             0.438986\n",
       "std      934.571502           0.258885             5.873485\n",
       "min        1.000000           0.223120          -715.479924\n",
       "25%      806.000000           0.467115             0.337175\n",
       "50%     1617.000000           0.599587             0.441639\n",
       "75%     2429.000000           0.830070             0.608201\n",
       "max     3241.000000           1.463773             1.270284"
      ]
     },
     "execution_count": 6,
     "metadata": {},
     "output_type": "execute_result"
    }
   ],
   "source": [
    "data_arc.describe()"
   ]
  },
  {
   "cell_type": "markdown",
   "id": "5384aa98-0421-45d3-b1b5-29b4cd5f929d",
   "metadata": {},
   "source": [
    "---\n",
    "Явные пропуски в датасете отсутсвуют, во всех колонках 14876 значений.  \n",
    "`key` - это номер партии. Если есть несколько строк с одинаковым значением key, то это разные циклы обработки.  \n",
    "Если смотреть на описательные статистики, то сразу заметно отрицательное значение в поле `Реактивная мощность`. Дальше, как раз взглянем на столбцы с мощностью подробнее.  \n",
    "Также, на этапе предобработке можно будет сгенерировать новые признаки: длительность нагрева, полную мощность и энергию."
   ]
  },
  {
   "cell_type": "markdown",
   "id": "cfb974f0-39d3-417c-bc06-ddd5911661b0",
   "metadata": {},
   "source": [
    "### Смотрим признаки"
   ]
  },
  {
   "cell_type": "markdown",
   "id": "a9a38e06-4c22-4c0f-9b3b-093d0c9b2fdb",
   "metadata": {},
   "source": [
    "**Активная мощность**"
   ]
  },
  {
   "cell_type": "code",
   "execution_count": 7,
   "id": "20cba7f7-dfa2-4595-a634-d20dd126001b",
   "metadata": {},
   "outputs": [
    {
     "name": "stderr",
     "output_type": "stream",
     "text": [
      "/opt/conda/lib/python3.9/site-packages/seaborn/_decorators.py:36: FutureWarning: Pass the following variable as a keyword arg: x. From version 0.12, the only valid positional argument will be `data`, and passing other arguments without an explicit keyword will result in an error or misinterpretation.\n",
      "  warnings.warn(\n"
     ]
    },
    {
     "data": {
      "image/png": "[encoded data removed]",
      "text/plain": [
       "<Figure size 648x288 with 2 Axes>"
      ]
     },
     "metadata": {},
     "output_type": "display_data"
    }
   ],
   "source": [
    "sns.set_theme()\n",
    "fig, axes = plt.subplots(2, sharex=True, gridspec_kw={'height_ratios': [3, 1]}, figsize=(9, 4))\n",
    "sns.histplot(data_arc['Активная мощность'], ax=axes[0])\n",
    "sns.boxplot(data_arc['Активная мощность'], orient='h', ax=axes[1])\n",
    "axes[0].set(title='Распределение признака \"Активная мощность\"')\n",
    "axes[0].set(ylabel='кол-во')\n",
    "axes[1].set(xlabel='значения')\n",
    "plt.tight_layout()"
   ]
  },
  {
   "cell_type": "markdown",
   "id": "1f110729-3075-4293-b57b-5063887a8c9f",
   "metadata": {},
   "source": [
    "Распределение похоже на нормальное, со смещением вправо. Аномалий или аномальных пиков на графиике нет.  \n",
    "На диаграмме размаха есть значения, которые можно посчитать выбросами. Но точно сказать, выбросы это или технологическая норма нельзя, да и находятся они не так уж и далеко от границы \"уса\". Поэтому, будем считать их нормой"
   ]
  },
  {
   "cell_type": "markdown",
   "id": "08407ae5-dde5-404a-84da-b471da77092c",
   "metadata": {},
   "source": [
    "**Реактивная мощность**"
   ]
  },
  {
   "cell_type": "markdown",
   "id": "4a67e482-2645-4941-b87a-850cdfae2a91",
   "metadata": {},
   "source": [
    "Чтобы графики сильно не смещались из-за аномальных значений, исследуем их отдельно. В нашем случае, это отрицательные значения"
   ]
  },
  {
   "cell_type": "code",
   "execution_count": 8,
   "id": "1055c466-cec8-4512-83e7-ff828ab04de8",
   "metadata": {},
   "outputs": [
    {
     "name": "stdout",
     "output_type": "stream",
     "text": [
      "Отрицательных значений: 1\n"
     ]
    }
   ],
   "source": [
    "print('Отрицательных значений:', len(data_arc[data_arc['Реактивная мощность'] < 0]))"
   ]
  },
  {
   "cell_type": "markdown",
   "id": "a691cc57-2ea0-49e3-9b2e-9295e649e427",
   "metadata": {},
   "source": [
    "Отлично, можно смело строить графики без этого выброса"
   ]
  },
  {
   "cell_type": "code",
   "execution_count": 9,
   "id": "a031c1d8-d02c-4097-9f8f-0cebec0b5ec8",
   "metadata": {},
   "outputs": [
    {
     "name": "stderr",
     "output_type": "stream",
     "text": [
      "/opt/conda/lib/python3.9/site-packages/seaborn/_decorators.py:36: FutureWarning: Pass the following variable as a keyword arg: x. From version 0.12, the only valid positional argument will be `data`, and passing other arguments without an explicit keyword will result in an error or misinterpretation.\n",
      "  warnings.warn(\n"
     ]
    },
    {
     "data": {
      "image/png": "[encoded data removed]",
      "text/plain": [
       "<Figure size 648x288 with 2 Axes>"
      ]
     },
     "metadata": {},
     "output_type": "display_data"
    }
   ],
   "source": [
    "#уберем выброс, чтобы графики нормально отображались\n",
    "data_react = data_arc[data_arc['Реактивная мощность'] > 0]\n",
    "\n",
    "fig, axes = plt.subplots(2, sharex=True, gridspec_kw={'height_ratios': [3, 1]}, figsize=(9, 4))\n",
    "sns.histplot(data_react['Реактивная мощность'], ax=axes[0])\n",
    "sns.boxplot(data_react['Реактивная мощность'], orient='h', ax=axes[1])\n",
    "axes[0].set(title='Распределение признака \"Реактивная мощность\"')\n",
    "axes[0].set(ylabel='кол-во')\n",
    "axes[1].set(xlabel='значения')\n",
    "plt.tight_layout()"
   ]
  },
  {
   "cell_type": "markdown",
   "id": "8e033932-3a4b-4be1-9592-9804844980e5",
   "metadata": {},
   "source": [
    "Получили распределение, близкое к нормальному со смещением вправо. Выброс всего один - отрицательное значение. Данные, лежащие за границей правого \"уса\" выбросами считать не будем."
   ]
  },
  {
   "cell_type": "markdown",
   "id": "62b321cd-b43d-4a9e-83b7-dbbc9951c354",
   "metadata": {},
   "source": [
    "## Data_bulk"
   ]
  },
  {
   "cell_type": "markdown",
   "id": "97d83ba1-3c60-4c2a-8657-171ed3235545",
   "metadata": {},
   "source": [
    "`data_bulk` - это датасет с данными о подаче сыпучих материалов (объём)"
   ]
  },
  {
   "cell_type": "markdown",
   "id": "546751e1-19a4-43a9-9744-c833c4f8db60",
   "metadata": {},
   "source": [
    "### Общая информация о датасете"
   ]
  },
  {
   "cell_type": "code",
   "execution_count": 10,
   "id": "28806a6a-043a-4d95-8745-509940bcff6e",
   "metadata": {},
   "outputs": [
    {
     "name": "stdout",
     "output_type": "stream",
     "text": [
      "<class 'pandas.core.frame.DataFrame'>\n",
      "RangeIndex: 3129 entries, 0 to 3128\n",
      "Data columns (total 16 columns):\n",
      " #   Column   Non-Null Count  Dtype  \n",
      "---  ------   --------------  -----  \n",
      " 0   key      3129 non-null   int64  \n",
      " 1   Bulk 1   252 non-null    float64\n",
      " 2   Bulk 2   22 non-null     float64\n",
      " 3   Bulk 3   1298 non-null   float64\n",
      " 4   Bulk 4   1014 non-null   float64\n",
      " 5   Bulk 5   77 non-null     float64\n",
      " 6   Bulk 6   576 non-null    float64\n",
      " 7   Bulk 7   25 non-null     float64\n",
      " 8   Bulk 8   1 non-null      float64\n",
      " 9   Bulk 9   19 non-null     float64\n",
      " 10  Bulk 10  176 non-null    float64\n",
      " 11  Bulk 11  177 non-null    float64\n",
      " 12  Bulk 12  2450 non-null   float64\n",
      " 13  Bulk 13  18 non-null     float64\n",
      " 14  Bulk 14  2806 non-null   float64\n",
      " 15  Bulk 15  2248 non-null   float64\n",
      "dtypes: float64(15), int64(1)\n",
      "memory usage: 391.2 KB\n"
     ]
    }
   ],
   "source": [
    "data_bulk.info()"
   ]
  },
  {
   "cell_type": "markdown",
   "id": "2f471f41-8b9c-4502-a824-e86cd647ed2b",
   "metadata": {},
   "source": [
    "Имеем от заказчика информацию - отсутствующие значения можно считать нулевыми(то есть, материал не добавлялся)  \n",
    "Думаю, не очень целесообразно рассматривать признаки, где нулевых значений слишком много. Возьмем только те столбцы, где больше 1000 значений."
   ]
  },
  {
   "cell_type": "code",
   "execution_count": 11,
   "id": "d0780e09-271a-4968-8d68-906d4c5479e3",
   "metadata": {},
   "outputs": [],
   "source": [
    "bulk_selected = ['Bulk 3', 'Bulk 4', 'Bulk 12', 'Bulk 14', 'Bulk 15']"
   ]
  },
  {
   "cell_type": "code",
   "execution_count": 12,
   "id": "b61765dc-f1a0-4ba9-a2ef-7cb3c765b2da",
   "metadata": {},
   "outputs": [
    {
     "data": {
      "text/html": [
       "<div>\n",
       "<style scoped>\n",
       "    .dataframe tbody tr th:only-of-type {\n",
       "        vertical-align: middle;\n",
       "    }\n",
       "\n",
       "    .dataframe tbody tr th {\n",
       "        vertical-align: top;\n",
       "    }\n",
       "\n",
       "    .dataframe thead th {\n",
       "        text-align: right;\n",
       "    }\n",
       "</style>\n",
       "<table border=\"1\" class=\"dataframe\">\n",
       "  <thead>\n",
       "    <tr style=\"text-align: right;\">\n",
       "      <th></th>\n",
       "      <th>Bulk 3</th>\n",
       "      <th>Bulk 4</th>\n",
       "      <th>Bulk 12</th>\n",
       "      <th>Bulk 14</th>\n",
       "      <th>Bulk 15</th>\n",
       "    </tr>\n",
       "  </thead>\n",
       "  <tbody>\n",
       "    <tr>\n",
       "      <th>0</th>\n",
       "      <td>NaN</td>\n",
       "      <td>43.0</td>\n",
       "      <td>206.0</td>\n",
       "      <td>150.0</td>\n",
       "      <td>154.0</td>\n",
       "    </tr>\n",
       "    <tr>\n",
       "      <th>1</th>\n",
       "      <td>NaN</td>\n",
       "      <td>73.0</td>\n",
       "      <td>206.0</td>\n",
       "      <td>149.0</td>\n",
       "      <td>154.0</td>\n",
       "    </tr>\n",
       "    <tr>\n",
       "      <th>2</th>\n",
       "      <td>NaN</td>\n",
       "      <td>34.0</td>\n",
       "      <td>205.0</td>\n",
       "      <td>152.0</td>\n",
       "      <td>153.0</td>\n",
       "    </tr>\n",
       "    <tr>\n",
       "      <th>3</th>\n",
       "      <td>NaN</td>\n",
       "      <td>81.0</td>\n",
       "      <td>207.0</td>\n",
       "      <td>153.0</td>\n",
       "      <td>154.0</td>\n",
       "    </tr>\n",
       "    <tr>\n",
       "      <th>4</th>\n",
       "      <td>NaN</td>\n",
       "      <td>78.0</td>\n",
       "      <td>203.0</td>\n",
       "      <td>151.0</td>\n",
       "      <td>152.0</td>\n",
       "    </tr>\n",
       "  </tbody>\n",
       "</table>\n",
       "</div>"
      ],
      "text/plain": [
       "   Bulk 3  Bulk 4  Bulk 12  Bulk 14  Bulk 15\n",
       "0     NaN    43.0    206.0    150.0    154.0\n",
       "1     NaN    73.0    206.0    149.0    154.0\n",
       "2     NaN    34.0    205.0    152.0    153.0\n",
       "3     NaN    81.0    207.0    153.0    154.0\n",
       "4     NaN    78.0    203.0    151.0    152.0"
      ]
     },
     "execution_count": 12,
     "metadata": {},
     "output_type": "execute_result"
    }
   ],
   "source": [
    "data_bulk[bulk_selected].head()"
   ]
  },
  {
   "cell_type": "code",
   "execution_count": 13,
   "id": "3efe40ba-b20e-4fe2-9805-1bc2c6c53d30",
   "metadata": {},
   "outputs": [
    {
     "data": {
      "text/html": [
       "<div>\n",
       "<style scoped>\n",
       "    .dataframe tbody tr th:only-of-type {\n",
       "        vertical-align: middle;\n",
       "    }\n",
       "\n",
       "    .dataframe tbody tr th {\n",
       "        vertical-align: top;\n",
       "    }\n",
       "\n",
       "    .dataframe thead th {\n",
       "        text-align: right;\n",
       "    }\n",
       "</style>\n",
       "<table border=\"1\" class=\"dataframe\">\n",
       "  <thead>\n",
       "    <tr style=\"text-align: right;\">\n",
       "      <th></th>\n",
       "      <th>Bulk 3</th>\n",
       "      <th>Bulk 4</th>\n",
       "      <th>Bulk 12</th>\n",
       "      <th>Bulk 14</th>\n",
       "      <th>Bulk 15</th>\n",
       "    </tr>\n",
       "  </thead>\n",
       "  <tbody>\n",
       "    <tr>\n",
       "      <th>count</th>\n",
       "      <td>1298.000000</td>\n",
       "      <td>1014.000000</td>\n",
       "      <td>2450.000000</td>\n",
       "      <td>2806.000000</td>\n",
       "      <td>2248.000000</td>\n",
       "    </tr>\n",
       "    <tr>\n",
       "      <th>mean</th>\n",
       "      <td>113.879045</td>\n",
       "      <td>104.394477</td>\n",
       "      <td>260.471020</td>\n",
       "      <td>170.284747</td>\n",
       "      <td>160.513345</td>\n",
       "    </tr>\n",
       "    <tr>\n",
       "      <th>std</th>\n",
       "      <td>75.483494</td>\n",
       "      <td>48.184126</td>\n",
       "      <td>120.649269</td>\n",
       "      <td>65.868652</td>\n",
       "      <td>51.765319</td>\n",
       "    </tr>\n",
       "    <tr>\n",
       "      <th>min</th>\n",
       "      <td>6.000000</td>\n",
       "      <td>12.000000</td>\n",
       "      <td>53.000000</td>\n",
       "      <td>16.000000</td>\n",
       "      <td>1.000000</td>\n",
       "    </tr>\n",
       "    <tr>\n",
       "      <th>25%</th>\n",
       "      <td>58.000000</td>\n",
       "      <td>72.000000</td>\n",
       "      <td>204.000000</td>\n",
       "      <td>119.000000</td>\n",
       "      <td>105.000000</td>\n",
       "    </tr>\n",
       "    <tr>\n",
       "      <th>50%</th>\n",
       "      <td>97.500000</td>\n",
       "      <td>102.000000</td>\n",
       "      <td>208.000000</td>\n",
       "      <td>151.000000</td>\n",
       "      <td>160.000000</td>\n",
       "    </tr>\n",
       "    <tr>\n",
       "      <th>75%</th>\n",
       "      <td>152.000000</td>\n",
       "      <td>133.000000</td>\n",
       "      <td>316.000000</td>\n",
       "      <td>205.750000</td>\n",
       "      <td>205.000000</td>\n",
       "    </tr>\n",
       "    <tr>\n",
       "      <th>max</th>\n",
       "      <td>454.000000</td>\n",
       "      <td>281.000000</td>\n",
       "      <td>1849.000000</td>\n",
       "      <td>636.000000</td>\n",
       "      <td>405.000000</td>\n",
       "    </tr>\n",
       "  </tbody>\n",
       "</table>\n",
       "</div>"
      ],
      "text/plain": [
       "            Bulk 3       Bulk 4      Bulk 12      Bulk 14      Bulk 15\n",
       "count  1298.000000  1014.000000  2450.000000  2806.000000  2248.000000\n",
       "mean    113.879045   104.394477   260.471020   170.284747   160.513345\n",
       "std      75.483494    48.184126   120.649269    65.868652    51.765319\n",
       "min       6.000000    12.000000    53.000000    16.000000     1.000000\n",
       "25%      58.000000    72.000000   204.000000   119.000000   105.000000\n",
       "50%      97.500000   102.000000   208.000000   151.000000   160.000000\n",
       "75%     152.000000   133.000000   316.000000   205.750000   205.000000\n",
       "max     454.000000   281.000000  1849.000000   636.000000   405.000000"
      ]
     },
     "execution_count": 13,
     "metadata": {},
     "output_type": "execute_result"
    }
   ],
   "source": [
    "data_bulk[bulk_selected].describe()"
   ]
  },
  {
   "cell_type": "markdown",
   "id": "9f173cba-b583-4e8d-8a30-e66db505cd53",
   "metadata": {},
   "source": [
    "В столбце `Bulk 12` видны выбивающиеся высокие значения. Если таких значений мало, исключим их при постройке графика"
   ]
  },
  {
   "cell_type": "code",
   "execution_count": 14,
   "id": "fdec463e-96ce-421b-847f-b92fde1d64b3",
   "metadata": {},
   "outputs": [
    {
     "name": "stdout",
     "output_type": "stream",
     "text": [
      "Аномальных значений: 3\n"
     ]
    }
   ],
   "source": [
    "print('Аномальных значений:', len(data_bulk[data_bulk['Bulk 12'] > 800]))"
   ]
  },
  {
   "cell_type": "markdown",
   "id": "e2940ec5-ff5a-4afd-ac57-58791ec8eb90",
   "metadata": {},
   "source": [
    "### Смотрим признаки"
   ]
  },
  {
   "cell_type": "code",
   "execution_count": 15,
   "id": "dfc71316-b880-4972-86b8-c114ee938dd6",
   "metadata": {},
   "outputs": [],
   "source": [
    "data_bulk12 = data_bulk[data_bulk['Bulk 12'] < 800]"
   ]
  },
  {
   "cell_type": "code",
   "execution_count": 16,
   "id": "e7d676eb-f916-47fd-9edb-eb45033edb62",
   "metadata": {},
   "outputs": [
    {
     "data": {
      "image/png": "[encoded data removed]",
      "text/plain": [
       "<Figure size 648x144 with 1 Axes>"
      ]
     },
     "metadata": {},
     "output_type": "display_data"
    },
    {
     "data": {
      "image/png": "[encoded data removed]",
      "text/plain": [
       "<Figure size 648x144 with 1 Axes>"
      ]
     },
     "metadata": {},
     "output_type": "display_data"
    }
   ],
   "source": [
    "plt.figure(figsize=(9, 2))\n",
    "plt.title('Плотность распределения признаков')\n",
    "fig = sns.kdeplot(data_bulk['Bulk 3'], cut=True)\n",
    "fig = sns.kdeplot(data_bulk['Bulk 4'], cut=True)\n",
    "fig = sns.kdeplot(data_bulk['Bulk 15'], cut=True)\n",
    "plt.xticks([])\n",
    "plt.xlabel('')\n",
    "plt.yticks([])\n",
    "plt.ylabel('плотность')\n",
    "plt.legend(labels=['Bulk 3', 'Bulk 4', 'Bulk 15'])\n",
    "plt.show()\n",
    "plt.figure(figsize=(9, 2))\n",
    "fig = sns.kdeplot(data_bulk12['Bulk 12'], cut=True)\n",
    "fig = sns.kdeplot(data_bulk['Bulk 14'], cut=True)\n",
    "plt.xticks([])\n",
    "plt.xlabel('')\n",
    "plt.yticks([])\n",
    "plt.ylabel('плотность')\n",
    "plt.legend(labels=['Bulk 12', 'Bulk 14'])\n",
    "plt.show()"
   ]
  },
  {
   "cell_type": "markdown",
   "id": "751fcc8c-089b-4975-a3a1-7157ea75abbc",
   "metadata": {},
   "source": [
    "Видно, что признаки распределены по-разному, но у всех есть смещение вправо.  \n",
    "Выбросами будем считать только несколько экстремально высоких значений стобца `Bulk 12`"
   ]
  },
  {
   "cell_type": "markdown",
   "id": "01a2e16b-adf3-47f2-878a-bbdfbf54f076",
   "metadata": {},
   "source": [
    "## Data_gas"
   ]
  },
  {
   "cell_type": "markdown",
   "id": "ec005ccb-9b8f-49a7-8c31-8f4d2d5cdc9d",
   "metadata": {},
   "source": [
    "`data_gas` - это датасет с данными о продувке сплава газом"
   ]
  },
  {
   "cell_type": "code",
   "execution_count": 17,
   "id": "78b3727e-c871-42f8-95b2-ce840ff34201",
   "metadata": {},
   "outputs": [
    {
     "name": "stdout",
     "output_type": "stream",
     "text": [
      "<class 'pandas.core.frame.DataFrame'>\n",
      "RangeIndex: 3239 entries, 0 to 3238\n",
      "Data columns (total 2 columns):\n",
      " #   Column  Non-Null Count  Dtype  \n",
      "---  ------  --------------  -----  \n",
      " 0   key     3239 non-null   int64  \n",
      " 1   Газ 1   3239 non-null   float64\n",
      "dtypes: float64(1), int64(1)\n",
      "memory usage: 50.7 KB\n"
     ]
    }
   ],
   "source": [
    "data_gas.info()"
   ]
  },
  {
   "cell_type": "code",
   "execution_count": 18,
   "id": "fabe4474-4c89-4d1a-a8ed-a3d79532ab75",
   "metadata": {},
   "outputs": [
    {
     "data": {
      "text/html": [
       "<div>\n",
       "<style scoped>\n",
       "    .dataframe tbody tr th:only-of-type {\n",
       "        vertical-align: middle;\n",
       "    }\n",
       "\n",
       "    .dataframe tbody tr th {\n",
       "        vertical-align: top;\n",
       "    }\n",
       "\n",
       "    .dataframe thead th {\n",
       "        text-align: right;\n",
       "    }\n",
       "</style>\n",
       "<table border=\"1\" class=\"dataframe\">\n",
       "  <thead>\n",
       "    <tr style=\"text-align: right;\">\n",
       "      <th></th>\n",
       "      <th>key</th>\n",
       "      <th>Газ 1</th>\n",
       "    </tr>\n",
       "  </thead>\n",
       "  <tbody>\n",
       "    <tr>\n",
       "      <th>0</th>\n",
       "      <td>1</td>\n",
       "      <td>29.749986</td>\n",
       "    </tr>\n",
       "    <tr>\n",
       "      <th>1</th>\n",
       "      <td>2</td>\n",
       "      <td>12.555561</td>\n",
       "    </tr>\n",
       "    <tr>\n",
       "      <th>2</th>\n",
       "      <td>3</td>\n",
       "      <td>28.554793</td>\n",
       "    </tr>\n",
       "    <tr>\n",
       "      <th>3</th>\n",
       "      <td>4</td>\n",
       "      <td>18.841219</td>\n",
       "    </tr>\n",
       "    <tr>\n",
       "      <th>4</th>\n",
       "      <td>5</td>\n",
       "      <td>5.413692</td>\n",
       "    </tr>\n",
       "  </tbody>\n",
       "</table>\n",
       "</div>"
      ],
      "text/plain": [
       "   key      Газ 1\n",
       "0    1  29.749986\n",
       "1    2  12.555561\n",
       "2    3  28.554793\n",
       "3    4  18.841219\n",
       "4    5   5.413692"
      ]
     },
     "execution_count": 18,
     "metadata": {},
     "output_type": "execute_result"
    }
   ],
   "source": [
    "data_gas.head()"
   ]
  },
  {
   "cell_type": "code",
   "execution_count": 19,
   "id": "4324dfd1-1e7e-4472-bbed-3f3e5e4107d2",
   "metadata": {},
   "outputs": [
    {
     "data": {
      "text/html": [
       "<div>\n",
       "<style scoped>\n",
       "    .dataframe tbody tr th:only-of-type {\n",
       "        vertical-align: middle;\n",
       "    }\n",
       "\n",
       "    .dataframe tbody tr th {\n",
       "        vertical-align: top;\n",
       "    }\n",
       "\n",
       "    .dataframe thead th {\n",
       "        text-align: right;\n",
       "    }\n",
       "</style>\n",
       "<table border=\"1\" class=\"dataframe\">\n",
       "  <thead>\n",
       "    <tr style=\"text-align: right;\">\n",
       "      <th></th>\n",
       "      <th>key</th>\n",
       "      <th>Газ 1</th>\n",
       "    </tr>\n",
       "  </thead>\n",
       "  <tbody>\n",
       "    <tr>\n",
       "      <th>count</th>\n",
       "      <td>3239.000000</td>\n",
       "      <td>3239.000000</td>\n",
       "    </tr>\n",
       "    <tr>\n",
       "      <th>mean</th>\n",
       "      <td>1621.861377</td>\n",
       "      <td>11.002062</td>\n",
       "    </tr>\n",
       "    <tr>\n",
       "      <th>std</th>\n",
       "      <td>935.386334</td>\n",
       "      <td>6.220327</td>\n",
       "    </tr>\n",
       "    <tr>\n",
       "      <th>min</th>\n",
       "      <td>1.000000</td>\n",
       "      <td>0.008399</td>\n",
       "    </tr>\n",
       "    <tr>\n",
       "      <th>25%</th>\n",
       "      <td>812.500000</td>\n",
       "      <td>7.043089</td>\n",
       "    </tr>\n",
       "    <tr>\n",
       "      <th>50%</th>\n",
       "      <td>1622.000000</td>\n",
       "      <td>9.836267</td>\n",
       "    </tr>\n",
       "    <tr>\n",
       "      <th>75%</th>\n",
       "      <td>2431.500000</td>\n",
       "      <td>13.769915</td>\n",
       "    </tr>\n",
       "    <tr>\n",
       "      <th>max</th>\n",
       "      <td>3241.000000</td>\n",
       "      <td>77.995040</td>\n",
       "    </tr>\n",
       "  </tbody>\n",
       "</table>\n",
       "</div>"
      ],
      "text/plain": [
       "               key        Газ 1\n",
       "count  3239.000000  3239.000000\n",
       "mean   1621.861377    11.002062\n",
       "std     935.386334     6.220327\n",
       "min       1.000000     0.008399\n",
       "25%     812.500000     7.043089\n",
       "50%    1622.000000     9.836267\n",
       "75%    2431.500000    13.769915\n",
       "max    3241.000000    77.995040"
      ]
     },
     "execution_count": 19,
     "metadata": {},
     "output_type": "execute_result"
    }
   ],
   "source": [
    "data_gas.describe()"
   ]
  },
  {
   "cell_type": "code",
   "execution_count": 20,
   "id": "6fa04455-5b26-40d1-a2d2-3566ed8e157a",
   "metadata": {},
   "outputs": [
    {
     "name": "stdout",
     "output_type": "stream",
     "text": [
      "Аномальных значений: 8\n"
     ]
    }
   ],
   "source": [
    "print('Аномальных значений:', len(data_gas[data_gas['Газ 1'] >= 40]))"
   ]
  },
  {
   "cell_type": "code",
   "execution_count": 21,
   "id": "99e96c89-e630-4db5-9365-f64956e8370e",
   "metadata": {},
   "outputs": [],
   "source": [
    "data_gas_selected = data_gas[data_gas['Газ 1'] < 40]"
   ]
  },
  {
   "cell_type": "code",
   "execution_count": 22,
   "id": "e4000e0b-451b-490f-8cc2-34d29af1232b",
   "metadata": {},
   "outputs": [
    {
     "data": {
      "image/png": "[encoded data removed]",
      "text/plain": [
       "<Figure size 648x216 with 1 Axes>"
      ]
     },
     "metadata": {},
     "output_type": "display_data"
    }
   ],
   "source": [
    "plt.figure(figsize=(9, 3))\n",
    "sns.histplot(data_gas_selected['Газ 1'])\n",
    "plt.xlabel('значения')\n",
    "plt.ylabel('кол-во')\n",
    "plt.title('Распределение признака \"Газ 1\"')\n",
    "plt.show()"
   ]
  },
  {
   "cell_type": "markdown",
   "id": "fe2e8ff3-c035-4185-8c4e-c26d93a194f3",
   "metadata": {},
   "source": [
    "Получили распределение без аномалий"
   ]
  },
  {
   "cell_type": "markdown",
   "id": "1b9da134-d536-44ab-9f7a-af0cfece4fb9",
   "metadata": {},
   "source": [
    "## Data_temp"
   ]
  },
  {
   "cell_type": "markdown",
   "id": "762ec7c1-399f-4fc4-9faa-72b7aff667b2",
   "metadata": {},
   "source": [
    "`data_temp` - это датасет с результатами измерения температуры сплава в ковше"
   ]
  },
  {
   "cell_type": "code",
   "execution_count": 23,
   "id": "beda29a7-5c49-49c5-9b7a-4756f0c37817",
   "metadata": {},
   "outputs": [
    {
     "name": "stdout",
     "output_type": "stream",
     "text": [
      "<class 'pandas.core.frame.DataFrame'>\n",
      "RangeIndex: 18092 entries, 0 to 18091\n",
      "Data columns (total 3 columns):\n",
      " #   Column        Non-Null Count  Dtype  \n",
      "---  ------        --------------  -----  \n",
      " 0   key           18092 non-null  int64  \n",
      " 1   Время замера  18092 non-null  object \n",
      " 2   Температура   14665 non-null  float64\n",
      "dtypes: float64(1), int64(1), object(1)\n",
      "memory usage: 424.2+ KB\n"
     ]
    }
   ],
   "source": [
    "data_temp.info()"
   ]
  },
  {
   "cell_type": "code",
   "execution_count": 24,
   "id": "d2458035-6fcd-49c4-81e1-33b673c9d265",
   "metadata": {},
   "outputs": [
    {
     "data": {
      "text/html": [
       "<div>\n",
       "<style scoped>\n",
       "    .dataframe tbody tr th:only-of-type {\n",
       "        vertical-align: middle;\n",
       "    }\n",
       "\n",
       "    .dataframe tbody tr th {\n",
       "        vertical-align: top;\n",
       "    }\n",
       "\n",
       "    .dataframe thead th {\n",
       "        text-align: right;\n",
       "    }\n",
       "</style>\n",
       "<table border=\"1\" class=\"dataframe\">\n",
       "  <thead>\n",
       "    <tr style=\"text-align: right;\">\n",
       "      <th></th>\n",
       "      <th>key</th>\n",
       "      <th>Время замера</th>\n",
       "      <th>Температура</th>\n",
       "    </tr>\n",
       "  </thead>\n",
       "  <tbody>\n",
       "    <tr>\n",
       "      <th>0</th>\n",
       "      <td>1</td>\n",
       "      <td>2019-05-03 11:02:04</td>\n",
       "      <td>1571.0</td>\n",
       "    </tr>\n",
       "    <tr>\n",
       "      <th>1</th>\n",
       "      <td>1</td>\n",
       "      <td>2019-05-03 11:07:18</td>\n",
       "      <td>1604.0</td>\n",
       "    </tr>\n",
       "    <tr>\n",
       "      <th>2</th>\n",
       "      <td>1</td>\n",
       "      <td>2019-05-03 11:11:34</td>\n",
       "      <td>1618.0</td>\n",
       "    </tr>\n",
       "    <tr>\n",
       "      <th>3</th>\n",
       "      <td>1</td>\n",
       "      <td>2019-05-03 11:18:04</td>\n",
       "      <td>1601.0</td>\n",
       "    </tr>\n",
       "    <tr>\n",
       "      <th>4</th>\n",
       "      <td>1</td>\n",
       "      <td>2019-05-03 11:25:59</td>\n",
       "      <td>1606.0</td>\n",
       "    </tr>\n",
       "    <tr>\n",
       "      <th>5</th>\n",
       "      <td>1</td>\n",
       "      <td>2019-05-03 11:30:38</td>\n",
       "      <td>1613.0</td>\n",
       "    </tr>\n",
       "    <tr>\n",
       "      <th>6</th>\n",
       "      <td>2</td>\n",
       "      <td>2019-05-03 11:34:04</td>\n",
       "      <td>1581.0</td>\n",
       "    </tr>\n",
       "    <tr>\n",
       "      <th>7</th>\n",
       "      <td>2</td>\n",
       "      <td>2019-05-03 11:38:40</td>\n",
       "      <td>1577.0</td>\n",
       "    </tr>\n",
       "    <tr>\n",
       "      <th>8</th>\n",
       "      <td>2</td>\n",
       "      <td>2019-05-03 11:46:09</td>\n",
       "      <td>1589.0</td>\n",
       "    </tr>\n",
       "    <tr>\n",
       "      <th>9</th>\n",
       "      <td>2</td>\n",
       "      <td>2019-05-03 11:49:38</td>\n",
       "      <td>1604.0</td>\n",
       "    </tr>\n",
       "  </tbody>\n",
       "</table>\n",
       "</div>"
      ],
      "text/plain": [
       "   key         Время замера  Температура\n",
       "0    1  2019-05-03 11:02:04       1571.0\n",
       "1    1  2019-05-03 11:07:18       1604.0\n",
       "2    1  2019-05-03 11:11:34       1618.0\n",
       "3    1  2019-05-03 11:18:04       1601.0\n",
       "4    1  2019-05-03 11:25:59       1606.0\n",
       "5    1  2019-05-03 11:30:38       1613.0\n",
       "6    2  2019-05-03 11:34:04       1581.0\n",
       "7    2  2019-05-03 11:38:40       1577.0\n",
       "8    2  2019-05-03 11:46:09       1589.0\n",
       "9    2  2019-05-03 11:49:38       1604.0"
      ]
     },
     "execution_count": 24,
     "metadata": {},
     "output_type": "execute_result"
    }
   ],
   "source": [
    "data_temp.head(10)"
   ]
  },
  {
   "cell_type": "markdown",
   "id": "4b5768e7-bc41-45a2-8109-9d4eb9cea2ba",
   "metadata": {},
   "source": [
    "Записи с одинаковым значением поля `key` - это разные итерации одного цикла плавки.  \n",
    "Температура на первой итерации можеть быть признаком для обучения.  \n",
    "Температура на последней итерации - таргет"
   ]
  },
  {
   "cell_type": "code",
   "execution_count": 25,
   "id": "efdd64d1-c1c5-4c02-9bf3-3052397a807c",
   "metadata": {},
   "outputs": [
    {
     "data": {
      "text/html": [
       "<div>\n",
       "<style scoped>\n",
       "    .dataframe tbody tr th:only-of-type {\n",
       "        vertical-align: middle;\n",
       "    }\n",
       "\n",
       "    .dataframe tbody tr th {\n",
       "        vertical-align: top;\n",
       "    }\n",
       "\n",
       "    .dataframe thead th {\n",
       "        text-align: right;\n",
       "    }\n",
       "</style>\n",
       "<table border=\"1\" class=\"dataframe\">\n",
       "  <thead>\n",
       "    <tr style=\"text-align: right;\">\n",
       "      <th></th>\n",
       "      <th>key</th>\n",
       "      <th>Температура</th>\n",
       "    </tr>\n",
       "  </thead>\n",
       "  <tbody>\n",
       "    <tr>\n",
       "      <th>count</th>\n",
       "      <td>18092.000000</td>\n",
       "      <td>14665.000000</td>\n",
       "    </tr>\n",
       "    <tr>\n",
       "      <th>mean</th>\n",
       "      <td>1616.460977</td>\n",
       "      <td>1590.722741</td>\n",
       "    </tr>\n",
       "    <tr>\n",
       "      <th>std</th>\n",
       "      <td>934.641385</td>\n",
       "      <td>20.394381</td>\n",
       "    </tr>\n",
       "    <tr>\n",
       "      <th>min</th>\n",
       "      <td>1.000000</td>\n",
       "      <td>1191.000000</td>\n",
       "    </tr>\n",
       "    <tr>\n",
       "      <th>25%</th>\n",
       "      <td>807.750000</td>\n",
       "      <td>1580.000000</td>\n",
       "    </tr>\n",
       "    <tr>\n",
       "      <th>50%</th>\n",
       "      <td>1618.000000</td>\n",
       "      <td>1590.000000</td>\n",
       "    </tr>\n",
       "    <tr>\n",
       "      <th>75%</th>\n",
       "      <td>2429.000000</td>\n",
       "      <td>1599.000000</td>\n",
       "    </tr>\n",
       "    <tr>\n",
       "      <th>max</th>\n",
       "      <td>3241.000000</td>\n",
       "      <td>1705.000000</td>\n",
       "    </tr>\n",
       "  </tbody>\n",
       "</table>\n",
       "</div>"
      ],
      "text/plain": [
       "                key   Температура\n",
       "count  18092.000000  14665.000000\n",
       "mean    1616.460977   1590.722741\n",
       "std      934.641385     20.394381\n",
       "min        1.000000   1191.000000\n",
       "25%      807.750000   1580.000000\n",
       "50%     1618.000000   1590.000000\n",
       "75%     2429.000000   1599.000000\n",
       "max     3241.000000   1705.000000"
      ]
     },
     "execution_count": 25,
     "metadata": {},
     "output_type": "execute_result"
    }
   ],
   "source": [
    "data_temp.describe()"
   ]
  },
  {
   "cell_type": "markdown",
   "id": "ba271d7e-3de3-4332-becc-dd88976389ad",
   "metadata": {},
   "source": [
    "От заказчика знаем, что температуру ниже ~1450 можем считать дефектом измерения, так как плавка сплава при такой температуре невозможна"
   ]
  },
  {
   "cell_type": "code",
   "execution_count": 26,
   "id": "3847e2f3-86dd-4394-ac13-2acf7bfc1fe9",
   "metadata": {},
   "outputs": [],
   "source": [
    "data_temp_selected = data_temp[data_temp['Температура'] > 1450]"
   ]
  },
  {
   "cell_type": "code",
   "execution_count": 27,
   "id": "0f5b657f-0d6f-4ec6-9508-57399557eeb5",
   "metadata": {},
   "outputs": [
    {
     "data": {
      "image/png": "[encoded data removed]",
      "text/plain": [
       "<Figure size 648x216 with 1 Axes>"
      ]
     },
     "metadata": {},
     "output_type": "display_data"
    }
   ],
   "source": [
    "plt.figure(figsize=(9, 3))\n",
    "sns.histplot(data_temp_selected['Температура'], discrete=True)\n",
    "plt.xlabel('значения')\n",
    "plt.ylabel('кол-во')\n",
    "plt.title('Распределение признака \"Температура\"')\n",
    "plt.show()"
   ]
  },
  {
   "cell_type": "markdown",
   "id": "bd58a3b9-676d-4863-aa7c-a99a75565889",
   "metadata": {},
   "source": [
    "## Data_wire"
   ]
  },
  {
   "cell_type": "markdown",
   "id": "0d8df3d2-f64f-4d23-aea6-10d8e16e5b8c",
   "metadata": {},
   "source": [
    "`data_wire` - это датасет с данными о подаче проволочных материалов (объём)"
   ]
  },
  {
   "cell_type": "code",
   "execution_count": 28,
   "id": "1315c5ae-3dc4-455b-ad43-333bf1720258",
   "metadata": {},
   "outputs": [
    {
     "name": "stdout",
     "output_type": "stream",
     "text": [
      "<class 'pandas.core.frame.DataFrame'>\n",
      "RangeIndex: 3081 entries, 0 to 3080\n",
      "Data columns (total 10 columns):\n",
      " #   Column  Non-Null Count  Dtype  \n",
      "---  ------  --------------  -----  \n",
      " 0   key     3081 non-null   int64  \n",
      " 1   Wire 1  3055 non-null   float64\n",
      " 2   Wire 2  1079 non-null   float64\n",
      " 3   Wire 3  63 non-null     float64\n",
      " 4   Wire 4  14 non-null     float64\n",
      " 5   Wire 5  1 non-null      float64\n",
      " 6   Wire 6  73 non-null     float64\n",
      " 7   Wire 7  11 non-null     float64\n",
      " 8   Wire 8  19 non-null     float64\n",
      " 9   Wire 9  29 non-null     float64\n",
      "dtypes: float64(9), int64(1)\n",
      "memory usage: 240.8 KB\n"
     ]
    }
   ],
   "source": [
    "data_wire.info()"
   ]
  },
  {
   "cell_type": "markdown",
   "id": "56a43911-5aeb-49e6-873c-e0649883df52",
   "metadata": {},
   "source": [
    "Как и в случае с сыпучими материалами имеем информацию от заказчика, что отсутствующие значения можно заполнить нулями.  \n",
    "Рассмотрим только те столбцы, где значений больше 1000"
   ]
  },
  {
   "cell_type": "code",
   "execution_count": 29,
   "id": "85173529-5474-415c-aa35-8d377f9f0146",
   "metadata": {},
   "outputs": [
    {
     "data": {
      "text/html": [
       "<div>\n",
       "<style scoped>\n",
       "    .dataframe tbody tr th:only-of-type {\n",
       "        vertical-align: middle;\n",
       "    }\n",
       "\n",
       "    .dataframe tbody tr th {\n",
       "        vertical-align: top;\n",
       "    }\n",
       "\n",
       "    .dataframe thead th {\n",
       "        text-align: right;\n",
       "    }\n",
       "</style>\n",
       "<table border=\"1\" class=\"dataframe\">\n",
       "  <thead>\n",
       "    <tr style=\"text-align: right;\">\n",
       "      <th></th>\n",
       "      <th>Wire 1</th>\n",
       "      <th>Wire 2</th>\n",
       "    </tr>\n",
       "  </thead>\n",
       "  <tbody>\n",
       "    <tr>\n",
       "      <th>0</th>\n",
       "      <td>60.059998</td>\n",
       "      <td>NaN</td>\n",
       "    </tr>\n",
       "    <tr>\n",
       "      <th>1</th>\n",
       "      <td>96.052315</td>\n",
       "      <td>NaN</td>\n",
       "    </tr>\n",
       "    <tr>\n",
       "      <th>2</th>\n",
       "      <td>91.160157</td>\n",
       "      <td>NaN</td>\n",
       "    </tr>\n",
       "    <tr>\n",
       "      <th>3</th>\n",
       "      <td>89.063515</td>\n",
       "      <td>NaN</td>\n",
       "    </tr>\n",
       "    <tr>\n",
       "      <th>4</th>\n",
       "      <td>89.238236</td>\n",
       "      <td>9.11456</td>\n",
       "    </tr>\n",
       "  </tbody>\n",
       "</table>\n",
       "</div>"
      ],
      "text/plain": [
       "      Wire 1   Wire 2\n",
       "0  60.059998      NaN\n",
       "1  96.052315      NaN\n",
       "2  91.160157      NaN\n",
       "3  89.063515      NaN\n",
       "4  89.238236  9.11456"
      ]
     },
     "execution_count": 29,
     "metadata": {},
     "output_type": "execute_result"
    }
   ],
   "source": [
    "data_wire[['Wire 1', 'Wire 2']].head()"
   ]
  },
  {
   "cell_type": "code",
   "execution_count": 30,
   "id": "c24a2e59-9d6e-4cd0-9490-2c83074dd5d8",
   "metadata": {},
   "outputs": [
    {
     "data": {
      "text/html": [
       "<div>\n",
       "<style scoped>\n",
       "    .dataframe tbody tr th:only-of-type {\n",
       "        vertical-align: middle;\n",
       "    }\n",
       "\n",
       "    .dataframe tbody tr th {\n",
       "        vertical-align: top;\n",
       "    }\n",
       "\n",
       "    .dataframe thead th {\n",
       "        text-align: right;\n",
       "    }\n",
       "</style>\n",
       "<table border=\"1\" class=\"dataframe\">\n",
       "  <thead>\n",
       "    <tr style=\"text-align: right;\">\n",
       "      <th></th>\n",
       "      <th>Wire 1</th>\n",
       "      <th>Wire 2</th>\n",
       "    </tr>\n",
       "  </thead>\n",
       "  <tbody>\n",
       "    <tr>\n",
       "      <th>count</th>\n",
       "      <td>3055.000000</td>\n",
       "      <td>1079.000000</td>\n",
       "    </tr>\n",
       "    <tr>\n",
       "      <th>mean</th>\n",
       "      <td>100.895853</td>\n",
       "      <td>50.577323</td>\n",
       "    </tr>\n",
       "    <tr>\n",
       "      <th>std</th>\n",
       "      <td>42.012518</td>\n",
       "      <td>39.320216</td>\n",
       "    </tr>\n",
       "    <tr>\n",
       "      <th>min</th>\n",
       "      <td>1.918800</td>\n",
       "      <td>0.030160</td>\n",
       "    </tr>\n",
       "    <tr>\n",
       "      <th>25%</th>\n",
       "      <td>72.115684</td>\n",
       "      <td>20.193680</td>\n",
       "    </tr>\n",
       "    <tr>\n",
       "      <th>50%</th>\n",
       "      <td>100.158234</td>\n",
       "      <td>40.142956</td>\n",
       "    </tr>\n",
       "    <tr>\n",
       "      <th>75%</th>\n",
       "      <td>126.060483</td>\n",
       "      <td>70.227558</td>\n",
       "    </tr>\n",
       "    <tr>\n",
       "      <th>max</th>\n",
       "      <td>330.314424</td>\n",
       "      <td>282.780152</td>\n",
       "    </tr>\n",
       "  </tbody>\n",
       "</table>\n",
       "</div>"
      ],
      "text/plain": [
       "            Wire 1       Wire 2\n",
       "count  3055.000000  1079.000000\n",
       "mean    100.895853    50.577323\n",
       "std      42.012518    39.320216\n",
       "min       1.918800     0.030160\n",
       "25%      72.115684    20.193680\n",
       "50%     100.158234    40.142956\n",
       "75%     126.060483    70.227558\n",
       "max     330.314424   282.780152"
      ]
     },
     "execution_count": 30,
     "metadata": {},
     "output_type": "execute_result"
    }
   ],
   "source": [
    "data_wire[['Wire 1', 'Wire 2']].describe()"
   ]
  },
  {
   "cell_type": "code",
   "execution_count": 31,
   "id": "bf3428fa-b8ee-44c4-85a7-243d4f779d91",
   "metadata": {},
   "outputs": [
    {
     "data": {
      "image/png": "[encoded data removed]",
      "text/plain": [
       "<Figure size 648x144 with 1 Axes>"
      ]
     },
     "metadata": {},
     "output_type": "display_data"
    }
   ],
   "source": [
    "plt.figure(figsize=(9, 2))\n",
    "plt.title('Плотность распределения признаков')\n",
    "fig = sns.kdeplot(data_wire['Wire 1'], cut=True)\n",
    "fig = sns.kdeplot(data_wire['Wire 2'], cut=True)\n",
    "plt.xticks([])\n",
    "plt.xlabel('')\n",
    "plt.yticks([])\n",
    "plt.ylabel('плотность')\n",
    "plt.legend(labels=['Wire 1', 'Wire 2'])\n",
    "plt.show()"
   ]
  },
  {
   "cell_type": "markdown",
   "id": "e9e57994-d9d5-4df4-822a-c95be61985de",
   "metadata": {},
   "source": [
    "Получили распределения без аномалий"
   ]
  },
  {
   "cell_type": "markdown",
   "id": "b8103116-1c3a-4c3c-8b55-7d11eb758be4",
   "metadata": {
    "tags": []
   },
   "source": [
    "## Data_bulk_time и data_wire_time"
   ]
  },
  {
   "cell_type": "markdown",
   "id": "3a9d4c47-a0d8-43fd-9161-a67559a17d35",
   "metadata": {},
   "source": [
    "`data_bulk_time` и `data_wire_time` - это датасет с временем добавления сыпучих и проволочных материалов соответственно"
   ]
  },
  {
   "cell_type": "code",
   "execution_count": 32,
   "id": "6d28ba59-4bbf-4646-be72-b703e384c607",
   "metadata": {},
   "outputs": [
    {
     "data": {
      "text/html": [
       "<div>\n",
       "<style scoped>\n",
       "    .dataframe tbody tr th:only-of-type {\n",
       "        vertical-align: middle;\n",
       "    }\n",
       "\n",
       "    .dataframe tbody tr th {\n",
       "        vertical-align: top;\n",
       "    }\n",
       "\n",
       "    .dataframe thead th {\n",
       "        text-align: right;\n",
       "    }\n",
       "</style>\n",
       "<table border=\"1\" class=\"dataframe\">\n",
       "  <thead>\n",
       "    <tr style=\"text-align: right;\">\n",
       "      <th></th>\n",
       "      <th>key</th>\n",
       "      <th>Bulk 1</th>\n",
       "      <th>Bulk 2</th>\n",
       "      <th>Bulk 3</th>\n",
       "      <th>Bulk 4</th>\n",
       "      <th>Bulk 5</th>\n",
       "      <th>Bulk 6</th>\n",
       "      <th>Bulk 7</th>\n",
       "      <th>Bulk 8</th>\n",
       "      <th>Bulk 9</th>\n",
       "      <th>Bulk 10</th>\n",
       "      <th>Bulk 11</th>\n",
       "      <th>Bulk 12</th>\n",
       "      <th>Bulk 13</th>\n",
       "      <th>Bulk 14</th>\n",
       "      <th>Bulk 15</th>\n",
       "    </tr>\n",
       "  </thead>\n",
       "  <tbody>\n",
       "    <tr>\n",
       "      <th>435</th>\n",
       "      <td>461</td>\n",
       "      <td>NaN</td>\n",
       "      <td>NaN</td>\n",
       "      <td>NaN</td>\n",
       "      <td>NaN</td>\n",
       "      <td>NaN</td>\n",
       "      <td>NaN</td>\n",
       "      <td>NaN</td>\n",
       "      <td>NaN</td>\n",
       "      <td>NaN</td>\n",
       "      <td>2019-05-21 03:31:46</td>\n",
       "      <td>NaN</td>\n",
       "      <td>2019-05-21 03:25:53</td>\n",
       "      <td>NaN</td>\n",
       "      <td>2019-05-21 03:18:46</td>\n",
       "      <td>2019-05-21 02:13:39</td>\n",
       "    </tr>\n",
       "    <tr>\n",
       "      <th>673</th>\n",
       "      <td>705</td>\n",
       "      <td>NaN</td>\n",
       "      <td>NaN</td>\n",
       "      <td>2019-05-31 00:03:29</td>\n",
       "      <td>2019-05-30 23:55:55</td>\n",
       "      <td>NaN</td>\n",
       "      <td>2019-05-30 23:50:21</td>\n",
       "      <td>NaN</td>\n",
       "      <td>NaN</td>\n",
       "      <td>NaN</td>\n",
       "      <td>NaN</td>\n",
       "      <td>NaN</td>\n",
       "      <td>NaN</td>\n",
       "      <td>NaN</td>\n",
       "      <td>2019-05-30 23:38:26</td>\n",
       "      <td>NaN</td>\n",
       "    </tr>\n",
       "    <tr>\n",
       "      <th>1511</th>\n",
       "      <td>1569</td>\n",
       "      <td>NaN</td>\n",
       "      <td>NaN</td>\n",
       "      <td>NaN</td>\n",
       "      <td>NaN</td>\n",
       "      <td>NaN</td>\n",
       "      <td>NaN</td>\n",
       "      <td>NaN</td>\n",
       "      <td>NaN</td>\n",
       "      <td>NaN</td>\n",
       "      <td>NaN</td>\n",
       "      <td>NaN</td>\n",
       "      <td>2019-07-01 12:01:41</td>\n",
       "      <td>NaN</td>\n",
       "      <td>2019-07-01 11:57:58</td>\n",
       "      <td>2019-07-01 11:32:28</td>\n",
       "    </tr>\n",
       "    <tr>\n",
       "      <th>2973</th>\n",
       "      <td>3082</td>\n",
       "      <td>NaN</td>\n",
       "      <td>NaN</td>\n",
       "      <td>2019-09-01 06:42:21</td>\n",
       "      <td>NaN</td>\n",
       "      <td>NaN</td>\n",
       "      <td>NaN</td>\n",
       "      <td>NaN</td>\n",
       "      <td>NaN</td>\n",
       "      <td>NaN</td>\n",
       "      <td>NaN</td>\n",
       "      <td>NaN</td>\n",
       "      <td>2019-09-01 06:52:52</td>\n",
       "      <td>NaN</td>\n",
       "      <td>2019-09-01 06:49:35</td>\n",
       "      <td>2019-09-01 06:42:21</td>\n",
       "    </tr>\n",
       "    <tr>\n",
       "      <th>2526</th>\n",
       "      <td>2622</td>\n",
       "      <td>NaN</td>\n",
       "      <td>NaN</td>\n",
       "      <td>2019-08-15 03:06:59</td>\n",
       "      <td>NaN</td>\n",
       "      <td>NaN</td>\n",
       "      <td>2019-08-15 03:36:05</td>\n",
       "      <td>NaN</td>\n",
       "      <td>NaN</td>\n",
       "      <td>NaN</td>\n",
       "      <td>NaN</td>\n",
       "      <td>2019-08-15 03:24:52</td>\n",
       "      <td>NaN</td>\n",
       "      <td>NaN</td>\n",
       "      <td>2019-08-15 03:12:31</td>\n",
       "      <td>NaN</td>\n",
       "    </tr>\n",
       "  </tbody>\n",
       "</table>\n",
       "</div>"
      ],
      "text/plain": [
       "       key Bulk 1 Bulk 2               Bulk 3               Bulk 4 Bulk 5  \\\n",
       "435    461    NaN    NaN                  NaN                  NaN    NaN   \n",
       "673    705    NaN    NaN  2019-05-31 00:03:29  2019-05-30 23:55:55    NaN   \n",
       "1511  1569    NaN    NaN                  NaN                  NaN    NaN   \n",
       "2973  3082    NaN    NaN  2019-09-01 06:42:21                  NaN    NaN   \n",
       "2526  2622    NaN    NaN  2019-08-15 03:06:59                  NaN    NaN   \n",
       "\n",
       "                   Bulk 6 Bulk 7 Bulk 8 Bulk 9              Bulk 10  \\\n",
       "435                   NaN    NaN    NaN    NaN  2019-05-21 03:31:46   \n",
       "673   2019-05-30 23:50:21    NaN    NaN    NaN                  NaN   \n",
       "1511                  NaN    NaN    NaN    NaN                  NaN   \n",
       "2973                  NaN    NaN    NaN    NaN                  NaN   \n",
       "2526  2019-08-15 03:36:05    NaN    NaN    NaN                  NaN   \n",
       "\n",
       "                  Bulk 11              Bulk 12 Bulk 13              Bulk 14  \\\n",
       "435                   NaN  2019-05-21 03:25:53     NaN  2019-05-21 03:18:46   \n",
       "673                   NaN                  NaN     NaN  2019-05-30 23:38:26   \n",
       "1511                  NaN  2019-07-01 12:01:41     NaN  2019-07-01 11:57:58   \n",
       "2973                  NaN  2019-09-01 06:52:52     NaN  2019-09-01 06:49:35   \n",
       "2526  2019-08-15 03:24:52                  NaN     NaN  2019-08-15 03:12:31   \n",
       "\n",
       "                  Bulk 15  \n",
       "435   2019-05-21 02:13:39  \n",
       "673                   NaN  \n",
       "1511  2019-07-01 11:32:28  \n",
       "2973  2019-09-01 06:42:21  \n",
       "2526                  NaN  "
      ]
     },
     "execution_count": 32,
     "metadata": {},
     "output_type": "execute_result"
    }
   ],
   "source": [
    "data_bulk_time.sample(5, random_state=RANDOM_STATE)"
   ]
  },
  {
   "cell_type": "code",
   "execution_count": 33,
   "id": "c3d7c096-d548-4677-a4c2-179914ecf22e",
   "metadata": {},
   "outputs": [
    {
     "data": {
      "text/html": [
       "<div>\n",
       "<style scoped>\n",
       "    .dataframe tbody tr th:only-of-type {\n",
       "        vertical-align: middle;\n",
       "    }\n",
       "\n",
       "    .dataframe tbody tr th {\n",
       "        vertical-align: top;\n",
       "    }\n",
       "\n",
       "    .dataframe thead th {\n",
       "        text-align: right;\n",
       "    }\n",
       "</style>\n",
       "<table border=\"1\" class=\"dataframe\">\n",
       "  <thead>\n",
       "    <tr style=\"text-align: right;\">\n",
       "      <th></th>\n",
       "      <th>key</th>\n",
       "      <th>Wire 1</th>\n",
       "      <th>Wire 2</th>\n",
       "      <th>Wire 3</th>\n",
       "      <th>Wire 4</th>\n",
       "      <th>Wire 5</th>\n",
       "      <th>Wire 6</th>\n",
       "      <th>Wire 7</th>\n",
       "      <th>Wire 8</th>\n",
       "      <th>Wire 9</th>\n",
       "    </tr>\n",
       "  </thead>\n",
       "  <tbody>\n",
       "    <tr>\n",
       "      <th>2141</th>\n",
       "      <td>2251</td>\n",
       "      <td>2019-08-01 13:50:17</td>\n",
       "      <td>NaN</td>\n",
       "      <td>NaN</td>\n",
       "      <td>NaN</td>\n",
       "      <td>NaN</td>\n",
       "      <td>NaN</td>\n",
       "      <td>NaN</td>\n",
       "      <td>NaN</td>\n",
       "      <td>NaN</td>\n",
       "    </tr>\n",
       "    <tr>\n",
       "      <th>174</th>\n",
       "      <td>190</td>\n",
       "      <td>2019-05-10 19:48:29</td>\n",
       "      <td>2019-05-10 19:41:39</td>\n",
       "      <td>NaN</td>\n",
       "      <td>NaN</td>\n",
       "      <td>NaN</td>\n",
       "      <td>NaN</td>\n",
       "      <td>NaN</td>\n",
       "      <td>NaN</td>\n",
       "      <td>NaN</td>\n",
       "    </tr>\n",
       "    <tr>\n",
       "      <th>1140</th>\n",
       "      <td>1208</td>\n",
       "      <td>2019-06-18 04:50:43</td>\n",
       "      <td>2019-06-18 04:45:39</td>\n",
       "      <td>NaN</td>\n",
       "      <td>NaN</td>\n",
       "      <td>NaN</td>\n",
       "      <td>NaN</td>\n",
       "      <td>NaN</td>\n",
       "      <td>NaN</td>\n",
       "      <td>NaN</td>\n",
       "    </tr>\n",
       "    <tr>\n",
       "      <th>2901</th>\n",
       "      <td>3060</td>\n",
       "      <td>2019-08-31 14:02:31</td>\n",
       "      <td>NaN</td>\n",
       "      <td>NaN</td>\n",
       "      <td>NaN</td>\n",
       "      <td>NaN</td>\n",
       "      <td>NaN</td>\n",
       "      <td>NaN</td>\n",
       "      <td>NaN</td>\n",
       "      <td>NaN</td>\n",
       "    </tr>\n",
       "    <tr>\n",
       "      <th>1651</th>\n",
       "      <td>1731</td>\n",
       "      <td>2019-07-06 20:21:52</td>\n",
       "      <td>NaN</td>\n",
       "      <td>NaN</td>\n",
       "      <td>NaN</td>\n",
       "      <td>NaN</td>\n",
       "      <td>NaN</td>\n",
       "      <td>NaN</td>\n",
       "      <td>NaN</td>\n",
       "      <td>NaN</td>\n",
       "    </tr>\n",
       "  </tbody>\n",
       "</table>\n",
       "</div>"
      ],
      "text/plain": [
       "       key               Wire 1               Wire 2 Wire 3 Wire 4 Wire 5  \\\n",
       "2141  2251  2019-08-01 13:50:17                  NaN    NaN    NaN    NaN   \n",
       "174    190  2019-05-10 19:48:29  2019-05-10 19:41:39    NaN    NaN    NaN   \n",
       "1140  1208  2019-06-18 04:50:43  2019-06-18 04:45:39    NaN    NaN    NaN   \n",
       "2901  3060  2019-08-31 14:02:31                  NaN    NaN    NaN    NaN   \n",
       "1651  1731  2019-07-06 20:21:52                  NaN    NaN    NaN    NaN   \n",
       "\n",
       "     Wire 6 Wire 7 Wire 8 Wire 9  \n",
       "2141    NaN    NaN    NaN    NaN  \n",
       "174     NaN    NaN    NaN    NaN  \n",
       "1140    NaN    NaN    NaN    NaN  \n",
       "2901    NaN    NaN    NaN    NaN  \n",
       "1651    NaN    NaN    NaN    NaN  "
      ]
     },
     "execution_count": 33,
     "metadata": {},
     "output_type": "execute_result"
    }
   ],
   "source": [
    "data_wire_time.sample(5, random_state=RANDOM_STATE)"
   ]
  },
  {
   "cell_type": "markdown",
   "id": "268f3247-2b7b-49e4-83cf-dd02db20f0df",
   "metadata": {},
   "source": [
    "Эти датафреймы в работе использоваться не будут, так как у нас задача регрессии, а не прогнозирования временных рядов"
   ]
  },
  {
   "cell_type": "markdown",
   "id": "d55fd25c-2a1e-4eb1-a499-126e5ade742d",
   "metadata": {
    "tags": []
   },
   "source": [
    "## Результаты исследования данных (вывод)"
   ]
  },
  {
   "cell_type": "markdown",
   "id": "872ed449-b052-46ae-a650-b859ca5e75ad",
   "metadata": {},
   "source": [
    "Подведем итог по исследованным датасетам:\n",
    "* `data_arc` - убрать единичный выброс, сгенерировать новые признаки\n",
    "* `data_bulk` - отсутствующие значения заполнить нулями, выбрать для обучения целесообразные признаки, убрать единичные выбросы\n",
    "* `data_gas` - убрать единичные выбросы\n",
    "* `data_temp` - удалить пропуски, агрегировать по номеру цикла(температура на первой итерации - фича, температура на последней итерации - таргет), удалить слиишком низкую температуру, удалить циклы, состоящий из 1 итерации\n",
    "* `data_wire` - отсутствующие значения заполнить нулями, выбрать для обучения целесообразные признаки\n",
    "* `data_bulk_time` и `data_wire_time` - не используются  \n",
    "\n",
    "Также, требование заказчика: \n",
    "> При удалении производственного цикла из любого датасета, считать такой цикл дефектным. Соответсвенно, удалить его из всех остальных датасетов"
   ]
  },
  {
   "cell_type": "markdown",
   "id": "6cb6aa83-9d63-4af3-9c74-0331246f18b8",
   "metadata": {
    "tags": []
   },
   "source": [
    "## План работы"
   ]
  },
  {
   "cell_type": "markdown",
   "id": "9ade4731-635b-4893-a5e9-667a77ac31f3",
   "metadata": {},
   "source": [
    "1. Загрузка данных\n",
    "2. Исследуем каждый датасет\n",
    "    * Общая информация\n",
    "    * Описательные статистики\n",
    "    * Несколько строк датасета\n",
    "    * Распределение признаков\n",
    "3. Предобработка\n",
    "    * Убираем из датасетов аномалии:\n",
    "        - отрицательная реактивная мощность\n",
    "        - слишком низкая температура\n",
    "        - отсутсвие температуры\n",
    "        - циклы, в которых всего 1 итерация нагрева\n",
    "        - признаки, где большинство значений пропущено (data_bulk и data_wire)\n",
    "    * Заполняем пропуски нулями (data_bulk и data_wire)\n",
    "    * Генерируем новые признаки (data_arc)\n",
    "    * Получаем температуру-признак и температуру-таргет (data_temp)\n",
    "    * Объединяем датасеты в один датафрейм\n",
    "    * Исследуем итоговый датафрейм(корреляция признаков)\n",
    "    * Разделяем на train/test выборки\n",
    "    * На train выборке удаляем выбросы\n",
    "4. Выбор и проверка моделей\n",
    "    * Выбираем несколько моделей для изучения\n",
    "    * Если нужно масштабировать данные, делаем pipeline\n",
    "    * Подбираем гиперпараметры(gridsearch)\n",
    "    * Если подбирать гиперпараметры не нужно, используем cross_val_score\n",
    "    * Отбираем лучшую модель (лучший средний результат на кросс-валидации)\n",
    "5. Тестируем итоговую модель\n",
    "    * Тестируем лучшую модель на test выборке\n",
    "    * Сравниваем модель с константной\n",
    "    * Исследуем важность признаков\n",
    "6. отчет о проделанной работе"
   ]
  },
  {
   "cell_type": "markdown",
   "id": "ef97b363-0628-41d0-b6d1-cf6797cc11cb",
   "metadata": {},
   "source": [
    "# Предобработка данных"
   ]
  },
  {
   "cell_type": "markdown",
   "id": "8605f020-5116-4914-8d34-cd459bfc4cda",
   "metadata": {},
   "source": [
    "## df_arc"
   ]
  },
  {
   "cell_type": "markdown",
   "id": "aef100b8-9a47-4752-9ccf-7a617691df70",
   "metadata": {},
   "source": [
    "Для удобства переименуем признаки  \n",
    "Также, уберем дефектную партию с отрицательной температурой"
   ]
  },
  {
   "cell_type": "code",
   "execution_count": 34,
   "id": "d14be509-31e5-4aac-a2d8-47fd6d1dd456",
   "metadata": {},
   "outputs": [
    {
     "data": {
      "text/html": [
       "<div>\n",
       "<style scoped>\n",
       "    .dataframe tbody tr th:only-of-type {\n",
       "        vertical-align: middle;\n",
       "    }\n",
       "\n",
       "    .dataframe tbody tr th {\n",
       "        vertical-align: top;\n",
       "    }\n",
       "\n",
       "    .dataframe thead th {\n",
       "        text-align: right;\n",
       "    }\n",
       "</style>\n",
       "<table border=\"1\" class=\"dataframe\">\n",
       "  <thead>\n",
       "    <tr style=\"text-align: right;\">\n",
       "      <th></th>\n",
       "      <th>key</th>\n",
       "      <th>Начало нагрева дугой</th>\n",
       "      <th>Конец нагрева дугой</th>\n",
       "      <th>active power</th>\n",
       "      <th>reactive power</th>\n",
       "    </tr>\n",
       "  </thead>\n",
       "  <tbody>\n",
       "    <tr>\n",
       "      <th>5</th>\n",
       "      <td>2</td>\n",
       "      <td>2019-05-03 11:34:14</td>\n",
       "      <td>2019-05-03 11:36:31</td>\n",
       "      <td>0.381124</td>\n",
       "      <td>0.220351</td>\n",
       "    </tr>\n",
       "    <tr>\n",
       "      <th>6</th>\n",
       "      <td>2</td>\n",
       "      <td>2019-05-03 11:38:50</td>\n",
       "      <td>2019-05-03 11:44:28</td>\n",
       "      <td>0.261665</td>\n",
       "      <td>0.205527</td>\n",
       "    </tr>\n",
       "    <tr>\n",
       "      <th>7</th>\n",
       "      <td>2</td>\n",
       "      <td>2019-05-03 11:46:19</td>\n",
       "      <td>2019-05-03 11:48:25</td>\n",
       "      <td>0.710297</td>\n",
       "      <td>0.484962</td>\n",
       "    </tr>\n",
       "    <tr>\n",
       "      <th>8</th>\n",
       "      <td>2</td>\n",
       "      <td>2019-05-03 11:49:48</td>\n",
       "      <td>2019-05-03 11:53:18</td>\n",
       "      <td>0.786322</td>\n",
       "      <td>0.542517</td>\n",
       "    </tr>\n",
       "    <tr>\n",
       "      <th>9</th>\n",
       "      <td>3</td>\n",
       "      <td>2019-05-03 12:06:54</td>\n",
       "      <td>2019-05-03 12:11:34</td>\n",
       "      <td>1.101678</td>\n",
       "      <td>0.820856</td>\n",
       "    </tr>\n",
       "  </tbody>\n",
       "</table>\n",
       "</div>"
      ],
      "text/plain": [
       "   key Начало нагрева дугой  Конец нагрева дугой  active power  reactive power\n",
       "5    2  2019-05-03 11:34:14  2019-05-03 11:36:31      0.381124        0.220351\n",
       "6    2  2019-05-03 11:38:50  2019-05-03 11:44:28      0.261665        0.205527\n",
       "7    2  2019-05-03 11:46:19  2019-05-03 11:48:25      0.710297        0.484962\n",
       "8    2  2019-05-03 11:49:48  2019-05-03 11:53:18      0.786322        0.542517\n",
       "9    3  2019-05-03 12:06:54  2019-05-03 12:11:34      1.101678        0.820856"
      ]
     },
     "execution_count": 34,
     "metadata": {},
     "output_type": "execute_result"
    }
   ],
   "source": [
    "df_arc = data_arc.copy()\n",
    "df_arc.rename(\n",
    "    columns={\"Активная мощность\": \"active power\", \n",
    "             \"Реактивная мощность\": \"reactive power\"}, \n",
    "    inplace=True)\n",
    "key_to_remove = df_arc.loc[df_arc['reactive power'] > 0, 'key'].values[0]\n",
    "df_arc = df_arc[df_arc['key'] != key_to_remove]\n",
    "df_arc.head()"
   ]
  },
  {
   "cell_type": "markdown",
   "id": "61f72d08-7390-421f-8336-2432054f949a",
   "metadata": {},
   "source": [
    "Сгенерируем новые признаки: длительность нагрева, полную мощность и энергию"
   ]
  },
  {
   "cell_type": "code",
   "execution_count": 35,
   "id": "fe6cdf5c-34a4-4203-ab46-4285898ebd19",
   "metadata": {},
   "outputs": [
    {
     "data": {
      "text/html": [
       "<div>\n",
       "<style scoped>\n",
       "    .dataframe tbody tr th:only-of-type {\n",
       "        vertical-align: middle;\n",
       "    }\n",
       "\n",
       "    .dataframe tbody tr th {\n",
       "        vertical-align: top;\n",
       "    }\n",
       "\n",
       "    .dataframe thead th {\n",
       "        text-align: right;\n",
       "    }\n",
       "</style>\n",
       "<table border=\"1\" class=\"dataframe\">\n",
       "  <thead>\n",
       "    <tr style=\"text-align: right;\">\n",
       "      <th></th>\n",
       "      <th>key</th>\n",
       "      <th>active power</th>\n",
       "      <th>reactive power</th>\n",
       "      <th>duration</th>\n",
       "      <th>apparent power</th>\n",
       "      <th>energy</th>\n",
       "    </tr>\n",
       "  </thead>\n",
       "  <tbody>\n",
       "    <tr>\n",
       "      <th>5</th>\n",
       "      <td>2</td>\n",
       "      <td>0.381124</td>\n",
       "      <td>0.220351</td>\n",
       "      <td>137</td>\n",
       "      <td>0.440239</td>\n",
       "      <td>60.312695</td>\n",
       "    </tr>\n",
       "    <tr>\n",
       "      <th>6</th>\n",
       "      <td>2</td>\n",
       "      <td>0.261665</td>\n",
       "      <td>0.205527</td>\n",
       "      <td>338</td>\n",
       "      <td>0.332731</td>\n",
       "      <td>112.463079</td>\n",
       "    </tr>\n",
       "    <tr>\n",
       "      <th>7</th>\n",
       "      <td>2</td>\n",
       "      <td>0.710297</td>\n",
       "      <td>0.484962</td>\n",
       "      <td>126</td>\n",
       "      <td>0.860064</td>\n",
       "      <td>108.368056</td>\n",
       "    </tr>\n",
       "    <tr>\n",
       "      <th>8</th>\n",
       "      <td>2</td>\n",
       "      <td>0.786322</td>\n",
       "      <td>0.542517</td>\n",
       "      <td>210</td>\n",
       "      <td>0.955315</td>\n",
       "      <td>200.616176</td>\n",
       "    </tr>\n",
       "    <tr>\n",
       "      <th>9</th>\n",
       "      <td>3</td>\n",
       "      <td>1.101678</td>\n",
       "      <td>0.820856</td>\n",
       "      <td>280</td>\n",
       "      <td>1.373863</td>\n",
       "      <td>384.681584</td>\n",
       "    </tr>\n",
       "  </tbody>\n",
       "</table>\n",
       "</div>"
      ],
      "text/plain": [
       "   key  active power  reactive power  duration  apparent power      energy\n",
       "5    2      0.381124        0.220351       137        0.440239   60.312695\n",
       "6    2      0.261665        0.205527       338        0.332731  112.463079\n",
       "7    2      0.710297        0.484962       126        0.860064  108.368056\n",
       "8    2      0.786322        0.542517       210        0.955315  200.616176\n",
       "9    3      1.101678        0.820856       280        1.373863  384.681584"
      ]
     },
     "metadata": {},
     "output_type": "display_data"
    },
    {
     "data": {
      "text/plain": [
       "(14871, 6)"
      ]
     },
     "execution_count": 35,
     "metadata": {},
     "output_type": "execute_result"
    }
   ],
   "source": [
    "df_arc['Начало нагрева дугой'] = pd.to_datetime(df_arc['Начало нагрева дугой'])\n",
    "df_arc['Конец нагрева дугой'] = pd.to_datetime(df_arc['Конец нагрева дугой'])\n",
    "\n",
    "df_arc['duration'] = ((df_arc['Конец нагрева дугой'] \n",
    "                      - df_arc['Начало нагрева дугой'])\n",
    "                      .dt.total_seconds()\n",
    "                      .astype('int16'))\n",
    "df_arc['apparent power'] = df_arc.apply(\n",
    "    lambda x: np.hypot(x['active power'], x['reactive power']), axis=1)\n",
    "df_arc['energy'] = df_arc['apparent power'] * df_arc['duration']\n",
    "\n",
    "df_arc = df_arc.drop(['Начало нагрева дугой', 'Конец нагрева дугой'], axis=1)\n",
    "\n",
    "display(df_arc.head())\n",
    "df_arc.shape"
   ]
  },
  {
   "cell_type": "markdown",
   "id": "67da8a4e-9f91-40c6-b2ad-28d6c402206d",
   "metadata": {},
   "source": [
    "Теперь агрегируем каждую партию в одну строку"
   ]
  },
  {
   "cell_type": "code",
   "execution_count": 36,
   "id": "8c435668-950a-470f-8518-9348fb09f6bf",
   "metadata": {},
   "outputs": [
    {
     "data": {
      "text/html": [
       "<div>\n",
       "<style scoped>\n",
       "    .dataframe tbody tr th:only-of-type {\n",
       "        vertical-align: middle;\n",
       "    }\n",
       "\n",
       "    .dataframe tbody tr th {\n",
       "        vertical-align: top;\n",
       "    }\n",
       "\n",
       "    .dataframe thead th {\n",
       "        text-align: right;\n",
       "    }\n",
       "</style>\n",
       "<table border=\"1\" class=\"dataframe\">\n",
       "  <thead>\n",
       "    <tr style=\"text-align: right;\">\n",
       "      <th></th>\n",
       "      <th>key</th>\n",
       "      <th>active power</th>\n",
       "      <th>reactive power</th>\n",
       "      <th>duration</th>\n",
       "      <th>apparent power</th>\n",
       "      <th>energy</th>\n",
       "    </tr>\n",
       "  </thead>\n",
       "  <tbody>\n",
       "    <tr>\n",
       "      <th>0</th>\n",
       "      <td>2</td>\n",
       "      <td>2.139408</td>\n",
       "      <td>1.453357</td>\n",
       "      <td>811</td>\n",
       "      <td>2.588349</td>\n",
       "      <td>481.760005</td>\n",
       "    </tr>\n",
       "    <tr>\n",
       "      <th>1</th>\n",
       "      <td>3</td>\n",
       "      <td>4.063641</td>\n",
       "      <td>2.937457</td>\n",
       "      <td>655</td>\n",
       "      <td>5.019223</td>\n",
       "      <td>722.837668</td>\n",
       "    </tr>\n",
       "    <tr>\n",
       "      <th>2</th>\n",
       "      <td>4</td>\n",
       "      <td>2.706489</td>\n",
       "      <td>2.056992</td>\n",
       "      <td>741</td>\n",
       "      <td>3.400038</td>\n",
       "      <td>683.455597</td>\n",
       "    </tr>\n",
       "    <tr>\n",
       "      <th>3</th>\n",
       "      <td>5</td>\n",
       "      <td>2.252950</td>\n",
       "      <td>1.687991</td>\n",
       "      <td>869</td>\n",
       "      <td>2.816980</td>\n",
       "      <td>512.169934</td>\n",
       "    </tr>\n",
       "    <tr>\n",
       "      <th>4</th>\n",
       "      <td>6</td>\n",
       "      <td>2.725274</td>\n",
       "      <td>1.881313</td>\n",
       "      <td>952</td>\n",
       "      <td>3.313074</td>\n",
       "      <td>839.231310</td>\n",
       "    </tr>\n",
       "  </tbody>\n",
       "</table>\n",
       "</div>"
      ],
      "text/plain": [
       "   key  active power  reactive power  duration  apparent power      energy\n",
       "0    2      2.139408        1.453357       811        2.588349  481.760005\n",
       "1    3      4.063641        2.937457       655        5.019223  722.837668\n",
       "2    4      2.706489        2.056992       741        3.400038  683.455597\n",
       "3    5      2.252950        1.687991       869        2.816980  512.169934\n",
       "4    6      2.725274        1.881313       952        3.313074  839.231310"
      ]
     },
     "execution_count": 36,
     "metadata": {},
     "output_type": "execute_result"
    }
   ],
   "source": [
    "df_arc = df_arc.groupby('key', as_index=False).sum()\n",
    "df_arc.head()"
   ]
  },
  {
   "cell_type": "code",
   "execution_count": 37,
   "id": "7b711c6f-a867-4e29-85ab-5c6f8faee74f",
   "metadata": {},
   "outputs": [
    {
     "name": "stdout",
     "output_type": "stream",
     "text": [
      "<class 'pandas.core.frame.DataFrame'>\n",
      "Int64Index: 3213 entries, 0 to 3212\n",
      "Data columns (total 6 columns):\n",
      " #   Column          Non-Null Count  Dtype  \n",
      "---  ------          --------------  -----  \n",
      " 0   key             3213 non-null   int64  \n",
      " 1   active power    3213 non-null   float64\n",
      " 2   reactive power  3213 non-null   float64\n",
      " 3   duration        3213 non-null   int16  \n",
      " 4   apparent power  3213 non-null   float64\n",
      " 5   energy          3213 non-null   float64\n",
      "dtypes: float64(4), int16(1), int64(1)\n",
      "memory usage: 156.9 KB\n"
     ]
    }
   ],
   "source": [
    "df_arc.info()"
   ]
  },
  {
   "cell_type": "markdown",
   "id": "16e6ae0b-90e5-4672-a5bb-41f2ae3d92a1",
   "metadata": {},
   "source": [
    "## df_bulk"
   ]
  },
  {
   "cell_type": "markdown",
   "id": "49b6c75f-4c1e-4357-acbe-f8c7453a435e",
   "metadata": {},
   "source": [
    "Оставим только те столбцы, где пустых значений меньше половины  \n",
    "А сами пропуск заполним нулями"
   ]
  },
  {
   "cell_type": "code",
   "execution_count": 38,
   "id": "df471971-c630-4b20-bfd3-04347385f999",
   "metadata": {},
   "outputs": [
    {
     "name": "stdout",
     "output_type": "stream",
     "text": [
      "<class 'pandas.core.frame.DataFrame'>\n",
      "RangeIndex: 3129 entries, 0 to 3128\n",
      "Data columns (total 16 columns):\n",
      " #   Column   Non-Null Count  Dtype  \n",
      "---  ------   --------------  -----  \n",
      " 0   key      3129 non-null   int64  \n",
      " 1   Bulk 1   252 non-null    float64\n",
      " 2   Bulk 2   22 non-null     float64\n",
      " 3   Bulk 3   1298 non-null   float64\n",
      " 4   Bulk 4   1014 non-null   float64\n",
      " 5   Bulk 5   77 non-null     float64\n",
      " 6   Bulk 6   576 non-null    float64\n",
      " 7   Bulk 7   25 non-null     float64\n",
      " 8   Bulk 8   1 non-null      float64\n",
      " 9   Bulk 9   19 non-null     float64\n",
      " 10  Bulk 10  176 non-null    float64\n",
      " 11  Bulk 11  177 non-null    float64\n",
      " 12  Bulk 12  2450 non-null   float64\n",
      " 13  Bulk 13  18 non-null     float64\n",
      " 14  Bulk 14  2806 non-null   float64\n",
      " 15  Bulk 15  2248 non-null   float64\n",
      "dtypes: float64(15), int64(1)\n",
      "memory usage: 391.2 KB\n"
     ]
    }
   ],
   "source": [
    "data_bulk.info()"
   ]
  },
  {
   "cell_type": "code",
   "execution_count": 39,
   "id": "2ca3225a-ac32-491d-a4e6-273e9a77a192",
   "metadata": {},
   "outputs": [
    {
     "name": "stdout",
     "output_type": "stream",
     "text": [
      "<class 'pandas.core.frame.DataFrame'>\n",
      "RangeIndex: 3129 entries, 0 to 3128\n",
      "Data columns (total 4 columns):\n",
      " #   Column   Non-Null Count  Dtype  \n",
      "---  ------   --------------  -----  \n",
      " 0   key      3129 non-null   int64  \n",
      " 1   Bulk 12  3129 non-null   float64\n",
      " 2   Bulk 14  3129 non-null   float64\n",
      " 3   Bulk 15  3129 non-null   float64\n",
      "dtypes: float64(3), int64(1)\n",
      "memory usage: 97.9 KB\n"
     ]
    }
   ],
   "source": [
    "df_bulk = data_bulk[['key', 'Bulk 12', 'Bulk 14', 'Bulk 15']].copy()\n",
    "df_bulk.fillna(0, inplace=True)\n",
    "df_bulk.info()"
   ]
  },
  {
   "cell_type": "markdown",
   "id": "56f7a2de-a5d8-477f-8d75-eb4965f30388",
   "metadata": {},
   "source": [
    "## df_gas"
   ]
  },
  {
   "cell_type": "markdown",
   "id": "38f68c1f-551e-45e7-b09d-fb538b80228f",
   "metadata": {},
   "source": [
    "Тут все ок"
   ]
  },
  {
   "cell_type": "code",
   "execution_count": 40,
   "id": "7089e413-8fad-4aac-a249-4b3f0129c9a8",
   "metadata": {},
   "outputs": [
    {
     "name": "stdout",
     "output_type": "stream",
     "text": [
      "<class 'pandas.core.frame.DataFrame'>\n",
      "RangeIndex: 3239 entries, 0 to 3238\n",
      "Data columns (total 2 columns):\n",
      " #   Column  Non-Null Count  Dtype  \n",
      "---  ------  --------------  -----  \n",
      " 0   key     3239 non-null   int64  \n",
      " 1   gas     3239 non-null   float64\n",
      "dtypes: float64(1), int64(1)\n",
      "memory usage: 50.7 KB\n"
     ]
    }
   ],
   "source": [
    "df_gas = data_gas.rename(columns={'Газ 1':'gas'}).copy()\n",
    "df_gas.info()"
   ]
  },
  {
   "cell_type": "markdown",
   "id": "03a7d97b-a7fd-4a67-9212-9e5016de2dde",
   "metadata": {},
   "source": [
    "## df_wire"
   ]
  },
  {
   "cell_type": "markdown",
   "id": "13dce8fa-1fb4-4a86-8cdf-7f59af843e40",
   "metadata": {},
   "source": [
    "Оставим только те столбцы, где пустых значений меньше половины  \n",
    "А сами пропуск заполним нулями"
   ]
  },
  {
   "cell_type": "code",
   "execution_count": 41,
   "id": "c1e18c7f-1ec2-4b4b-8e2b-4f51bbe73ab4",
   "metadata": {},
   "outputs": [
    {
     "name": "stdout",
     "output_type": "stream",
     "text": [
      "<class 'pandas.core.frame.DataFrame'>\n",
      "RangeIndex: 3081 entries, 0 to 3080\n",
      "Data columns (total 10 columns):\n",
      " #   Column  Non-Null Count  Dtype  \n",
      "---  ------  --------------  -----  \n",
      " 0   key     3081 non-null   int64  \n",
      " 1   Wire 1  3055 non-null   float64\n",
      " 2   Wire 2  1079 non-null   float64\n",
      " 3   Wire 3  63 non-null     float64\n",
      " 4   Wire 4  14 non-null     float64\n",
      " 5   Wire 5  1 non-null      float64\n",
      " 6   Wire 6  73 non-null     float64\n",
      " 7   Wire 7  11 non-null     float64\n",
      " 8   Wire 8  19 non-null     float64\n",
      " 9   Wire 9  29 non-null     float64\n",
      "dtypes: float64(9), int64(1)\n",
      "memory usage: 240.8 KB\n"
     ]
    }
   ],
   "source": [
    "data_wire.info()"
   ]
  },
  {
   "cell_type": "code",
   "execution_count": 42,
   "id": "12859cb7-854a-48b5-80c6-e8e90949622d",
   "metadata": {},
   "outputs": [
    {
     "name": "stdout",
     "output_type": "stream",
     "text": [
      "<class 'pandas.core.frame.DataFrame'>\n",
      "RangeIndex: 3081 entries, 0 to 3080\n",
      "Data columns (total 2 columns):\n",
      " #   Column  Non-Null Count  Dtype  \n",
      "---  ------  --------------  -----  \n",
      " 0   key     3081 non-null   int64  \n",
      " 1   Wire 1  3081 non-null   float64\n",
      "dtypes: float64(1), int64(1)\n",
      "memory usage: 48.3 KB\n"
     ]
    }
   ],
   "source": [
    "df_wire = data_wire[['key', 'Wire 1']].copy()\n",
    "df_wire.fillna(0, inplace=True)\n",
    "df_wire.info()"
   ]
  },
  {
   "cell_type": "markdown",
   "id": "a5da719d-cc73-4029-b473-6524f6b62c43",
   "metadata": {},
   "source": [
    "## df_temp"
   ]
  },
  {
   "cell_type": "markdown",
   "id": "5e79c7c2-859a-45ec-89cc-2a62401292ca",
   "metadata": {},
   "source": [
    "Удалим партии, где встречаются аномально низкие температуры"
   ]
  },
  {
   "cell_type": "code",
   "execution_count": 43,
   "id": "becc6873-df2c-48cf-b02e-06a937931e82",
   "metadata": {},
   "outputs": [],
   "source": [
    "df_temp = data_temp.drop('Время замера', axis=1).rename(\n",
    "    columns={'Температура':'temp'}).copy()\n",
    "outliers = df_temp.loc[df_temp['temp'] < 1500, 'key'].values\n",
    "df_temp = df_temp[~df_temp['key'].isin(outliers)]"
   ]
  },
  {
   "cell_type": "markdown",
   "id": "30d69484-e434-4e73-ba5d-62d1028b1819",
   "metadata": {},
   "source": [
    "Уберем партии, где есть пропуски температур"
   ]
  },
  {
   "cell_type": "code",
   "execution_count": 44,
   "id": "b4248f56-d14f-4fac-bcaf-cc57e3fc4eb5",
   "metadata": {},
   "outputs": [],
   "source": [
    "outliers = df_temp.loc[df_temp['temp'].isna(), 'key'].values\n",
    "df_temp = df_temp[~df_temp['key'].isin(outliers)]"
   ]
  },
  {
   "cell_type": "markdown",
   "id": "8cf892c2-cf3c-40a4-b496-1aedd0c918f9",
   "metadata": {},
   "source": [
    "Для каждой партии найдем первое измерение температуры(будем использовать как признак) и последнее(наш таргет)"
   ]
  },
  {
   "cell_type": "code",
   "execution_count": 45,
   "id": "2b2790a2-b245-438c-9d9b-ae0899a9256c",
   "metadata": {},
   "outputs": [
    {
     "data": {
      "text/html": [
       "<div>\n",
       "<style scoped>\n",
       "    .dataframe tbody tr th:only-of-type {\n",
       "        vertical-align: middle;\n",
       "    }\n",
       "\n",
       "    .dataframe tbody tr th {\n",
       "        vertical-align: top;\n",
       "    }\n",
       "\n",
       "    .dataframe thead th {\n",
       "        text-align: right;\n",
       "    }\n",
       "</style>\n",
       "<table border=\"1\" class=\"dataframe\">\n",
       "  <thead>\n",
       "    <tr style=\"text-align: right;\">\n",
       "      <th></th>\n",
       "      <th>key</th>\n",
       "      <th>count</th>\n",
       "      <th>temp</th>\n",
       "      <th>target temp</th>\n",
       "    </tr>\n",
       "  </thead>\n",
       "  <tbody>\n",
       "    <tr>\n",
       "      <th>0</th>\n",
       "      <td>1</td>\n",
       "      <td>6</td>\n",
       "      <td>1571.0</td>\n",
       "      <td>1613.0</td>\n",
       "    </tr>\n",
       "    <tr>\n",
       "      <th>1</th>\n",
       "      <td>2</td>\n",
       "      <td>5</td>\n",
       "      <td>1581.0</td>\n",
       "      <td>1602.0</td>\n",
       "    </tr>\n",
       "    <tr>\n",
       "      <th>2</th>\n",
       "      <td>3</td>\n",
       "      <td>6</td>\n",
       "      <td>1596.0</td>\n",
       "      <td>1599.0</td>\n",
       "    </tr>\n",
       "    <tr>\n",
       "      <th>3</th>\n",
       "      <td>4</td>\n",
       "      <td>5</td>\n",
       "      <td>1601.0</td>\n",
       "      <td>1625.0</td>\n",
       "    </tr>\n",
       "    <tr>\n",
       "      <th>4</th>\n",
       "      <td>5</td>\n",
       "      <td>5</td>\n",
       "      <td>1576.0</td>\n",
       "      <td>1602.0</td>\n",
       "    </tr>\n",
       "  </tbody>\n",
       "</table>\n",
       "</div>"
      ],
      "text/plain": [
       "   key  count    temp  target temp\n",
       "0    1      6  1571.0       1613.0\n",
       "1    2      5  1581.0       1602.0\n",
       "2    3      6  1596.0       1599.0\n",
       "3    4      5  1601.0       1625.0\n",
       "4    5      5  1576.0       1602.0"
      ]
     },
     "execution_count": 45,
     "metadata": {},
     "output_type": "execute_result"
    }
   ],
   "source": [
    "df_temp = (df_temp.groupby('key').agg(['count', 'first', 'last'])\n",
    "           .droplevel(0, axis=1)\n",
    "           .reset_index())\n",
    "df_temp.rename(columns={\"first\": \"temp\", \"last\": \"target temp\"}, \n",
    "               inplace=True)\n",
    "df_temp.head()"
   ]
  },
  {
   "cell_type": "markdown",
   "id": "da0589aa-0d4b-46f0-ba37-5b4c7e4d27c1",
   "metadata": {},
   "source": [
    "Партии, в которых всего одно измерение температуры удалим(в таких партиях получается признак = таргет)"
   ]
  },
  {
   "cell_type": "code",
   "execution_count": 46,
   "id": "1a5ee962-361b-4d0e-9adb-8f282f6d4aa2",
   "metadata": {},
   "outputs": [
    {
     "name": "stdout",
     "output_type": "stream",
     "text": [
      "<class 'pandas.core.frame.DataFrame'>\n",
      "Int64Index: 2471 entries, 0 to 2472\n",
      "Data columns (total 3 columns):\n",
      " #   Column       Non-Null Count  Dtype  \n",
      "---  ------       --------------  -----  \n",
      " 0   key          2471 non-null   int64  \n",
      " 1   temp         2471 non-null   float64\n",
      " 2   target temp  2471 non-null   float64\n",
      "dtypes: float64(2), int64(1)\n",
      "memory usage: 77.2 KB\n"
     ]
    }
   ],
   "source": [
    "df_temp = df_temp[df_temp['count'] > 1].drop('count', axis=1)\n",
    "df_temp.info()"
   ]
  },
  {
   "cell_type": "markdown",
   "id": "f294768a-c682-426e-bc71-d25f76dfc276",
   "metadata": {},
   "source": [
    "## Собираем признаки в один датафрейм"
   ]
  },
  {
   "cell_type": "markdown",
   "id": "41e77cca-1819-4f2a-b2e6-c7d69b40cef3",
   "metadata": {},
   "source": [
    "Собираем общий датафрейм"
   ]
  },
  {
   "cell_type": "code",
   "execution_count": 47,
   "id": "60f2a6ff-4b3f-4501-aa96-4c7d94c96ece",
   "metadata": {},
   "outputs": [],
   "source": [
    "df_general = pd.merge(\n",
    "    left=df_arc, right=df_bulk, how='inner', on='key')\n",
    "df_general = pd.merge(\n",
    "    df_general, df_gas, 'inner', 'key')\n",
    "df_general = pd.merge(\n",
    "    df_general, df_wire, 'inner', 'key')\n",
    "df_general = pd.merge(\n",
    "    df_general, df_temp, 'inner', 'key')\n",
    "df_general.drop('key', axis=1, inplace=True)"
   ]
  },
  {
   "cell_type": "code",
   "execution_count": 48,
   "id": "a8a3c354-8c35-45ce-abb5-de4070da1e3c",
   "metadata": {},
   "outputs": [
    {
     "name": "stdout",
     "output_type": "stream",
     "text": [
      "<class 'pandas.core.frame.DataFrame'>\n",
      "Int64Index: 2324 entries, 0 to 2323\n",
      "Data columns (total 12 columns):\n",
      " #   Column          Non-Null Count  Dtype  \n",
      "---  ------          --------------  -----  \n",
      " 0   active power    2324 non-null   float64\n",
      " 1   reactive power  2324 non-null   float64\n",
      " 2   duration        2324 non-null   int16  \n",
      " 3   apparent power  2324 non-null   float64\n",
      " 4   energy          2324 non-null   float64\n",
      " 5   Bulk 12         2324 non-null   float64\n",
      " 6   Bulk 14         2324 non-null   float64\n",
      " 7   Bulk 15         2324 non-null   float64\n",
      " 8   gas             2324 non-null   float64\n",
      " 9   Wire 1          2324 non-null   float64\n",
      " 10  temp            2324 non-null   float64\n",
      " 11  target temp     2324 non-null   float64\n",
      "dtypes: float64(11), int16(1)\n",
      "memory usage: 222.4 KB\n"
     ]
    },
    {
     "data": {
      "text/plain": [
       "None"
      ]
     },
     "metadata": {},
     "output_type": "display_data"
    },
    {
     "data": {
      "text/html": [
       "<div>\n",
       "<style scoped>\n",
       "    .dataframe tbody tr th:only-of-type {\n",
       "        vertical-align: middle;\n",
       "    }\n",
       "\n",
       "    .dataframe tbody tr th {\n",
       "        vertical-align: top;\n",
       "    }\n",
       "\n",
       "    .dataframe thead th {\n",
       "        text-align: right;\n",
       "    }\n",
       "</style>\n",
       "<table border=\"1\" class=\"dataframe\">\n",
       "  <thead>\n",
       "    <tr style=\"text-align: right;\">\n",
       "      <th></th>\n",
       "      <th>active power</th>\n",
       "      <th>reactive power</th>\n",
       "      <th>duration</th>\n",
       "      <th>apparent power</th>\n",
       "      <th>energy</th>\n",
       "      <th>Bulk 12</th>\n",
       "      <th>Bulk 14</th>\n",
       "      <th>Bulk 15</th>\n",
       "      <th>gas</th>\n",
       "      <th>Wire 1</th>\n",
       "      <th>temp</th>\n",
       "      <th>target temp</th>\n",
       "    </tr>\n",
       "  </thead>\n",
       "  <tbody>\n",
       "    <tr>\n",
       "      <th>0</th>\n",
       "      <td>2.139408</td>\n",
       "      <td>1.453357</td>\n",
       "      <td>811</td>\n",
       "      <td>2.588349</td>\n",
       "      <td>481.760005</td>\n",
       "      <td>206.0</td>\n",
       "      <td>149.0</td>\n",
       "      <td>154.0</td>\n",
       "      <td>12.555561</td>\n",
       "      <td>96.052315</td>\n",
       "      <td>1581.0</td>\n",
       "      <td>1602.0</td>\n",
       "    </tr>\n",
       "    <tr>\n",
       "      <th>1</th>\n",
       "      <td>4.063641</td>\n",
       "      <td>2.937457</td>\n",
       "      <td>655</td>\n",
       "      <td>5.019223</td>\n",
       "      <td>722.837668</td>\n",
       "      <td>205.0</td>\n",
       "      <td>152.0</td>\n",
       "      <td>153.0</td>\n",
       "      <td>28.554793</td>\n",
       "      <td>91.160157</td>\n",
       "      <td>1596.0</td>\n",
       "      <td>1599.0</td>\n",
       "    </tr>\n",
       "    <tr>\n",
       "      <th>2</th>\n",
       "      <td>2.706489</td>\n",
       "      <td>2.056992</td>\n",
       "      <td>741</td>\n",
       "      <td>3.400038</td>\n",
       "      <td>683.455597</td>\n",
       "      <td>207.0</td>\n",
       "      <td>153.0</td>\n",
       "      <td>154.0</td>\n",
       "      <td>18.841219</td>\n",
       "      <td>89.063515</td>\n",
       "      <td>1601.0</td>\n",
       "      <td>1625.0</td>\n",
       "    </tr>\n",
       "    <tr>\n",
       "      <th>3</th>\n",
       "      <td>2.252950</td>\n",
       "      <td>1.687991</td>\n",
       "      <td>869</td>\n",
       "      <td>2.816980</td>\n",
       "      <td>512.169934</td>\n",
       "      <td>203.0</td>\n",
       "      <td>151.0</td>\n",
       "      <td>152.0</td>\n",
       "      <td>5.413692</td>\n",
       "      <td>89.238236</td>\n",
       "      <td>1576.0</td>\n",
       "      <td>1602.0</td>\n",
       "    </tr>\n",
       "    <tr>\n",
       "      <th>4</th>\n",
       "      <td>2.725274</td>\n",
       "      <td>1.881313</td>\n",
       "      <td>952</td>\n",
       "      <td>3.313074</td>\n",
       "      <td>839.231310</td>\n",
       "      <td>204.0</td>\n",
       "      <td>201.0</td>\n",
       "      <td>154.0</td>\n",
       "      <td>11.273392</td>\n",
       "      <td>99.109917</td>\n",
       "      <td>1543.0</td>\n",
       "      <td>1596.0</td>\n",
       "    </tr>\n",
       "  </tbody>\n",
       "</table>\n",
       "</div>"
      ],
      "text/plain": [
       "   active power  reactive power  duration  apparent power      energy  \\\n",
       "0      2.139408        1.453357       811        2.588349  481.760005   \n",
       "1      4.063641        2.937457       655        5.019223  722.837668   \n",
       "2      2.706489        2.056992       741        3.400038  683.455597   \n",
       "3      2.252950        1.687991       869        2.816980  512.169934   \n",
       "4      2.725274        1.881313       952        3.313074  839.231310   \n",
       "\n",
       "   Bulk 12  Bulk 14  Bulk 15        gas     Wire 1    temp  target temp  \n",
       "0    206.0    149.0    154.0  12.555561  96.052315  1581.0       1602.0  \n",
       "1    205.0    152.0    153.0  28.554793  91.160157  1596.0       1599.0  \n",
       "2    207.0    153.0    154.0  18.841219  89.063515  1601.0       1625.0  \n",
       "3    203.0    151.0    152.0   5.413692  89.238236  1576.0       1602.0  \n",
       "4    204.0    201.0    154.0  11.273392  99.109917  1543.0       1596.0  "
      ]
     },
     "execution_count": 48,
     "metadata": {},
     "output_type": "execute_result"
    }
   ],
   "source": [
    "display(df_general.info())\n",
    "df_general.head()"
   ]
  },
  {
   "cell_type": "markdown",
   "id": "c8320c41-0955-4756-8087-f0b8ac2d8748",
   "metadata": {},
   "source": [
    "## Исследуем полученный датафрейм"
   ]
  },
  {
   "cell_type": "markdown",
   "id": "964d4953-e5f4-4a0a-9a98-8e92adaceffd",
   "metadata": {},
   "source": [
    "### Мощности"
   ]
  },
  {
   "cell_type": "code",
   "execution_count": 49,
   "id": "b10458ee-9a54-4ccf-afb8-dad37af4bf6c",
   "metadata": {},
   "outputs": [
    {
     "data": {
      "image/png": "[encoded data removed]",
      "text/plain": [
       "<Figure size 648x144 with 1 Axes>"
      ]
     },
     "metadata": {},
     "output_type": "display_data"
    }
   ],
   "source": [
    "plt.figure(figsize=(9, 2))\n",
    "fig = sns.histplot(df_general['active power'], \n",
    "                   label='active', element=\"step\")\n",
    "fig = sns.histplot(df_general['reactive power'], \n",
    "                   label='reactive', alpha=0.6)\n",
    "fig = sns.histplot(df_general['apparent power'], \n",
    "                   label='apparent', element=\"step\", alpha=0.3)\n",
    "plt.ylabel('кол-во')\n",
    "plt.xlabel('')\n",
    "plt.xlim(0, 15)\n",
    "plt.title('Распределение мощностей')\n",
    "plt.legend(title='Power')\n",
    "plt.show()"
   ]
  },
  {
   "cell_type": "markdown",
   "id": "66d48bf8-e27f-439c-b5f5-2e3d6912ca73",
   "metadata": {},
   "source": [
    "### Длительность и энергия нагрева"
   ]
  },
  {
   "cell_type": "code",
   "execution_count": 50,
   "id": "06e347d8-b102-4151-a537-f42f50fdd9ff",
   "metadata": {},
   "outputs": [
    {
     "data": {
      "image/png": "[encoded data removed]",
      "text/plain": [
       "<Figure size 648x144 with 1 Axes>"
      ]
     },
     "metadata": {},
     "output_type": "display_data"
    }
   ],
   "source": [
    "plt.figure(figsize=(9, 2))\n",
    "fig = sns.histplot(df_general['energy'], \n",
    "                   label='energy', alpha=0.7)\n",
    "fig = sns.histplot(df_general['duration'], \n",
    "                   label='duration', element=\"step\", alpha=0.3)\n",
    "plt.ylabel('кол-во')\n",
    "plt.xlabel('')\n",
    "plt.xlim(0, 3000)\n",
    "plt.title('Распределение duration и energy')\n",
    "plt.legend()\n",
    "plt.show()"
   ]
  },
  {
   "cell_type": "markdown",
   "id": "7e676217-eb31-4bc1-895f-85a35a8928a6",
   "metadata": {},
   "source": [
    "### Сыпучие материалы"
   ]
  },
  {
   "cell_type": "code",
   "execution_count": 51,
   "id": "bf5c97ea-0bbe-4525-a5c8-2cd95cdac7d7",
   "metadata": {},
   "outputs": [
    {
     "data": {
      "image/png": "[encoded data removed]",
      "text/plain": [
       "<Figure size 648x144 with 1 Axes>"
      ]
     },
     "metadata": {},
     "output_type": "display_data"
    }
   ],
   "source": [
    "plt.figure(figsize=(9, 2))\n",
    "fig = sns.kdeplot(df_general['Bulk 12'], label='Bulk 12')\n",
    "fig = sns.kdeplot(df_general['Bulk 14'], label='Bulk 14')\n",
    "fig = sns.kdeplot(df_general['Bulk 15'], label='Bulk 15')\n",
    "plt.yticks([])\n",
    "plt.ylabel('плотность')\n",
    "plt.xlabel('')\n",
    "plt.xlim(0, 700)\n",
    "plt.title('Распределение сыпучих материалов')\n",
    "plt.legend()\n",
    "plt.show()"
   ]
  },
  {
   "cell_type": "markdown",
   "id": "9975344f-bf39-404b-bbd1-a099b8a3e6ee",
   "metadata": {},
   "source": [
    "### Газ и проволочные материалы"
   ]
  },
  {
   "cell_type": "code",
   "execution_count": 52,
   "id": "d0e89e28-13c9-4b3a-8961-9408576cc7ff",
   "metadata": {},
   "outputs": [
    {
     "data": {
      "image/png": "[encoded data removed]",
      "text/plain": [
       "<Figure size 648x72 with 1 Axes>"
      ]
     },
     "metadata": {},
     "output_type": "display_data"
    },
    {
     "data": {
      "image/png": "[encoded data removed]",
      "text/plain": [
       "<Figure size 648x72 with 1 Axes>"
      ]
     },
     "metadata": {},
     "output_type": "display_data"
    }
   ],
   "source": [
    "plt.figure(figsize=(9, 1))\n",
    "fig = sns.histplot(df_general['gas'])\n",
    "plt.yticks([])\n",
    "plt.ylabel('кол-во')\n",
    "plt.xlabel('')\n",
    "plt.title('Распределение признака gas')\n",
    "plt.show()\n",
    "plt.figure(figsize=(9, 1))\n",
    "fig = sns.histplot(df_general['Wire 1'])\n",
    "plt.yticks([])\n",
    "plt.ylabel('кол-во')\n",
    "plt.xlabel('')\n",
    "plt.title('Распределение признака wire 1')\n",
    "plt.show()"
   ]
  },
  {
   "cell_type": "markdown",
   "id": "a3b048e3-e129-496a-8709-d8ea2b735758",
   "metadata": {},
   "source": [
    "### Температура первого нагрева и температура таргет"
   ]
  },
  {
   "cell_type": "code",
   "execution_count": 53,
   "id": "180f64dc-3cdf-4463-964e-46b88c4d4d4e",
   "metadata": {},
   "outputs": [
    {
     "data": {
      "image/png": "[encoded data removed]",
      "text/plain": [
       "<Figure size 648x144 with 1 Axes>"
      ]
     },
     "metadata": {},
     "output_type": "display_data"
    }
   ],
   "source": [
    "plt.figure(figsize=(9, 2))\n",
    "fig = sns.kdeplot(df_general['temp'], label='temp признак')\n",
    "fig = sns.kdeplot(df_general['target temp'], label='temp таргет')\n",
    "plt.yticks([])\n",
    "plt.ylabel('плотность')\n",
    "plt.xlabel('')\n",
    "plt.title('Распределение температур')\n",
    "plt.legend()\n",
    "plt.show()"
   ]
  },
  {
   "cell_type": "markdown",
   "id": "4c30802a-54c5-46ef-a646-febf76431c9c",
   "metadata": {},
   "source": [
    "### Матрица корреляций"
   ]
  },
  {
   "cell_type": "code",
   "execution_count": 54,
   "id": "773e7ad9-e93d-462a-9f44-ae26074317b6",
   "metadata": {},
   "outputs": [
    {
     "data": {
      "image/png": "[encoded data removed]",
      "text/plain": [
       "<Figure size 720x360 with 1 Axes>"
      ]
     },
     "metadata": {},
     "output_type": "display_data"
    }
   ],
   "source": [
    "xlabels = ['a_pwr', 'r_pwr', 'durtn', 'app_pwr', 'energy', 'Bulk 12', \n",
    "           'Bulk 14', 'Bulk 15', 'gas', 'Wire 1', 'temp', 'target_tmp']\n",
    "plt.figure(figsize=(10, 5))\n",
    "sns.heatmap(df_general.corr().abs()*100, annot=True, fmt='3.0f', \n",
    "            cmap='coolwarm', cbar=False, linewidths=0.5, \n",
    "            xticklabels=xlabels)\n",
    "plt.xticks(rotation=0)\n",
    "plt.title('Матрица корреляций')\n",
    "plt.show()"
   ]
  },
  {
   "cell_type": "markdown",
   "id": "bcd7df0f-f21f-4708-92f4-03f6dc33c77d",
   "metadata": {},
   "source": [
    "Видно, что мощности, длительность и энергия нагрева сильно коррелируют между собой. При обучении линейных моделей уберем часть признаков.  \n",
    "А также видно, что у температуры, которую нам нужно предсказать нет сильной линейной корреляции ни с одним из признаков"
   ]
  },
  {
   "cell_type": "markdown",
   "id": "62a91fc5-3cf2-40bb-a203-f5e76349fd3e",
   "metadata": {},
   "source": [
    "# Отбор и обучение моделей"
   ]
  },
  {
   "cell_type": "markdown",
   "id": "2ced61b1-0d56-48cc-b879-55bb6f41bb86",
   "metadata": {},
   "source": [
    "Подготовим выборки для обучения и теста  \n",
    "Для линейных моделей выборка для обучения будет без сильно коррелирующих признаков"
   ]
  },
  {
   "cell_type": "code",
   "execution_count": 55,
   "id": "001b0df4-ea18-4bf8-b62f-d51bed88c6ab",
   "metadata": {
    "tags": []
   },
   "outputs": [
    {
     "name": "stdout",
     "output_type": "stream",
     "text": [
      "Train size: (1743, 11)\n",
      "Test size: (581, 11)\n"
     ]
    }
   ],
   "source": [
    "X = df_general.drop('target temp', axis=1)\n",
    "y = df_general['target temp']\n",
    "X_train, X_test, y_train, y_test = train_test_split(\n",
    "    X, y, test_size=0.25, random_state=RANDOM_STATE)\n",
    "\n",
    "X_train_lin = X_train.drop(\n",
    "    ['reactive power', 'apparent power', 'energy'], axis=1)\n",
    "X_test_lin = X_test.drop(\n",
    "    ['reactive power', 'apparent power', 'energy'], axis=1)\n",
    "print('Train size:', X_train.shape)\n",
    "print('Test size:', X_test.shape)"
   ]
  },
  {
   "cell_type": "markdown",
   "id": "c223d1d3-41b7-43ba-b8b5-f2b026842228",
   "metadata": {},
   "source": [
    "Попробуем 2 линейные модели с регуляризацией Lasso и ElasticNet  \n",
    "А также модель с использованием градиентного бустинга деревьев"
   ]
  },
  {
   "cell_type": "markdown",
   "id": "e0453d54-6dc3-4249-b728-5bfdf2edfd27",
   "metadata": {},
   "source": [
    "## Lasso"
   ]
  },
  {
   "cell_type": "markdown",
   "id": "d7a12783-7f50-4601-9cd0-c9216411f413",
   "metadata": {},
   "source": [
    "Для линейных моделей нужно сначала масштабировать признаки. Для удобства, будем использовать pipeline"
   ]
  },
  {
   "cell_type": "code",
   "execution_count": 56,
   "id": "e6e43cda-1a45-4415-a353-8b681893023d",
   "metadata": {},
   "outputs": [
    {
     "name": "stdout",
     "output_type": "stream",
     "text": [
      "Best MAE: 6.77\n",
      "Hyperparams:\n"
     ]
    },
    {
     "data": {
      "text/plain": [
       "{'lasso__alpha': 0.12328467394420659}"
      ]
     },
     "execution_count": 56,
     "metadata": {},
     "output_type": "execute_result"
    }
   ],
   "source": [
    "model = Lasso()\n",
    "scaler = StandardScaler()\n",
    "pipe = make_pipeline(scaler, model)\n",
    "params = {\n",
    "    'lasso__alpha':np.logspace(-2, 1, 100)}\n",
    "search = GridSearchCV(\n",
    "    pipe, params, scoring='neg_mean_absolute_error', n_jobs=5)\n",
    "search.fit(X_train_lin, y_train)\n",
    "best_score = np.abs(search.best_score_)\n",
    "print('Best MAE:', '{:.2f}'.format(best_score))\n",
    "print('Hyperparams:')\n",
    "search.best_params_"
   ]
  },
  {
   "cell_type": "markdown",
   "id": "f445828f-152b-4a0b-a5e9-fde6ee35f035",
   "metadata": {
    "tags": []
   },
   "source": [
    "## ElasticNet"
   ]
  },
  {
   "cell_type": "code",
   "execution_count": 57,
   "id": "924928e1-af77-4e76-be63-b71c3138559d",
   "metadata": {},
   "outputs": [
    {
     "name": "stdout",
     "output_type": "stream",
     "text": [
      "Best MAE: 6.77\n",
      "Hyperparams:\n"
     ]
    },
    {
     "data": {
      "text/plain": [
       "{'elasticnet__alpha': 0.1, 'elasticnet__l1_ratio': 1.0}"
      ]
     },
     "execution_count": 57,
     "metadata": {},
     "output_type": "execute_result"
    }
   ],
   "source": [
    "model = ElasticNet()\n",
    "scaler = StandardScaler()\n",
    "pipe = make_pipeline(scaler, model)\n",
    "params = {\n",
    "    'elasticnet__alpha':np.logspace(-2, 1, 10), \n",
    "    'elasticnet__l1_ratio':np.linspace(0.01, 1, 10)}\n",
    "search = GridSearchCV(\n",
    "    pipe, params, scoring='neg_mean_absolute_error', n_jobs=5)\n",
    "search.fit(X_train_lin, y_train)\n",
    "best_score = np.abs(search.best_score_)\n",
    "print('Best MAE:', '{:.2f}'.format(best_score))\n",
    "print('Hyperparams:')\n",
    "search.best_params_"
   ]
  },
  {
   "cell_type": "markdown",
   "id": "a2b50945-ae6b-4a5c-a6ae-e1e5a4729455",
   "metadata": {
    "tags": []
   },
   "source": [
    "## LGBMRegressor"
   ]
  },
  {
   "cell_type": "code",
   "execution_count": 58,
   "id": "84b025eb-07c5-4e5f-a888-bc6dbffd2b3e",
   "metadata": {
    "scrolled": true
   },
   "outputs": [
    {
     "name": "stdout",
     "output_type": "stream",
     "text": [
      "Best MAE: 6.66\n",
      "Hyperparams:\n"
     ]
    },
    {
     "data": {
      "text/plain": [
       "{'max_depth': 4, 'n_estimators': 72}"
      ]
     },
     "execution_count": 58,
     "metadata": {},
     "output_type": "execute_result"
    }
   ],
   "source": [
    "model = LGBMRegressor(random_state=RANDOM_STATE, verbose=-1)\n",
    "params = {\n",
    "    'max_depth':range(3, 7), \n",
    "    'n_estimators':np.linspace(50, 150, 10, dtype='int')}\n",
    "search = GridSearchCV(\n",
    "    model, params, scoring='neg_mean_absolute_error', n_jobs=5)\n",
    "search.fit(X_train, y_train)\n",
    "best_score = np.abs(search.best_score_)\n",
    "print('Best MAE:', '{:.2f}'.format(best_score))\n",
    "print('Hyperparams:')\n",
    "search.best_params_"
   ]
  },
  {
   "cell_type": "markdown",
   "id": "f85e93d3-6b6a-430b-b8f1-44c859d3bfc8",
   "metadata": {},
   "source": [
    "Лучший результат показала модель с использованием градиентного бустинга, ее и будем использовать на финальном тестировании"
   ]
  },
  {
   "cell_type": "markdown",
   "id": "6a71c3e7-af8d-4ac1-83ab-af4619b02631",
   "metadata": {},
   "source": [
    "---"
   ]
  },
  {
   "cell_type": "markdown",
   "id": "9e33d485-b7db-4972-89e7-4256dacd6499",
   "metadata": {},
   "source": [
    "Посмотрим, важность признаков для лучшей модели, LGBMRegressor  \n",
    "`importance` - сколько раз модель использовала признак"
   ]
  },
  {
   "cell_type": "code",
   "execution_count": 59,
   "id": "37386a03-ef3a-4595-b4aa-8d3f16960c01",
   "metadata": {},
   "outputs": [
    {
     "data": {
      "image/png": "[encoded data removed]",
      "text/plain": [
       "<Figure size 432x288 with 1 Axes>"
      ]
     },
     "metadata": {},
     "output_type": "display_data"
    }
   ],
   "source": [
    "best_estimator = search.best_estimator_\n",
    "importance = best_estimator.feature_importances_\n",
    "features_name = df_general.columns[:-1]\n",
    "df_features_importance = pd.DataFrame(\n",
    "    {'feature':features_name, \n",
    "     'importance':importance})\n",
    "df_features_importance.sort_values('importance', ascending=False, inplace=True)\n",
    "sns.barplot(data=df_features_importance, x='importance', y='feature', orient='h')\n",
    "plt.xlabel('признак')\n",
    "plt.ylabel('важность')\n",
    "plt.title('Важность признаков для модели LGBMRegressor')\n",
    "plt.show()"
   ]
  },
  {
   "cell_type": "markdown",
   "id": "20ca1aee-613f-4c50-aeef-c3048b4fea7a",
   "metadata": {},
   "source": [
    "## Тестирование модели"
   ]
  },
  {
   "cell_type": "markdown",
   "id": "30ff6de5-0447-41f1-aed7-4c7adc1aafd6",
   "metadata": {},
   "source": [
    "Протестируем модель на test выборке"
   ]
  },
  {
   "cell_type": "code",
   "execution_count": 60,
   "id": "9d6fc0f6-60cd-48e4-8d05-cab203f9b1c8",
   "metadata": {},
   "outputs": [
    {
     "name": "stdout",
     "output_type": "stream",
     "text": [
      "Test MAE: 6.59\n"
     ]
    }
   ],
   "source": [
    "model = best_estimator\n",
    "model.fit(X_train, y_train)\n",
    "y_pred = model.predict(X_test)\n",
    "test_score = mean_absolute_error(y_test, y_pred)\n",
    "print('Test MAE:', '{:.2f}'.format(test_score))"
   ]
  },
  {
   "cell_type": "markdown",
   "id": "d93ea52e-801c-4701-97f6-69854fbe5ccc",
   "metadata": {},
   "source": [
    "Сравним результат с константной моделью"
   ]
  },
  {
   "cell_type": "code",
   "execution_count": 61,
   "id": "6f57ca66-89b1-4e99-9a29-20e8cf9f3f6a",
   "metadata": {},
   "outputs": [
    {
     "name": "stdout",
     "output_type": "stream",
     "text": [
      "Dummy MAE: 8.15\n"
     ]
    }
   ],
   "source": [
    "dummy_reg = DummyRegressor()\n",
    "y_dummy = dummy_reg.fit(X_train, y_train).predict(X_test)\n",
    "dummy_score = mean_absolute_error(y_test, y_dummy)\n",
    "print('Dummy MAE:', '{:.2f}'.format(dummy_score))"
   ]
  },
  {
   "cell_type": "markdown",
   "id": "4f5ca89f-d695-4c52-b44d-47bc2a2485c4",
   "metadata": {},
   "source": [
    "При выборе модели **LGBMRegressor** получили на тестовой выборке **MAE 6.59**  \n",
    "Результат константной модели - 8.15"
   ]
  },
  {
   "cell_type": "markdown",
   "id": "fba39389-00a2-4029-acd8-a446d734d583",
   "metadata": {},
   "source": [
    "---\n",
    "**Подытог**  \n",
    "После предобработки данных у нас осталось 2324 объекта, из которых на обучение пошло 1743.  \n",
    "Из 2-х линейных моделей с регуляризацией Lasso и ElasticNet, а также модели LGBMRegressor наилучшую метрику MAE при кросс-валидации(5 фолдов) показала послденяя модель(результат MAE 6.66)  \n",
    "На тестовой выборке лучшая модель показала результат **MAE 6.59**  \n",
    "Результат константной модели - 8.15"
   ]
  },
  {
   "cell_type": "markdown",
   "id": "e24ab946-2f6a-407c-b9a5-f37cd86bf8be",
   "metadata": {},
   "source": [
    "## Отчет"
   ]
  },
  {
   "cell_type": "markdown",
   "id": "a25f1ecd-ea30-4758-aa78-bf797d6daff4",
   "metadata": {
    "jp-MarkdownHeadingCollapsed": true
   },
   "source": [
    "Требовалось решить задачу регрессии: создать модель прогнозирования температуры сплава стали на последней итерации цикла плавки.  \n",
    "Исходные данные - техническая информация для чуть более 3000 циклов плавки.  \n",
    "Метрика качества - MAE. Она должна быть не выше 6.8.  \n",
    "\n",
    "**План и решение**  \n",
    "Работу получилось выполнить почти в соответсвии с намеченным планом. Единственным отклонением было решение не удалять выбросы из итогового датасета(по согласованию с тимлидом)\n",
    "\n",
    "1. Загрузка данных\n",
    "2. Исследуем каждый датасет\n",
    "    * Общая информация\n",
    "    * Описательные статистики\n",
    "    * Распределение признаков\n",
    "3. Предобработка\n",
    "    * Убираем из датасетов аномалии\n",
    "    * Заполняем пропуски нулями\n",
    "    * Генерируем новые признаки\n",
    "    * Получаем температуру-признак и температуру-таргет\n",
    "    * Объединяем датасеты в один датафрейм\n",
    "    * Исследуем итоговый датафрейм(корреляция признаков)\n",
    "4. Выбор и проверка моделей\n",
    "    * Выбираем несколько моделей для изучения\n",
    "    * Если нужно масштабировать данные, делаем pipeline\n",
    "    * Подбираем гиперпараметры(gridsearch)\n",
    "    * Если подбирать гиперпараметры не нужно, используем cross_val_score\n",
    "    * Отбираем лучшую модель (лучший средний результат на кросс-валидации)\n",
    "    * Исследуем важность признаков\n",
    "5. Тестируем итоговую модель\n",
    "    * Тестируем лучшую модель на test выборке\n",
    "    * Сравниваем модель с константной\n",
    "---  \n",
    "\n",
    "**Трудности проекта**  \n",
    "Главной трудностью проекта была правильная предобработка данных и отбор признака для обучения.  \n",
    "Отбор признаков был сделан на основе анализа пропущенных значений, а также матрицы корреляций.  \n",
    "Помощь с правильной предобработкой данных была получена от тимлида.  \n",
    "\n",
    "\n",
    "**Подготовка данных**  \n",
    "Из всех датафреймов `data_arc` и `data_temp` были удалены аномалии. Были сгенерированны новые признаки(длительность и энергия нагрева). В датафреймах `data_arc` и `data_temp` данные для каждого цикла плавки были агрегированы для получения вектора признаков. В датафреймах `data_bulk` и `data_wire` отсутствующие данные были заменены на ноль по информации от заказчика, а также, удалены наименее информативные признаки(нулевых значений > 50%). Из `data_temp` была получена температура нагрева на первой(используется как признак) и последней(используется как таргет) итерации цикла плавки.  \n",
    "При объединении признаков в итоговый датафрейм попадали только те партии(поле `key`), информация о которых была во всех датафреймах одновременно. Это требование заказчика(если на каком-либо этапе нет инормации или она неверна - вся партия считается дефектной).  \n",
    "Также, была изучена матрица корреляции признаков. Между собой ожидаемо сильно коррелируют признаки: активная, реактивная, полная мощности, а также энергия нагрева.  \n",
    "\n",
    "**Отбор и обучение моделей**  \n",
    "Итоговый датафрейм был разделен на выборки для обучения и тестирования в соотношении 75:25.  \n",
    "Были обучены 2 линейные модели с регуляризацией Lasso и ElasticNet, а также модель с использованием градиентного бустинга деревьев LGBMRegressor.  \n",
    "Для линейных моделей использовался pipeline, в котором первым шагом было масштабирование признаков(StandardScaler), а вторым уже обучение модели.  \n",
    "Также, для линеных моделей из выборки для обучения были убраны признаки `reactive power`, `apparent power`и `energy` из-за сильной корреляции.  \n",
    "Для всех трех моделей подбирались оптимальные гиперпараметры(GridSearch) с кросс-валидацией на 5 фолдах.  \n",
    "Lasso и ElasticNet получили результаты MAE **6.77**, а лучшая модель, LGBMRegressor **6.66**. Гиперпараметры лучшей модели: max_depth=3, n_estimators=100, random_state=110923.  \n",
    "Топ 3 важных признака для модели - это *temp*, *duration* и *gas*  \n",
    "\n",
    "**Список признаков для обучения модели**  \n",
    "А весь список признаков для обучения модели с предобработкой выглядел так:\n",
    " * `active power` и `reactive power` получены агрегированием (суммирование внутри одного цикла плавки)  \n",
    "   `apparent powet`, `duration` и `energy` были сгенерированы, плюс агрегирование\n",
    " * `Wire 1`, `Bulk 12`,  `Bulk 14` и `Bulk 14` - пропущенные значения заменены на 0\n",
    " * `Gas` - без изменений\n",
    " * `temp` получена агрегированием (первое вхождение температуры для каждого цикла плавки), убрана аномально низкая температура (<1450)\n",
    "\n",
    "**Итоговая метрика**  \n",
    "На выборке для тестирования лучшая модель(LGBMRegressor, max_depth=4, n_estimators=72, random_state=110923) показала результат **MAE 6.59**, что удовлетворяет требованию заказчика.  \n",
    "Для константной модели метрика MAE составила 8.15. \n",
    "\n",
    "**Как можно улучшить результат?**  \n",
    "Попробовать включать в выборку для обучения различные комбинации признаков из `data_bulk` и `data_wire`, даже те, где большинство значений 0.  \n",
    "И попробовать другие линейные модели, более устойчивые к выбросам"
   ]
  }
 ],
 "metadata": {
  "kernelspec": {
   "display_name": "Python 3 (ipykernel)",
   "language": "python",
   "name": "python3"
  },
  "language_info": {
   "codemirror_mode": {
    "name": "ipython",
    "version": 3
   },
   "file_extension": ".py",
   "mimetype": "text/x-python",
   "name": "python",
   "nbconvert_exporter": "python",
   "pygments_lexer": "ipython3",
   "version": "3.10.12"
  }
 },
 "nbformat": 4,
 "nbformat_minor": 5
}
