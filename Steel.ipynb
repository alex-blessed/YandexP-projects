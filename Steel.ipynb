{
 "cells": [
  {
   "cell_type": "markdown",
   "id": "26f92d37-c833-42a6-84c3-548d53b40876",
   "metadata": {},
   "source": [
    "# Предсказание выходной температуры сплава при плавке стали "
   ]
  },
  {
   "cell_type": "markdown",
   "id": "80972b7b-2ae7-4b4d-a1b2-2d8aed6504cd",
   "metadata": {},
   "source": [
    "Чтобы оптимизировать производственные расходы, металлургический комбинат ООО «Так закаляем сталь» решил уменьшить потребление электроэнергии на этапе обработки стали. Кратко, процесс плавки представляет собой замер температуры, нагревание сплава электродами, добавление примесей, продувка газом и снова замер температуры. Процесс повторяется необходимое количество раз.  \n",
    "\n",
    "**Цель работы:**  \n",
    "Создать модель прогнозирования температуры сплава на последнем цикле плавки. Исходные данные - техническая информация(циклы нагрева и мощность электродов, информация о примесях, продувке газом и пр.) для чуть более 3000 процессов плавки.  \n",
    "Метрика качества - MAE. Она должна быть не выше 6.8.\n",
    "\n",
    "**Ход работы**\n",
    "1. Исследование данных\n",
    "2. Предобработка данных\n",
    "3. Выбор и исследование нескольких моделей машинного обучения\n",
    "4. Тестирование наиболее подходящей модели\n",
    "5. Создание отчета по итогам проведенной работы"
   ]
  },
  {
   "cell_type": "markdown",
   "id": "4e3ce76b-e1f0-4117-9269-5570072ae67b",
   "metadata": {},
   "source": [
    "**-----------PEP----------- не забыть**"
   ]
  },
  {
   "cell_type": "markdown",
   "id": "49ac875f-9f36-4e37-b796-115242ca9a1e",
   "metadata": {},
   "source": [
    "# Исследование данных"
   ]
  },
  {
   "cell_type": "code",
   "execution_count": 1,
   "id": "c4148762-e328-451b-8038-62a89affa28d",
   "metadata": {},
   "outputs": [],
   "source": [
    "import pandas as pd\n",
    "import numpy as np\n",
    "import matplotlib.pyplot as plt\n",
    "import seaborn as sns"
   ]
  },
  {
   "cell_type": "markdown",
   "id": "0d80f1a3-a94e-41e6-bb00-6dee4c4e5f79",
   "metadata": {},
   "source": [
    "Импортируем наши датасеты"
   ]
  },
  {
   "cell_type": "code",
   "execution_count": 3,
   "id": "a1e1a9fd-b9d7-4cfd-8f0e-898d05794e90",
   "metadata": {},
   "outputs": [],
   "source": [
    "try:\n",
    "    data_arc = pd.read_csv('data_arc_new.csv')\n",
    "    data_bulk_time = pd.read_csv('data_bulk_time_new.csv')\n",
    "    data_gas = pd.read_csv('data_gas_new.csv')\n",
    "    data_temp = pd.read_csv('data_temp_new.csv')\n",
    "    data_temp = pd.read_csv('data_temp_new.csv')\n",
    "    data_wire_time = pd.read_csv('data_wire_time_new.csv')\n",
    "\n",
    "except:\n",
    "    data_arc = pd.read_csv('/datasets/data_arc_new.csv')\n",
    "    data_bulk_time = pd.read_csv('/datasets/data_bulk_time_new.csv')\n",
    "    data_gas = pd.read_csv('/datasets/data_gas_new.csv')\n",
    "    data_temp = pd.read_csv('/datasets/data_temp_new.csv')\n",
    "    data_temp = pd.read_csv('/datasets/data_temp_new.csv')\n",
    "    data_wire_time = pd.read_csv('/datasets/data_wire_time_new.csv')"
   ]
  },
  {
   "cell_type": "markdown",
   "id": "d0c8e1f5-d13d-4726-a8b4-85f43afed0fa",
   "metadata": {},
   "source": [
    "Так как работаем мы с несколькими датасетами сразу, исследуем их по очереди, чтобы не запутаться"
   ]
  },
  {
   "cell_type": "markdown",
   "id": "fbec8426-c29c-4aa7-80e5-08df10ecde80",
   "metadata": {},
   "source": [
    "## Data_arc"
   ]
  },
  {
   "cell_type": "markdown",
   "id": "9036e784-e075-49f1-b7e8-660061ec18b8",
   "metadata": {},
   "source": [
    "`data_arc` - это датасет с данными об электродах, которые опускают в ковш, для плавки находящегося в нем стального сплава"
   ]
  },
  {
   "cell_type": "markdown",
   "id": "d340e9d3-abb6-4f43-98fa-869cf7dff588",
   "metadata": {},
   "source": [
    "### Общая информация о датасете"
   ]
  },
  {
   "cell_type": "code",
   "execution_count": 4,
   "id": "af382176-9069-416a-a2a7-14d34fe38faf",
   "metadata": {},
   "outputs": [
    {
     "name": "stdout",
     "output_type": "stream",
     "text": [
      "<class 'pandas.core.frame.DataFrame'>\n",
      "RangeIndex: 14876 entries, 0 to 14875\n",
      "Data columns (total 5 columns):\n",
      " #   Column                Non-Null Count  Dtype  \n",
      "---  ------                --------------  -----  \n",
      " 0   key                   14876 non-null  int64  \n",
      " 1   Начало нагрева дугой  14876 non-null  object \n",
      " 2   Конец нагрева дугой   14876 non-null  object \n",
      " 3   Активная мощность     14876 non-null  float64\n",
      " 4   Реактивная мощность   14876 non-null  float64\n",
      "dtypes: float64(2), int64(1), object(2)\n",
      "memory usage: 581.2+ KB\n"
     ]
    }
   ],
   "source": [
    "data_arc.info()"
   ]
  },
  {
   "cell_type": "code",
   "execution_count": 7,
   "id": "12518044-358a-4311-842e-747506725d53",
   "metadata": {},
   "outputs": [
    {
     "data": {
      "text/html": [
       "<div>\n",
       "<style scoped>\n",
       "    .dataframe tbody tr th:only-of-type {\n",
       "        vertical-align: middle;\n",
       "    }\n",
       "\n",
       "    .dataframe tbody tr th {\n",
       "        vertical-align: top;\n",
       "    }\n",
       "\n",
       "    .dataframe thead th {\n",
       "        text-align: right;\n",
       "    }\n",
       "</style>\n",
       "<table border=\"1\" class=\"dataframe\">\n",
       "  <thead>\n",
       "    <tr style=\"text-align: right;\">\n",
       "      <th></th>\n",
       "      <th>key</th>\n",
       "      <th>Начало нагрева дугой</th>\n",
       "      <th>Конец нагрева дугой</th>\n",
       "      <th>Активная мощность</th>\n",
       "      <th>Реактивная мощность</th>\n",
       "    </tr>\n",
       "  </thead>\n",
       "  <tbody>\n",
       "    <tr>\n",
       "      <th>0</th>\n",
       "      <td>1</td>\n",
       "      <td>2019-05-03 11:02:14</td>\n",
       "      <td>2019-05-03 11:06:02</td>\n",
       "      <td>0.305130</td>\n",
       "      <td>0.211253</td>\n",
       "    </tr>\n",
       "    <tr>\n",
       "      <th>1</th>\n",
       "      <td>1</td>\n",
       "      <td>2019-05-03 11:07:28</td>\n",
       "      <td>2019-05-03 11:10:33</td>\n",
       "      <td>0.765658</td>\n",
       "      <td>0.477438</td>\n",
       "    </tr>\n",
       "    <tr>\n",
       "      <th>2</th>\n",
       "      <td>1</td>\n",
       "      <td>2019-05-03 11:11:44</td>\n",
       "      <td>2019-05-03 11:14:36</td>\n",
       "      <td>0.580313</td>\n",
       "      <td>0.430460</td>\n",
       "    </tr>\n",
       "    <tr>\n",
       "      <th>3</th>\n",
       "      <td>1</td>\n",
       "      <td>2019-05-03 11:18:14</td>\n",
       "      <td>2019-05-03 11:24:19</td>\n",
       "      <td>0.518496</td>\n",
       "      <td>0.379979</td>\n",
       "    </tr>\n",
       "    <tr>\n",
       "      <th>4</th>\n",
       "      <td>1</td>\n",
       "      <td>2019-05-03 11:26:09</td>\n",
       "      <td>2019-05-03 11:28:37</td>\n",
       "      <td>0.867133</td>\n",
       "      <td>0.643691</td>\n",
       "    </tr>\n",
       "    <tr>\n",
       "      <th>5</th>\n",
       "      <td>2</td>\n",
       "      <td>2019-05-03 11:34:14</td>\n",
       "      <td>2019-05-03 11:36:31</td>\n",
       "      <td>0.381124</td>\n",
       "      <td>0.220351</td>\n",
       "    </tr>\n",
       "    <tr>\n",
       "      <th>6</th>\n",
       "      <td>2</td>\n",
       "      <td>2019-05-03 11:38:50</td>\n",
       "      <td>2019-05-03 11:44:28</td>\n",
       "      <td>0.261665</td>\n",
       "      <td>0.205527</td>\n",
       "    </tr>\n",
       "    <tr>\n",
       "      <th>7</th>\n",
       "      <td>2</td>\n",
       "      <td>2019-05-03 11:46:19</td>\n",
       "      <td>2019-05-03 11:48:25</td>\n",
       "      <td>0.710297</td>\n",
       "      <td>0.484962</td>\n",
       "    </tr>\n",
       "    <tr>\n",
       "      <th>8</th>\n",
       "      <td>2</td>\n",
       "      <td>2019-05-03 11:49:48</td>\n",
       "      <td>2019-05-03 11:53:18</td>\n",
       "      <td>0.786322</td>\n",
       "      <td>0.542517</td>\n",
       "    </tr>\n",
       "    <tr>\n",
       "      <th>9</th>\n",
       "      <td>3</td>\n",
       "      <td>2019-05-03 12:06:54</td>\n",
       "      <td>2019-05-03 12:11:34</td>\n",
       "      <td>1.101678</td>\n",
       "      <td>0.820856</td>\n",
       "    </tr>\n",
       "  </tbody>\n",
       "</table>\n",
       "</div>"
      ],
      "text/plain": [
       "   key Начало нагрева дугой  Конец нагрева дугой  Активная мощность  \\\n",
       "0    1  2019-05-03 11:02:14  2019-05-03 11:06:02           0.305130   \n",
       "1    1  2019-05-03 11:07:28  2019-05-03 11:10:33           0.765658   \n",
       "2    1  2019-05-03 11:11:44  2019-05-03 11:14:36           0.580313   \n",
       "3    1  2019-05-03 11:18:14  2019-05-03 11:24:19           0.518496   \n",
       "4    1  2019-05-03 11:26:09  2019-05-03 11:28:37           0.867133   \n",
       "5    2  2019-05-03 11:34:14  2019-05-03 11:36:31           0.381124   \n",
       "6    2  2019-05-03 11:38:50  2019-05-03 11:44:28           0.261665   \n",
       "7    2  2019-05-03 11:46:19  2019-05-03 11:48:25           0.710297   \n",
       "8    2  2019-05-03 11:49:48  2019-05-03 11:53:18           0.786322   \n",
       "9    3  2019-05-03 12:06:54  2019-05-03 12:11:34           1.101678   \n",
       "\n",
       "   Реактивная мощность  \n",
       "0             0.211253  \n",
       "1             0.477438  \n",
       "2             0.430460  \n",
       "3             0.379979  \n",
       "4             0.643691  \n",
       "5             0.220351  \n",
       "6             0.205527  \n",
       "7             0.484962  \n",
       "8             0.542517  \n",
       "9             0.820856  "
      ]
     },
     "execution_count": 7,
     "metadata": {},
     "output_type": "execute_result"
    }
   ],
   "source": [
    "data_arc.head(10)"
   ]
  },
  {
   "cell_type": "code",
   "execution_count": 8,
   "id": "3cb10400-7d34-42cf-9f88-f0613a9f5dcb",
   "metadata": {},
   "outputs": [
    {
     "data": {
      "text/html": [
       "<div>\n",
       "<style scoped>\n",
       "    .dataframe tbody tr th:only-of-type {\n",
       "        vertical-align: middle;\n",
       "    }\n",
       "\n",
       "    .dataframe tbody tr th {\n",
       "        vertical-align: top;\n",
       "    }\n",
       "\n",
       "    .dataframe thead th {\n",
       "        text-align: right;\n",
       "    }\n",
       "</style>\n",
       "<table border=\"1\" class=\"dataframe\">\n",
       "  <thead>\n",
       "    <tr style=\"text-align: right;\">\n",
       "      <th></th>\n",
       "      <th>key</th>\n",
       "      <th>Активная мощность</th>\n",
       "      <th>Реактивная мощность</th>\n",
       "    </tr>\n",
       "  </thead>\n",
       "  <tbody>\n",
       "    <tr>\n",
       "      <th>count</th>\n",
       "      <td>14876.000000</td>\n",
       "      <td>14876.000000</td>\n",
       "      <td>14876.000000</td>\n",
       "    </tr>\n",
       "    <tr>\n",
       "      <th>mean</th>\n",
       "      <td>1615.220422</td>\n",
       "      <td>0.662752</td>\n",
       "      <td>0.438986</td>\n",
       "    </tr>\n",
       "    <tr>\n",
       "      <th>std</th>\n",
       "      <td>934.571502</td>\n",
       "      <td>0.258885</td>\n",
       "      <td>5.873485</td>\n",
       "    </tr>\n",
       "    <tr>\n",
       "      <th>min</th>\n",
       "      <td>1.000000</td>\n",
       "      <td>0.223120</td>\n",
       "      <td>-715.479924</td>\n",
       "    </tr>\n",
       "    <tr>\n",
       "      <th>25%</th>\n",
       "      <td>806.000000</td>\n",
       "      <td>0.467115</td>\n",
       "      <td>0.337175</td>\n",
       "    </tr>\n",
       "    <tr>\n",
       "      <th>50%</th>\n",
       "      <td>1617.000000</td>\n",
       "      <td>0.599587</td>\n",
       "      <td>0.441639</td>\n",
       "    </tr>\n",
       "    <tr>\n",
       "      <th>75%</th>\n",
       "      <td>2429.000000</td>\n",
       "      <td>0.830070</td>\n",
       "      <td>0.608201</td>\n",
       "    </tr>\n",
       "    <tr>\n",
       "      <th>max</th>\n",
       "      <td>3241.000000</td>\n",
       "      <td>1.463773</td>\n",
       "      <td>1.270284</td>\n",
       "    </tr>\n",
       "  </tbody>\n",
       "</table>\n",
       "</div>"
      ],
      "text/plain": [
       "                key  Активная мощность  Реактивная мощность\n",
       "count  14876.000000       14876.000000         14876.000000\n",
       "mean    1615.220422           0.662752             0.438986\n",
       "std      934.571502           0.258885             5.873485\n",
       "min        1.000000           0.223120          -715.479924\n",
       "25%      806.000000           0.467115             0.337175\n",
       "50%     1617.000000           0.599587             0.441639\n",
       "75%     2429.000000           0.830070             0.608201\n",
       "max     3241.000000           1.463773             1.270284"
      ]
     },
     "execution_count": 8,
     "metadata": {},
     "output_type": "execute_result"
    }
   ],
   "source": [
    "data_arc.describe()"
   ]
  },
  {
   "cell_type": "markdown",
   "id": "c73db07f-74a0-489e-8315-973151fe3a1c",
   "metadata": {},
   "source": [
    "---\n",
    "Явные пропуски в датасете отсутсвуют, во всех колонках 14876 значений.  \n",
    "`key` - это номер партии. Если есть несколько строк с одинаковым значением key, то это разные циклы обработки.  \n",
    "Если смотреть на описательные статистики, то сразу заметно отрицательное значение в поле `Реактивная мощность`. Дальше, как раз взглянем на столбцы с мощностью подробнее.  \n",
    "Также, на этапе предобработке можно будет сгенерировать новые признаки: длительность(разница конца и начала нагрева) и полную мощность(по формуле)."
   ]
  },
  {
   "cell_type": "markdown",
   "id": "18486041-b28c-41cf-96f2-d48b9ac47b1a",
   "metadata": {},
   "source": [
    "### Смотрим признаки"
   ]
  },
  {
   "cell_type": "markdown",
   "id": "8679a235-fc5d-4fbd-b42f-d7012f05e45b",
   "metadata": {},
   "source": [
    "**Активная мощность**"
   ]
  },
  {
   "cell_type": "code",
   "execution_count": 32,
   "id": "853b8892-f8c3-4f6b-83cd-c3d693f74d26",
   "metadata": {},
   "outputs": [
    {
     "data": {
      "image/png": "[encoded data removed]",
      "text/plain": [
       "<Figure size 900x400 with 2 Axes>"
      ]
     },
     "metadata": {},
     "output_type": "display_data"
    }
   ],
   "source": [
    "sns.set_theme()\n",
    "fig, axes = plt.subplots(2, sharex=True, gridspec_kw={'height_ratios': [3, 1]}, figsize=(9, 4))\n",
    "sns.histplot(data_arc['Активная мощность'], ax=axes[0])\n",
    "sns.boxplot(data_arc['Активная мощность'], orient='h', ax=axes[1])\n",
    "axes[0].set(title='Распределение признака \"Активная мощность\"')\n",
    "axes[0].set(ylabel='кол-во')\n",
    "axes[1].set(xlabel='значения')\n",
    "plt.tight_layout()"
   ]
  },
  {
   "cell_type": "markdown",
   "id": "b8c38f11-88d1-4c8b-88ba-24c7b7fffff9",
   "metadata": {},
   "source": [
    "Распределение похоже на нормальное, со смещением вправо. Аномалий или аномальных пиков на графиике нет.  \n",
    "На диаграмме размаха есть значения, которые можно посчитать выбросами. Но точно сказать, выбросы это или технологическая норма нельзя, да и находятся они не так уж и далеко от границы \"уса\". Поэтому, будем считать их нормой"
   ]
  },
  {
   "cell_type": "markdown",
   "id": "476ffff3-09db-4f3e-ad77-54160342eb5a",
   "metadata": {},
   "source": [
    "**Реактивная мощность**"
   ]
  },
  {
   "cell_type": "markdown",
   "id": "740afff2-fb20-423a-ade7-4cbd52eb97cb",
   "metadata": {},
   "source": [
    "Чтобы графики сильно не смещались из-за аномальных значений, исследуем их отдельно. В нашем случае, это отрицательные значения"
   ]
  },
  {
   "cell_type": "code",
   "execution_count": 36,
   "id": "e118efd2-4f2b-417a-8f3a-095ed27c8b1f",
   "metadata": {},
   "outputs": [
    {
     "name": "stdout",
     "output_type": "stream",
     "text": [
      "Отрицательных значений: 1\n"
     ]
    }
   ],
   "source": [
    "print('Отрицательных значений:', len(data_arc[data_arc['Реактивная мощность'] < 0]))"
   ]
  },
  {
   "cell_type": "markdown",
   "id": "bf9fd76a-7c03-4ad6-a039-44892af9346a",
   "metadata": {},
   "source": [
    "Отлично, можно смело строить графики без этого выброса"
   ]
  },
  {
   "cell_type": "code",
   "execution_count": 43,
   "id": "89ba4332-f3d1-46f9-a43d-b8331c04b4cb",
   "metadata": {},
   "outputs": [
    {
     "data": {
      "image/png": "[encoded data removed]",
      "text/plain": [
       "<Figure size 900x400 with 2 Axes>"
      ]
     },
     "metadata": {},
     "output_type": "display_data"
    }
   ],
   "source": [
    "#уберем выброс, чтобы графики нормально отображались\n",
    "data_react = data_arc[data_arc['Реактивная мощность'] > 0]\n",
    "\n",
    "fig, axes = plt.subplots(2, sharex=True, gridspec_kw={'height_ratios': [3, 1]}, figsize=(9, 4))\n",
    "sns.histplot(data_react['Реактивная мощность'], ax=axes[0])\n",
    "sns.boxplot(data_react['Реактивная мощность'], orient='h', ax=axes[1])\n",
    "axes[0].set(title='Распределение признака \"Реактивная мощность\"')\n",
    "axes[0].set(ylabel='кол-во')\n",
    "axes[1].set(xlabel='значения')\n",
    "plt.tight_layout()"
   ]
  },
  {
   "cell_type": "markdown",
   "id": "fb3b27fc-97f3-46a4-b1f1-441df826b9e3",
   "metadata": {},
   "source": [
    "Получили распределение, близкое к нормальному со смещением вправо. Выброс всего один - отрицательное значение"
   ]
  },
  {
   "cell_type": "code",
   "execution_count": null,
   "id": "730a5419-1d26-41e3-be2b-f3034f5d01c8",
   "metadata": {},
   "outputs": [],
   "source": []
  }
 ],
 "metadata": {
  "kernelspec": {
   "display_name": "Python 3 (ipykernel)",
   "language": "python",
   "name": "python3"
  },
  "language_info": {
   "codemirror_mode": {
    "name": "ipython",
    "version": 3
   },
   "file_extension": ".py",
   "mimetype": "text/x-python",
   "name": "python",
   "nbconvert_exporter": "python",
   "pygments_lexer": "ipython3",
   "version": "3.10.10"
  }
 },
 "nbformat": 4,
 "nbformat_minor": 5
}
