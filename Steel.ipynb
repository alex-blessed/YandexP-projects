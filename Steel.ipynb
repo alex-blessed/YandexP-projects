{
 "cells": [
  {
   "cell_type": "markdown",
   "id": "26f92d37-c833-42a6-84c3-548d53b40876",
   "metadata": {},
   "source": [
    "# Предсказание выходной температуры сплава при плавке стали "
   ]
  },
  {
   "cell_type": "markdown",
   "id": "80972b7b-2ae7-4b4d-a1b2-2d8aed6504cd",
   "metadata": {},
   "source": [
    "Чтобы оптимизировать производственные расходы, металлургический комбинат ООО «Так закаляем сталь» решил уменьшить потребление электроэнергии на этапе обработки стали. Кратко, процесс плавки представляет собой замер температуры, нагревание сплава электродами, добавление примесей, продувка газом и снова замер температуры. Процесс повторяется необходимое количество раз.  \n",
    "\n",
    "**Цель работы:**  \n",
    "Создать модель прогнозирования температуры сплава на последней итерации цикла плавки (задача регрессии). Исходные данные - техническая информация(циклы нагрева и мощность электродов, информация о примесях, продувке газом и пр.) для чуть более 3000 циклов плавки.  \n",
    "Метрика качества - MAE. Она должна быть не выше 6.8.\n",
    "\n",
    "**Ход работы**\n",
    "1. Исследование данных\n",
    "2. Предобработка данных\n",
    "3. Выбор и исследование нескольких моделей машинного обучения\n",
    "4. Тестирование наиболее подходящей модели\n",
    "5. Создание отчета по итогам проведенной работы"
   ]
  },
  {
   "cell_type": "markdown",
   "id": "4e3ce76b-e1f0-4117-9269-5570072ae67b",
   "metadata": {},
   "source": [
    "**-----------PEP----------- не забыть**"
   ]
  },
  {
   "cell_type": "markdown",
   "id": "49ac875f-9f36-4e37-b796-115242ca9a1e",
   "metadata": {},
   "source": [
    "# Исследование данных"
   ]
  },
  {
   "cell_type": "code",
   "execution_count": 2,
   "id": "c4148762-e328-451b-8038-62a89affa28d",
   "metadata": {},
   "outputs": [],
   "source": [
    "import pandas as pd\n",
    "import numpy as np\n",
    "import matplotlib.pyplot as plt\n",
    "import seaborn as sns"
   ]
  },
  {
   "cell_type": "code",
   "execution_count": 103,
   "id": "62738584-568b-451d-b3b5-4e0dde790e77",
   "metadata": {},
   "outputs": [],
   "source": [
    "RANDOM_STATE = 110923"
   ]
  },
  {
   "cell_type": "markdown",
   "id": "0d80f1a3-a94e-41e6-bb00-6dee4c4e5f79",
   "metadata": {},
   "source": [
    "Импортируем наши датасеты"
   ]
  },
  {
   "cell_type": "code",
   "execution_count": 5,
   "id": "a1e1a9fd-b9d7-4cfd-8f0e-898d05794e90",
   "metadata": {},
   "outputs": [],
   "source": [
    "try:\n",
    "    data_arc = pd.read_csv('data_arc_new.csv')\n",
    "    data_bulk = pd.read_csv('data_bulk_new.csv')\n",
    "    data_bulk_time = pd.read_csv('data_bulk_time_new.csv')\n",
    "    data_gas = pd.read_csv('data_gas_new.csv')\n",
    "    data_temp = pd.read_csv('data_temp_new.csv')\n",
    "    data_wire = pd.read_csv('data_wire_new.csv')\n",
    "    data_wire_time = pd.read_csv('data_wire_time_new.csv')\n",
    "\n",
    "except:\n",
    "    data_arc = pd.read_csv('data_arc_new.csv')\n",
    "    data_bulk = pd.read_csv('data_bulk_new.csv')\n",
    "    data_bulk_time = pd.read_csv('data_bulk_time_new.csv')\n",
    "    data_gas = pd.read_csv('data_gas_new.csv')\n",
    "    data_temp = pd.read_csv('data_temp_new.csv')\n",
    "    data_wire = pd.read_csv('data_wire_new.csv')\n",
    "    data_wire_time = pd.read_csv('data_wire_time_new.csv')"
   ]
  },
  {
   "cell_type": "markdown",
   "id": "d0c8e1f5-d13d-4726-a8b4-85f43afed0fa",
   "metadata": {},
   "source": [
    "Посмотрим на каждый из датасетов"
   ]
  },
  {
   "cell_type": "markdown",
   "id": "fbec8426-c29c-4aa7-80e5-08df10ecde80",
   "metadata": {},
   "source": [
    "## Data_arc"
   ]
  },
  {
   "cell_type": "markdown",
   "id": "9036e784-e075-49f1-b7e8-660061ec18b8",
   "metadata": {},
   "source": [
    "`data_arc` - это датасет с данными об электродах, которые опускают в ковш, для плавки находящегося в нем стального сплава"
   ]
  },
  {
   "cell_type": "markdown",
   "id": "d340e9d3-abb6-4f43-98fa-869cf7dff588",
   "metadata": {},
   "source": [
    "### Общая информация о датасете"
   ]
  },
  {
   "cell_type": "code",
   "execution_count": 4,
   "id": "af382176-9069-416a-a2a7-14d34fe38faf",
   "metadata": {},
   "outputs": [
    {
     "name": "stdout",
     "output_type": "stream",
     "text": [
      "<class 'pandas.core.frame.DataFrame'>\n",
      "RangeIndex: 14876 entries, 0 to 14875\n",
      "Data columns (total 5 columns):\n",
      " #   Column                Non-Null Count  Dtype  \n",
      "---  ------                --------------  -----  \n",
      " 0   key                   14876 non-null  int64  \n",
      " 1   Начало нагрева дугой  14876 non-null  object \n",
      " 2   Конец нагрева дугой   14876 non-null  object \n",
      " 3   Активная мощность     14876 non-null  float64\n",
      " 4   Реактивная мощность   14876 non-null  float64\n",
      "dtypes: float64(2), int64(1), object(2)\n",
      "memory usage: 581.2+ KB\n"
     ]
    }
   ],
   "source": [
    "data_arc.info()"
   ]
  },
  {
   "cell_type": "code",
   "execution_count": 7,
   "id": "12518044-358a-4311-842e-747506725d53",
   "metadata": {},
   "outputs": [
    {
     "data": {
      "text/html": [
       "<div>\n",
       "<style scoped>\n",
       "    .dataframe tbody tr th:only-of-type {\n",
       "        vertical-align: middle;\n",
       "    }\n",
       "\n",
       "    .dataframe tbody tr th {\n",
       "        vertical-align: top;\n",
       "    }\n",
       "\n",
       "    .dataframe thead th {\n",
       "        text-align: right;\n",
       "    }\n",
       "</style>\n",
       "<table border=\"1\" class=\"dataframe\">\n",
       "  <thead>\n",
       "    <tr style=\"text-align: right;\">\n",
       "      <th></th>\n",
       "      <th>key</th>\n",
       "      <th>Начало нагрева дугой</th>\n",
       "      <th>Конец нагрева дугой</th>\n",
       "      <th>Активная мощность</th>\n",
       "      <th>Реактивная мощность</th>\n",
       "    </tr>\n",
       "  </thead>\n",
       "  <tbody>\n",
       "    <tr>\n",
       "      <th>0</th>\n",
       "      <td>1</td>\n",
       "      <td>2019-05-03 11:02:14</td>\n",
       "      <td>2019-05-03 11:06:02</td>\n",
       "      <td>0.305130</td>\n",
       "      <td>0.211253</td>\n",
       "    </tr>\n",
       "    <tr>\n",
       "      <th>1</th>\n",
       "      <td>1</td>\n",
       "      <td>2019-05-03 11:07:28</td>\n",
       "      <td>2019-05-03 11:10:33</td>\n",
       "      <td>0.765658</td>\n",
       "      <td>0.477438</td>\n",
       "    </tr>\n",
       "    <tr>\n",
       "      <th>2</th>\n",
       "      <td>1</td>\n",
       "      <td>2019-05-03 11:11:44</td>\n",
       "      <td>2019-05-03 11:14:36</td>\n",
       "      <td>0.580313</td>\n",
       "      <td>0.430460</td>\n",
       "    </tr>\n",
       "    <tr>\n",
       "      <th>3</th>\n",
       "      <td>1</td>\n",
       "      <td>2019-05-03 11:18:14</td>\n",
       "      <td>2019-05-03 11:24:19</td>\n",
       "      <td>0.518496</td>\n",
       "      <td>0.379979</td>\n",
       "    </tr>\n",
       "    <tr>\n",
       "      <th>4</th>\n",
       "      <td>1</td>\n",
       "      <td>2019-05-03 11:26:09</td>\n",
       "      <td>2019-05-03 11:28:37</td>\n",
       "      <td>0.867133</td>\n",
       "      <td>0.643691</td>\n",
       "    </tr>\n",
       "    <tr>\n",
       "      <th>5</th>\n",
       "      <td>2</td>\n",
       "      <td>2019-05-03 11:34:14</td>\n",
       "      <td>2019-05-03 11:36:31</td>\n",
       "      <td>0.381124</td>\n",
       "      <td>0.220351</td>\n",
       "    </tr>\n",
       "    <tr>\n",
       "      <th>6</th>\n",
       "      <td>2</td>\n",
       "      <td>2019-05-03 11:38:50</td>\n",
       "      <td>2019-05-03 11:44:28</td>\n",
       "      <td>0.261665</td>\n",
       "      <td>0.205527</td>\n",
       "    </tr>\n",
       "    <tr>\n",
       "      <th>7</th>\n",
       "      <td>2</td>\n",
       "      <td>2019-05-03 11:46:19</td>\n",
       "      <td>2019-05-03 11:48:25</td>\n",
       "      <td>0.710297</td>\n",
       "      <td>0.484962</td>\n",
       "    </tr>\n",
       "    <tr>\n",
       "      <th>8</th>\n",
       "      <td>2</td>\n",
       "      <td>2019-05-03 11:49:48</td>\n",
       "      <td>2019-05-03 11:53:18</td>\n",
       "      <td>0.786322</td>\n",
       "      <td>0.542517</td>\n",
       "    </tr>\n",
       "    <tr>\n",
       "      <th>9</th>\n",
       "      <td>3</td>\n",
       "      <td>2019-05-03 12:06:54</td>\n",
       "      <td>2019-05-03 12:11:34</td>\n",
       "      <td>1.101678</td>\n",
       "      <td>0.820856</td>\n",
       "    </tr>\n",
       "  </tbody>\n",
       "</table>\n",
       "</div>"
      ],
      "text/plain": [
       "   key Начало нагрева дугой  Конец нагрева дугой  Активная мощность  \\\n",
       "0    1  2019-05-03 11:02:14  2019-05-03 11:06:02           0.305130   \n",
       "1    1  2019-05-03 11:07:28  2019-05-03 11:10:33           0.765658   \n",
       "2    1  2019-05-03 11:11:44  2019-05-03 11:14:36           0.580313   \n",
       "3    1  2019-05-03 11:18:14  2019-05-03 11:24:19           0.518496   \n",
       "4    1  2019-05-03 11:26:09  2019-05-03 11:28:37           0.867133   \n",
       "5    2  2019-05-03 11:34:14  2019-05-03 11:36:31           0.381124   \n",
       "6    2  2019-05-03 11:38:50  2019-05-03 11:44:28           0.261665   \n",
       "7    2  2019-05-03 11:46:19  2019-05-03 11:48:25           0.710297   \n",
       "8    2  2019-05-03 11:49:48  2019-05-03 11:53:18           0.786322   \n",
       "9    3  2019-05-03 12:06:54  2019-05-03 12:11:34           1.101678   \n",
       "\n",
       "   Реактивная мощность  \n",
       "0             0.211253  \n",
       "1             0.477438  \n",
       "2             0.430460  \n",
       "3             0.379979  \n",
       "4             0.643691  \n",
       "5             0.220351  \n",
       "6             0.205527  \n",
       "7             0.484962  \n",
       "8             0.542517  \n",
       "9             0.820856  "
      ]
     },
     "execution_count": 7,
     "metadata": {},
     "output_type": "execute_result"
    }
   ],
   "source": [
    "data_arc.head(10)"
   ]
  },
  {
   "cell_type": "code",
   "execution_count": 8,
   "id": "3cb10400-7d34-42cf-9f88-f0613a9f5dcb",
   "metadata": {},
   "outputs": [
    {
     "data": {
      "text/html": [
       "<div>\n",
       "<style scoped>\n",
       "    .dataframe tbody tr th:only-of-type {\n",
       "        vertical-align: middle;\n",
       "    }\n",
       "\n",
       "    .dataframe tbody tr th {\n",
       "        vertical-align: top;\n",
       "    }\n",
       "\n",
       "    .dataframe thead th {\n",
       "        text-align: right;\n",
       "    }\n",
       "</style>\n",
       "<table border=\"1\" class=\"dataframe\">\n",
       "  <thead>\n",
       "    <tr style=\"text-align: right;\">\n",
       "      <th></th>\n",
       "      <th>key</th>\n",
       "      <th>Активная мощность</th>\n",
       "      <th>Реактивная мощность</th>\n",
       "    </tr>\n",
       "  </thead>\n",
       "  <tbody>\n",
       "    <tr>\n",
       "      <th>count</th>\n",
       "      <td>14876.000000</td>\n",
       "      <td>14876.000000</td>\n",
       "      <td>14876.000000</td>\n",
       "    </tr>\n",
       "    <tr>\n",
       "      <th>mean</th>\n",
       "      <td>1615.220422</td>\n",
       "      <td>0.662752</td>\n",
       "      <td>0.438986</td>\n",
       "    </tr>\n",
       "    <tr>\n",
       "      <th>std</th>\n",
       "      <td>934.571502</td>\n",
       "      <td>0.258885</td>\n",
       "      <td>5.873485</td>\n",
       "    </tr>\n",
       "    <tr>\n",
       "      <th>min</th>\n",
       "      <td>1.000000</td>\n",
       "      <td>0.223120</td>\n",
       "      <td>-715.479924</td>\n",
       "    </tr>\n",
       "    <tr>\n",
       "      <th>25%</th>\n",
       "      <td>806.000000</td>\n",
       "      <td>0.467115</td>\n",
       "      <td>0.337175</td>\n",
       "    </tr>\n",
       "    <tr>\n",
       "      <th>50%</th>\n",
       "      <td>1617.000000</td>\n",
       "      <td>0.599587</td>\n",
       "      <td>0.441639</td>\n",
       "    </tr>\n",
       "    <tr>\n",
       "      <th>75%</th>\n",
       "      <td>2429.000000</td>\n",
       "      <td>0.830070</td>\n",
       "      <td>0.608201</td>\n",
       "    </tr>\n",
       "    <tr>\n",
       "      <th>max</th>\n",
       "      <td>3241.000000</td>\n",
       "      <td>1.463773</td>\n",
       "      <td>1.270284</td>\n",
       "    </tr>\n",
       "  </tbody>\n",
       "</table>\n",
       "</div>"
      ],
      "text/plain": [
       "                key  Активная мощность  Реактивная мощность\n",
       "count  14876.000000       14876.000000         14876.000000\n",
       "mean    1615.220422           0.662752             0.438986\n",
       "std      934.571502           0.258885             5.873485\n",
       "min        1.000000           0.223120          -715.479924\n",
       "25%      806.000000           0.467115             0.337175\n",
       "50%     1617.000000           0.599587             0.441639\n",
       "75%     2429.000000           0.830070             0.608201\n",
       "max     3241.000000           1.463773             1.270284"
      ]
     },
     "execution_count": 8,
     "metadata": {},
     "output_type": "execute_result"
    }
   ],
   "source": [
    "data_arc.describe()"
   ]
  },
  {
   "cell_type": "markdown",
   "id": "c73db07f-74a0-489e-8315-973151fe3a1c",
   "metadata": {},
   "source": [
    "---\n",
    "Явные пропуски в датасете отсутсвуют, во всех колонках 14876 значений.  \n",
    "`key` - это номер партии. Если есть несколько строк с одинаковым значением key, то это разные циклы обработки.  \n",
    "Если смотреть на описательные статистики, то сразу заметно отрицательное значение в поле `Реактивная мощность`. Дальше, как раз взглянем на столбцы с мощностью подробнее.  \n",
    "Также, на этапе предобработке можно будет сгенерировать новые признаки: длительность нагрева, полную мощность и энергию."
   ]
  },
  {
   "cell_type": "markdown",
   "id": "18486041-b28c-41cf-96f2-d48b9ac47b1a",
   "metadata": {},
   "source": [
    "### Смотрим признаки"
   ]
  },
  {
   "cell_type": "markdown",
   "id": "8679a235-fc5d-4fbd-b42f-d7012f05e45b",
   "metadata": {},
   "source": [
    "**Активная мощность**"
   ]
  },
  {
   "cell_type": "code",
   "execution_count": 20,
   "id": "853b8892-f8c3-4f6b-83cd-c3d693f74d26",
   "metadata": {},
   "outputs": [
    {
     "data": {
      "image/png": "[encoded data removed]",
      "text/plain": [
       "<Figure size 900x400 with 2 Axes>"
      ]
     },
     "metadata": {},
     "output_type": "display_data"
    }
   ],
   "source": [
    "sns.set_theme()\n",
    "fig, axes = plt.subplots(2, sharex=True, gridspec_kw={'height_ratios': [3, 1]}, figsize=(9, 4))\n",
    "sns.histplot(data_arc['Активная мощность'], ax=axes[0])\n",
    "sns.boxplot(data_arc['Активная мощность'], orient='h', ax=axes[1])\n",
    "axes[0].set(title='Распределение признака \"Активная мощность\"')\n",
    "axes[0].set(ylabel='кол-во')\n",
    "axes[1].set(xlabel='значения')\n",
    "plt.tight_layout()"
   ]
  },
  {
   "cell_type": "markdown",
   "id": "b8c38f11-88d1-4c8b-88ba-24c7b7fffff9",
   "metadata": {},
   "source": [
    "Распределение похоже на нормальное, со смещением вправо. Аномалий или аномальных пиков на графиике нет.  \n",
    "На диаграмме размаха есть значения, которые можно посчитать выбросами. Но точно сказать, выбросы это или технологическая норма нельзя, да и находятся они не так уж и далеко от границы \"уса\". Поэтому, будем считать их нормой"
   ]
  },
  {
   "cell_type": "markdown",
   "id": "476ffff3-09db-4f3e-ad77-54160342eb5a",
   "metadata": {},
   "source": [
    "**Реактивная мощность**"
   ]
  },
  {
   "cell_type": "markdown",
   "id": "740afff2-fb20-423a-ade7-4cbd52eb97cb",
   "metadata": {},
   "source": [
    "Чтобы графики сильно не смещались из-за аномальных значений, исследуем их отдельно. В нашем случае, это отрицательные значения"
   ]
  },
  {
   "cell_type": "code",
   "execution_count": 36,
   "id": "e118efd2-4f2b-417a-8f3a-095ed27c8b1f",
   "metadata": {},
   "outputs": [
    {
     "name": "stdout",
     "output_type": "stream",
     "text": [
      "Отрицательных значений: 1\n"
     ]
    }
   ],
   "source": [
    "print('Отрицательных значений:', len(data_arc[data_arc['Реактивная мощность'] < 0]))"
   ]
  },
  {
   "cell_type": "markdown",
   "id": "bf9fd76a-7c03-4ad6-a039-44892af9346a",
   "metadata": {},
   "source": [
    "Отлично, можно смело строить графики без этого выброса"
   ]
  },
  {
   "cell_type": "code",
   "execution_count": 43,
   "id": "89ba4332-f3d1-46f9-a43d-b8331c04b4cb",
   "metadata": {},
   "outputs": [
    {
     "data": {
      "image/png": "[encoded data removed]",
      "text/plain": [
       "<Figure size 900x400 with 2 Axes>"
      ]
     },
     "metadata": {},
     "output_type": "display_data"
    }
   ],
   "source": [
    "#уберем выброс, чтобы графики нормально отображались\n",
    "data_react = data_arc[data_arc['Реактивная мощность'] > 0]\n",
    "\n",
    "fig, axes = plt.subplots(2, sharex=True, gridspec_kw={'height_ratios': [3, 1]}, figsize=(9, 4))\n",
    "sns.histplot(data_react['Реактивная мощность'], ax=axes[0])\n",
    "sns.boxplot(data_react['Реактивная мощность'], orient='h', ax=axes[1])\n",
    "axes[0].set(title='Распределение признака \"Реактивная мощность\"')\n",
    "axes[0].set(ylabel='кол-во')\n",
    "axes[1].set(xlabel='значения')\n",
    "plt.tight_layout()"
   ]
  },
  {
   "cell_type": "markdown",
   "id": "fb3b27fc-97f3-46a4-b1f1-441df826b9e3",
   "metadata": {},
   "source": [
    "Получили распределение, близкое к нормальному со смещением вправо. Выброс всего один - отрицательное значение. Данные, лежащие за границей правого \"уса\" выбросами считать не будем."
   ]
  },
  {
   "cell_type": "markdown",
   "id": "5a235107-ef16-46c0-be91-db66ae63b3d9",
   "metadata": {},
   "source": [
    "## Data_bulk"
   ]
  },
  {
   "cell_type": "markdown",
   "id": "ffa95091-98de-4ace-a47e-f7c4314679fa",
   "metadata": {},
   "source": [
    "`data_bulk` - это датасет с данными о подаче сыпучих материалов (объём)"
   ]
  },
  {
   "cell_type": "markdown",
   "id": "4e35fb4f-e830-4eae-9f1a-bfa6382031b4",
   "metadata": {},
   "source": [
    "### Общая информация о датасете"
   ]
  },
  {
   "cell_type": "code",
   "execution_count": 6,
   "id": "730a5419-1d26-41e3-be2b-f3034f5d01c8",
   "metadata": {},
   "outputs": [
    {
     "name": "stdout",
     "output_type": "stream",
     "text": [
      "<class 'pandas.core.frame.DataFrame'>\n",
      "RangeIndex: 3129 entries, 0 to 3128\n",
      "Data columns (total 16 columns):\n",
      " #   Column   Non-Null Count  Dtype  \n",
      "---  ------   --------------  -----  \n",
      " 0   key      3129 non-null   int64  \n",
      " 1   Bulk 1   252 non-null    float64\n",
      " 2   Bulk 2   22 non-null     float64\n",
      " 3   Bulk 3   1298 non-null   float64\n",
      " 4   Bulk 4   1014 non-null   float64\n",
      " 5   Bulk 5   77 non-null     float64\n",
      " 6   Bulk 6   576 non-null    float64\n",
      " 7   Bulk 7   25 non-null     float64\n",
      " 8   Bulk 8   1 non-null      float64\n",
      " 9   Bulk 9   19 non-null     float64\n",
      " 10  Bulk 10  176 non-null    float64\n",
      " 11  Bulk 11  177 non-null    float64\n",
      " 12  Bulk 12  2450 non-null   float64\n",
      " 13  Bulk 13  18 non-null     float64\n",
      " 14  Bulk 14  2806 non-null   float64\n",
      " 15  Bulk 15  2248 non-null   float64\n",
      "dtypes: float64(15), int64(1)\n",
      "memory usage: 391.2 KB\n"
     ]
    }
   ],
   "source": [
    "data_bulk.info()"
   ]
  },
  {
   "cell_type": "markdown",
   "id": "e539cb94-0470-480c-ac45-3444db1fe257",
   "metadata": {},
   "source": [
    "Имеем от заказчика информацию - отсутствующие значения можно считать нулевыми(то есть, материал не добавлялся)  \n",
    "Думаю, не очень целесообразно рассматривать признаки, где нулевых значений слишком много. Возьмем только те столбцы, где больше 1000 значений."
   ]
  },
  {
   "cell_type": "code",
   "execution_count": 13,
   "id": "58c1066c-9920-4a33-bde7-67e8d33bae08",
   "metadata": {},
   "outputs": [],
   "source": [
    "bulk_selected = ['Bulk 3', 'Bulk 4', 'Bulk 12', 'Bulk 14', 'Bulk 15']"
   ]
  },
  {
   "cell_type": "code",
   "execution_count": 14,
   "id": "95193038-136d-465c-ba08-53b58739bc8e",
   "metadata": {},
   "outputs": [
    {
     "data": {
      "text/html": [
       "<div>\n",
       "<style scoped>\n",
       "    .dataframe tbody tr th:only-of-type {\n",
       "        vertical-align: middle;\n",
       "    }\n",
       "\n",
       "    .dataframe tbody tr th {\n",
       "        vertical-align: top;\n",
       "    }\n",
       "\n",
       "    .dataframe thead th {\n",
       "        text-align: right;\n",
       "    }\n",
       "</style>\n",
       "<table border=\"1\" class=\"dataframe\">\n",
       "  <thead>\n",
       "    <tr style=\"text-align: right;\">\n",
       "      <th></th>\n",
       "      <th>Bulk 3</th>\n",
       "      <th>Bulk 4</th>\n",
       "      <th>Bulk 12</th>\n",
       "      <th>Bulk 14</th>\n",
       "      <th>Bulk 15</th>\n",
       "    </tr>\n",
       "  </thead>\n",
       "  <tbody>\n",
       "    <tr>\n",
       "      <th>0</th>\n",
       "      <td>NaN</td>\n",
       "      <td>43.0</td>\n",
       "      <td>206.0</td>\n",
       "      <td>150.0</td>\n",
       "      <td>154.0</td>\n",
       "    </tr>\n",
       "    <tr>\n",
       "      <th>1</th>\n",
       "      <td>NaN</td>\n",
       "      <td>73.0</td>\n",
       "      <td>206.0</td>\n",
       "      <td>149.0</td>\n",
       "      <td>154.0</td>\n",
       "    </tr>\n",
       "    <tr>\n",
       "      <th>2</th>\n",
       "      <td>NaN</td>\n",
       "      <td>34.0</td>\n",
       "      <td>205.0</td>\n",
       "      <td>152.0</td>\n",
       "      <td>153.0</td>\n",
       "    </tr>\n",
       "    <tr>\n",
       "      <th>3</th>\n",
       "      <td>NaN</td>\n",
       "      <td>81.0</td>\n",
       "      <td>207.0</td>\n",
       "      <td>153.0</td>\n",
       "      <td>154.0</td>\n",
       "    </tr>\n",
       "    <tr>\n",
       "      <th>4</th>\n",
       "      <td>NaN</td>\n",
       "      <td>78.0</td>\n",
       "      <td>203.0</td>\n",
       "      <td>151.0</td>\n",
       "      <td>152.0</td>\n",
       "    </tr>\n",
       "  </tbody>\n",
       "</table>\n",
       "</div>"
      ],
      "text/plain": [
       "   Bulk 3  Bulk 4  Bulk 12  Bulk 14  Bulk 15\n",
       "0     NaN    43.0    206.0    150.0    154.0\n",
       "1     NaN    73.0    206.0    149.0    154.0\n",
       "2     NaN    34.0    205.0    152.0    153.0\n",
       "3     NaN    81.0    207.0    153.0    154.0\n",
       "4     NaN    78.0    203.0    151.0    152.0"
      ]
     },
     "execution_count": 14,
     "metadata": {},
     "output_type": "execute_result"
    }
   ],
   "source": [
    "data_bulk[bulk_selected].head()"
   ]
  },
  {
   "cell_type": "code",
   "execution_count": 15,
   "id": "1f254842-0e78-434b-9d08-f0ba43c1ac35",
   "metadata": {},
   "outputs": [
    {
     "data": {
      "text/html": [
       "<div>\n",
       "<style scoped>\n",
       "    .dataframe tbody tr th:only-of-type {\n",
       "        vertical-align: middle;\n",
       "    }\n",
       "\n",
       "    .dataframe tbody tr th {\n",
       "        vertical-align: top;\n",
       "    }\n",
       "\n",
       "    .dataframe thead th {\n",
       "        text-align: right;\n",
       "    }\n",
       "</style>\n",
       "<table border=\"1\" class=\"dataframe\">\n",
       "  <thead>\n",
       "    <tr style=\"text-align: right;\">\n",
       "      <th></th>\n",
       "      <th>Bulk 3</th>\n",
       "      <th>Bulk 4</th>\n",
       "      <th>Bulk 12</th>\n",
       "      <th>Bulk 14</th>\n",
       "      <th>Bulk 15</th>\n",
       "    </tr>\n",
       "  </thead>\n",
       "  <tbody>\n",
       "    <tr>\n",
       "      <th>count</th>\n",
       "      <td>1298.000000</td>\n",
       "      <td>1014.000000</td>\n",
       "      <td>2450.000000</td>\n",
       "      <td>2806.000000</td>\n",
       "      <td>2248.000000</td>\n",
       "    </tr>\n",
       "    <tr>\n",
       "      <th>mean</th>\n",
       "      <td>113.879045</td>\n",
       "      <td>104.394477</td>\n",
       "      <td>260.471020</td>\n",
       "      <td>170.284747</td>\n",
       "      <td>160.513345</td>\n",
       "    </tr>\n",
       "    <tr>\n",
       "      <th>std</th>\n",
       "      <td>75.483494</td>\n",
       "      <td>48.184126</td>\n",
       "      <td>120.649269</td>\n",
       "      <td>65.868652</td>\n",
       "      <td>51.765319</td>\n",
       "    </tr>\n",
       "    <tr>\n",
       "      <th>min</th>\n",
       "      <td>6.000000</td>\n",
       "      <td>12.000000</td>\n",
       "      <td>53.000000</td>\n",
       "      <td>16.000000</td>\n",
       "      <td>1.000000</td>\n",
       "    </tr>\n",
       "    <tr>\n",
       "      <th>25%</th>\n",
       "      <td>58.000000</td>\n",
       "      <td>72.000000</td>\n",
       "      <td>204.000000</td>\n",
       "      <td>119.000000</td>\n",
       "      <td>105.000000</td>\n",
       "    </tr>\n",
       "    <tr>\n",
       "      <th>50%</th>\n",
       "      <td>97.500000</td>\n",
       "      <td>102.000000</td>\n",
       "      <td>208.000000</td>\n",
       "      <td>151.000000</td>\n",
       "      <td>160.000000</td>\n",
       "    </tr>\n",
       "    <tr>\n",
       "      <th>75%</th>\n",
       "      <td>152.000000</td>\n",
       "      <td>133.000000</td>\n",
       "      <td>316.000000</td>\n",
       "      <td>205.750000</td>\n",
       "      <td>205.000000</td>\n",
       "    </tr>\n",
       "    <tr>\n",
       "      <th>max</th>\n",
       "      <td>454.000000</td>\n",
       "      <td>281.000000</td>\n",
       "      <td>1849.000000</td>\n",
       "      <td>636.000000</td>\n",
       "      <td>405.000000</td>\n",
       "    </tr>\n",
       "  </tbody>\n",
       "</table>\n",
       "</div>"
      ],
      "text/plain": [
       "            Bulk 3       Bulk 4      Bulk 12      Bulk 14      Bulk 15\n",
       "count  1298.000000  1014.000000  2450.000000  2806.000000  2248.000000\n",
       "mean    113.879045   104.394477   260.471020   170.284747   160.513345\n",
       "std      75.483494    48.184126   120.649269    65.868652    51.765319\n",
       "min       6.000000    12.000000    53.000000    16.000000     1.000000\n",
       "25%      58.000000    72.000000   204.000000   119.000000   105.000000\n",
       "50%      97.500000   102.000000   208.000000   151.000000   160.000000\n",
       "75%     152.000000   133.000000   316.000000   205.750000   205.000000\n",
       "max     454.000000   281.000000  1849.000000   636.000000   405.000000"
      ]
     },
     "execution_count": 15,
     "metadata": {},
     "output_type": "execute_result"
    }
   ],
   "source": [
    "data_bulk[bulk_selected].describe()"
   ]
  },
  {
   "cell_type": "markdown",
   "id": "16dfa384-6302-424d-8a42-1ea0293712d2",
   "metadata": {},
   "source": [
    "В столбце `Bulk 12` видны выбивающиеся высокие значения. Если таких значений мало, исключим их при постройке графика"
   ]
  },
  {
   "cell_type": "code",
   "execution_count": 43,
   "id": "7402b7e1-98ac-4dad-aa63-0320315c71cf",
   "metadata": {},
   "outputs": [
    {
     "name": "stdout",
     "output_type": "stream",
     "text": [
      "Аномальных значений: 3\n"
     ]
    }
   ],
   "source": [
    "print('Аномальных значений:', len(data_bulk[data_bulk['Bulk 12'] > 800]))"
   ]
  },
  {
   "cell_type": "markdown",
   "id": "a2884d91-3400-440c-bee3-346b68553955",
   "metadata": {},
   "source": [
    "### Смотрим признаки"
   ]
  },
  {
   "cell_type": "code",
   "execution_count": 45,
   "id": "c9620444-923e-41e6-a8d9-ad8e2296518a",
   "metadata": {},
   "outputs": [],
   "source": [
    "data_bulk12 = data_bulk[data_bulk['Bulk 12'] < 800]"
   ]
  },
  {
   "cell_type": "code",
   "execution_count": 53,
   "id": "a04eb59b-0859-4dad-852a-7d0ffd8f0dd4",
   "metadata": {},
   "outputs": [
    {
     "data": {
      "image/png": "[encoded data removed]",
      "text/plain": [
       "<Figure size 900x200 with 1 Axes>"
      ]
     },
     "metadata": {},
     "output_type": "display_data"
    },
    {
     "data": {
      "image/png": "[encoded data removed]",
      "text/plain": [
       "<Figure size 900x200 with 1 Axes>"
      ]
     },
     "metadata": {},
     "output_type": "display_data"
    }
   ],
   "source": [
    "plt.figure(figsize=(9, 2))\n",
    "plt.title('Плотность распределения признаков')\n",
    "fig = sns.kdeplot(data_bulk['Bulk 3'], cut=True)\n",
    "fig = sns.kdeplot(data_bulk['Bulk 4'], cut=True)\n",
    "fig = sns.kdeplot(data_bulk['Bulk 15'], cut=True)\n",
    "plt.xticks([])\n",
    "plt.xlabel('')\n",
    "plt.yticks([])\n",
    "plt.ylabel('плотность')\n",
    "plt.legend(labels=['Bulk 3', 'Bulk 4', 'Bulk 15'])\n",
    "plt.show()\n",
    "plt.figure(figsize=(9, 2))\n",
    "fig = sns.kdeplot(data_bulk12['Bulk 12'], cut=True)\n",
    "fig = sns.kdeplot(data_bulk['Bulk 14'], cut=True)\n",
    "plt.xticks([])\n",
    "plt.xlabel('')\n",
    "plt.yticks([])\n",
    "plt.ylabel('плотность')\n",
    "plt.legend(labels=['Bulk 12', 'Bulk 14'])\n",
    "plt.show()"
   ]
  },
  {
   "cell_type": "markdown",
   "id": "8fdd4925-90b1-40dc-9091-4e6ccbe7df1a",
   "metadata": {},
   "source": [
    "Видно, что признаки распределены по-разному, но у всех есть смещение вправо.  \n",
    "Выбросами будем считать только несколько экстремально высоких значений стобца `Bulk 12`"
   ]
  },
  {
   "cell_type": "markdown",
   "id": "d5210eff-c3e9-4644-9e42-65cc6c3f66e8",
   "metadata": {},
   "source": [
    "## Data_gas"
   ]
  },
  {
   "cell_type": "markdown",
   "id": "c0169367-983e-4523-a496-d8ae1ae650d9",
   "metadata": {},
   "source": [
    "`data_gas` - это датасет с данными о продувке сплава газом"
   ]
  },
  {
   "cell_type": "code",
   "execution_count": 55,
   "id": "128e286b-fa6a-4520-b673-e524fde466ce",
   "metadata": {},
   "outputs": [
    {
     "name": "stdout",
     "output_type": "stream",
     "text": [
      "<class 'pandas.core.frame.DataFrame'>\n",
      "RangeIndex: 3239 entries, 0 to 3238\n",
      "Data columns (total 2 columns):\n",
      " #   Column  Non-Null Count  Dtype  \n",
      "---  ------  --------------  -----  \n",
      " 0   key     3239 non-null   int64  \n",
      " 1   Газ 1   3239 non-null   float64\n",
      "dtypes: float64(1), int64(1)\n",
      "memory usage: 50.7 KB\n"
     ]
    }
   ],
   "source": [
    "data_gas.info()"
   ]
  },
  {
   "cell_type": "code",
   "execution_count": 56,
   "id": "ba9a227f-42d2-4b67-92e8-5458a976b165",
   "metadata": {},
   "outputs": [
    {
     "data": {
      "text/html": [
       "<div>\n",
       "<style scoped>\n",
       "    .dataframe tbody tr th:only-of-type {\n",
       "        vertical-align: middle;\n",
       "    }\n",
       "\n",
       "    .dataframe tbody tr th {\n",
       "        vertical-align: top;\n",
       "    }\n",
       "\n",
       "    .dataframe thead th {\n",
       "        text-align: right;\n",
       "    }\n",
       "</style>\n",
       "<table border=\"1\" class=\"dataframe\">\n",
       "  <thead>\n",
       "    <tr style=\"text-align: right;\">\n",
       "      <th></th>\n",
       "      <th>key</th>\n",
       "      <th>Газ 1</th>\n",
       "    </tr>\n",
       "  </thead>\n",
       "  <tbody>\n",
       "    <tr>\n",
       "      <th>0</th>\n",
       "      <td>1</td>\n",
       "      <td>29.749986</td>\n",
       "    </tr>\n",
       "    <tr>\n",
       "      <th>1</th>\n",
       "      <td>2</td>\n",
       "      <td>12.555561</td>\n",
       "    </tr>\n",
       "    <tr>\n",
       "      <th>2</th>\n",
       "      <td>3</td>\n",
       "      <td>28.554793</td>\n",
       "    </tr>\n",
       "    <tr>\n",
       "      <th>3</th>\n",
       "      <td>4</td>\n",
       "      <td>18.841219</td>\n",
       "    </tr>\n",
       "    <tr>\n",
       "      <th>4</th>\n",
       "      <td>5</td>\n",
       "      <td>5.413692</td>\n",
       "    </tr>\n",
       "  </tbody>\n",
       "</table>\n",
       "</div>"
      ],
      "text/plain": [
       "   key      Газ 1\n",
       "0    1  29.749986\n",
       "1    2  12.555561\n",
       "2    3  28.554793\n",
       "3    4  18.841219\n",
       "4    5   5.413692"
      ]
     },
     "execution_count": 56,
     "metadata": {},
     "output_type": "execute_result"
    }
   ],
   "source": [
    "data_gas.head()"
   ]
  },
  {
   "cell_type": "code",
   "execution_count": 65,
   "id": "988e22cb-5d0c-45f5-9e77-52e8e30a1fe1",
   "metadata": {},
   "outputs": [
    {
     "data": {
      "text/html": [
       "<div>\n",
       "<style scoped>\n",
       "    .dataframe tbody tr th:only-of-type {\n",
       "        vertical-align: middle;\n",
       "    }\n",
       "\n",
       "    .dataframe tbody tr th {\n",
       "        vertical-align: top;\n",
       "    }\n",
       "\n",
       "    .dataframe thead th {\n",
       "        text-align: right;\n",
       "    }\n",
       "</style>\n",
       "<table border=\"1\" class=\"dataframe\">\n",
       "  <thead>\n",
       "    <tr style=\"text-align: right;\">\n",
       "      <th></th>\n",
       "      <th>key</th>\n",
       "      <th>Газ 1</th>\n",
       "    </tr>\n",
       "  </thead>\n",
       "  <tbody>\n",
       "    <tr>\n",
       "      <th>count</th>\n",
       "      <td>3239.000000</td>\n",
       "      <td>3239.000000</td>\n",
       "    </tr>\n",
       "    <tr>\n",
       "      <th>mean</th>\n",
       "      <td>1621.861377</td>\n",
       "      <td>11.002062</td>\n",
       "    </tr>\n",
       "    <tr>\n",
       "      <th>std</th>\n",
       "      <td>935.386334</td>\n",
       "      <td>6.220327</td>\n",
       "    </tr>\n",
       "    <tr>\n",
       "      <th>min</th>\n",
       "      <td>1.000000</td>\n",
       "      <td>0.008399</td>\n",
       "    </tr>\n",
       "    <tr>\n",
       "      <th>25%</th>\n",
       "      <td>812.500000</td>\n",
       "      <td>7.043089</td>\n",
       "    </tr>\n",
       "    <tr>\n",
       "      <th>50%</th>\n",
       "      <td>1622.000000</td>\n",
       "      <td>9.836267</td>\n",
       "    </tr>\n",
       "    <tr>\n",
       "      <th>75%</th>\n",
       "      <td>2431.500000</td>\n",
       "      <td>13.769915</td>\n",
       "    </tr>\n",
       "    <tr>\n",
       "      <th>max</th>\n",
       "      <td>3241.000000</td>\n",
       "      <td>77.995040</td>\n",
       "    </tr>\n",
       "  </tbody>\n",
       "</table>\n",
       "</div>"
      ],
      "text/plain": [
       "               key        Газ 1\n",
       "count  3239.000000  3239.000000\n",
       "mean   1621.861377    11.002062\n",
       "std     935.386334     6.220327\n",
       "min       1.000000     0.008399\n",
       "25%     812.500000     7.043089\n",
       "50%    1622.000000     9.836267\n",
       "75%    2431.500000    13.769915\n",
       "max    3241.000000    77.995040"
      ]
     },
     "execution_count": 65,
     "metadata": {},
     "output_type": "execute_result"
    }
   ],
   "source": [
    "data_gas.describe()"
   ]
  },
  {
   "cell_type": "code",
   "execution_count": 68,
   "id": "3d521c1c-c6bf-40ca-ab57-2840e35c4bc0",
   "metadata": {},
   "outputs": [
    {
     "name": "stdout",
     "output_type": "stream",
     "text": [
      "Аномальных значений: 8\n"
     ]
    }
   ],
   "source": [
    "print('Аномальных значений:', len(data_gas[data_gas['Газ 1'] >= 40]))"
   ]
  },
  {
   "cell_type": "code",
   "execution_count": 69,
   "id": "ad12dd0a-4a45-48e8-8973-2202733263ad",
   "metadata": {},
   "outputs": [],
   "source": [
    "data_gas_selected = data_gas[data_gas['Газ 1'] < 40]"
   ]
  },
  {
   "cell_type": "code",
   "execution_count": 74,
   "id": "2a8b8ba6-bbd8-46dd-939e-f5e6ae00f89c",
   "metadata": {},
   "outputs": [
    {
     "data": {
      "image/png": "[encoded data removed]",
      "text/plain": [
       "<Figure size 900x300 with 1 Axes>"
      ]
     },
     "metadata": {},
     "output_type": "display_data"
    }
   ],
   "source": [
    "plt.figure(figsize=(9, 3))\n",
    "sns.histplot(data_gas_selected['Газ 1'])\n",
    "plt.xlabel('значения')\n",
    "plt.ylabel('кол-во')\n",
    "plt.title('Распределение признака \"Газ 1\"')\n",
    "plt.show()"
   ]
  },
  {
   "cell_type": "markdown",
   "id": "585221e4-e347-45d2-b210-0685cc35d353",
   "metadata": {},
   "source": [
    "Получили распределение без аномалий"
   ]
  },
  {
   "cell_type": "markdown",
   "id": "e4ad72a9-9ae8-4822-a6a3-3a9e7898e12e",
   "metadata": {},
   "source": [
    "## Data_temp"
   ]
  },
  {
   "cell_type": "markdown",
   "id": "dfe9981c-ad45-4ca3-b465-6ded6536837f",
   "metadata": {},
   "source": [
    "`data_temp` - это датасет с результатами измерения температуры сплава в ковше"
   ]
  },
  {
   "cell_type": "code",
   "execution_count": 75,
   "id": "f578eec7-209a-4cbb-8589-5e3e50915e36",
   "metadata": {},
   "outputs": [
    {
     "name": "stdout",
     "output_type": "stream",
     "text": [
      "<class 'pandas.core.frame.DataFrame'>\n",
      "RangeIndex: 18092 entries, 0 to 18091\n",
      "Data columns (total 3 columns):\n",
      " #   Column        Non-Null Count  Dtype  \n",
      "---  ------        --------------  -----  \n",
      " 0   key           18092 non-null  int64  \n",
      " 1   Время замера  18092 non-null  object \n",
      " 2   Температура   14665 non-null  float64\n",
      "dtypes: float64(1), int64(1), object(1)\n",
      "memory usage: 424.2+ KB\n"
     ]
    }
   ],
   "source": [
    "data_temp.info()"
   ]
  },
  {
   "cell_type": "markdown",
   "id": "ced900c0-f280-4a24-899c-98d1cafd7603",
   "metadata": {},
   "source": [
    "Партии, в которых отсутсвует температура нужно будет удалить - информация от заказчика"
   ]
  },
  {
   "cell_type": "code",
   "execution_count": 77,
   "id": "5340c1ff-9389-4aeb-bb1b-31e378b123ee",
   "metadata": {},
   "outputs": [
    {
     "data": {
      "text/html": [
       "<div>\n",
       "<style scoped>\n",
       "    .dataframe tbody tr th:only-of-type {\n",
       "        vertical-align: middle;\n",
       "    }\n",
       "\n",
       "    .dataframe tbody tr th {\n",
       "        vertical-align: top;\n",
       "    }\n",
       "\n",
       "    .dataframe thead th {\n",
       "        text-align: right;\n",
       "    }\n",
       "</style>\n",
       "<table border=\"1\" class=\"dataframe\">\n",
       "  <thead>\n",
       "    <tr style=\"text-align: right;\">\n",
       "      <th></th>\n",
       "      <th>key</th>\n",
       "      <th>Время замера</th>\n",
       "      <th>Температура</th>\n",
       "    </tr>\n",
       "  </thead>\n",
       "  <tbody>\n",
       "    <tr>\n",
       "      <th>0</th>\n",
       "      <td>1</td>\n",
       "      <td>2019-05-03 11:02:04</td>\n",
       "      <td>1571.0</td>\n",
       "    </tr>\n",
       "    <tr>\n",
       "      <th>1</th>\n",
       "      <td>1</td>\n",
       "      <td>2019-05-03 11:07:18</td>\n",
       "      <td>1604.0</td>\n",
       "    </tr>\n",
       "    <tr>\n",
       "      <th>2</th>\n",
       "      <td>1</td>\n",
       "      <td>2019-05-03 11:11:34</td>\n",
       "      <td>1618.0</td>\n",
       "    </tr>\n",
       "    <tr>\n",
       "      <th>3</th>\n",
       "      <td>1</td>\n",
       "      <td>2019-05-03 11:18:04</td>\n",
       "      <td>1601.0</td>\n",
       "    </tr>\n",
       "    <tr>\n",
       "      <th>4</th>\n",
       "      <td>1</td>\n",
       "      <td>2019-05-03 11:25:59</td>\n",
       "      <td>1606.0</td>\n",
       "    </tr>\n",
       "    <tr>\n",
       "      <th>5</th>\n",
       "      <td>1</td>\n",
       "      <td>2019-05-03 11:30:38</td>\n",
       "      <td>1613.0</td>\n",
       "    </tr>\n",
       "    <tr>\n",
       "      <th>6</th>\n",
       "      <td>2</td>\n",
       "      <td>2019-05-03 11:34:04</td>\n",
       "      <td>1581.0</td>\n",
       "    </tr>\n",
       "    <tr>\n",
       "      <th>7</th>\n",
       "      <td>2</td>\n",
       "      <td>2019-05-03 11:38:40</td>\n",
       "      <td>1577.0</td>\n",
       "    </tr>\n",
       "    <tr>\n",
       "      <th>8</th>\n",
       "      <td>2</td>\n",
       "      <td>2019-05-03 11:46:09</td>\n",
       "      <td>1589.0</td>\n",
       "    </tr>\n",
       "    <tr>\n",
       "      <th>9</th>\n",
       "      <td>2</td>\n",
       "      <td>2019-05-03 11:49:38</td>\n",
       "      <td>1604.0</td>\n",
       "    </tr>\n",
       "  </tbody>\n",
       "</table>\n",
       "</div>"
      ],
      "text/plain": [
       "   key         Время замера  Температура\n",
       "0    1  2019-05-03 11:02:04       1571.0\n",
       "1    1  2019-05-03 11:07:18       1604.0\n",
       "2    1  2019-05-03 11:11:34       1618.0\n",
       "3    1  2019-05-03 11:18:04       1601.0\n",
       "4    1  2019-05-03 11:25:59       1606.0\n",
       "5    1  2019-05-03 11:30:38       1613.0\n",
       "6    2  2019-05-03 11:34:04       1581.0\n",
       "7    2  2019-05-03 11:38:40       1577.0\n",
       "8    2  2019-05-03 11:46:09       1589.0\n",
       "9    2  2019-05-03 11:49:38       1604.0"
      ]
     },
     "execution_count": 77,
     "metadata": {},
     "output_type": "execute_result"
    }
   ],
   "source": [
    "data_temp.head(10)"
   ]
  },
  {
   "cell_type": "markdown",
   "id": "88c7b532-9bdd-4bb6-8ba1-0f3c0848afd2",
   "metadata": {},
   "source": [
    "Записи с одинаковым значением поля `key` - это разные итерации одного цикла плавки.  \n",
    "Температура на первой итерации можеть быть признаком для обучения.  \n",
    "Температура на последней итерации - таргет"
   ]
  },
  {
   "cell_type": "code",
   "execution_count": 78,
   "id": "d4d5528d-2a12-41db-865f-3212b8302a11",
   "metadata": {},
   "outputs": [
    {
     "data": {
      "text/html": [
       "<div>\n",
       "<style scoped>\n",
       "    .dataframe tbody tr th:only-of-type {\n",
       "        vertical-align: middle;\n",
       "    }\n",
       "\n",
       "    .dataframe tbody tr th {\n",
       "        vertical-align: top;\n",
       "    }\n",
       "\n",
       "    .dataframe thead th {\n",
       "        text-align: right;\n",
       "    }\n",
       "</style>\n",
       "<table border=\"1\" class=\"dataframe\">\n",
       "  <thead>\n",
       "    <tr style=\"text-align: right;\">\n",
       "      <th></th>\n",
       "      <th>key</th>\n",
       "      <th>Температура</th>\n",
       "    </tr>\n",
       "  </thead>\n",
       "  <tbody>\n",
       "    <tr>\n",
       "      <th>count</th>\n",
       "      <td>18092.000000</td>\n",
       "      <td>14665.000000</td>\n",
       "    </tr>\n",
       "    <tr>\n",
       "      <th>mean</th>\n",
       "      <td>1616.460977</td>\n",
       "      <td>1590.722741</td>\n",
       "    </tr>\n",
       "    <tr>\n",
       "      <th>std</th>\n",
       "      <td>934.641385</td>\n",
       "      <td>20.394381</td>\n",
       "    </tr>\n",
       "    <tr>\n",
       "      <th>min</th>\n",
       "      <td>1.000000</td>\n",
       "      <td>1191.000000</td>\n",
       "    </tr>\n",
       "    <tr>\n",
       "      <th>25%</th>\n",
       "      <td>807.750000</td>\n",
       "      <td>1580.000000</td>\n",
       "    </tr>\n",
       "    <tr>\n",
       "      <th>50%</th>\n",
       "      <td>1618.000000</td>\n",
       "      <td>1590.000000</td>\n",
       "    </tr>\n",
       "    <tr>\n",
       "      <th>75%</th>\n",
       "      <td>2429.000000</td>\n",
       "      <td>1599.000000</td>\n",
       "    </tr>\n",
       "    <tr>\n",
       "      <th>max</th>\n",
       "      <td>3241.000000</td>\n",
       "      <td>1705.000000</td>\n",
       "    </tr>\n",
       "  </tbody>\n",
       "</table>\n",
       "</div>"
      ],
      "text/plain": [
       "                key   Температура\n",
       "count  18092.000000  14665.000000\n",
       "mean    1616.460977   1590.722741\n",
       "std      934.641385     20.394381\n",
       "min        1.000000   1191.000000\n",
       "25%      807.750000   1580.000000\n",
       "50%     1618.000000   1590.000000\n",
       "75%     2429.000000   1599.000000\n",
       "max     3241.000000   1705.000000"
      ]
     },
     "execution_count": 78,
     "metadata": {},
     "output_type": "execute_result"
    }
   ],
   "source": [
    "data_temp.describe()"
   ]
  },
  {
   "cell_type": "markdown",
   "id": "3c7e395b-9fa7-49f0-9bac-a7581bd81daa",
   "metadata": {},
   "source": [
    "От заказчика знаем, что температуру ниже ~1450 можем считать дефектом измерения, так как плавка сплава при такой температуре невозможна"
   ]
  },
  {
   "cell_type": "code",
   "execution_count": 80,
   "id": "cd9fb755-4ae8-490b-b22c-d28b087da099",
   "metadata": {},
   "outputs": [],
   "source": [
    "data_temp_selected = data_temp[data_temp['Температура'] > 1450]"
   ]
  },
  {
   "cell_type": "code",
   "execution_count": 82,
   "id": "ad5a3432-aeea-46cd-b10a-59277770b56d",
   "metadata": {},
   "outputs": [
    {
     "data": {
      "image/png": "[encoded data removed]",
      "text/plain": [
       "<Figure size 900x300 with 1 Axes>"
      ]
     },
     "metadata": {},
     "output_type": "display_data"
    }
   ],
   "source": [
    "plt.figure(figsize=(9, 3))\n",
    "sns.histplot(data_temp_selected['Температура'], discrete=True)\n",
    "plt.xlabel('значения')\n",
    "plt.ylabel('кол-во')\n",
    "plt.title('Распределение признака \"Температура\"')\n",
    "plt.show()"
   ]
  },
  {
   "cell_type": "markdown",
   "id": "bfa09a5c-ad46-4465-b88b-c4b382149f7e",
   "metadata": {},
   "source": [
    "## Data_wire"
   ]
  },
  {
   "cell_type": "markdown",
   "id": "4541ce18-98cb-4cfb-8936-323f073f502c",
   "metadata": {},
   "source": [
    "`data_wire` - это датасет с данными о подаче проволочных материалов (объём)"
   ]
  },
  {
   "cell_type": "code",
   "execution_count": 83,
   "id": "475dbff4-f6a7-49d3-aeb2-02e8ae50fe51",
   "metadata": {},
   "outputs": [
    {
     "name": "stdout",
     "output_type": "stream",
     "text": [
      "<class 'pandas.core.frame.DataFrame'>\n",
      "RangeIndex: 3081 entries, 0 to 3080\n",
      "Data columns (total 10 columns):\n",
      " #   Column  Non-Null Count  Dtype  \n",
      "---  ------  --------------  -----  \n",
      " 0   key     3081 non-null   int64  \n",
      " 1   Wire 1  3055 non-null   float64\n",
      " 2   Wire 2  1079 non-null   float64\n",
      " 3   Wire 3  63 non-null     float64\n",
      " 4   Wire 4  14 non-null     float64\n",
      " 5   Wire 5  1 non-null      float64\n",
      " 6   Wire 6  73 non-null     float64\n",
      " 7   Wire 7  11 non-null     float64\n",
      " 8   Wire 8  19 non-null     float64\n",
      " 9   Wire 9  29 non-null     float64\n",
      "dtypes: float64(9), int64(1)\n",
      "memory usage: 240.8 KB\n"
     ]
    }
   ],
   "source": [
    "data_wire.info()"
   ]
  },
  {
   "cell_type": "markdown",
   "id": "3edb71cb-d325-4c1f-8d01-fb7ce88e11b4",
   "metadata": {},
   "source": [
    "Как и в случае с сыпучими материалами имеем информацию от заказчика, что отсутствующие значения можно заполнить нулями.  \n",
    "Рассмотрим только те столбцы, где значений больше 1000"
   ]
  },
  {
   "cell_type": "code",
   "execution_count": 87,
   "id": "7c6854f0-e9b2-45db-9f33-adbb00b05672",
   "metadata": {},
   "outputs": [
    {
     "data": {
      "text/html": [
       "<div>\n",
       "<style scoped>\n",
       "    .dataframe tbody tr th:only-of-type {\n",
       "        vertical-align: middle;\n",
       "    }\n",
       "\n",
       "    .dataframe tbody tr th {\n",
       "        vertical-align: top;\n",
       "    }\n",
       "\n",
       "    .dataframe thead th {\n",
       "        text-align: right;\n",
       "    }\n",
       "</style>\n",
       "<table border=\"1\" class=\"dataframe\">\n",
       "  <thead>\n",
       "    <tr style=\"text-align: right;\">\n",
       "      <th></th>\n",
       "      <th>Wire 1</th>\n",
       "      <th>Wire 2</th>\n",
       "    </tr>\n",
       "  </thead>\n",
       "  <tbody>\n",
       "    <tr>\n",
       "      <th>0</th>\n",
       "      <td>60.059998</td>\n",
       "      <td>NaN</td>\n",
       "    </tr>\n",
       "    <tr>\n",
       "      <th>1</th>\n",
       "      <td>96.052315</td>\n",
       "      <td>NaN</td>\n",
       "    </tr>\n",
       "    <tr>\n",
       "      <th>2</th>\n",
       "      <td>91.160157</td>\n",
       "      <td>NaN</td>\n",
       "    </tr>\n",
       "    <tr>\n",
       "      <th>3</th>\n",
       "      <td>89.063515</td>\n",
       "      <td>NaN</td>\n",
       "    </tr>\n",
       "    <tr>\n",
       "      <th>4</th>\n",
       "      <td>89.238236</td>\n",
       "      <td>9.11456</td>\n",
       "    </tr>\n",
       "  </tbody>\n",
       "</table>\n",
       "</div>"
      ],
      "text/plain": [
       "      Wire 1   Wire 2\n",
       "0  60.059998      NaN\n",
       "1  96.052315      NaN\n",
       "2  91.160157      NaN\n",
       "3  89.063515      NaN\n",
       "4  89.238236  9.11456"
      ]
     },
     "execution_count": 87,
     "metadata": {},
     "output_type": "execute_result"
    }
   ],
   "source": [
    "data_wire[['Wire 1', 'Wire 2']].head()"
   ]
  },
  {
   "cell_type": "code",
   "execution_count": 88,
   "id": "24692069-1adf-44f5-85a0-6aebe9f6c995",
   "metadata": {},
   "outputs": [
    {
     "data": {
      "text/html": [
       "<div>\n",
       "<style scoped>\n",
       "    .dataframe tbody tr th:only-of-type {\n",
       "        vertical-align: middle;\n",
       "    }\n",
       "\n",
       "    .dataframe tbody tr th {\n",
       "        vertical-align: top;\n",
       "    }\n",
       "\n",
       "    .dataframe thead th {\n",
       "        text-align: right;\n",
       "    }\n",
       "</style>\n",
       "<table border=\"1\" class=\"dataframe\">\n",
       "  <thead>\n",
       "    <tr style=\"text-align: right;\">\n",
       "      <th></th>\n",
       "      <th>Wire 1</th>\n",
       "      <th>Wire 2</th>\n",
       "    </tr>\n",
       "  </thead>\n",
       "  <tbody>\n",
       "    <tr>\n",
       "      <th>count</th>\n",
       "      <td>3055.000000</td>\n",
       "      <td>1079.000000</td>\n",
       "    </tr>\n",
       "    <tr>\n",
       "      <th>mean</th>\n",
       "      <td>100.895853</td>\n",
       "      <td>50.577323</td>\n",
       "    </tr>\n",
       "    <tr>\n",
       "      <th>std</th>\n",
       "      <td>42.012518</td>\n",
       "      <td>39.320216</td>\n",
       "    </tr>\n",
       "    <tr>\n",
       "      <th>min</th>\n",
       "      <td>1.918800</td>\n",
       "      <td>0.030160</td>\n",
       "    </tr>\n",
       "    <tr>\n",
       "      <th>25%</th>\n",
       "      <td>72.115684</td>\n",
       "      <td>20.193680</td>\n",
       "    </tr>\n",
       "    <tr>\n",
       "      <th>50%</th>\n",
       "      <td>100.158234</td>\n",
       "      <td>40.142956</td>\n",
       "    </tr>\n",
       "    <tr>\n",
       "      <th>75%</th>\n",
       "      <td>126.060483</td>\n",
       "      <td>70.227558</td>\n",
       "    </tr>\n",
       "    <tr>\n",
       "      <th>max</th>\n",
       "      <td>330.314424</td>\n",
       "      <td>282.780152</td>\n",
       "    </tr>\n",
       "  </tbody>\n",
       "</table>\n",
       "</div>"
      ],
      "text/plain": [
       "            Wire 1       Wire 2\n",
       "count  3055.000000  1079.000000\n",
       "mean    100.895853    50.577323\n",
       "std      42.012518    39.320216\n",
       "min       1.918800     0.030160\n",
       "25%      72.115684    20.193680\n",
       "50%     100.158234    40.142956\n",
       "75%     126.060483    70.227558\n",
       "max     330.314424   282.780152"
      ]
     },
     "execution_count": 88,
     "metadata": {},
     "output_type": "execute_result"
    }
   ],
   "source": [
    "data_wire[['Wire 1', 'Wire 2']].describe()"
   ]
  },
  {
   "cell_type": "code",
   "execution_count": 95,
   "id": "803d4e52-c250-485e-83d7-cc7a49b0647c",
   "metadata": {},
   "outputs": [
    {
     "data": {
      "image/png": "[encoded data removed]",
      "text/plain": [
       "<Figure size 900x200 with 1 Axes>"
      ]
     },
     "metadata": {},
     "output_type": "display_data"
    }
   ],
   "source": [
    "plt.figure(figsize=(9, 2))\n",
    "plt.title('Плотность распределения признаков')\n",
    "fig = sns.kdeplot(data_wire['Wire 1'], cut=True)\n",
    "fig = sns.kdeplot(data_wire['Wire 2'], cut=True)\n",
    "plt.xticks([])\n",
    "plt.xlabel('')\n",
    "plt.yticks([])\n",
    "plt.ylabel('плотность')\n",
    "plt.legend(labels=['Wire 1', 'Wire 2'])\n",
    "plt.show()"
   ]
  },
  {
   "cell_type": "markdown",
   "id": "d6d439cd-57ce-44f9-b7e8-9022e789d850",
   "metadata": {},
   "source": [
    "Получили распределения без аномалий"
   ]
  },
  {
   "cell_type": "markdown",
   "id": "0a5f29ac-ebb8-4bfb-bcb6-d1c336d83566",
   "metadata": {
    "tags": []
   },
   "source": [
    "## Data_bulk_time и data_wire_time"
   ]
  },
  {
   "cell_type": "markdown",
   "id": "ebeabe05-e0c1-404a-8e83-ac5a3828a6d1",
   "metadata": {},
   "source": [
    "`data_bulk_time` и `data_wire_time` - это датасет с временем добавления сыпучих и проволочных материалов соответственно"
   ]
  },
  {
   "cell_type": "code",
   "execution_count": 104,
   "id": "93d2b6ba-fbc8-461f-8f56-208d625b5d8a",
   "metadata": {},
   "outputs": [
    {
     "data": {
      "text/html": [
       "<div>\n",
       "<style scoped>\n",
       "    .dataframe tbody tr th:only-of-type {\n",
       "        vertical-align: middle;\n",
       "    }\n",
       "\n",
       "    .dataframe tbody tr th {\n",
       "        vertical-align: top;\n",
       "    }\n",
       "\n",
       "    .dataframe thead th {\n",
       "        text-align: right;\n",
       "    }\n",
       "</style>\n",
       "<table border=\"1\" class=\"dataframe\">\n",
       "  <thead>\n",
       "    <tr style=\"text-align: right;\">\n",
       "      <th></th>\n",
       "      <th>key</th>\n",
       "      <th>Bulk 1</th>\n",
       "      <th>Bulk 2</th>\n",
       "      <th>Bulk 3</th>\n",
       "      <th>Bulk 4</th>\n",
       "      <th>Bulk 5</th>\n",
       "      <th>Bulk 6</th>\n",
       "      <th>Bulk 7</th>\n",
       "      <th>Bulk 8</th>\n",
       "      <th>Bulk 9</th>\n",
       "      <th>Bulk 10</th>\n",
       "      <th>Bulk 11</th>\n",
       "      <th>Bulk 12</th>\n",
       "      <th>Bulk 13</th>\n",
       "      <th>Bulk 14</th>\n",
       "      <th>Bulk 15</th>\n",
       "    </tr>\n",
       "  </thead>\n",
       "  <tbody>\n",
       "    <tr>\n",
       "      <th>435</th>\n",
       "      <td>461</td>\n",
       "      <td>NaN</td>\n",
       "      <td>NaN</td>\n",
       "      <td>NaN</td>\n",
       "      <td>NaN</td>\n",
       "      <td>NaN</td>\n",
       "      <td>NaN</td>\n",
       "      <td>NaN</td>\n",
       "      <td>NaN</td>\n",
       "      <td>NaN</td>\n",
       "      <td>2019-05-21 03:31:46</td>\n",
       "      <td>NaN</td>\n",
       "      <td>2019-05-21 03:25:53</td>\n",
       "      <td>NaN</td>\n",
       "      <td>2019-05-21 03:18:46</td>\n",
       "      <td>2019-05-21 02:13:39</td>\n",
       "    </tr>\n",
       "    <tr>\n",
       "      <th>673</th>\n",
       "      <td>705</td>\n",
       "      <td>NaN</td>\n",
       "      <td>NaN</td>\n",
       "      <td>2019-05-31 00:03:29</td>\n",
       "      <td>2019-05-30 23:55:55</td>\n",
       "      <td>NaN</td>\n",
       "      <td>2019-05-30 23:50:21</td>\n",
       "      <td>NaN</td>\n",
       "      <td>NaN</td>\n",
       "      <td>NaN</td>\n",
       "      <td>NaN</td>\n",
       "      <td>NaN</td>\n",
       "      <td>NaN</td>\n",
       "      <td>NaN</td>\n",
       "      <td>2019-05-30 23:38:26</td>\n",
       "      <td>NaN</td>\n",
       "    </tr>\n",
       "    <tr>\n",
       "      <th>1511</th>\n",
       "      <td>1569</td>\n",
       "      <td>NaN</td>\n",
       "      <td>NaN</td>\n",
       "      <td>NaN</td>\n",
       "      <td>NaN</td>\n",
       "      <td>NaN</td>\n",
       "      <td>NaN</td>\n",
       "      <td>NaN</td>\n",
       "      <td>NaN</td>\n",
       "      <td>NaN</td>\n",
       "      <td>NaN</td>\n",
       "      <td>NaN</td>\n",
       "      <td>2019-07-01 12:01:41</td>\n",
       "      <td>NaN</td>\n",
       "      <td>2019-07-01 11:57:58</td>\n",
       "      <td>2019-07-01 11:32:28</td>\n",
       "    </tr>\n",
       "    <tr>\n",
       "      <th>2973</th>\n",
       "      <td>3082</td>\n",
       "      <td>NaN</td>\n",
       "      <td>NaN</td>\n",
       "      <td>2019-09-01 06:42:21</td>\n",
       "      <td>NaN</td>\n",
       "      <td>NaN</td>\n",
       "      <td>NaN</td>\n",
       "      <td>NaN</td>\n",
       "      <td>NaN</td>\n",
       "      <td>NaN</td>\n",
       "      <td>NaN</td>\n",
       "      <td>NaN</td>\n",
       "      <td>2019-09-01 06:52:52</td>\n",
       "      <td>NaN</td>\n",
       "      <td>2019-09-01 06:49:35</td>\n",
       "      <td>2019-09-01 06:42:21</td>\n",
       "    </tr>\n",
       "    <tr>\n",
       "      <th>2526</th>\n",
       "      <td>2622</td>\n",
       "      <td>NaN</td>\n",
       "      <td>NaN</td>\n",
       "      <td>2019-08-15 03:06:59</td>\n",
       "      <td>NaN</td>\n",
       "      <td>NaN</td>\n",
       "      <td>2019-08-15 03:36:05</td>\n",
       "      <td>NaN</td>\n",
       "      <td>NaN</td>\n",
       "      <td>NaN</td>\n",
       "      <td>NaN</td>\n",
       "      <td>2019-08-15 03:24:52</td>\n",
       "      <td>NaN</td>\n",
       "      <td>NaN</td>\n",
       "      <td>2019-08-15 03:12:31</td>\n",
       "      <td>NaN</td>\n",
       "    </tr>\n",
       "  </tbody>\n",
       "</table>\n",
       "</div>"
      ],
      "text/plain": [
       "       key Bulk 1 Bulk 2               Bulk 3               Bulk 4 Bulk 5  \\\n",
       "435    461    NaN    NaN                  NaN                  NaN    NaN   \n",
       "673    705    NaN    NaN  2019-05-31 00:03:29  2019-05-30 23:55:55    NaN   \n",
       "1511  1569    NaN    NaN                  NaN                  NaN    NaN   \n",
       "2973  3082    NaN    NaN  2019-09-01 06:42:21                  NaN    NaN   \n",
       "2526  2622    NaN    NaN  2019-08-15 03:06:59                  NaN    NaN   \n",
       "\n",
       "                   Bulk 6 Bulk 7 Bulk 8 Bulk 9              Bulk 10  \\\n",
       "435                   NaN    NaN    NaN    NaN  2019-05-21 03:31:46   \n",
       "673   2019-05-30 23:50:21    NaN    NaN    NaN                  NaN   \n",
       "1511                  NaN    NaN    NaN    NaN                  NaN   \n",
       "2973                  NaN    NaN    NaN    NaN                  NaN   \n",
       "2526  2019-08-15 03:36:05    NaN    NaN    NaN                  NaN   \n",
       "\n",
       "                  Bulk 11              Bulk 12 Bulk 13              Bulk 14  \\\n",
       "435                   NaN  2019-05-21 03:25:53     NaN  2019-05-21 03:18:46   \n",
       "673                   NaN                  NaN     NaN  2019-05-30 23:38:26   \n",
       "1511                  NaN  2019-07-01 12:01:41     NaN  2019-07-01 11:57:58   \n",
       "2973                  NaN  2019-09-01 06:52:52     NaN  2019-09-01 06:49:35   \n",
       "2526  2019-08-15 03:24:52                  NaN     NaN  2019-08-15 03:12:31   \n",
       "\n",
       "                  Bulk 15  \n",
       "435   2019-05-21 02:13:39  \n",
       "673                   NaN  \n",
       "1511  2019-07-01 11:32:28  \n",
       "2973  2019-09-01 06:42:21  \n",
       "2526                  NaN  "
      ]
     },
     "execution_count": 104,
     "metadata": {},
     "output_type": "execute_result"
    }
   ],
   "source": [
    "data_bulk_time.sample(5, random_state=RANDOM_STATE)"
   ]
  },
  {
   "cell_type": "code",
   "execution_count": 105,
   "id": "c7f9c647-0e68-4411-931f-9d3efd5c3f76",
   "metadata": {},
   "outputs": [
    {
     "data": {
      "text/html": [
       "<div>\n",
       "<style scoped>\n",
       "    .dataframe tbody tr th:only-of-type {\n",
       "        vertical-align: middle;\n",
       "    }\n",
       "\n",
       "    .dataframe tbody tr th {\n",
       "        vertical-align: top;\n",
       "    }\n",
       "\n",
       "    .dataframe thead th {\n",
       "        text-align: right;\n",
       "    }\n",
       "</style>\n",
       "<table border=\"1\" class=\"dataframe\">\n",
       "  <thead>\n",
       "    <tr style=\"text-align: right;\">\n",
       "      <th></th>\n",
       "      <th>key</th>\n",
       "      <th>Wire 1</th>\n",
       "      <th>Wire 2</th>\n",
       "      <th>Wire 3</th>\n",
       "      <th>Wire 4</th>\n",
       "      <th>Wire 5</th>\n",
       "      <th>Wire 6</th>\n",
       "      <th>Wire 7</th>\n",
       "      <th>Wire 8</th>\n",
       "      <th>Wire 9</th>\n",
       "    </tr>\n",
       "  </thead>\n",
       "  <tbody>\n",
       "    <tr>\n",
       "      <th>2141</th>\n",
       "      <td>2251</td>\n",
       "      <td>2019-08-01 13:50:17</td>\n",
       "      <td>NaN</td>\n",
       "      <td>NaN</td>\n",
       "      <td>NaN</td>\n",
       "      <td>NaN</td>\n",
       "      <td>NaN</td>\n",
       "      <td>NaN</td>\n",
       "      <td>NaN</td>\n",
       "      <td>NaN</td>\n",
       "    </tr>\n",
       "    <tr>\n",
       "      <th>174</th>\n",
       "      <td>190</td>\n",
       "      <td>2019-05-10 19:48:29</td>\n",
       "      <td>2019-05-10 19:41:39</td>\n",
       "      <td>NaN</td>\n",
       "      <td>NaN</td>\n",
       "      <td>NaN</td>\n",
       "      <td>NaN</td>\n",
       "      <td>NaN</td>\n",
       "      <td>NaN</td>\n",
       "      <td>NaN</td>\n",
       "    </tr>\n",
       "    <tr>\n",
       "      <th>1140</th>\n",
       "      <td>1208</td>\n",
       "      <td>2019-06-18 04:50:43</td>\n",
       "      <td>2019-06-18 04:45:39</td>\n",
       "      <td>NaN</td>\n",
       "      <td>NaN</td>\n",
       "      <td>NaN</td>\n",
       "      <td>NaN</td>\n",
       "      <td>NaN</td>\n",
       "      <td>NaN</td>\n",
       "      <td>NaN</td>\n",
       "    </tr>\n",
       "    <tr>\n",
       "      <th>2901</th>\n",
       "      <td>3060</td>\n",
       "      <td>2019-08-31 14:02:31</td>\n",
       "      <td>NaN</td>\n",
       "      <td>NaN</td>\n",
       "      <td>NaN</td>\n",
       "      <td>NaN</td>\n",
       "      <td>NaN</td>\n",
       "      <td>NaN</td>\n",
       "      <td>NaN</td>\n",
       "      <td>NaN</td>\n",
       "    </tr>\n",
       "    <tr>\n",
       "      <th>1651</th>\n",
       "      <td>1731</td>\n",
       "      <td>2019-07-06 20:21:52</td>\n",
       "      <td>NaN</td>\n",
       "      <td>NaN</td>\n",
       "      <td>NaN</td>\n",
       "      <td>NaN</td>\n",
       "      <td>NaN</td>\n",
       "      <td>NaN</td>\n",
       "      <td>NaN</td>\n",
       "      <td>NaN</td>\n",
       "    </tr>\n",
       "  </tbody>\n",
       "</table>\n",
       "</div>"
      ],
      "text/plain": [
       "       key               Wire 1               Wire 2 Wire 3 Wire 4 Wire 5  \\\n",
       "2141  2251  2019-08-01 13:50:17                  NaN    NaN    NaN    NaN   \n",
       "174    190  2019-05-10 19:48:29  2019-05-10 19:41:39    NaN    NaN    NaN   \n",
       "1140  1208  2019-06-18 04:50:43  2019-06-18 04:45:39    NaN    NaN    NaN   \n",
       "2901  3060  2019-08-31 14:02:31                  NaN    NaN    NaN    NaN   \n",
       "1651  1731  2019-07-06 20:21:52                  NaN    NaN    NaN    NaN   \n",
       "\n",
       "     Wire 6 Wire 7 Wire 8 Wire 9  \n",
       "2141    NaN    NaN    NaN    NaN  \n",
       "174     NaN    NaN    NaN    NaN  \n",
       "1140    NaN    NaN    NaN    NaN  \n",
       "2901    NaN    NaN    NaN    NaN  \n",
       "1651    NaN    NaN    NaN    NaN  "
      ]
     },
     "execution_count": 105,
     "metadata": {},
     "output_type": "execute_result"
    }
   ],
   "source": [
    "data_wire_time.sample(5, random_state=RANDOM_STATE)"
   ]
  },
  {
   "cell_type": "markdown",
   "id": "429aee67-a46d-425f-bdab-c1057f5b1594",
   "metadata": {},
   "source": [
    "Эти датафреймы в работе использоваться не будут, так как у нас задача регрессии, а не прогнозирования временных рядов"
   ]
  },
  {
   "cell_type": "markdown",
   "id": "1e1ac0f1-dea4-41ab-bdd1-23ec07636add",
   "metadata": {
    "tags": []
   },
   "source": [
    "## Результаты исследования данных (вывод)"
   ]
  },
  {
   "cell_type": "markdown",
   "id": "a5c7ea33-2d8b-419e-b0b6-9c107038a3da",
   "metadata": {},
   "source": [
    "Подведем итог по исследованным датасетам:\n",
    "* `data_arc` - убрать единичный выброс, сгенерировать новые признаки\n",
    "* `data_bulk` - отсутствующие значения заполнить нулями, выбрать для обучения целесообразные признаки, убрать единичные выбросы\n",
    "* `data_gas` - убрать единичные выбросы\n",
    "* `data_temp` - удалить пропуски, агрегировать по номеру цикла(температура на первой итерации - фича, температура на последней итерации - таргет), удалить слиишком низкую температуру, удалить циклы, состоящий из 1 итерации\n",
    "* `data_wire` - отсутствующие значения заполнить нулями, выбрать для обучения целесообразные признаки\n",
    "* `data_bulk_time` и `data_wire_time` - не используются  \n",
    "\n",
    "Также, требование заказчика: \n",
    "> При удалении производственного цикла из любого датасета, считать такой цикл дефектным. Соответсвенно, удалить его из всех остальных датасетов"
   ]
  },
  {
   "cell_type": "markdown",
   "id": "2f814a84-8c45-4bd8-9120-4dc9cd1bf183",
   "metadata": {
    "tags": []
   },
   "source": [
    "## План работы"
   ]
  },
  {
   "cell_type": "markdown",
   "id": "e011031f-5911-422f-8b0e-09d9b4b0305c",
   "metadata": {},
   "source": [
    "1. Загрузка данных\n",
    "2. Исследуем каждый датасет\n",
    "    * Общая информация\n",
    "    * Описательные статистики\n",
    "    * Несколько строк датасета\n",
    "    * Распределение признаков\n",
    "3. Предобработка\n",
    "    * Убираем из датасетов аномалии:\n",
    "        - отрицательная реактивная мощность\n",
    "        - слишком низкая температура\n",
    "        - отсутсвие температуры\n",
    "        - циклы, в которых всего 1 итерация нагрева\n",
    "        - признаки, где большинство значений пропущено (data_bulk и data_wire)\n",
    "    * Заполняем пропуски нулями (data_bulk и data_wire)\n",
    "    * Генерируем новые признаки (data_arc)\n",
    "    * Получаем температуру-признак и температуру-таргет (data_temp)\n",
    "    * Объединяем датасеты в один датафрейм\n",
    "    * Исследуем итоговый датафрейм(корреляция признаков)\n",
    "    * Разделяем на train/test выборки\n",
    "4. Выбор и проверка моделей\n",
    "    * Выбираем несколько моделей для изучения\n",
    "    * Если нужно масштабировать данные, делаем pipeline\n",
    "    * Подбираем гиперпараметры(gridsearch)\n",
    "    * Если подбирать гиперпараметры не нужно, используем cross_val_score\n",
    "    * Отбираем лучшую модель (лучший средний результат на кросс-валидации)\n",
    "5. Тестируем итоговую модель\n",
    "    * Тестируем лучшую модель на test выборке\n",
    "    * Сравниваем модель с константной\n",
    "    * Исследуем важность признаков\n",
    "6. отчет о проделанной работе"
   ]
  },
  {
   "cell_type": "markdown",
   "id": "3d259ab8-8e1f-464f-ae55-b77e9ae1075d",
   "metadata": {},
   "source": [
    "# Предобработка данных"
   ]
  },
  {
   "cell_type": "markdown",
   "id": "b01f4ace-7e15-4add-a2c7-5c58d871b674",
   "metadata": {},
   "source": [
    "## df_arc"
   ]
  },
  {
   "cell_type": "markdown",
   "id": "672c9fc4-ad01-4063-abca-c426887bf80d",
   "metadata": {},
   "source": [
    "Сначала уберем выброс"
   ]
  },
  {
   "cell_type": "code",
   "execution_count": 308,
   "id": "7f742605-87cb-4508-90ac-b28b269eab85",
   "metadata": {},
   "outputs": [
    {
     "data": {
      "text/html": [
       "<div>\n",
       "<style scoped>\n",
       "    .dataframe tbody tr th:only-of-type {\n",
       "        vertical-align: middle;\n",
       "    }\n",
       "\n",
       "    .dataframe tbody tr th {\n",
       "        vertical-align: top;\n",
       "    }\n",
       "\n",
       "    .dataframe thead th {\n",
       "        text-align: right;\n",
       "    }\n",
       "</style>\n",
       "<table border=\"1\" class=\"dataframe\">\n",
       "  <thead>\n",
       "    <tr style=\"text-align: right;\">\n",
       "      <th></th>\n",
       "      <th>key</th>\n",
       "      <th>Начало нагрева дугой</th>\n",
       "      <th>Конец нагрева дугой</th>\n",
       "      <th>active power</th>\n",
       "      <th>reactive power</th>\n",
       "    </tr>\n",
       "  </thead>\n",
       "  <tbody>\n",
       "    <tr>\n",
       "      <th>9778</th>\n",
       "      <td>2116</td>\n",
       "      <td>2019-07-28 02:07:12</td>\n",
       "      <td>2019-07-28 02:09:14</td>\n",
       "      <td>0.787549</td>\n",
       "      <td>0.693881</td>\n",
       "    </tr>\n",
       "    <tr>\n",
       "      <th>9779</th>\n",
       "      <td>2116</td>\n",
       "      <td>2019-07-28 02:13:10</td>\n",
       "      <td>2019-07-28 02:15:25</td>\n",
       "      <td>0.580263</td>\n",
       "      <td>0.411498</td>\n",
       "    </tr>\n",
       "    <tr>\n",
       "      <th>9780</th>\n",
       "      <td>2116</td>\n",
       "      <td>2019-07-28 02:22:08</td>\n",
       "      <td>2019-07-28 02:23:57</td>\n",
       "      <td>0.705344</td>\n",
       "      <td>-715.479924</td>\n",
       "    </tr>\n",
       "    <tr>\n",
       "      <th>9781</th>\n",
       "      <td>2116</td>\n",
       "      <td>2019-07-28 02:29:11</td>\n",
       "      <td>2019-07-28 02:30:18</td>\n",
       "      <td>0.563641</td>\n",
       "      <td>0.408513</td>\n",
       "    </tr>\n",
       "  </tbody>\n",
       "</table>\n",
       "</div>"
      ],
      "text/plain": [
       "       key Начало нагрева дугой  Конец нагрева дугой  active power  \\\n",
       "9778  2116  2019-07-28 02:07:12  2019-07-28 02:09:14      0.787549   \n",
       "9779  2116  2019-07-28 02:13:10  2019-07-28 02:15:25      0.580263   \n",
       "9780  2116  2019-07-28 02:22:08  2019-07-28 02:23:57      0.705344   \n",
       "9781  2116  2019-07-28 02:29:11  2019-07-28 02:30:18      0.563641   \n",
       "\n",
       "      reactive power  \n",
       "9778        0.693881  \n",
       "9779        0.411498  \n",
       "9780     -715.479924  \n",
       "9781        0.408513  "
      ]
     },
     "execution_count": 308,
     "metadata": {},
     "output_type": "execute_result"
    }
   ],
   "source": [
    "df_arc = data_arc.copy()\n",
    "df_arc.rename(columns={\"Активная мощность\": \"active power\", \"Реактивная мощность\": \"reactive power\"}, inplace=True)\n",
    "outliers = df_arc.loc[df_arc['reactive power'] < 0, 'key'].values\n",
    "#проверим, что все правильно работает\n",
    "df_arc.query('key.isin(@outliers)')"
   ]
  },
  {
   "cell_type": "code",
   "execution_count": 309,
   "id": "324ad839-cf94-4afd-bcbb-ccb6e9de5940",
   "metadata": {},
   "outputs": [],
   "source": [
    "df_arc = df_arc[~df_arc['key'].isin(outliers)]"
   ]
  },
  {
   "cell_type": "markdown",
   "id": "5a9fe693-f437-4f42-a135-4643bc994495",
   "metadata": {},
   "source": [
    "Сгенерируем новые признаки: длительность нагрева, полную мощность и энергию"
   ]
  },
  {
   "cell_type": "code",
   "execution_count": 310,
   "id": "5b3d1ba2-7fa3-4105-b901-410ab9d2825f",
   "metadata": {},
   "outputs": [
    {
     "data": {
      "text/html": [
       "<div>\n",
       "<style scoped>\n",
       "    .dataframe tbody tr th:only-of-type {\n",
       "        vertical-align: middle;\n",
       "    }\n",
       "\n",
       "    .dataframe tbody tr th {\n",
       "        vertical-align: top;\n",
       "    }\n",
       "\n",
       "    .dataframe thead th {\n",
       "        text-align: right;\n",
       "    }\n",
       "</style>\n",
       "<table border=\"1\" class=\"dataframe\">\n",
       "  <thead>\n",
       "    <tr style=\"text-align: right;\">\n",
       "      <th></th>\n",
       "      <th>key</th>\n",
       "      <th>active power</th>\n",
       "      <th>reactive power</th>\n",
       "      <th>duration</th>\n",
       "      <th>apparent power</th>\n",
       "      <th>energy</th>\n",
       "    </tr>\n",
       "  </thead>\n",
       "  <tbody>\n",
       "    <tr>\n",
       "      <th>0</th>\n",
       "      <td>1</td>\n",
       "      <td>0.305130</td>\n",
       "      <td>0.211253</td>\n",
       "      <td>228</td>\n",
       "      <td>0.371123</td>\n",
       "      <td>84.616003</td>\n",
       "    </tr>\n",
       "    <tr>\n",
       "      <th>1</th>\n",
       "      <td>1</td>\n",
       "      <td>0.765658</td>\n",
       "      <td>0.477438</td>\n",
       "      <td>185</td>\n",
       "      <td>0.902319</td>\n",
       "      <td>166.928978</td>\n",
       "    </tr>\n",
       "    <tr>\n",
       "      <th>2</th>\n",
       "      <td>1</td>\n",
       "      <td>0.580313</td>\n",
       "      <td>0.430460</td>\n",
       "      <td>172</td>\n",
       "      <td>0.722536</td>\n",
       "      <td>124.276277</td>\n",
       "    </tr>\n",
       "    <tr>\n",
       "      <th>3</th>\n",
       "      <td>1</td>\n",
       "      <td>0.518496</td>\n",
       "      <td>0.379979</td>\n",
       "      <td>365</td>\n",
       "      <td>0.642824</td>\n",
       "      <td>234.630603</td>\n",
       "    </tr>\n",
       "    <tr>\n",
       "      <th>4</th>\n",
       "      <td>1</td>\n",
       "      <td>0.867133</td>\n",
       "      <td>0.643691</td>\n",
       "      <td>148</td>\n",
       "      <td>1.079934</td>\n",
       "      <td>159.830252</td>\n",
       "    </tr>\n",
       "  </tbody>\n",
       "</table>\n",
       "</div>"
      ],
      "text/plain": [
       "   key  active power  reactive power  duration  apparent power      energy\n",
       "0    1      0.305130        0.211253       228        0.371123   84.616003\n",
       "1    1      0.765658        0.477438       185        0.902319  166.928978\n",
       "2    1      0.580313        0.430460       172        0.722536  124.276277\n",
       "3    1      0.518496        0.379979       365        0.642824  234.630603\n",
       "4    1      0.867133        0.643691       148        1.079934  159.830252"
      ]
     },
     "metadata": {},
     "output_type": "display_data"
    },
    {
     "data": {
      "text/plain": [
       "(14872, 6)"
      ]
     },
     "execution_count": 310,
     "metadata": {},
     "output_type": "execute_result"
    }
   ],
   "source": [
    "df_arc['Начало нагрева дугой'] = pd.to_datetime(df_arc['Начало нагрева дугой'])\n",
    "df_arc['Конец нагрева дугой'] = pd.to_datetime(df_arc['Конец нагрева дугой'])\n",
    "\n",
    "df_arc['duration'] = (df_arc['Конец нагрева дугой'] - df_arc['Начало нагрева дугой']).dt.total_seconds().astype('int16')\n",
    "df_arc['apparent power'] = df_arc.apply(lambda x: np.hypot(x['active power'], x['reactive power']), axis=1)\n",
    "df_arc['energy'] = df_arc['apparent power'] * df_arc['duration']\n",
    "\n",
    "\n",
    "df_arc = df_arc.drop(['Начало нагрева дугой', 'Конец нагрева дугой'], axis=1)\n",
    "\n",
    "display(df_arc.head())\n",
    "df_arc.shape"
   ]
  },
  {
   "cell_type": "markdown",
   "id": "6bc2074d-adb3-47a5-8aed-3d1c0b51426f",
   "metadata": {},
   "source": [
    "Теперь агрегируем каждую партию в одну строку"
   ]
  },
  {
   "cell_type": "code",
   "execution_count": 311,
   "id": "685598a4-a9d5-4926-b669-df60a4e5a35a",
   "metadata": {},
   "outputs": [
    {
     "data": {
      "text/html": [
       "<div>\n",
       "<style scoped>\n",
       "    .dataframe tbody tr th:only-of-type {\n",
       "        vertical-align: middle;\n",
       "    }\n",
       "\n",
       "    .dataframe tbody tr th {\n",
       "        vertical-align: top;\n",
       "    }\n",
       "\n",
       "    .dataframe thead th {\n",
       "        text-align: right;\n",
       "    }\n",
       "</style>\n",
       "<table border=\"1\" class=\"dataframe\">\n",
       "  <thead>\n",
       "    <tr style=\"text-align: right;\">\n",
       "      <th></th>\n",
       "      <th>key</th>\n",
       "      <th>active power</th>\n",
       "      <th>reactive power</th>\n",
       "      <th>duration</th>\n",
       "      <th>apparent power</th>\n",
       "      <th>energy</th>\n",
       "    </tr>\n",
       "  </thead>\n",
       "  <tbody>\n",
       "    <tr>\n",
       "      <th>0</th>\n",
       "      <td>1</td>\n",
       "      <td>3.036730</td>\n",
       "      <td>2.142821</td>\n",
       "      <td>1098</td>\n",
       "      <td>3.718736</td>\n",
       "      <td>770.282114</td>\n",
       "    </tr>\n",
       "    <tr>\n",
       "      <th>1</th>\n",
       "      <td>2</td>\n",
       "      <td>2.139408</td>\n",
       "      <td>1.453357</td>\n",
       "      <td>811</td>\n",
       "      <td>2.588349</td>\n",
       "      <td>481.760005</td>\n",
       "    </tr>\n",
       "    <tr>\n",
       "      <th>2</th>\n",
       "      <td>3</td>\n",
       "      <td>4.063641</td>\n",
       "      <td>2.937457</td>\n",
       "      <td>655</td>\n",
       "      <td>5.019223</td>\n",
       "      <td>722.837668</td>\n",
       "    </tr>\n",
       "    <tr>\n",
       "      <th>3</th>\n",
       "      <td>4</td>\n",
       "      <td>2.706489</td>\n",
       "      <td>2.056992</td>\n",
       "      <td>741</td>\n",
       "      <td>3.400038</td>\n",
       "      <td>683.455597</td>\n",
       "    </tr>\n",
       "    <tr>\n",
       "      <th>4</th>\n",
       "      <td>5</td>\n",
       "      <td>2.252950</td>\n",
       "      <td>1.687991</td>\n",
       "      <td>869</td>\n",
       "      <td>2.816980</td>\n",
       "      <td>512.169934</td>\n",
       "    </tr>\n",
       "  </tbody>\n",
       "</table>\n",
       "</div>"
      ],
      "text/plain": [
       "   key  active power  reactive power  duration  apparent power      energy\n",
       "0    1      3.036730        2.142821      1098        3.718736  770.282114\n",
       "1    2      2.139408        1.453357       811        2.588349  481.760005\n",
       "2    3      4.063641        2.937457       655        5.019223  722.837668\n",
       "3    4      2.706489        2.056992       741        3.400038  683.455597\n",
       "4    5      2.252950        1.687991       869        2.816980  512.169934"
      ]
     },
     "execution_count": 311,
     "metadata": {},
     "output_type": "execute_result"
    }
   ],
   "source": [
    "df_arc = df_arc.groupby('key', as_index=False).sum()\n",
    "df_arc.head()"
   ]
  },
  {
   "cell_type": "code",
   "execution_count": 312,
   "id": "ff64fdec-fdaa-42e4-9387-14999b1f5f4c",
   "metadata": {},
   "outputs": [
    {
     "name": "stdout",
     "output_type": "stream",
     "text": [
      "<class 'pandas.core.frame.DataFrame'>\n",
      "RangeIndex: 3213 entries, 0 to 3212\n",
      "Data columns (total 6 columns):\n",
      " #   Column          Non-Null Count  Dtype  \n",
      "---  ------          --------------  -----  \n",
      " 0   key             3213 non-null   int64  \n",
      " 1   active power    3213 non-null   float64\n",
      " 2   reactive power  3213 non-null   float64\n",
      " 3   duration        3213 non-null   int16  \n",
      " 4   apparent power  3213 non-null   float64\n",
      " 5   energy          3213 non-null   float64\n",
      "dtypes: float64(4), int16(1), int64(1)\n",
      "memory usage: 131.9 KB\n"
     ]
    }
   ],
   "source": [
    "df_arc.info()"
   ]
  },
  {
   "cell_type": "markdown",
   "id": "44c69a15-2faa-4f48-80ed-b4e489a4b988",
   "metadata": {},
   "source": [
    "## df_bulk"
   ]
  },
  {
   "cell_type": "markdown",
   "id": "9ba90303-f0f3-4916-ba48-d27c5ab08a03",
   "metadata": {},
   "source": [
    "Оставим только те столбцы, где пустых значений меньше половины  \n",
    "А сами пропуск заполним нулями"
   ]
  },
  {
   "cell_type": "code",
   "execution_count": 313,
   "id": "2a04c5c2-a031-439a-b31a-3c2092e01e29",
   "metadata": {},
   "outputs": [
    {
     "name": "stdout",
     "output_type": "stream",
     "text": [
      "<class 'pandas.core.frame.DataFrame'>\n",
      "RangeIndex: 3129 entries, 0 to 3128\n",
      "Data columns (total 16 columns):\n",
      " #   Column   Non-Null Count  Dtype  \n",
      "---  ------   --------------  -----  \n",
      " 0   key      3129 non-null   int64  \n",
      " 1   Bulk 1   252 non-null    float64\n",
      " 2   Bulk 2   22 non-null     float64\n",
      " 3   Bulk 3   1298 non-null   float64\n",
      " 4   Bulk 4   1014 non-null   float64\n",
      " 5   Bulk 5   77 non-null     float64\n",
      " 6   Bulk 6   576 non-null    float64\n",
      " 7   Bulk 7   25 non-null     float64\n",
      " 8   Bulk 8   1 non-null      float64\n",
      " 9   Bulk 9   19 non-null     float64\n",
      " 10  Bulk 10  176 non-null    float64\n",
      " 11  Bulk 11  177 non-null    float64\n",
      " 12  Bulk 12  2450 non-null   float64\n",
      " 13  Bulk 13  18 non-null     float64\n",
      " 14  Bulk 14  2806 non-null   float64\n",
      " 15  Bulk 15  2248 non-null   float64\n",
      "dtypes: float64(15), int64(1)\n",
      "memory usage: 391.2 KB\n"
     ]
    }
   ],
   "source": [
    "data_bulk.info()"
   ]
  },
  {
   "cell_type": "code",
   "execution_count": 314,
   "id": "ea26a897-9027-401f-8908-19d18f7f3fe8",
   "metadata": {},
   "outputs": [],
   "source": [
    "df_bulk = data_bulk[['key', 'Bulk 12', 'Bulk 14', 'Bulk 15']].copy()\n",
    "df_bulk.fillna(0, inplace=True)"
   ]
  },
  {
   "cell_type": "markdown",
   "id": "d2de2c49-3686-42cb-b4bf-0b9ff4867beb",
   "metadata": {},
   "source": [
    "Уберем выбросы"
   ]
  },
  {
   "cell_type": "code",
   "execution_count": 315,
   "id": "ced6ea8b-5737-4c0b-a98d-ee2e3786de36",
   "metadata": {},
   "outputs": [
    {
     "name": "stdout",
     "output_type": "stream",
     "text": [
      "<class 'pandas.core.frame.DataFrame'>\n",
      "Int64Index: 3126 entries, 0 to 3128\n",
      "Data columns (total 4 columns):\n",
      " #   Column   Non-Null Count  Dtype  \n",
      "---  ------   --------------  -----  \n",
      " 0   key      3126 non-null   int64  \n",
      " 1   Bulk 12  3126 non-null   float64\n",
      " 2   Bulk 14  3126 non-null   float64\n",
      " 3   Bulk 15  3126 non-null   float64\n",
      "dtypes: float64(3), int64(1)\n",
      "memory usage: 122.1 KB\n"
     ]
    }
   ],
   "source": [
    "outliers = df_bulk.loc[df_bulk['Bulk 12'] > 800, 'key'].values\n",
    "df_bulk = df_bulk[~df_bulk['key'].isin(outliers)]\n",
    "df_bulk.info()"
   ]
  },
  {
   "cell_type": "markdown",
   "id": "710e9608-f38a-41e0-965b-92c2894e8df2",
   "metadata": {},
   "source": [
    "## df_gas"
   ]
  },
  {
   "cell_type": "markdown",
   "id": "7bfa3a1d-b64f-407a-8bb5-33b67246c023",
   "metadata": {},
   "source": [
    "Уберем выбросы"
   ]
  },
  {
   "cell_type": "code",
   "execution_count": 316,
   "id": "e135621e-db39-47a7-bde5-6708770fc390",
   "metadata": {},
   "outputs": [
    {
     "name": "stdout",
     "output_type": "stream",
     "text": [
      "<class 'pandas.core.frame.DataFrame'>\n",
      "Int64Index: 3231 entries, 0 to 3238\n",
      "Data columns (total 2 columns):\n",
      " #   Column  Non-Null Count  Dtype  \n",
      "---  ------  --------------  -----  \n",
      " 0   key     3231 non-null   int64  \n",
      " 1   gas     3231 non-null   float64\n",
      "dtypes: float64(1), int64(1)\n",
      "memory usage: 75.7 KB\n"
     ]
    }
   ],
   "source": [
    "df_gas = data_gas.rename(columns={'Газ 1':'gas'}).copy()\n",
    "outliers = df_gas.loc[df_gas['gas'] > 40, 'key'].values\n",
    "df_gas = df_gas[~df_gas['key'].isin(outliers)]\n",
    "df_gas.info()"
   ]
  },
  {
   "cell_type": "markdown",
   "id": "5dfd6ba5-5c8a-4527-a626-97ce09801389",
   "metadata": {},
   "source": [
    "## df_wire"
   ]
  },
  {
   "cell_type": "markdown",
   "id": "98e9bcb7-6cd1-4738-a252-1985ad178681",
   "metadata": {},
   "source": [
    "Оставим только те столбцы, где пустых значений меньше половины  \n",
    "А сами пропуск заполним нулями"
   ]
  },
  {
   "cell_type": "code",
   "execution_count": 317,
   "id": "7553357e-453d-48b7-9a67-382872034809",
   "metadata": {},
   "outputs": [
    {
     "name": "stdout",
     "output_type": "stream",
     "text": [
      "<class 'pandas.core.frame.DataFrame'>\n",
      "RangeIndex: 3081 entries, 0 to 3080\n",
      "Data columns (total 10 columns):\n",
      " #   Column  Non-Null Count  Dtype  \n",
      "---  ------  --------------  -----  \n",
      " 0   key     3081 non-null   int64  \n",
      " 1   Wire 1  3055 non-null   float64\n",
      " 2   Wire 2  1079 non-null   float64\n",
      " 3   Wire 3  63 non-null     float64\n",
      " 4   Wire 4  14 non-null     float64\n",
      " 5   Wire 5  1 non-null      float64\n",
      " 6   Wire 6  73 non-null     float64\n",
      " 7   Wire 7  11 non-null     float64\n",
      " 8   Wire 8  19 non-null     float64\n",
      " 9   Wire 9  29 non-null     float64\n",
      "dtypes: float64(9), int64(1)\n",
      "memory usage: 240.8 KB\n"
     ]
    }
   ],
   "source": [
    "data_wire.info()"
   ]
  },
  {
   "cell_type": "code",
   "execution_count": 318,
   "id": "b7bda06c-e7c1-4b74-8247-a044cadd3982",
   "metadata": {},
   "outputs": [
    {
     "name": "stdout",
     "output_type": "stream",
     "text": [
      "<class 'pandas.core.frame.DataFrame'>\n",
      "RangeIndex: 3081 entries, 0 to 3080\n",
      "Data columns (total 2 columns):\n",
      " #   Column  Non-Null Count  Dtype  \n",
      "---  ------  --------------  -----  \n",
      " 0   key     3081 non-null   int64  \n",
      " 1   Wire 1  3081 non-null   float64\n",
      "dtypes: float64(1), int64(1)\n",
      "memory usage: 48.3 KB\n"
     ]
    }
   ],
   "source": [
    "df_wire = data_wire[['key', 'Wire 1']].copy()\n",
    "df_wire.fillna(0, inplace=True)\n",
    "df_wire.info()"
   ]
  },
  {
   "cell_type": "markdown",
   "id": "d4f72f25-400c-4ca5-93dd-7fb94213a2ac",
   "metadata": {},
   "source": [
    "## df_temp"
   ]
  },
  {
   "cell_type": "markdown",
   "id": "7ce1320a-ecaa-412d-aff4-7ba7c4fd1095",
   "metadata": {},
   "source": [
    "Удалим партии, где встречаются аномально низкие температуры"
   ]
  },
  {
   "cell_type": "code",
   "execution_count": 326,
   "id": "5c2582bb-b861-43ed-b0c8-6fbbafa3d0bd",
   "metadata": {},
   "outputs": [],
   "source": [
    "df_temp = data_temp.drop('Время замера', axis=1).rename(columns={'Температура':'temp'}).copy()\n",
    "outliers = df_temp.loc[df_temp['temp'] < 1500, 'key'].values\n",
    "df_temp = df_temp[~df_temp['key'].isin(outliers)]"
   ]
  },
  {
   "cell_type": "markdown",
   "id": "6488bced-7b0a-42ab-962c-eb7b7df9fb59",
   "metadata": {},
   "source": [
    "Уберем партии, где есть пропуски температур"
   ]
  },
  {
   "cell_type": "code",
   "execution_count": 327,
   "id": "6c468fd7-ad63-486b-89c1-b0667322f03d",
   "metadata": {},
   "outputs": [],
   "source": [
    "outliers = df_temp.loc[df_temp['temp'].isna(), 'key'].values\n",
    "df_temp = df_temp[~df_temp['key'].isin(outliers)]"
   ]
  },
  {
   "cell_type": "markdown",
   "id": "746f1274-84aa-4548-9ab2-a345d6892d35",
   "metadata": {},
   "source": [
    "Для каждой партии найдем первое измерение температуры(будем использовать как признак) и последнее(наш таргет)"
   ]
  },
  {
   "cell_type": "code",
   "execution_count": 328,
   "id": "8f62814c-2f88-4d0f-92b7-d7e2562c0adc",
   "metadata": {},
   "outputs": [
    {
     "data": {
      "text/html": [
       "<div>\n",
       "<style scoped>\n",
       "    .dataframe tbody tr th:only-of-type {\n",
       "        vertical-align: middle;\n",
       "    }\n",
       "\n",
       "    .dataframe tbody tr th {\n",
       "        vertical-align: top;\n",
       "    }\n",
       "\n",
       "    .dataframe thead th {\n",
       "        text-align: right;\n",
       "    }\n",
       "</style>\n",
       "<table border=\"1\" class=\"dataframe\">\n",
       "  <thead>\n",
       "    <tr style=\"text-align: right;\">\n",
       "      <th></th>\n",
       "      <th>key</th>\n",
       "      <th>count</th>\n",
       "      <th>temp</th>\n",
       "      <th>target temp</th>\n",
       "    </tr>\n",
       "  </thead>\n",
       "  <tbody>\n",
       "    <tr>\n",
       "      <th>0</th>\n",
       "      <td>1</td>\n",
       "      <td>6</td>\n",
       "      <td>1571.0</td>\n",
       "      <td>1613.0</td>\n",
       "    </tr>\n",
       "    <tr>\n",
       "      <th>1</th>\n",
       "      <td>2</td>\n",
       "      <td>5</td>\n",
       "      <td>1581.0</td>\n",
       "      <td>1602.0</td>\n",
       "    </tr>\n",
       "    <tr>\n",
       "      <th>2</th>\n",
       "      <td>3</td>\n",
       "      <td>6</td>\n",
       "      <td>1596.0</td>\n",
       "      <td>1599.0</td>\n",
       "    </tr>\n",
       "    <tr>\n",
       "      <th>3</th>\n",
       "      <td>4</td>\n",
       "      <td>5</td>\n",
       "      <td>1601.0</td>\n",
       "      <td>1625.0</td>\n",
       "    </tr>\n",
       "    <tr>\n",
       "      <th>4</th>\n",
       "      <td>5</td>\n",
       "      <td>5</td>\n",
       "      <td>1576.0</td>\n",
       "      <td>1602.0</td>\n",
       "    </tr>\n",
       "  </tbody>\n",
       "</table>\n",
       "</div>"
      ],
      "text/plain": [
       "   key  count    temp  target temp\n",
       "0    1      6  1571.0       1613.0\n",
       "1    2      5  1581.0       1602.0\n",
       "2    3      6  1596.0       1599.0\n",
       "3    4      5  1601.0       1625.0\n",
       "4    5      5  1576.0       1602.0"
      ]
     },
     "execution_count": 328,
     "metadata": {},
     "output_type": "execute_result"
    }
   ],
   "source": [
    "df_temp = df_temp.groupby('key').agg(['count', 'first', 'last']).droplevel(0, axis=1).reset_index()\n",
    "df_temp.rename(columns={\"first\": \"temp\", \"last\": \"target temp\"}, inplace=True)\n",
    "df_temp.head()"
   ]
  },
  {
   "cell_type": "markdown",
   "id": "76c120af-231a-43b0-a273-ba5f20b4f1c0",
   "metadata": {},
   "source": [
    "Партии, в которых всего одно измерение температуры удалим(в таких партиях получается признак = таргет)"
   ]
  },
  {
   "cell_type": "code",
   "execution_count": 329,
   "id": "45934f62-2092-4fa6-a24b-eb4e0c456506",
   "metadata": {},
   "outputs": [
    {
     "name": "stdout",
     "output_type": "stream",
     "text": [
      "<class 'pandas.core.frame.DataFrame'>\n",
      "Int64Index: 2471 entries, 0 to 2472\n",
      "Data columns (total 3 columns):\n",
      " #   Column       Non-Null Count  Dtype  \n",
      "---  ------       --------------  -----  \n",
      " 0   key          2471 non-null   int64  \n",
      " 1   temp         2471 non-null   float64\n",
      " 2   target temp  2471 non-null   float64\n",
      "dtypes: float64(2), int64(1)\n",
      "memory usage: 77.2 KB\n"
     ]
    }
   ],
   "source": [
    "df_temp = df_temp[df_temp['count'] > 1].drop('count', axis=1)\n",
    "df_temp.info()"
   ]
  },
  {
   "cell_type": "markdown",
   "id": "66078265-fe0a-4ef7-bb2e-08f961923daa",
   "metadata": {},
   "source": [
    "## Собираем признаки в один датафрейм"
   ]
  },
  {
   "cell_type": "markdown",
   "id": "4bfd993b-66ed-43e5-81bf-7c4c59032c5f",
   "metadata": {},
   "source": [
    "Собираем общий датафрейм"
   ]
  },
  {
   "cell_type": "code",
   "execution_count": 335,
   "id": "3edb268a-a44c-475f-8381-0300a1638b57",
   "metadata": {},
   "outputs": [],
   "source": [
    "df_general = pd.merge(\n",
    "    left=df_arc, right=df_bulk, how='inner', on='key')\n",
    "df_general = pd.merge(\n",
    "    df_general, df_gas, 'inner', 'key')\n",
    "df_general = pd.merge(\n",
    "    df_general, df_wire, 'inner', 'key')\n",
    "df_general = pd.merge(\n",
    "    df_general, df_temp, 'inner', 'key')\n",
    "df_general.drop('key', axis=1, inplace=True)"
   ]
  },
  {
   "cell_type": "code",
   "execution_count": 336,
   "id": "a895c03a-d24c-47fe-947b-f81776bd7810",
   "metadata": {},
   "outputs": [
    {
     "name": "stdout",
     "output_type": "stream",
     "text": [
      "<class 'pandas.core.frame.DataFrame'>\n",
      "Int64Index: 2315 entries, 0 to 2314\n",
      "Data columns (total 12 columns):\n",
      " #   Column          Non-Null Count  Dtype  \n",
      "---  ------          --------------  -----  \n",
      " 0   active power    2315 non-null   float64\n",
      " 1   reactive power  2315 non-null   float64\n",
      " 2   duration        2315 non-null   int16  \n",
      " 3   apparent power  2315 non-null   float64\n",
      " 4   energy          2315 non-null   float64\n",
      " 5   Bulk 12         2315 non-null   float64\n",
      " 6   Bulk 14         2315 non-null   float64\n",
      " 7   Bulk 15         2315 non-null   float64\n",
      " 8   gas             2315 non-null   float64\n",
      " 9   Wire 1          2315 non-null   float64\n",
      " 10  temp            2315 non-null   float64\n",
      " 11  target temp     2315 non-null   float64\n",
      "dtypes: float64(11), int16(1)\n",
      "memory usage: 221.6 KB\n"
     ]
    },
    {
     "data": {
      "text/plain": [
       "None"
      ]
     },
     "metadata": {},
     "output_type": "display_data"
    },
    {
     "data": {
      "text/html": [
       "<div>\n",
       "<style scoped>\n",
       "    .dataframe tbody tr th:only-of-type {\n",
       "        vertical-align: middle;\n",
       "    }\n",
       "\n",
       "    .dataframe tbody tr th {\n",
       "        vertical-align: top;\n",
       "    }\n",
       "\n",
       "    .dataframe thead th {\n",
       "        text-align: right;\n",
       "    }\n",
       "</style>\n",
       "<table border=\"1\" class=\"dataframe\">\n",
       "  <thead>\n",
       "    <tr style=\"text-align: right;\">\n",
       "      <th></th>\n",
       "      <th>active power</th>\n",
       "      <th>reactive power</th>\n",
       "      <th>duration</th>\n",
       "      <th>apparent power</th>\n",
       "      <th>energy</th>\n",
       "      <th>Bulk 12</th>\n",
       "      <th>Bulk 14</th>\n",
       "      <th>Bulk 15</th>\n",
       "      <th>gas</th>\n",
       "      <th>Wire 1</th>\n",
       "      <th>temp</th>\n",
       "      <th>target temp</th>\n",
       "    </tr>\n",
       "  </thead>\n",
       "  <tbody>\n",
       "    <tr>\n",
       "      <th>0</th>\n",
       "      <td>3.036730</td>\n",
       "      <td>2.142821</td>\n",
       "      <td>1098</td>\n",
       "      <td>3.718736</td>\n",
       "      <td>770.282114</td>\n",
       "      <td>206.0</td>\n",
       "      <td>150.0</td>\n",
       "      <td>154.0</td>\n",
       "      <td>29.749986</td>\n",
       "      <td>60.059998</td>\n",
       "      <td>1571.0</td>\n",
       "      <td>1613.0</td>\n",
       "    </tr>\n",
       "    <tr>\n",
       "      <th>1</th>\n",
       "      <td>2.139408</td>\n",
       "      <td>1.453357</td>\n",
       "      <td>811</td>\n",
       "      <td>2.588349</td>\n",
       "      <td>481.760005</td>\n",
       "      <td>206.0</td>\n",
       "      <td>149.0</td>\n",
       "      <td>154.0</td>\n",
       "      <td>12.555561</td>\n",
       "      <td>96.052315</td>\n",
       "      <td>1581.0</td>\n",
       "      <td>1602.0</td>\n",
       "    </tr>\n",
       "    <tr>\n",
       "      <th>2</th>\n",
       "      <td>4.063641</td>\n",
       "      <td>2.937457</td>\n",
       "      <td>655</td>\n",
       "      <td>5.019223</td>\n",
       "      <td>722.837668</td>\n",
       "      <td>205.0</td>\n",
       "      <td>152.0</td>\n",
       "      <td>153.0</td>\n",
       "      <td>28.554793</td>\n",
       "      <td>91.160157</td>\n",
       "      <td>1596.0</td>\n",
       "      <td>1599.0</td>\n",
       "    </tr>\n",
       "    <tr>\n",
       "      <th>3</th>\n",
       "      <td>2.706489</td>\n",
       "      <td>2.056992</td>\n",
       "      <td>741</td>\n",
       "      <td>3.400038</td>\n",
       "      <td>683.455597</td>\n",
       "      <td>207.0</td>\n",
       "      <td>153.0</td>\n",
       "      <td>154.0</td>\n",
       "      <td>18.841219</td>\n",
       "      <td>89.063515</td>\n",
       "      <td>1601.0</td>\n",
       "      <td>1625.0</td>\n",
       "    </tr>\n",
       "    <tr>\n",
       "      <th>4</th>\n",
       "      <td>2.252950</td>\n",
       "      <td>1.687991</td>\n",
       "      <td>869</td>\n",
       "      <td>2.816980</td>\n",
       "      <td>512.169934</td>\n",
       "      <td>203.0</td>\n",
       "      <td>151.0</td>\n",
       "      <td>152.0</td>\n",
       "      <td>5.413692</td>\n",
       "      <td>89.238236</td>\n",
       "      <td>1576.0</td>\n",
       "      <td>1602.0</td>\n",
       "    </tr>\n",
       "  </tbody>\n",
       "</table>\n",
       "</div>"
      ],
      "text/plain": [
       "   active power  reactive power  duration  apparent power      energy  \\\n",
       "0      3.036730        2.142821      1098        3.718736  770.282114   \n",
       "1      2.139408        1.453357       811        2.588349  481.760005   \n",
       "2      4.063641        2.937457       655        5.019223  722.837668   \n",
       "3      2.706489        2.056992       741        3.400038  683.455597   \n",
       "4      2.252950        1.687991       869        2.816980  512.169934   \n",
       "\n",
       "   Bulk 12  Bulk 14  Bulk 15        gas     Wire 1    temp  target temp  \n",
       "0    206.0    150.0    154.0  29.749986  60.059998  1571.0       1613.0  \n",
       "1    206.0    149.0    154.0  12.555561  96.052315  1581.0       1602.0  \n",
       "2    205.0    152.0    153.0  28.554793  91.160157  1596.0       1599.0  \n",
       "3    207.0    153.0    154.0  18.841219  89.063515  1601.0       1625.0  \n",
       "4    203.0    151.0    152.0   5.413692  89.238236  1576.0       1602.0  "
      ]
     },
     "execution_count": 336,
     "metadata": {},
     "output_type": "execute_result"
    }
   ],
   "source": [
    "display(df_general.info())\n",
    "df_general.head()"
   ]
  },
  {
   "cell_type": "markdown",
   "id": "1c0cf48f-ae5d-4646-87f3-cc150b9fa075",
   "metadata": {},
   "source": [
    "## Исследуем полученный датафрейм"
   ]
  },
  {
   "cell_type": "markdown",
   "id": "76d329d6-165e-4e9c-8924-cfed054104c9",
   "metadata": {},
   "source": [
    "### Мощности"
   ]
  },
  {
   "cell_type": "code",
   "execution_count": 413,
   "id": "fc775967-6343-4df9-91bd-04ffd8e53f40",
   "metadata": {},
   "outputs": [
    {
     "data": {
      "image/png": "[encoded data removed]",
      "text/plain": [
       "<Figure size 900x200 with 1 Axes>"
      ]
     },
     "metadata": {},
     "output_type": "display_data"
    }
   ],
   "source": [
    "plt.figure(figsize=(9, 2))\n",
    "fig = sns.histplot(df_general['active power'], label='active', element=\"step\")\n",
    "fig = sns.histplot(df_general['reactive power'], label='reactive', alpha=0.6)\n",
    "fig = sns.histplot(df_general['apparent power'], label='apparent', element=\"step\", alpha=0.3)\n",
    "plt.ylabel('кол-во')\n",
    "plt.xlabel('')\n",
    "plt.title('Распределение мощностей')\n",
    "plt.legend(title='Power')\n",
    "plt.show()"
   ]
  },
  {
   "cell_type": "markdown",
   "id": "c0c427ac-7300-4e46-867d-00da7c978e70",
   "metadata": {},
   "source": [
    "### Длительность и энергия нагрева"
   ]
  },
  {
   "cell_type": "code",
   "execution_count": 416,
   "id": "778eea3c-5ea8-40ad-b9d3-78590384d07a",
   "metadata": {},
   "outputs": [
    {
     "data": {
      "image/png": "[encoded data removed]",
      "text/plain": [
       "<Figure size 900x200 with 1 Axes>"
      ]
     },
     "metadata": {},
     "output_type": "display_data"
    }
   ],
   "source": [
    "plt.figure(figsize=(9, 2))\n",
    "fig = sns.histplot(df_general['energy'], label='energy', alpha=0.7)\n",
    "fig = sns.histplot(df_general['duration'], label='duration', element=\"step\", alpha=0.3)\n",
    "plt.ylabel('кол-во')\n",
    "plt.xlabel('')\n",
    "plt.title('Распределение duration и energy')\n",
    "plt.legend()\n",
    "plt.show()"
   ]
  },
  {
   "cell_type": "markdown",
   "id": "f90295e2-0578-4086-96ab-aa80c5cea6bb",
   "metadata": {},
   "source": [
    "### Сыпучие материалы"
   ]
  },
  {
   "cell_type": "code",
   "execution_count": 425,
   "id": "fb7f7362-d3b1-4379-a228-380f9dbed519",
   "metadata": {},
   "outputs": [
    {
     "data": {
      "image/png": "[encoded data removed]",
      "text/plain": [
       "<Figure size 900x200 with 1 Axes>"
      ]
     },
     "metadata": {},
     "output_type": "display_data"
    }
   ],
   "source": [
    "plt.figure(figsize=(9, 2))\n",
    "fig = sns.kdeplot(df_general['Bulk 12'], label='Bulk 12')\n",
    "fig = sns.kdeplot(df_general['Bulk 14'], label='Bulk 14')\n",
    "fig = sns.kdeplot(df_general['Bulk 15'], label='Bulk 15')\n",
    "plt.yticks([])\n",
    "plt.ylabel('плотность')\n",
    "plt.xlabel('')\n",
    "plt.title('Распределение сыпучих материалов')\n",
    "plt.legend()\n",
    "plt.show()"
   ]
  },
  {
   "cell_type": "markdown",
   "id": "d0d75193-e659-4175-8386-e843c4ca4e6d",
   "metadata": {},
   "source": [
    "### Газ и проволочные материалы"
   ]
  },
  {
   "cell_type": "code",
   "execution_count": 431,
   "id": "78c60efc-5058-4d3e-b15c-5829f2310ce3",
   "metadata": {},
   "outputs": [
    {
     "data": {
      "image/png": "[encoded data removed]",
      "text/plain": [
       "<Figure size 900x100 with 1 Axes>"
      ]
     },
     "metadata": {},
     "output_type": "display_data"
    },
    {
     "data": {
      "image/png": "[encoded data removed]",
      "text/plain": [
       "<Figure size 900x100 with 1 Axes>"
      ]
     },
     "metadata": {},
     "output_type": "display_data"
    }
   ],
   "source": [
    "plt.figure(figsize=(9, 1))\n",
    "fig = sns.histplot(df_general['gas'])\n",
    "plt.yticks([])\n",
    "plt.ylabel('кол-во')\n",
    "plt.xlabel('')\n",
    "plt.title('Распределение признака gas')\n",
    "plt.show()\n",
    "plt.figure(figsize=(9, 1))\n",
    "fig = sns.histplot(df_general['Wire 1'])\n",
    "plt.yticks([])\n",
    "plt.ylabel('кол-во')\n",
    "plt.xlabel('')\n",
    "plt.title('Распределение признака wire 1')\n",
    "plt.show()"
   ]
  },
  {
   "cell_type": "markdown",
   "id": "93f70a75-2cf0-4bf4-87f5-86537c09e4ce",
   "metadata": {},
   "source": [
    "### Температура первого нагрева и температура таргет"
   ]
  },
  {
   "cell_type": "code",
   "execution_count": 432,
   "id": "708e7f83-3fb3-4a2c-83dd-8737e36e0511",
   "metadata": {},
   "outputs": [
    {
     "data": {
      "image/png": "[encoded data removed]",
      "text/plain": [
       "<Figure size 900x200 with 1 Axes>"
      ]
     },
     "metadata": {},
     "output_type": "display_data"
    }
   ],
   "source": [
    "plt.figure(figsize=(9, 2))\n",
    "fig = sns.kdeplot(df_general['temp'], label='temp признак')\n",
    "fig = sns.kdeplot(df_general['target temp'], label='temp таргет')\n",
    "plt.yticks([])\n",
    "plt.ylabel('плотность')\n",
    "plt.xlabel('')\n",
    "plt.title('Распределение температур')\n",
    "plt.legend()\n",
    "plt.show()"
   ]
  },
  {
   "cell_type": "markdown",
   "id": "66a86d19-f936-4ffc-8748-c57417e67631",
   "metadata": {},
   "source": [
    "### Матрица корреляций"
   ]
  },
  {
   "cell_type": "code",
   "execution_count": 366,
   "id": "dab5a940-29f5-446b-a3e2-28ad069b82f8",
   "metadata": {},
   "outputs": [
    {
     "data": {
      "image/png": "[encoded data removed]",
      "text/plain": [
       "<Figure size 1000x500 with 1 Axes>"
      ]
     },
     "metadata": {},
     "output_type": "display_data"
    }
   ],
   "source": [
    "xlabels = ['a_pwr', 'r_pwr', 'durtn', 'app_pwr', 'energy', 'Bulk 12', 'Bulk 14', 'Bulk 15', 'gas', 'Wire 1', 'temp', 'target_tmp']\n",
    "plt.figure(figsize=(10, 5))\n",
    "sns.heatmap(df_general.corr().abs()*100, annot=True, fmt='3.0f', cmap='coolwarm', cbar=False, linewidths=0.5, xticklabels=xlabels)\n",
    "plt.xticks(rotation=0)\n",
    "plt.show()"
   ]
  },
  {
   "cell_type": "markdown",
   "id": "846e71b8-03bb-4194-a690-88a266d7dd33",
   "metadata": {},
   "source": [
    "Видно, что мощности, длительность и энергия нагрева сильно коррелируют между собой. При обучении линейных моделей уберем часть признаков.  \n",
    "А также видно, что у температуры, которую нам нужно предсказать нет сильной линейной корреляции ни с одним из признаков"
   ]
  }
 ],
 "metadata": {
  "kernelspec": {
   "display_name": "Python 3 (ipykernel)",
   "language": "python",
   "name": "python3"
  },
  "language_info": {
   "codemirror_mode": {
    "name": "ipython",
    "version": 3
   },
   "file_extension": ".py",
   "mimetype": "text/x-python",
   "name": "python",
   "nbconvert_exporter": "python",
   "pygments_lexer": "ipython3",
   "version": "3.10.10"
  }
 },
 "nbformat": 4,
 "nbformat_minor": 5
}
