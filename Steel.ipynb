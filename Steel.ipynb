{
 "cells": [
  {
   "cell_type": "markdown",
   "id": "26f92d37-c833-42a6-84c3-548d53b40876",
   "metadata": {},
   "source": [
    "# Предсказание выходной температуры сплава при плавке стали "
   ]
  },
  {
   "cell_type": "markdown",
   "id": "80972b7b-2ae7-4b4d-a1b2-2d8aed6504cd",
   "metadata": {},
   "source": [
    "Чтобы оптимизировать производственные расходы, металлургический комбинат ООО «Так закаляем сталь» решил уменьшить потребление электроэнергии на этапе обработки стали. Кратко, процесс плавки представляет собой замер температуры, нагревание сплава электродами, добавление примесей, продувка газом и снова замер температуры. Процесс повторяется необходимое количество раз.  \n",
    "\n",
    "**Цель работы:**  \n",
    "Создать модель прогнозирования температуры сплава на последнем цикле плавки. Исходные данные - техническая информация(циклы нагрева и мощность электродов, информация о примесях, продувке газом и пр.) для чуть более 3000 процессов плавки.  \n",
    "Метрика качества - MAE. Она должна быть не выше 6.8.\n",
    "\n",
    "**Ход работы**\n",
    "1. Исследование данных\n",
    "2. Предобработка данных\n",
    "3. Выбор и исследование нескольких моделей машинного обучения\n",
    "4. Тестирование наиболее подходящей модели\n",
    "5. Создание отчета по итогам проведенной работы"
   ]
  },
  {
   "cell_type": "markdown",
   "id": "49ac875f-9f36-4e37-b796-115242ca9a1e",
   "metadata": {},
   "source": [
    "# Исследование данных"
   ]
  },
  {
   "cell_type": "code",
   "execution_count": 1,
   "id": "c4148762-e328-451b-8038-62a89affa28d",
   "metadata": {},
   "outputs": [],
   "source": [
    "import pandas as pd\n",
    "import numpy as np\n",
    "import matplotlib.pyplot as plt\n",
    "import seaborn as sns"
   ]
  },
  {
   "cell_type": "markdown",
   "id": "0d80f1a3-a94e-41e6-bb00-6dee4c4e5f79",
   "metadata": {},
   "source": [
    "Импортируем наши датасеты"
   ]
  },
  {
   "cell_type": "code",
   "execution_count": null,
   "id": "a1e1a9fd-b9d7-4cfd-8f0e-898d05794e90",
   "metadata": {},
   "outputs": [],
   "source": [
    "try:\n",
    "    data_arc = pd.read_csv('data_arc_new.csv')\n",
    "    data_bulk_time = pd.read_csv('data_bulk_time_new.csv')\n",
    "    data_gas = pd.read_csv('data_gas_new.csv')\n",
    "    data_temp = pd.read_csv('data_temp_new.csv')\n",
    "    data_temp = pd.read_csv('data_temp_new.csv')\n",
    "    data_wire_time = pd.read_csv('data_wire_time_new.csv')\n",
    "\n",
    "except:\n",
    "    data_arc = pd.read_csv('/datasets/data_arc_new.csv')\n",
    "    data_bulk_time = pd.read_csv('/datasets/data_bulk_time_new.csv')\n",
    "    data_gas = pd.read_csv('/datasets/data_gas_new.csv')\n",
    "    data_temp = pd.read_csv('/datasets/data_temp_new.csv')\n",
    "    data_temp = pd.read_csv('/datasets/data_temp_new.csv')\n",
    "    data_wire_time = pd.read_csv('/datasets/data_wire_time_new.csv')"
   ]
  },
  {
   "cell_type": "markdown",
   "id": "d0c8e1f5-d13d-4726-a8b4-85f43afed0fa",
   "metadata": {},
   "source": [
    "Так как работаем мы с несколькими датасетами сразу, исследуем их по очереди, чтобы не запутаться"
   ]
  },
  {
   "cell_type": "markdown",
   "id": "fbec8426-c29c-4aa7-80e5-08df10ecde80",
   "metadata": {},
   "source": [
    "## Data_arc"
   ]
  },
  {
   "cell_type": "markdown",
   "id": "9036e784-e075-49f1-b7e8-660061ec18b8",
   "metadata": {},
   "source": [
    "`data_arc` - это датасет с данными об электродах, которые опускают в ковш, для плавки находящегося в нем стального сплава"
   ]
  },
  {
   "cell_type": "code",
   "execution_count": null,
   "id": "af382176-9069-416a-a2a7-14d34fe38faf",
   "metadata": {},
   "outputs": [],
   "source": []
  }
 ],
 "metadata": {
  "kernelspec": {
   "display_name": "Python 3 (ipykernel)",
   "language": "python",
   "name": "python3"
  },
  "language_info": {
   "codemirror_mode": {
    "name": "ipython",
    "version": 3
   },
   "file_extension": ".py",
   "mimetype": "text/x-python",
   "name": "python",
   "nbconvert_exporter": "python",
   "pygments_lexer": "ipython3",
   "version": "3.10.10"
  }
 },
 "nbformat": 4,
 "nbformat_minor": 5
}
