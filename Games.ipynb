{
 "cells": [
  {
   "cell_type": "markdown",
   "metadata": {},
   "source": [
    "<div  style=\"border-radius: 10px; box-shadow: 2px 2px 2px; border: 1px solid; padding: 10px \">\n",
    "\n",
    "**Александр, привет!**\n",
    "\n",
    "Меня зовут Василий Митров и я буду проверять твой проект. Предлагаю общаться на «ты». Если это неприемлемо, то дай мне знать и мы перейдем на «вы». Моя основная цель — не указать на совершенные тобою ошибки, а поделиться своим опытом и помочь тебе стать аналитиком данных.\n",
    "\n",
    "Для удобства я оставлю комментарии в отдельных ячейках Markdown с заголовком «Комментарий ревьюера». Пожалуйста, не перемещай, не изменяй и не удаляй их - так наше общение будет более продуктивным. Я буду использовать цветовую разметку:\n",
    "\n",
    "<div class=\"alert alert-danger\" style=\"border-radius: 10px; box-shadow: 2px 2px 2px; border: 1px solid; padding: 10px \">\n",
    "<b>Комментарий ревьюера</b> \n",
    "    \n",
    "✍ Так выделены самые важные замечания. Без их отработки проект не будет принят. При проверке я обращаю внимание не только на код, но и на интерпретацию и анализ результатов, а также соответствие данных техническому заданию.\n",
    "</div>\n",
    "\n",
    "<div class=\"alert alert-warning\" style=\"border-radius: 10px; box-shadow: 2px 2px 2px; border: 1px solid; padding: 10px \">\n",
    "<b>Комментарий ревьюера</b> \n",
    "    \n",
    "📝 Так выделены небольшие замечания или рекомендации. Постарайся, пожалуйста, учесть эти комментарии в этом проекте или в будущих проектах.\n",
    "</div>\n",
    "\n",
    "<div class=\"alert alert-success\" style=\"border-radius: 10px; box-shadow: 2px 2px 2px; border: 1px solid; padding: 10px \">\n",
    "<b>Комментарий ревьюера</b> \n",
    "    \n",
    "👍 Так выделены все остальные комментарии, включая рекомендации, позитивные моменты или какие-то рассуждения и пояснения.\n",
    "</div>\n",
    "\n",
    "Давай работать над проектом в диалоге: если ты что-то меняешь в проекте или отвечаешь на мои комментарии — пиши об этом. Мне будет легче отследить изменения, если ты выделишь свои комментарии:\n",
    "\n",
    "<div class=\"alert alert-info\" style=\"border-radius: 10px; box-shadow: 2px 2px 2px; border: 1px solid; padding: 10px \"> \n",
    "<b>Комментарий студента</b> \n",
    "    \n",
    "Например, вот так. Также, если есть какие-то вопросы, или что-то осталось непонятным по ревью - спрашивай в таких блоках и я постараюсь дать ответ.\n",
    "</div>\n",
    "\n",
    "---"
   ]
  },
  {
   "cell_type": "markdown",
   "metadata": {},
   "source": [
    "# Исследование данных о продажах игр, для выявления факторов, влияющих на успешность игры"
   ]
  },
  {
   "cell_type": "markdown",
   "metadata": {},
   "source": [
    "Разнообразие платформ, жанров, разные целевые аудитории и успешные продукты, чьи продажи могут доходить до нескольких миллионов копий, все это - игровая индустрия. Нам, как и любому бизнесу, важно делать прогнозы на предстоящий год для успешного планирования бизнес-стратегии\n",
    "\n",
    "**Цель исследования**\n",
    " 1. Выявить закономерности и тенденции, определяющие успешность игры\n",
    " 2. Составить портрет пользователя для Северной Америки, Европы и Японии\n",
    " 3. Проверить гипотезы:\n",
    "  * Средние пользовательские рейтинги платформ Xbox One и PC одинаковые\n",
    "  * Средние пользовательские рейтинги жанров Action и Sports разные\n",
    "  \n",
    "**Ход исследования**\n",
    "\n",
    " - Данные для анализа(`games.csv`) получены из открытых источников, поэтому сначала нужно будет  их проверить.\n",
    " - После этого, попробуем исправить ошибки, пропуски и неточности\n",
    " - Затем заняться анализом данных\n",
    " - И проверить гипотезы"
   ]
  },
  {
   "cell_type": "markdown",
   "metadata": {},
   "source": [
    "<div class=\"alert alert-warning\" style=\"border-radius: 10px; box-shadow: 2px 2px 2px; border: 1px solid; padding: 10px \">\n",
    "<b>Комментарий ревьюера v.1</b> \n",
    "    \n",
    "📝 \n",
    "Отличная практика - расписывать цель и основные этапы своими словами (этот навык очень поможет на фильнальном проекте). Рекомендую добавить ход и цель исследования. Пример можно посмотреть в самом первом проекте (Музыка городов)\n",
    "</div>\n",
    "<div class=\"alert alert-info\" style=\"border-radius: 10px; box-shadow: 2px 2px 2px; border: 1px solid; padding: 10px \"> \n",
    "<b>Комментарий студента</b> \n",
    "    \n",
    "Привет! Сделано\n",
    "</div>"
   ]
  },
  {
   "cell_type": "markdown",
   "metadata": {},
   "source": [
    "## Знакомство с данными"
   ]
  },
  {
   "cell_type": "code",
   "execution_count": 1,
   "metadata": {},
   "outputs": [],
   "source": [
    "import pandas as pd\n",
    "import seaborn as sns\n",
    "import matplotlib.pyplot as plt\n",
    "from scipy import stats as st\n",
    "import numpy as np"
   ]
  },
  {
   "cell_type": "markdown",
   "metadata": {},
   "source": [
    "<div class=\"alert alert-success\" style=\"border-radius: 10px; box-shadow: 2px 2px 2px; border: 1px solid; padding: 10px \">\n",
    "<b>Комментарий ревьюера v.1</b> \n",
    "    \n",
    "👍 \n",
    "Правильно, что весь импорт ты проводишь в первой ячейке работы. Так твой коллега, запускающий работу, будет в курсе используемых в ней библиотек и сможет при необходимости быстро настроить окружение.\n",
    "</div>"
   ]
  },
  {
   "cell_type": "code",
   "execution_count": 2,
   "metadata": {},
   "outputs": [],
   "source": [
    "df = pd.read_csv('/datasets/games.csv')\n",
    "df_shape_old = df.shape[0]"
   ]
  },
  {
   "cell_type": "code",
   "execution_count": 3,
   "metadata": {},
   "outputs": [],
   "source": [
    "def get_info(dataframe):\n",
    "    print('Общая информация')\n",
    "    display(dataframe.info())\n",
    "    print('Первые строчки датасета')\n",
    "    display(dataframe.head())\n",
    "    print('Общая информация о числовых значениях')\n",
    "    display(dataframe.describe())\n",
    "    print('Пропуски')\n",
    "    display(dataframe.isna().sum())\n",
    "    print('Одинаковых строк:', dataframe.duplicated().sum())\n",
    "    print('Всего строк:', dataframe.shape[0])"
   ]
  },
  {
   "cell_type": "code",
   "execution_count": 4,
   "metadata": {},
   "outputs": [
    {
     "name": "stdout",
     "output_type": "stream",
     "text": [
      "Общая информация\n",
      "<class 'pandas.core.frame.DataFrame'>\n",
      "RangeIndex: 16715 entries, 0 to 16714\n",
      "Data columns (total 11 columns):\n",
      " #   Column           Non-Null Count  Dtype  \n",
      "---  ------           --------------  -----  \n",
      " 0   Name             16713 non-null  object \n",
      " 1   Platform         16715 non-null  object \n",
      " 2   Year_of_Release  16446 non-null  float64\n",
      " 3   Genre            16713 non-null  object \n",
      " 4   NA_sales         16715 non-null  float64\n",
      " 5   EU_sales         16715 non-null  float64\n",
      " 6   JP_sales         16715 non-null  float64\n",
      " 7   Other_sales      16715 non-null  float64\n",
      " 8   Critic_Score     8137 non-null   float64\n",
      " 9   User_Score       10014 non-null  object \n",
      " 10  Rating           9949 non-null   object \n",
      "dtypes: float64(6), object(5)\n",
      "memory usage: 1.4+ MB\n"
     ]
    },
    {
     "data": {
      "text/plain": [
       "None"
      ]
     },
     "metadata": {},
     "output_type": "display_data"
    },
    {
     "name": "stdout",
     "output_type": "stream",
     "text": [
      "Первые строчки датасета\n"
     ]
    },
    {
     "data": {
      "text/html": [
       "<div>\n",
       "<style scoped>\n",
       "    .dataframe tbody tr th:only-of-type {\n",
       "        vertical-align: middle;\n",
       "    }\n",
       "\n",
       "    .dataframe tbody tr th {\n",
       "        vertical-align: top;\n",
       "    }\n",
       "\n",
       "    .dataframe thead th {\n",
       "        text-align: right;\n",
       "    }\n",
       "</style>\n",
       "<table border=\"1\" class=\"dataframe\">\n",
       "  <thead>\n",
       "    <tr style=\"text-align: right;\">\n",
       "      <th></th>\n",
       "      <th>Name</th>\n",
       "      <th>Platform</th>\n",
       "      <th>Year_of_Release</th>\n",
       "      <th>Genre</th>\n",
       "      <th>NA_sales</th>\n",
       "      <th>EU_sales</th>\n",
       "      <th>JP_sales</th>\n",
       "      <th>Other_sales</th>\n",
       "      <th>Critic_Score</th>\n",
       "      <th>User_Score</th>\n",
       "      <th>Rating</th>\n",
       "    </tr>\n",
       "  </thead>\n",
       "  <tbody>\n",
       "    <tr>\n",
       "      <th>0</th>\n",
       "      <td>Wii Sports</td>\n",
       "      <td>Wii</td>\n",
       "      <td>2006.0</td>\n",
       "      <td>Sports</td>\n",
       "      <td>41.36</td>\n",
       "      <td>28.96</td>\n",
       "      <td>3.77</td>\n",
       "      <td>8.45</td>\n",
       "      <td>76.0</td>\n",
       "      <td>8</td>\n",
       "      <td>E</td>\n",
       "    </tr>\n",
       "    <tr>\n",
       "      <th>1</th>\n",
       "      <td>Super Mario Bros.</td>\n",
       "      <td>NES</td>\n",
       "      <td>1985.0</td>\n",
       "      <td>Platform</td>\n",
       "      <td>29.08</td>\n",
       "      <td>3.58</td>\n",
       "      <td>6.81</td>\n",
       "      <td>0.77</td>\n",
       "      <td>NaN</td>\n",
       "      <td>NaN</td>\n",
       "      <td>NaN</td>\n",
       "    </tr>\n",
       "    <tr>\n",
       "      <th>2</th>\n",
       "      <td>Mario Kart Wii</td>\n",
       "      <td>Wii</td>\n",
       "      <td>2008.0</td>\n",
       "      <td>Racing</td>\n",
       "      <td>15.68</td>\n",
       "      <td>12.76</td>\n",
       "      <td>3.79</td>\n",
       "      <td>3.29</td>\n",
       "      <td>82.0</td>\n",
       "      <td>8.3</td>\n",
       "      <td>E</td>\n",
       "    </tr>\n",
       "    <tr>\n",
       "      <th>3</th>\n",
       "      <td>Wii Sports Resort</td>\n",
       "      <td>Wii</td>\n",
       "      <td>2009.0</td>\n",
       "      <td>Sports</td>\n",
       "      <td>15.61</td>\n",
       "      <td>10.93</td>\n",
       "      <td>3.28</td>\n",
       "      <td>2.95</td>\n",
       "      <td>80.0</td>\n",
       "      <td>8</td>\n",
       "      <td>E</td>\n",
       "    </tr>\n",
       "    <tr>\n",
       "      <th>4</th>\n",
       "      <td>Pokemon Red/Pokemon Blue</td>\n",
       "      <td>GB</td>\n",
       "      <td>1996.0</td>\n",
       "      <td>Role-Playing</td>\n",
       "      <td>11.27</td>\n",
       "      <td>8.89</td>\n",
       "      <td>10.22</td>\n",
       "      <td>1.00</td>\n",
       "      <td>NaN</td>\n",
       "      <td>NaN</td>\n",
       "      <td>NaN</td>\n",
       "    </tr>\n",
       "  </tbody>\n",
       "</table>\n",
       "</div>"
      ],
      "text/plain": [
       "                       Name Platform  Year_of_Release         Genre  NA_sales  \\\n",
       "0                Wii Sports      Wii           2006.0        Sports     41.36   \n",
       "1         Super Mario Bros.      NES           1985.0      Platform     29.08   \n",
       "2            Mario Kart Wii      Wii           2008.0        Racing     15.68   \n",
       "3         Wii Sports Resort      Wii           2009.0        Sports     15.61   \n",
       "4  Pokemon Red/Pokemon Blue       GB           1996.0  Role-Playing     11.27   \n",
       "\n",
       "   EU_sales  JP_sales  Other_sales  Critic_Score User_Score Rating  \n",
       "0     28.96      3.77         8.45          76.0          8      E  \n",
       "1      3.58      6.81         0.77           NaN        NaN    NaN  \n",
       "2     12.76      3.79         3.29          82.0        8.3      E  \n",
       "3     10.93      3.28         2.95          80.0          8      E  \n",
       "4      8.89     10.22         1.00           NaN        NaN    NaN  "
      ]
     },
     "metadata": {},
     "output_type": "display_data"
    },
    {
     "name": "stdout",
     "output_type": "stream",
     "text": [
      "Общая информация о числовых значениях\n"
     ]
    },
    {
     "data": {
      "text/html": [
       "<div>\n",
       "<style scoped>\n",
       "    .dataframe tbody tr th:only-of-type {\n",
       "        vertical-align: middle;\n",
       "    }\n",
       "\n",
       "    .dataframe tbody tr th {\n",
       "        vertical-align: top;\n",
       "    }\n",
       "\n",
       "    .dataframe thead th {\n",
       "        text-align: right;\n",
       "    }\n",
       "</style>\n",
       "<table border=\"1\" class=\"dataframe\">\n",
       "  <thead>\n",
       "    <tr style=\"text-align: right;\">\n",
       "      <th></th>\n",
       "      <th>Year_of_Release</th>\n",
       "      <th>NA_sales</th>\n",
       "      <th>EU_sales</th>\n",
       "      <th>JP_sales</th>\n",
       "      <th>Other_sales</th>\n",
       "      <th>Critic_Score</th>\n",
       "    </tr>\n",
       "  </thead>\n",
       "  <tbody>\n",
       "    <tr>\n",
       "      <th>count</th>\n",
       "      <td>16446.000000</td>\n",
       "      <td>16715.000000</td>\n",
       "      <td>16715.000000</td>\n",
       "      <td>16715.000000</td>\n",
       "      <td>16715.000000</td>\n",
       "      <td>8137.000000</td>\n",
       "    </tr>\n",
       "    <tr>\n",
       "      <th>mean</th>\n",
       "      <td>2006.484616</td>\n",
       "      <td>0.263377</td>\n",
       "      <td>0.145060</td>\n",
       "      <td>0.077617</td>\n",
       "      <td>0.047342</td>\n",
       "      <td>68.967679</td>\n",
       "    </tr>\n",
       "    <tr>\n",
       "      <th>std</th>\n",
       "      <td>5.877050</td>\n",
       "      <td>0.813604</td>\n",
       "      <td>0.503339</td>\n",
       "      <td>0.308853</td>\n",
       "      <td>0.186731</td>\n",
       "      <td>13.938165</td>\n",
       "    </tr>\n",
       "    <tr>\n",
       "      <th>min</th>\n",
       "      <td>1980.000000</td>\n",
       "      <td>0.000000</td>\n",
       "      <td>0.000000</td>\n",
       "      <td>0.000000</td>\n",
       "      <td>0.000000</td>\n",
       "      <td>13.000000</td>\n",
       "    </tr>\n",
       "    <tr>\n",
       "      <th>25%</th>\n",
       "      <td>2003.000000</td>\n",
       "      <td>0.000000</td>\n",
       "      <td>0.000000</td>\n",
       "      <td>0.000000</td>\n",
       "      <td>0.000000</td>\n",
       "      <td>60.000000</td>\n",
       "    </tr>\n",
       "    <tr>\n",
       "      <th>50%</th>\n",
       "      <td>2007.000000</td>\n",
       "      <td>0.080000</td>\n",
       "      <td>0.020000</td>\n",
       "      <td>0.000000</td>\n",
       "      <td>0.010000</td>\n",
       "      <td>71.000000</td>\n",
       "    </tr>\n",
       "    <tr>\n",
       "      <th>75%</th>\n",
       "      <td>2010.000000</td>\n",
       "      <td>0.240000</td>\n",
       "      <td>0.110000</td>\n",
       "      <td>0.040000</td>\n",
       "      <td>0.030000</td>\n",
       "      <td>79.000000</td>\n",
       "    </tr>\n",
       "    <tr>\n",
       "      <th>max</th>\n",
       "      <td>2016.000000</td>\n",
       "      <td>41.360000</td>\n",
       "      <td>28.960000</td>\n",
       "      <td>10.220000</td>\n",
       "      <td>10.570000</td>\n",
       "      <td>98.000000</td>\n",
       "    </tr>\n",
       "  </tbody>\n",
       "</table>\n",
       "</div>"
      ],
      "text/plain": [
       "       Year_of_Release      NA_sales      EU_sales      JP_sales  \\\n",
       "count     16446.000000  16715.000000  16715.000000  16715.000000   \n",
       "mean       2006.484616      0.263377      0.145060      0.077617   \n",
       "std           5.877050      0.813604      0.503339      0.308853   \n",
       "min        1980.000000      0.000000      0.000000      0.000000   \n",
       "25%        2003.000000      0.000000      0.000000      0.000000   \n",
       "50%        2007.000000      0.080000      0.020000      0.000000   \n",
       "75%        2010.000000      0.240000      0.110000      0.040000   \n",
       "max        2016.000000     41.360000     28.960000     10.220000   \n",
       "\n",
       "        Other_sales  Critic_Score  \n",
       "count  16715.000000   8137.000000  \n",
       "mean       0.047342     68.967679  \n",
       "std        0.186731     13.938165  \n",
       "min        0.000000     13.000000  \n",
       "25%        0.000000     60.000000  \n",
       "50%        0.010000     71.000000  \n",
       "75%        0.030000     79.000000  \n",
       "max       10.570000     98.000000  "
      ]
     },
     "metadata": {},
     "output_type": "display_data"
    },
    {
     "name": "stdout",
     "output_type": "stream",
     "text": [
      "Пропуски\n"
     ]
    },
    {
     "data": {
      "text/plain": [
       "Name                  2\n",
       "Platform              0\n",
       "Year_of_Release     269\n",
       "Genre                 2\n",
       "NA_sales              0\n",
       "EU_sales              0\n",
       "JP_sales              0\n",
       "Other_sales           0\n",
       "Critic_Score       8578\n",
       "User_Score         6701\n",
       "Rating             6766\n",
       "dtype: int64"
      ]
     },
     "metadata": {},
     "output_type": "display_data"
    },
    {
     "name": "stdout",
     "output_type": "stream",
     "text": [
      "Одинаковых строк: 0\n",
      "Всего строк: 16715\n"
     ]
    }
   ],
   "source": [
    "get_info(df)"
   ]
  },
  {
   "cell_type": "markdown",
   "metadata": {},
   "source": [
    "***\n",
    "**После знакомства с данными узнали:**\n",
    "\n",
    "В нашем распоряжении набор данных о продаже различных игр с 1980 по 2016 год в виде таблицы из 16715 строк. А каждая строчка в свою очередь состоит из:\n",
    "\n",
    "* Name — названия игры\n",
    "* Platform — платформы\n",
    "* Year_of_Release — года выпуска\n",
    "* Genre — жанра игры\n",
    "* NA_sales — продаж в Северной Америке (миллионы проданных копий)\n",
    "* EU_sales — продаж в Европе (миллионы проданных копий)\n",
    "* JP_sales — продаж в Японии (миллионы проданных копий)\n",
    "* Other_sales — продаж в других странах (миллионы проданных копий)\n",
    "* Critic_Score — оценки критиков (максимум 100)\n",
    "* User_Score — оценки пользователей (максимум 10)\n",
    "* Rating — рейтинга от организации ESRB (англ. Entertainment Software Rating Board). Эта ассоциация определяет рейтинг компьютерных игр и присваивает им подходящую возрастную категорию\n",
    "\n",
    "А еще, есть пропуски в некоторых столбцах, например, не у всех игр есть рейтинг пользователей(самих игроков) или критиков"
   ]
  },
  {
   "cell_type": "markdown",
   "metadata": {},
   "source": [
    "<div class=\"alert alert-success\" style=\"border-radius: 10px; box-shadow: 2px 2px 2px; border: 1px solid; padding: 10px \">\n",
    "<b>Комментарий ревьюера v.1</b> \n",
    "    \n",
    "👍 \n",
    "Отличная вводая часть. Функция - огонь!\n",
    "</div>"
   ]
  },
  {
   "cell_type": "markdown",
   "metadata": {},
   "source": [
    "## Предобработка данных"
   ]
  },
  {
   "cell_type": "markdown",
   "metadata": {},
   "source": [
    "Для удобства приведем названия столбцов к нижнему регистру"
   ]
  },
  {
   "cell_type": "code",
   "execution_count": 5,
   "metadata": {},
   "outputs": [],
   "source": [
    "df.columns = df.columns.str.lower()"
   ]
  },
  {
   "cell_type": "markdown",
   "metadata": {},
   "source": [
    "### Обработка пропусков"
   ]
  },
  {
   "cell_type": "markdown",
   "metadata": {},
   "source": [
    "У нас есть пропуски в 6 столбцах:\n",
    "\n",
    "`name` - отсутсвующее название игры заполнить не получится, можно удалить такие строки, так как их всего 2\n",
    "\n",
    "`year_of_release` - заполнить средним или медианой тоже не выйдет. Таких строк мало, примерно 1,5%, удалим\n",
    "\n",
    "`genre` - мало строк, можно удалить\n",
    "\n",
    "`critic_score`, `user_score` - возможно, рейтинг отсутствует, если у игры слишком мало оценок или она была отменена. Если заполнить пропуски нулевым значением, средним или медианой, то можно исказить статистику. А если совсем убрать - потеряем слишком много данных, и результаты, опять же, могут исказиться\n",
    "\n",
    "`rating` - рейтинг ESRB предназначен для маркировки игр США и Канады, логично, что если игра выпущена для отличного от этих стран рынка, маркировки не будет. Поэтому, заменим пропуски на `unmarked` (нет маркировки)"
   ]
  },
  {
   "cell_type": "code",
   "execution_count": 6,
   "metadata": {},
   "outputs": [],
   "source": [
    "df = df.dropna(subset=['name', 'year_of_release', 'genre'])\n",
    "df['rating'] = df['rating'].fillna('unmarked')\n",
    "df.reset_index(drop=True, inplace=True)"
   ]
  },
  {
   "cell_type": "markdown",
   "metadata": {},
   "source": [
    "<div class=\"alert alert-success\" style=\"border-radius: 10px; box-shadow: 2px 2px 2px; border: 1px solid; padding: 10px \">\n",
    "<b>Комментарий ревьюера v.1</b> \n",
    "    \n",
    "👍 \n",
    "Верно, доля пропусков здесь менее 5% и для экономии времени их можно удалить.\n",
    "</div>"
   ]
  },
  {
   "cell_type": "markdown",
   "metadata": {},
   "source": [
    "### Изменение типов данных"
   ]
  },
  {
   "cell_type": "markdown",
   "metadata": {},
   "source": [
    "Изменить тип данных можно в колонке `year_of_release` на целое число. Посмотреть, почему данные в колонке `user_score` типа *object* и, если нужно, поменять"
   ]
  },
  {
   "cell_type": "code",
   "execution_count": 7,
   "metadata": {},
   "outputs": [],
   "source": [
    "df['year_of_release'] = df['year_of_release'].astype(int)"
   ]
  },
  {
   "cell_type": "code",
   "execution_count": 8,
   "metadata": {},
   "outputs": [
    {
     "data": {
      "text/plain": [
       "array(['8', nan, '8.3', '8.5', '6.6', '8.4', '8.6', '7.7', '6.3', '7.4',\n",
       "       '8.2', '9', '7.9', '8.1', '8.7', '7.1', '3.4', '5.3', '4.8', '3.2',\n",
       "       '8.9', '6.4', '7.8', '7.5', '2.6', '7.2', '9.2', '7', '7.3', '4.3',\n",
       "       '7.6', '5.7', '5', '9.1', '6.5', 'tbd', '8.8', '6.9', '9.4', '6.8',\n",
       "       '6.1', '6.7', '5.4', '4', '4.9', '4.5', '9.3', '6.2', '4.2', '6',\n",
       "       '3.7', '4.1', '5.8', '5.6', '5.5', '4.4', '4.6', '5.9', '3.9',\n",
       "       '3.1', '2.9', '5.2', '3.3', '4.7', '5.1', '3.5', '2.5', '1.9', '3',\n",
       "       '2.7', '2.2', '2', '9.5', '2.1', '3.6', '2.8', '1.8', '3.8', '0',\n",
       "       '1.6', '9.6', '2.4', '1.7', '1.1', '0.3', '1.5', '0.7', '1.2',\n",
       "       '2.3', '0.5', '1.3', '0.2', '0.6', '1.4', '0.9', '1', '9.7'],\n",
       "      dtype=object)"
      ]
     },
     "execution_count": 8,
     "metadata": {},
     "output_type": "execute_result"
    }
   ],
   "source": [
    "df['user_score'].unique()"
   ]
  },
  {
   "cell_type": "markdown",
   "metadata": {},
   "source": [
    "Nan - это отсутсвие значения, тут все в порядке, а вот с \"tbd\" надо разобраться. Поиск в сети дает такой ответ: [\"to be determined\"](https://www.metacritic.com/faq#item13), то есть, подлежит уточнению(например, если у игры менее 4 отзывов). А для нас это равнозначно отсутсвию, поэтому заменю на пустое значение. После этого можно привести данные столбца к типу *float*"
   ]
  },
  {
   "cell_type": "code",
   "execution_count": 9,
   "metadata": {},
   "outputs": [],
   "source": [
    "df['user_score'] = df['user_score'].replace('tbd', None)\n",
    "df['user_score'] = df['user_score'].astype(float)"
   ]
  },
  {
   "cell_type": "markdown",
   "metadata": {},
   "source": [
    "<div class=\"alert alert-success\" style=\"border-radius: 10px; box-shadow: 2px 2px 2px; border: 1px solid; padding: 10px \">\n",
    "<b>Комментарий ревьюера v.1</b> \n",
    "    \n",
    "👍 Верно, `tbd` означает `To Be Determined`, т.к. игра ещё не выпущена. Тут можно заменить заглушкой, а можно привести в nan\n",
    "</div>"
   ]
  },
  {
   "cell_type": "markdown",
   "metadata": {},
   "source": [
    "### Добавление столбцов"
   ]
  },
  {
   "cell_type": "markdown",
   "metadata": {},
   "source": [
    "Для удобства добавим столбец `total_sales` - это суммарные продажи игры со всех регионов"
   ]
  },
  {
   "cell_type": "code",
   "execution_count": 10,
   "metadata": {},
   "outputs": [],
   "source": [
    "df['total_sales'] = df[['na_sales','eu_sales','jp_sales','other_sales']].sum(axis=1)"
   ]
  },
  {
   "cell_type": "markdown",
   "metadata": {},
   "source": [
    "### Подытог предобработки"
   ]
  },
  {
   "cell_type": "code",
   "execution_count": 11,
   "metadata": {},
   "outputs": [
    {
     "name": "stdout",
     "output_type": "stream",
     "text": [
      "Общая информация\n",
      "<class 'pandas.core.frame.DataFrame'>\n",
      "RangeIndex: 16444 entries, 0 to 16443\n",
      "Data columns (total 12 columns):\n",
      " #   Column           Non-Null Count  Dtype  \n",
      "---  ------           --------------  -----  \n",
      " 0   name             16444 non-null  object \n",
      " 1   platform         16444 non-null  object \n",
      " 2   year_of_release  16444 non-null  int64  \n",
      " 3   genre            16444 non-null  object \n",
      " 4   na_sales         16444 non-null  float64\n",
      " 5   eu_sales         16444 non-null  float64\n",
      " 6   jp_sales         16444 non-null  float64\n",
      " 7   other_sales      16444 non-null  float64\n",
      " 8   critic_score     7983 non-null   float64\n",
      " 9   user_score       8610 non-null   float64\n",
      " 10  rating           16444 non-null  object \n",
      " 11  total_sales      16444 non-null  float64\n",
      "dtypes: float64(7), int64(1), object(4)\n",
      "memory usage: 1.5+ MB\n"
     ]
    },
    {
     "data": {
      "text/plain": [
       "None"
      ]
     },
     "metadata": {},
     "output_type": "display_data"
    },
    {
     "name": "stdout",
     "output_type": "stream",
     "text": [
      "Первые строчки датасета\n"
     ]
    },
    {
     "data": {
      "text/html": [
       "<div>\n",
       "<style scoped>\n",
       "    .dataframe tbody tr th:only-of-type {\n",
       "        vertical-align: middle;\n",
       "    }\n",
       "\n",
       "    .dataframe tbody tr th {\n",
       "        vertical-align: top;\n",
       "    }\n",
       "\n",
       "    .dataframe thead th {\n",
       "        text-align: right;\n",
       "    }\n",
       "</style>\n",
       "<table border=\"1\" class=\"dataframe\">\n",
       "  <thead>\n",
       "    <tr style=\"text-align: right;\">\n",
       "      <th></th>\n",
       "      <th>name</th>\n",
       "      <th>platform</th>\n",
       "      <th>year_of_release</th>\n",
       "      <th>genre</th>\n",
       "      <th>na_sales</th>\n",
       "      <th>eu_sales</th>\n",
       "      <th>jp_sales</th>\n",
       "      <th>other_sales</th>\n",
       "      <th>critic_score</th>\n",
       "      <th>user_score</th>\n",
       "      <th>rating</th>\n",
       "      <th>total_sales</th>\n",
       "    </tr>\n",
       "  </thead>\n",
       "  <tbody>\n",
       "    <tr>\n",
       "      <th>0</th>\n",
       "      <td>Wii Sports</td>\n",
       "      <td>Wii</td>\n",
       "      <td>2006</td>\n",
       "      <td>Sports</td>\n",
       "      <td>41.36</td>\n",
       "      <td>28.96</td>\n",
       "      <td>3.77</td>\n",
       "      <td>8.45</td>\n",
       "      <td>76.0</td>\n",
       "      <td>8.0</td>\n",
       "      <td>E</td>\n",
       "      <td>82.54</td>\n",
       "    </tr>\n",
       "    <tr>\n",
       "      <th>1</th>\n",
       "      <td>Super Mario Bros.</td>\n",
       "      <td>NES</td>\n",
       "      <td>1985</td>\n",
       "      <td>Platform</td>\n",
       "      <td>29.08</td>\n",
       "      <td>3.58</td>\n",
       "      <td>6.81</td>\n",
       "      <td>0.77</td>\n",
       "      <td>NaN</td>\n",
       "      <td>NaN</td>\n",
       "      <td>unmarked</td>\n",
       "      <td>40.24</td>\n",
       "    </tr>\n",
       "    <tr>\n",
       "      <th>2</th>\n",
       "      <td>Mario Kart Wii</td>\n",
       "      <td>Wii</td>\n",
       "      <td>2008</td>\n",
       "      <td>Racing</td>\n",
       "      <td>15.68</td>\n",
       "      <td>12.76</td>\n",
       "      <td>3.79</td>\n",
       "      <td>3.29</td>\n",
       "      <td>82.0</td>\n",
       "      <td>8.3</td>\n",
       "      <td>E</td>\n",
       "      <td>35.52</td>\n",
       "    </tr>\n",
       "    <tr>\n",
       "      <th>3</th>\n",
       "      <td>Wii Sports Resort</td>\n",
       "      <td>Wii</td>\n",
       "      <td>2009</td>\n",
       "      <td>Sports</td>\n",
       "      <td>15.61</td>\n",
       "      <td>10.93</td>\n",
       "      <td>3.28</td>\n",
       "      <td>2.95</td>\n",
       "      <td>80.0</td>\n",
       "      <td>8.0</td>\n",
       "      <td>E</td>\n",
       "      <td>32.77</td>\n",
       "    </tr>\n",
       "    <tr>\n",
       "      <th>4</th>\n",
       "      <td>Pokemon Red/Pokemon Blue</td>\n",
       "      <td>GB</td>\n",
       "      <td>1996</td>\n",
       "      <td>Role-Playing</td>\n",
       "      <td>11.27</td>\n",
       "      <td>8.89</td>\n",
       "      <td>10.22</td>\n",
       "      <td>1.00</td>\n",
       "      <td>NaN</td>\n",
       "      <td>NaN</td>\n",
       "      <td>unmarked</td>\n",
       "      <td>31.38</td>\n",
       "    </tr>\n",
       "  </tbody>\n",
       "</table>\n",
       "</div>"
      ],
      "text/plain": [
       "                       name platform  year_of_release         genre  na_sales  \\\n",
       "0                Wii Sports      Wii             2006        Sports     41.36   \n",
       "1         Super Mario Bros.      NES             1985      Platform     29.08   \n",
       "2            Mario Kart Wii      Wii             2008        Racing     15.68   \n",
       "3         Wii Sports Resort      Wii             2009        Sports     15.61   \n",
       "4  Pokemon Red/Pokemon Blue       GB             1996  Role-Playing     11.27   \n",
       "\n",
       "   eu_sales  jp_sales  other_sales  critic_score  user_score    rating  \\\n",
       "0     28.96      3.77         8.45          76.0         8.0         E   \n",
       "1      3.58      6.81         0.77           NaN         NaN  unmarked   \n",
       "2     12.76      3.79         3.29          82.0         8.3         E   \n",
       "3     10.93      3.28         2.95          80.0         8.0         E   \n",
       "4      8.89     10.22         1.00           NaN         NaN  unmarked   \n",
       "\n",
       "   total_sales  \n",
       "0        82.54  \n",
       "1        40.24  \n",
       "2        35.52  \n",
       "3        32.77  \n",
       "4        31.38  "
      ]
     },
     "metadata": {},
     "output_type": "display_data"
    },
    {
     "name": "stdout",
     "output_type": "stream",
     "text": [
      "Общая информация о числовых значениях\n"
     ]
    },
    {
     "data": {
      "text/html": [
       "<div>\n",
       "<style scoped>\n",
       "    .dataframe tbody tr th:only-of-type {\n",
       "        vertical-align: middle;\n",
       "    }\n",
       "\n",
       "    .dataframe tbody tr th {\n",
       "        vertical-align: top;\n",
       "    }\n",
       "\n",
       "    .dataframe thead th {\n",
       "        text-align: right;\n",
       "    }\n",
       "</style>\n",
       "<table border=\"1\" class=\"dataframe\">\n",
       "  <thead>\n",
       "    <tr style=\"text-align: right;\">\n",
       "      <th></th>\n",
       "      <th>year_of_release</th>\n",
       "      <th>na_sales</th>\n",
       "      <th>eu_sales</th>\n",
       "      <th>jp_sales</th>\n",
       "      <th>other_sales</th>\n",
       "      <th>critic_score</th>\n",
       "      <th>user_score</th>\n",
       "      <th>total_sales</th>\n",
       "    </tr>\n",
       "  </thead>\n",
       "  <tbody>\n",
       "    <tr>\n",
       "      <th>count</th>\n",
       "      <td>16444.000000</td>\n",
       "      <td>16444.000000</td>\n",
       "      <td>16444.000000</td>\n",
       "      <td>16444.000000</td>\n",
       "      <td>16444.000000</td>\n",
       "      <td>7983.000000</td>\n",
       "      <td>8610.000000</td>\n",
       "      <td>16444.000000</td>\n",
       "    </tr>\n",
       "    <tr>\n",
       "      <th>mean</th>\n",
       "      <td>2006.486256</td>\n",
       "      <td>0.264012</td>\n",
       "      <td>0.145930</td>\n",
       "      <td>0.078487</td>\n",
       "      <td>0.047594</td>\n",
       "      <td>68.994363</td>\n",
       "      <td>7.099698</td>\n",
       "      <td>0.536023</td>\n",
       "    </tr>\n",
       "    <tr>\n",
       "      <th>std</th>\n",
       "      <td>5.875525</td>\n",
       "      <td>0.818378</td>\n",
       "      <td>0.506716</td>\n",
       "      <td>0.311100</td>\n",
       "      <td>0.188005</td>\n",
       "      <td>13.920060</td>\n",
       "      <td>1.519409</td>\n",
       "      <td>1.558786</td>\n",
       "    </tr>\n",
       "    <tr>\n",
       "      <th>min</th>\n",
       "      <td>1980.000000</td>\n",
       "      <td>0.000000</td>\n",
       "      <td>0.000000</td>\n",
       "      <td>0.000000</td>\n",
       "      <td>0.000000</td>\n",
       "      <td>13.000000</td>\n",
       "      <td>0.000000</td>\n",
       "      <td>0.000000</td>\n",
       "    </tr>\n",
       "    <tr>\n",
       "      <th>25%</th>\n",
       "      <td>2003.000000</td>\n",
       "      <td>0.000000</td>\n",
       "      <td>0.000000</td>\n",
       "      <td>0.000000</td>\n",
       "      <td>0.000000</td>\n",
       "      <td>60.000000</td>\n",
       "      <td>6.400000</td>\n",
       "      <td>0.060000</td>\n",
       "    </tr>\n",
       "    <tr>\n",
       "      <th>50%</th>\n",
       "      <td>2007.000000</td>\n",
       "      <td>0.080000</td>\n",
       "      <td>0.020000</td>\n",
       "      <td>0.000000</td>\n",
       "      <td>0.010000</td>\n",
       "      <td>71.000000</td>\n",
       "      <td>7.500000</td>\n",
       "      <td>0.170000</td>\n",
       "    </tr>\n",
       "    <tr>\n",
       "      <th>75%</th>\n",
       "      <td>2010.000000</td>\n",
       "      <td>0.240000</td>\n",
       "      <td>0.110000</td>\n",
       "      <td>0.040000</td>\n",
       "      <td>0.030000</td>\n",
       "      <td>79.000000</td>\n",
       "      <td>8.200000</td>\n",
       "      <td>0.470000</td>\n",
       "    </tr>\n",
       "    <tr>\n",
       "      <th>max</th>\n",
       "      <td>2016.000000</td>\n",
       "      <td>41.360000</td>\n",
       "      <td>28.960000</td>\n",
       "      <td>10.220000</td>\n",
       "      <td>10.570000</td>\n",
       "      <td>98.000000</td>\n",
       "      <td>9.700000</td>\n",
       "      <td>82.540000</td>\n",
       "    </tr>\n",
       "  </tbody>\n",
       "</table>\n",
       "</div>"
      ],
      "text/plain": [
       "       year_of_release      na_sales      eu_sales      jp_sales  \\\n",
       "count     16444.000000  16444.000000  16444.000000  16444.000000   \n",
       "mean       2006.486256      0.264012      0.145930      0.078487   \n",
       "std           5.875525      0.818378      0.506716      0.311100   \n",
       "min        1980.000000      0.000000      0.000000      0.000000   \n",
       "25%        2003.000000      0.000000      0.000000      0.000000   \n",
       "50%        2007.000000      0.080000      0.020000      0.000000   \n",
       "75%        2010.000000      0.240000      0.110000      0.040000   \n",
       "max        2016.000000     41.360000     28.960000     10.220000   \n",
       "\n",
       "        other_sales  critic_score   user_score   total_sales  \n",
       "count  16444.000000   7983.000000  8610.000000  16444.000000  \n",
       "mean       0.047594     68.994363     7.099698      0.536023  \n",
       "std        0.188005     13.920060     1.519409      1.558786  \n",
       "min        0.000000     13.000000     0.000000      0.000000  \n",
       "25%        0.000000     60.000000     6.400000      0.060000  \n",
       "50%        0.010000     71.000000     7.500000      0.170000  \n",
       "75%        0.030000     79.000000     8.200000      0.470000  \n",
       "max       10.570000     98.000000     9.700000     82.540000  "
      ]
     },
     "metadata": {},
     "output_type": "display_data"
    },
    {
     "name": "stdout",
     "output_type": "stream",
     "text": [
      "Пропуски\n"
     ]
    },
    {
     "data": {
      "text/plain": [
       "name                  0\n",
       "platform              0\n",
       "year_of_release       0\n",
       "genre                 0\n",
       "na_sales              0\n",
       "eu_sales              0\n",
       "jp_sales              0\n",
       "other_sales           0\n",
       "critic_score       8461\n",
       "user_score         7834\n",
       "rating                0\n",
       "total_sales           0\n",
       "dtype: int64"
      ]
     },
     "metadata": {},
     "output_type": "display_data"
    },
    {
     "name": "stdout",
     "output_type": "stream",
     "text": [
      "Одинаковых строк: 0\n",
      "Всего строк: 16444\n",
      "Осталось данных: 98.4%\n"
     ]
    }
   ],
   "source": [
    "get_info(df)\n",
    "print('Осталось данных:', \"{:.1%}\".format(df.shape[0] / df_shape_old))"
   ]
  },
  {
   "cell_type": "markdown",
   "metadata": {},
   "source": [
    "***\n",
    "В этой части мы избавились от пропусков там, где это возможно. Например, если нам был неизвестен год выпуска игры, то такую строчку мы удаляли, потому что это слишком важный параметр для оценки, чтобы не брать его в расчет. Еще добавили новый столбец с общей суммой проданых копий и привели тип данных в столбцах к более удобному виду"
   ]
  },
  {
   "cell_type": "markdown",
   "metadata": {},
   "source": [
    "<div class=\"alert alert-success\" style=\"border-radius: 10px; box-shadow: 2px 2px 2px; border: 1px solid; padding: 10px \">\n",
    "<b>Комментарий ревьюера v.1</b> \n",
    "    \n",
    "👍 \n",
    "Отлично! Приступим к исследовательскому анализу.\n",
    "</div>"
   ]
  },
  {
   "cell_type": "markdown",
   "metadata": {},
   "source": [
    "## Исследовательский анализ данных"
   ]
  },
  {
   "cell_type": "markdown",
   "metadata": {},
   "source": [
    "### Количество вышедших игр по годам"
   ]
  },
  {
   "cell_type": "markdown",
   "metadata": {},
   "source": [
    "Посмотрим на игровую индустрию в целом - узнаем, сколько игр выходило в разные годы"
   ]
  },
  {
   "cell_type": "code",
   "execution_count": 12,
   "metadata": {
    "scrolled": true
   },
   "outputs": [
    {
     "data": {
      "image/png": "[encoded data removed]",
      "text/plain": [
       "<Figure size 936x360 with 1 Axes>"
      ]
     },
     "metadata": {
      "needs_background": "light"
     },
     "output_type": "display_data"
    }
   ],
   "source": [
    "df['year_of_release'].value_counts().sort_index().plot(kind='bar', figsize=(13, 5))\n",
    "plt.xticks(rotation=45)\n",
    "plt.title('Распределение количества вышедших игр по годам')\n",
    "plt.ylabel('Количество игр')\n",
    "plt.show()"
   ]
  },
  {
   "cell_type": "markdown",
   "metadata": {},
   "source": [
    "Можно сказать, что серьезные обороты игровая индустрия стала стремительно набирать с 90-х годов. А вот с 2012 года количество игр сократилось почти вдвое. Впрочем, это не означает, что сократилась выручка - возможно, игры стали просто дороже"
   ]
  },
  {
   "cell_type": "markdown",
   "metadata": {},
   "source": [
    "<div class=\"alert alert-warning\" style=\"border-radius: 10px; box-shadow: 2px 2px 2px; border: 1px solid; padding: 10px \">\n",
    "<b>Комментарий ревьюера v.1</b> \n",
    "    \n",
    "📝 \n",
    "Отличный график, но не забывай оформлять правильно, а именно: давать название и подписи осям.\n",
    "</div>\n",
    "<div class=\"alert alert-info\" style=\"border-radius: 10px; box-shadow: 2px 2px 2px; border: 1px solid; padding: 10px \"> \n",
    "<b>Комментарий студента</b> \n",
    "    \n",
    "👍\n",
    "</div>"
   ]
  },
  {
   "cell_type": "markdown",
   "metadata": {},
   "source": [
    "### Анализ лидирующих платформ"
   ]
  },
  {
   "cell_type": "markdown",
   "metadata": {},
   "source": [
    "Один из вопросов при выпуске игры: \"Сделать игру для компьтера или для приставки? А если для приставки, то для какой?\"\n",
    "\n",
    "Поэтому посмотрим на продажи различных платформ"
   ]
  },
  {
   "cell_type": "code",
   "execution_count": 13,
   "metadata": {},
   "outputs": [
    {
     "data": {
      "image/png": "[encoded data removed]",
      "text/plain": [
       "<Figure size 936x360 with 1 Axes>"
      ]
     },
     "metadata": {
      "needs_background": "light"
     },
     "output_type": "display_data"
    },
    {
     "name": "stdout",
     "output_type": "stream",
     "text": [
      "Средняя продолжительность существования платформы: 7.0 лет\n"
     ]
    }
   ],
   "source": [
    "(df.pivot_table(index='year_of_release', columns='platform', values='total_sales', aggfunc='sum')\n",
    " .plot(figsize=(13, 5), legend=False))\n",
    "plt.xlabel('')\n",
    "plt.ylabel('Продано(млн копий)')\n",
    "plt.title('Количество проданных копий игр(млн) для каждой платформы')\n",
    "plt.show()\n",
    "avg_lifetime = df.groupby('platform')['year_of_release'].nunique().median()\n",
    "print('Средняя продолжительность существования платформы:', \"{:.1f}\".format(avg_lifetime), 'лет')"
   ]
  },
  {
   "cell_type": "markdown",
   "metadata": {},
   "source": [
    "Ого, куча каких-то линий, да еще и то начинающихся, то заканчивающихся. Каждая линия - это одна платформа. На этом графике даже не важно где какая именно, а главное следующее:\n",
    "\n",
    "На графике видно, что начиная с 2000 года на рынке появляется примерно одна новая платформа в год. А существует платформа в среднем 7 лет. В связи с этим, рассматривать нужно актуальный период и актуальные платформы. Актуальный период определим в 3 года - как раз для такой данимично изменяющейся индустрии. А самые популярные платформы узнаем дальше"
   ]
  },
  {
   "cell_type": "markdown",
   "metadata": {},
   "source": [
    "<div class=\"alert alert-success\" style=\"border-radius: 10px; box-shadow: 2px 2px 2px; border: 1px solid; padding: 10px \">\n",
    "<b>Комментарий ревьюера v.1</b> \n",
    "    \n",
    "👍 \n",
    "Жизненный цикл определен верно.\n",
    "</div>"
   ]
  },
  {
   "cell_type": "code",
   "execution_count": 14,
   "metadata": {},
   "outputs": [
    {
     "data": {
      "image/png": "[encoded data removed]",
      "text/plain": [
       "<Figure size 576x360 with 1 Axes>"
      ]
     },
     "metadata": {
      "needs_background": "light"
     },
     "output_type": "display_data"
    }
   ],
   "source": [
    "df_last_years = df.query('year_of_release >= 2014')\n",
    "(df_last_years.groupby('platform')['total_sales']\n",
    " .sum()\n",
    " .sort_values()\n",
    " .plot(kind='bar', figsize=(8, 5)))\n",
    "plt.xlabel('')\n",
    "plt.xticks(rotation=0)\n",
    "plt.title('Суммарные продажи за 2014-2016 годы(млн копий)')\n",
    "plt.show()"
   ]
  },
  {
   "cell_type": "markdown",
   "metadata": {},
   "source": [
    "<div class=\"alert alert-danger\" style=\"border-radius: 10px; box-shadow: 2px 2px 2px; border: 1px solid; padding: 10px \">\n",
    "<b>Комментарий ревьюера v.1</b> \n",
    "    \n",
    "✍ \n",
    "Если это наш актуальный период, то для целей прогнозирования продаж на следующий год даже в традиционных бизнесах редко берут данные более чем за 2-3 года. А в такой динамично меняющейся индустрии, как компьютерные игры и вовсе не стоит брать слишком большой временной интервал - иначе обязательно захватим уже отжившие тренды. Но и очень короткий период не подходит для прогнозирования, так что надо выбирать золотую середину (но не менее 2-х полных лет и не более 5 лет). Так, как все расчеты ниже необходимо использовать с актуальным периодом, то не забудь, пожалуйста перепроверить их и выводы после корректировки.\n",
    "</div>\n",
    "    <div class=\"alert alert-info\" style=\"border-radius: 10px; box-shadow: 2px 2px 2px; border: 1px solid; padding: 10px \"> \n",
    "<b>Комментарий студента</b> \n",
    "\n",
    "Взял период 3 года\n",
    "</div>"
   ]
  },
  {
   "cell_type": "markdown",
   "metadata": {},
   "source": [
    "<div class=\"alert alert-success\" style=\"border-radius: 10px; box-shadow: 2px 2px 2px; border: 1px solid; padding: 10px \">\n",
    "<b>Комментарий ревьюера v.2</b> \n",
    "    \n",
    "👍 \n",
    "Идеально\n",
    "</div>"
   ]
  },
  {
   "cell_type": "markdown",
   "metadata": {},
   "source": [
    "PS4, XOne и 3DS явно лидируют, но посмотрим еще динамику платформ за взятые нами 3 года"
   ]
  },
  {
   "cell_type": "code",
   "execution_count": 15,
   "metadata": {},
   "outputs": [
    {
     "data": {
      "image/png": "[encoded data removed]",
      "text/plain": [
       "<Figure size 576x360 with 1 Axes>"
      ]
     },
     "metadata": {
      "needs_background": "light"
     },
     "output_type": "display_data"
    }
   ],
   "source": [
    "top_platform = df_last_years.groupby('platform')['total_sales'].sum().sort_values(ascending=False).head(5).index.values\n",
    "(df.query('(platform in @top_platform) & (year_of_release >= 2014)')\n",
    " .pivot_table(index='year_of_release', columns='platform', values='total_sales', aggfunc='sum')\n",
    " .plot(kind='bar', figsize=(8, 5)))\n",
    "plt.xlabel('')\n",
    "plt.xticks(rotation=0)\n",
    "plt.legend(title='Платформы')\n",
    "plt.title('Суммарные продажи за 2016 год(млн копий)')\n",
    "plt.show()"
   ]
  },
  {
   "cell_type": "markdown",
   "metadata": {},
   "source": [
    "За последние годы объем продукции на игровом рынке снижается(что мы видели на самом первом графике). Время PS3 и X360 явно подошло к концу - логично, их вытеснили их же более новые версии. У 3DS тоже снижаются продажи, но она все равно еще остается актуальной платформой для игр. Поэтому, ключевыми платформами будем считать PS4, XOne и 3DS"
   ]
  },
  {
   "cell_type": "markdown",
   "metadata": {},
   "source": [
    "Посмотрим на распределение глобальных продаж игр по нашим ключевым платформам"
   ]
  },
  {
   "cell_type": "code",
   "execution_count": 16,
   "metadata": {},
   "outputs": [
    {
     "data": {
      "image/png": "[encoded data removed]",
      "text/plain": [
       "<Figure size 1080x360 with 1 Axes>"
      ]
     },
     "metadata": {
      "needs_background": "light"
     },
     "output_type": "display_data"
    }
   ],
   "source": [
    "top_platform = top_platform[0:3]\n",
    "df_top3 = df.query('(year_of_release >= 2014) & (platform in @top_platform)')\n",
    "plt.figure(figsize=(15, 5))\n",
    "sns.boxplot(x='total_sales', y='platform', data=df_top3, orient='h')\n",
    "plt.xlabel('Суммарные продажи(млн копий)')\n",
    "plt.ylabel('')\n",
    "plt.title('Распределение продаж')\n",
    "plt.show()"
   ]
  },
  {
   "cell_type": "markdown",
   "metadata": {},
   "source": [
    "Из-за выбросов сложно что-то сказать. А сами выбросы - скорее всего игры, которые получили большой успех, соответсвенно, продались очень большим тиражом"
   ]
  },
  {
   "cell_type": "code",
   "execution_count": 17,
   "metadata": {},
   "outputs": [
    {
     "data": {
      "image/png": "[encoded data removed]",
      "text/plain": [
       "<Figure size 1080x360 with 1 Axes>"
      ]
     },
     "metadata": {
      "needs_background": "light"
     },
     "output_type": "display_data"
    }
   ],
   "source": [
    "plt.figure(figsize=(15, 5))\n",
    "sns.boxplot(x='total_sales', y='platform', data=df_top3, orient='h')\n",
    "plt.xlim(0, 2)\n",
    "plt.xlabel('Суммарные продажи(млн копий)')\n",
    "plt.ylabel('Платформа')\n",
    "plt.title('Распределение продаж')\n",
    "plt.show()"
   ]
  },
  {
   "cell_type": "markdown",
   "metadata": {},
   "source": [
    "Вот так лучше. Видно, что средняя продаваемость игр у Xbox One и PS4 выше, чем у 3DS. Распределение продаж игр у PS4 и XOne на удивление почти одинаковы, хотя PS4 и продает почти в 2 раза больше копий в целом. Если сильно повезет, на этих платформах продажи могут быть до 1,5 млн копий, а вот у 3DS всего примерно до 300 тысяч"
   ]
  },
  {
   "cell_type": "markdown",
   "metadata": {},
   "source": [
    "<div class=\"alert alert-success\" style=\"border-radius: 10px; box-shadow: 2px 2px 2px; border: 1px solid; padding: 10px \">\n",
    "<b>Комментарий ревьюера v.1</b> \n",
    "    \n",
    "👍 \n",
    "Правильно, что построил диаграмму не только по выбросам.\n",
    "</div>"
   ]
  },
  {
   "cell_type": "markdown",
   "metadata": {},
   "source": [
    "### Влияние отзывов на продажи игры"
   ]
  },
  {
   "cell_type": "markdown",
   "metadata": {},
   "source": [
    "Теперь посмотрим, как на успешность игры влияют отзывы критиков и игроков. Платформу возьмем PS4, как самую большую по объемам продаж\n",
    "***\n",
    "(Напомню, коэффициент корреляции может принмать значения от -1 до 1. 1 - сильная прямая зависимость, 0 - совсем нет зависимости(или она нелинейна), -1 - сильная обратная зависимость"
   ]
  },
  {
   "cell_type": "code",
   "execution_count": 18,
   "metadata": {},
   "outputs": [
    {
     "data": {
      "image/png": "[encoded data removed]",
      "text/plain": [
       "<Figure size 720x360 with 1 Axes>"
      ]
     },
     "metadata": {
      "needs_background": "light"
     },
     "output_type": "display_data"
    },
    {
     "name": "stdout",
     "output_type": "stream",
     "text": [
      "Корреляция: 0.40266141068104083\n"
     ]
    }
   ],
   "source": [
    "df_one_platform = df_top3.query('platform == \"PS4\"')\n",
    "plt.figure(figsize=(10, 5))\n",
    "sns.scatterplot(data=df_one_platform, x='critic_score', y='total_sales')\n",
    "plt.xlabel('Оценка критиков')\n",
    "plt.ylabel('Продажи')\n",
    "plt.show()\n",
    "print('Корреляция:', df_one_platform['total_sales'].corr(df_one_platform['critic_score']))"
   ]
  },
  {
   "cell_type": "code",
   "execution_count": 19,
   "metadata": {},
   "outputs": [
    {
     "data": {
      "image/png": "[encoded data removed]",
      "text/plain": [
       "<Figure size 720x360 with 1 Axes>"
      ]
     },
     "metadata": {
      "needs_background": "light"
     },
     "output_type": "display_data"
    },
    {
     "name": "stdout",
     "output_type": "stream",
     "text": [
      "Корреляция: -0.03501047705575576\n"
     ]
    }
   ],
   "source": [
    "plt.figure(figsize=(10, 5))\n",
    "sns.scatterplot(data=df_one_platform, x='user_score', y='total_sales')\n",
    "plt.xlabel('Оценка игроков')\n",
    "plt.ylabel('Продажи')\n",
    "plt.show()\n",
    "print('Корреляция:', df_one_platform['total_sales'].corr(df_one_platform['user_score']))"
   ]
  },
  {
   "cell_type": "markdown",
   "metadata": {},
   "source": [
    "И все тоже самое для платформы Xbox One - интересно сравнить с результатами PS4"
   ]
  },
  {
   "cell_type": "code",
   "execution_count": 20,
   "metadata": {},
   "outputs": [
    {
     "data": {
      "image/png": "[encoded data removed]",
      "text/plain": [
       "<Figure size 720x360 with 1 Axes>"
      ]
     },
     "metadata": {
      "needs_background": "light"
     },
     "output_type": "display_data"
    },
    {
     "name": "stdout",
     "output_type": "stream",
     "text": [
      "Корреляция: 0.42867694370333226\n"
     ]
    }
   ],
   "source": [
    "df_one_platform = df_top3.query('platform == \"XOne\"')\n",
    "plt.figure(figsize=(10, 5))\n",
    "sns.scatterplot(data=df_one_platform, x='critic_score', y='total_sales')\n",
    "plt.xlabel('Оценка критиков')\n",
    "plt.ylabel('Продажи')\n",
    "plt.show()\n",
    "print('Корреляция:', df_one_platform['total_sales'].corr(df_one_platform['critic_score']))"
   ]
  },
  {
   "cell_type": "code",
   "execution_count": 21,
   "metadata": {},
   "outputs": [
    {
     "data": {
      "image/png": "[encoded data removed]",
      "text/plain": [
       "<Figure size 720x360 with 1 Axes>"
      ]
     },
     "metadata": {
      "needs_background": "light"
     },
     "output_type": "display_data"
    },
    {
     "name": "stdout",
     "output_type": "stream",
     "text": [
      "Корреляция: -0.07146551179048775\n"
     ]
    }
   ],
   "source": [
    "plt.figure(figsize=(10, 5))\n",
    "sns.scatterplot(data=df_one_platform, x='user_score', y='total_sales')\n",
    "plt.xlabel('Оценка игроков')\n",
    "plt.ylabel('Продажи')\n",
    "plt.show()\n",
    "print('Корреляция:', df_one_platform['total_sales'].corr(df_one_platform['user_score']))"
   ]
  },
  {
   "cell_type": "markdown",
   "metadata": {},
   "source": [
    "Результаты получились очень интересными, оказалось, оценки критиков слабо влияют на продажи, а оценки пользователей вообще никак не влияют(либо же влияют, но зависимость не линейная, а более сложная). Можно предположить, что игроки редко смотрят на отзывы игры перед покупкой, а если и смотрят, то на отзывы критиков"
   ]
  },
  {
   "cell_type": "markdown",
   "metadata": {},
   "source": [
    "<div class=\"alert alert-success\" style=\"border-radius: 10px; box-shadow: 2px 2px 2px; border: 1px solid; padding: 10px \">\n",
    "<b>Комментарий ревьюера v.1</b> \n",
    "    \n",
    "👍 \n",
    "Верно\n",
    "</div>"
   ]
  },
  {
   "cell_type": "markdown",
   "metadata": {},
   "source": [
    "### Исследование игр в разрезе жанров"
   ]
  },
  {
   "cell_type": "markdown",
   "metadata": {},
   "source": [
    "Следующий вопрос, который возникнет при выпуске игры: \"А какого жанра будет игра?\". Взглянем на суммарный объем продаж игр по жанрам"
   ]
  },
  {
   "cell_type": "code",
   "execution_count": 22,
   "metadata": {
    "scrolled": false
   },
   "outputs": [
    {
     "data": {
      "image/png": "[encoded data removed]",
      "text/plain": [
       "<Figure size 864x360 with 1 Axes>"
      ]
     },
     "metadata": {
      "needs_background": "light"
     },
     "output_type": "display_data"
    }
   ],
   "source": [
    "plt.figure(figsize=(12, 5))\n",
    "df_temp = df_top3.groupby('genre').sum().sort_values(by='total_sales')\n",
    "df_temp.reset_index(inplace=True)\n",
    "sns.barplot(data=df_temp, x='genre', y='total_sales')\n",
    "plt.xlabel('Жанр')\n",
    "plt.ylabel('Продано млн копий')\n",
    "plt.title('Суммарный объем продаж игр по жанрам(млн копий)')\n",
    "plt.show()"
   ]
  },
  {
   "cell_type": "markdown",
   "metadata": {},
   "source": [
    "И еще посмотрим на средний объем продаж для каждого жанра"
   ]
  },
  {
   "cell_type": "code",
   "execution_count": 23,
   "metadata": {},
   "outputs": [
    {
     "data": {
      "image/png": "[encoded data removed]",
      "text/plain": [
       "<Figure size 864x360 with 1 Axes>"
      ]
     },
     "metadata": {
      "needs_background": "light"
     },
     "output_type": "display_data"
    }
   ],
   "source": [
    "plt.figure(figsize=(12, 5))\n",
    "df_temp = df_top3.groupby('genre').median().sort_values(by='total_sales')\n",
    "df_temp.reset_index(inplace=True)\n",
    "sns.barplot(data=df_temp, x='genre', y='total_sales')\n",
    "plt.xlabel('Жанр')\n",
    "plt.ylabel('Продано млн копий')\n",
    "plt.title('Средний объем продаж игр по жанрам(млн копий)')\n",
    "plt.show()"
   ]
  },
  {
   "cell_type": "markdown",
   "metadata": {},
   "source": [
    "**Вывод**\n",
    "\n",
    "Игры жанра \"Shooter\" несомненно являются лидерами по обьему продаж. А вот у игр жанра \"Action\", на первый взягляд, тоже большой обьем продаж, но продажи одной игры этого жанра достаточно низкие. О чем это может говорить? Возможно, игр этого жанра стало слишком много на рынке и они уже не так интересны пользователям"
   ]
  },
  {
   "cell_type": "markdown",
   "metadata": {},
   "source": [
    "<div class=\"alert alert-success\" style=\"border-radius: 10px; box-shadow: 2px 2px 2px; border: 1px solid; padding: 10px \">\n",
    "<b>Комментарий ревьюера v.1</b> \n",
    "    \n",
    "👍 \n",
    "Верно. Общие продажи - плохая метрика для поиска наиболее прибыльного жанра. За высокими показателями общих продаж может скрываться множество мелких игр с низкими продажами. Или 2-3 звезды и куча провалов. Лучше найти жанр, где игры стабильно приносят высокий доход - для этого стоит рассмотреть средние или медианные продажи.\n",
    "</div>"
   ]
  },
  {
   "cell_type": "markdown",
   "metadata": {},
   "source": [
    "### Портрет пользователя различных регионов"
   ]
  },
  {
   "cell_type": "markdown",
   "metadata": {},
   "source": [
    "Выпуская игру на различные рынки, стоит учитывать, что целевая аудитория этих рынков тоже может быть разной. Ранее, мы изучили общие тенденции игровой индустрии за последние несколько лет. Теперь детально посмотрим на различные рынки и составим портрет пользователя для Северной Америки, Европы и Японии"
   ]
  },
  {
   "cell_type": "markdown",
   "metadata": {},
   "source": [
    "Посмотрим, как между собой поделили рынок пять самых популярных платформ(по продажам млн копий)"
   ]
  },
  {
   "cell_type": "code",
   "execution_count": 24,
   "metadata": {
    "scrolled": true
   },
   "outputs": [
    {
     "data": {
      "image/png": "[encoded data removed]",
      "text/plain": [
       "<Figure size 1080x360 with 3 Axes>"
      ]
     },
     "metadata": {},
     "output_type": "display_data"
    }
   ],
   "source": [
    "regions = ['na_sales', 'eu_sales', 'jp_sales']\n",
    "titles = ['Северная Америка', 'Европа', 'Япония']\n",
    "fig, axs = plt.subplots(1, 3, figsize=(15, 5))\n",
    "\n",
    "for i in range(0, 3):\n",
    "    vals = df_last_years.groupby('platform')[regions[i]].sum().sort_values(ascending=False).head(5).values\n",
    "    labels = df_last_years.groupby('platform')[regions[i]].sum().sort_values(ascending=False).head(5).index.values\n",
    "    axs[i].pie(vals, labels=labels, explode=(0.1, 0, 0.1, 0.1, 0.1), autopct='%.1f%%', pctdistance=0.8)\n",
    "    axs[i].set_title(titles[i])"
   ]
  },
  {
   "cell_type": "markdown",
   "metadata": {},
   "source": [
    "Если для Северной Америки и Европы самая популярная платформа PS4(что соответсвует общему тренду), то для Японии это 3DS. Также можно заметить, что только в Японии же в топ 5 попала PSV, а XOne наоборот, не вошла в пятерку лидеров. А еще видно, что в Северной Америке доля платформ от Microsoft(X360 и XOne) самая большая"
   ]
  },
  {
   "cell_type": "markdown",
   "metadata": {},
   "source": [
    "<div class=\"alert alert-warning\" style=\"border-radius: 10px; box-shadow: 2px 2px 2px; border: 1px solid; padding: 10px \">\n",
    "<b>Комментарий ревьюера v.1</b> \n",
    "    \n",
    "📝 \n",
    "Исходя из расчетов вывод верный, но не забудь перепроверить после определения актуального периода\n",
    "</div>\n",
    "<div class=\"alert alert-info\" style=\"border-radius: 10px; box-shadow: 2px 2px 2px; border: 1px solid; padding: 10px \"> \n",
    "<b>Комментарий студента</b> \n",
    "    \n",
    "Действительно, распределение немного изменилось\n",
    "</div>"
   ]
  },
  {
   "cell_type": "markdown",
   "metadata": {},
   "source": [
    "А теперь все тоже самое, но разделение будет по топ 5 жанрам. Брать будем не суммарные продажи, а медиану"
   ]
  },
  {
   "cell_type": "code",
   "execution_count": 25,
   "metadata": {},
   "outputs": [
    {
     "data": {
      "image/png": "[encoded data removed]",
      "text/plain": [
       "<Figure size 1152x360 with 3 Axes>"
      ]
     },
     "metadata": {},
     "output_type": "display_data"
    }
   ],
   "source": [
    "fig, axs = plt.subplots(1, 3, figsize=(16, 5))\n",
    "\n",
    "for i in range(0, 3):\n",
    "    vals = df_last_years.groupby('genre')[regions[i]].median().sort_values(ascending=False).head(5).values * 10\n",
    "    labels = df_last_years.groupby('genre')[regions[i]].median().sort_values(ascending=False).head(5).index.values\n",
    "    axs[i].pie(vals, labels=labels, explode=(0.1, 0, 0.1, 0.1, 0.1), autopct='%.1f%%', pctdistance=0.8)\n",
    "    axs[i].set_title(titles[i])"
   ]
  },
  {
   "cell_type": "markdown",
   "metadata": {},
   "source": [
    "Тут тоже видны различия, особенно, в регионе Япония, там самые популярные жанры - Role-Playing и Fighting"
   ]
  },
  {
   "cell_type": "markdown",
   "metadata": {},
   "source": [
    "Тогда, стоит взглянуть и на рейтинг ESRB(возрастная категория)"
   ]
  },
  {
   "cell_type": "code",
   "execution_count": 26,
   "metadata": {},
   "outputs": [
    {
     "data": {
      "image/png": "[encoded data removed]",
      "text/plain": [
       "<Figure size 1080x360 with 3 Axes>"
      ]
     },
     "metadata": {},
     "output_type": "display_data"
    }
   ],
   "source": [
    "fig, axs = plt.subplots(1, 3, figsize=(15, 5))\n",
    "\n",
    "for i in range(0, 3):\n",
    "    vals = df_last_years.groupby('rating')[regions[i]].sum().sort_values(ascending=False).values\n",
    "    labels = df_last_years.groupby('rating')[regions[i]].sum().sort_values(ascending=False).index.values\n",
    "    axs[i].pie(vals, labels=labels, explode=(0.1, 0, 0.1, 0.1, 0), autopct='%.1f%%', pctdistance=0.8)\n",
    "    axs[i].set_title(titles[i])"
   ]
  },
  {
   "cell_type": "markdown",
   "metadata": {},
   "source": [
    "Северная Америка и Европа практически идентичны - самые популярные игры здесь категории М(от 17 лет) и без маркировки. А вот Япония сильно отличается - 2/3 рынка занято играми без маркировки, на втором месте игры категории Т(от 13 лет). Можно предположить, что для пользователей Северной Америки и Европы достаточно важно, чтобы у игры был рейтинг ESRB - без него не все готовы купить игру. А вот для пользователей Японии наличие или отсутсвие маркировки не важно"
   ]
  },
  {
   "cell_type": "markdown",
   "metadata": {},
   "source": [
    "<div class=\"alert alert-danger\" style=\"border-radius: 10px; box-shadow: 2px 2px 2px; border: 1px solid; padding: 10px \">\n",
    "<b>Комментарий ревьюера v.1</b> \n",
    "    \n",
    "✍ \n",
    "Мы при предобработке данных не поставили заглушку на пропуски в рейтинге ESRB. И игры без рейтинга оказываются полностью исключенными из анализа. Но продажи именно этих игр могут указать на ключевое различие в регионах.\n",
    "\n",
    "А проблема у нас в том, что если посмотреть в инете, что из себя представляет рейтинг ESRB, то окажется, что он предназначен для маркировки игр для США и Канады. И логично, что для других регионов он не заполняется. Наша задача смотреть шире на исходный датасет, так как за цифрами находятся реальные бизнес-процессы. И мы должны это учитывать при предобработке данных. Для этого лучше поставить заглушку и вывести ее при анализе, например `Unknown`.\n",
    "</div>\n",
    "<div class=\"alert alert-info\" style=\"border-radius: 10px; box-shadow: 2px 2px 2px; border: 1px solid; padding: 10px \"> \n",
    "<b>Комментарий студента</b> \n",
    "    \n",
    "Оказалось, такая маленькая на первый взгляд деталь многое поменяла)\n",
    "</div>"
   ]
  },
  {
   "cell_type": "markdown",
   "metadata": {},
   "source": [
    "<div class=\"alert alert-success\" style=\"border-radius: 10px; box-shadow: 2px 2px 2px; border: 1px solid; padding: 10px \">\n",
    "<b>Комментарий ревьюера v.2</b> \n",
    "    \n",
    "👍 \n",
    "Да, теперь картина полная :)\n",
    "</div>"
   ]
  },
  {
   "cell_type": "markdown",
   "metadata": {},
   "source": [
    "## Проверка гипотез"
   ]
  },
  {
   "cell_type": "markdown",
   "metadata": {},
   "source": [
    "Нам была поставлена задача проверить гипотезу, которая звучит так: `\"Средние пользовательские рейтинги платформ Xbox One и PC одинаковые\"`\n",
    " - Нулевая гипотеза в нашем случае **Средние пользовательские рейтинги платформ Xbox One равны средним пользовательским рейтингам платформы РС**\n",
    " - Альтернативная гипотеза **Средние пользовательские рейтинги платформ Xbox One не равны средним пользовательским рейтингам платформы РС**"
   ]
  },
  {
   "cell_type": "markdown",
   "metadata": {},
   "source": [
    "<div class=\"alert alert-success\" style=\"border-radius: 10px; box-shadow: 2px 2px 2px; border: 1px solid; padding: 10px \">\n",
    "<b>Комментарий ревьюера v.1</b> \n",
    "    \n",
    "👍 \n",
    "Гипотезы сформулированы верно.\n",
    "</div>"
   ]
  },
  {
   "cell_type": "code",
   "execution_count": 27,
   "metadata": {
    "scrolled": true
   },
   "outputs": [
    {
     "name": "stdout",
     "output_type": "stream",
     "text": [
      "p-значение: 0.1183\n",
      "Не получилось отвергнуть нулевую гипотезу\n"
     ]
    }
   ],
   "source": [
    "xbox_user_score = df_last_years.query('platform == \"XOne\"')['user_score'].dropna()\n",
    "pc_user_score = df_last_years.query('platform == \"PC\"')['user_score'].dropna()\n",
    "alpha = 0.05\n",
    "results = st.ttest_ind(xbox_user_score, pc_user_score)\n",
    "\n",
    "print('p-значение: {:.4f}'.format(results.pvalue))\n",
    "if results.pvalue < alpha:\n",
    "    print('Отвергаем нулевую гипотезу')\n",
    "else:\n",
    "    print('Не получилось отвергнуть нулевую гипотезу')"
   ]
  },
  {
   "cell_type": "markdown",
   "metadata": {},
   "source": [
    "Раз нулевую гипотезу отвергнуть не получилось, значит, она верна и средние пользовательские рейтинги платформ Xbox One и PC действительно одинаковые.\n",
    "\n",
    "Что такое р-значение, и как его можно интерпертировать: у нас есть вероятность 11% получить такой результат, при котором наша нулевая гипотеза будет ложно отвергнута из-за статистической ошибки. А 11% это слишком много, поэтому мы и не отвергаем нулевую гипотезу "
   ]
  },
  {
   "cell_type": "markdown",
   "metadata": {},
   "source": [
    "***\n",
    "Нам была поставлена задача проверить гипотезу, которая звучит так: `\"Средние пользовательские рейтинги жанров Action и Sports разные\"`\n",
    " - Нулевая гипотеза в нашем случае **Средние пользовательские рейтинги жанра Action равны средним пользовательским рейтингам жанра Sports**\n",
    " - Альтернативная гипотеза **Средние пользовательские рейтинги жанра Action не равны средним пользовательским рейтингам жанра Sports**\n"
   ]
  },
  {
   "cell_type": "code",
   "execution_count": 28,
   "metadata": {},
   "outputs": [
    {
     "name": "stdout",
     "output_type": "stream",
     "text": [
      "p-значение: 0.00000000000000000986\n",
      "Отвергаем нулевую гипотезу\n"
     ]
    }
   ],
   "source": [
    "action_user_score = df_last_years.query('genre == \"Action\"')['user_score'].dropna()\n",
    "sports_user_score = df_last_years.query('genre == \"Sports\"')['user_score'].dropna()\n",
    "\n",
    "alpha = 0.05\n",
    "results = st.ttest_ind(action_user_score, sports_user_score)\n",
    "\n",
    "print('p-значение: {:.20f}'.format(results.pvalue))\n",
    "if results.pvalue < alpha:\n",
    "    print('Отвергаем нулевую гипотезу')\n",
    "else:\n",
    "    print('Не получилось отвергнуть нулевую гипотезу')"
   ]
  },
  {
   "cell_type": "markdown",
   "metadata": {},
   "source": [
    "Интерпретируем: вероятность ложно отвергнуть нулевую гипотезу из-за статистической ошибки очень мала. Это меньше стандартного критерия, который равняется 5%, а значит, можем отвергнуть нулевую гипотезу в пользу альтернативной. То есть, средние пользовательские рейтинги жанра Action не равны средним пользовательским рейтингам жанра Sports"
   ]
  },
  {
   "cell_type": "markdown",
   "metadata": {},
   "source": [
    "<div class=\"alert alert-success\" style=\"border-radius: 10px; box-shadow: 2px 2px 2px; border: 1px solid; padding: 10px \">\n",
    "<b>Комментарий ревьюера v.1</b> \n",
    "    \n",
    "👍 \n",
    "* Правильно, что для тестирования гипотез использован двусторонний t-тест Стьюдента.\n",
    "\n",
    "* Хорошо, что использован параметр отфильтровывющий пропуски. \n",
    "</div>"
   ]
  },
  {
   "cell_type": "markdown",
   "metadata": {},
   "source": [
    "## Итоги"
   ]
  },
  {
   "cell_type": "markdown",
   "metadata": {},
   "source": [
    "В нашем распоряжении был датасет со статистикой проданных игр по разным регионам.\n",
    "\n",
    "После обработки датасета у нас осталось 98.4% данных, а значит, он остался достаточно репрезентативным.\n",
    "\n",
    " **Тенденции и закономерности, определляющие успешность продукта**\n",
    " \n",
    "При исследовании игрового рынка мы узнали, что он постоянно меняется: в среднем каждый год появляется новая платформа для игр, а жизненный ее цикл составляет около 7 лет. В связи с этим, при исследовании тенденций, актуальным периодом для анализа были выбраны последние 3 года. Лидирующей платформой оказалась PS4, следующей по популярности XOne и замыкает тройку 3DS. Но, 3DS показывает стабильное снижение продаж за последние несколько лет, что может говорить о том, что жизненный цикл этой платформы подходит к концу. Еще важно отметить, что, несмотря на лидирующий обьем продаж у PS4, средняя продаваемость игры(в млн копий) такая же, как и на платформе XOne\n",
    " \n",
    "При исследовании успешности жанров на рынке игр узнали, что игры жанра \"Shooter\" являются лидерами как по обьему продаж, так и по средней продаваемости одной игры такого жанра. А вот у игр жанра \"Action\", на первый взягляд, тоже большой обьем продаж, но продажи одной игры этого жанра в среднем низкие. О чем это может говорить? Возможно, игр этого жанра стало слишком много на рынке и они уже не так интересны пользователям. Возможно, популярными жанрами в следующем году будут также \"Sports\" и \"Platform\" - у них маленькие суммарные продажи и высокая медиана продаж.\n",
    "\n",
    "**Влияние оценок на продажи игр**\n",
    "\n",
    "Было проведено исследование корреляции между продажами игры и ее оценками как пользователями, так и критиками. Получили схожие результаты при взятии двух разных платформ за актуальный период.\n",
    " * Корреляция продаж и отзывов критиков в среднем для двух платформ: 0.3935(слабая связь)\n",
    " * Корреляция продаж и отзывов пользователей в среднем для двух платформ: -0.12(отсутсвие связи, либо нелинейность)\n",
    " \n",
    " Что говорит о том, что большинство пользователей редко смотрят отзывы перед покупкой, либо же не ориентируются на них. При этом, малая часть все же обращает свое внимание на отзывы, но больше на отзывы критиков\n",
    "\n",
    "**Портрет покупателя**\n",
    "\n",
    "Также были выявлены отличия и составлены профили покупателей различных игровых рынков, а именно: Северная Америка, Европа и Япония\n",
    " - Для Северной Америке самые популярные платформы - это PS4, XOne и 3DS, соответсвенно. Жанры - Shooter, Platform и Sports.\n",
    " - Для Европы самые популярные платформы - это PS4, XOne и PS3, соответсвенно. Жанры - Shooter, Platform и Racing.\n",
    " \n",
    " Если эти два региона были схожи, то регион Япония разительно отличается\n",
    " - Для Японии самые популярные платформы - это 3DS, PS4 и PSV, соответсвенно. И совсем другие жанры - Role-Playing, Fighting и Puzzle.\n",
    " \n",
    "А еще узнали, что пользователи Северной Америки и Европы с гораздо меньшей вероятностью приобретут игру без маркировки ESRB, в отличии от пользователей из Японии(там 2/3 рынка - это игры без маркировки)\n",
    " \n",
    " **Проверка гипотез**\n",
    " \n",
    " Также, была проведена проверка гипотез: `\"Средние пользовательские рейтинги платформ Xbox One и PC одинаковые\"` и `\"Средние пользовательские рейтинги жанров Action и Sports разные\"`. Обе гипотезы подтвердились\n",
    "\n",
    "**Резюмируя**\n",
    "\n",
    " Самой популярной платформой на следующий год прогнозируются PS4, уступать ей в продажах будет XOne. Также вероятно, что 3DS завершит свой цикл существования, и появится новая платформа. Вероятно, популярными жанрами будут Shooter, Sports и Platform. А также, при планировании продукта обязательно стоит учитывать региональные отличия пользователей"
   ]
  },
  {
   "cell_type": "markdown",
   "metadata": {},
   "source": [
    "<div class=\"alert alert-success\" style=\"border-radius: 10px; box-shadow: 2px 2px 2px; border: 1px solid; padding: 10px \">\n",
    "<b>Комментарий ревьюера v.1</b> \n",
    "    \n",
    "👍 \n",
    "Выводы понятны и логичны, а самое главное подкреплены выявленными фактами. Но не забудь, пожалуйста, все перепроверить после корректировок\n",
    "    \n",
    "Ты очень серьезно подходишь к визуализации.\n",
    "\n",
    "Вот пара ссылок на полезные источники:https://habr.com/ru/company/otus/blog/540526/, https://pythonru.com/biblioteki/seaborn-plot\n",
    "</div>"
   ]
  },
  {
   "cell_type": "markdown",
   "metadata": {},
   "source": [
    "<div style=\"border:solid indigo 3px; padding: 20px\">\n",
    "<div class=\"alert alert-success\">\n",
    "<b>Обратная связь v.1</b> \n",
    "    \n",
    "👋  \n",
    "Александр, замечательная работа, ты мыслишь нестандартно, это отличный навык, который у тебя уже есть, ты последователен и вдумчив. Твою работу очень интересно читать и проверять.  Я оставил несколько обязательных поправок для тебя и после этого буду готов сразу принять проект. \n",
    "\n",
    "Удачи в доработках, жду!  \n",
    "    <div class=\"alert alert-info\" style=\"border-radius: 10px; box-shadow: 2px 2px 2px; border: 1px solid; padding: 10px \"> \n",
    "<b>Комментарий студента</b> \n",
    "\n",
    "Спасибо за обратную связь, всегда круто узнать, какие моменты можно еще улучшить и развить)\n",
    "\n",
    "Везде, где правил оставил комментарии, чтобы тебе сразу видны изменения были. И, естественно, немного переписал общий вывод с учетом всех правок\n",
    "</div>"
   ]
  },
  {
   "cell_type": "markdown",
   "metadata": {},
   "source": [
    "<div style=\"border:solid indigo 3px; padding: 20px\">\n",
    "<div class=\"alert alert-success\">\n",
    "<b>Обратная связь v.2</b> \n",
    "    \n",
    "👋 \n",
    "      \n",
    "Александр, спасибо тебе за исправления критических моментов, а также спасибо за хорошую работу.\n",
    "    \n",
    "Поздравляю с успешным завершением проекта 😊👍\n",
    "    \n",
    "И желаю успехов в новых работах 😊"
   ]
  },
  {
   "cell_type": "code",
   "execution_count": null,
   "metadata": {},
   "outputs": [],
   "source": []
  }
 ],
 "metadata": {
  "ExecuteTimeLog": [
   {
    "duration": 438,
    "start_time": "2023-03-09T07:42:27.756Z"
   },
   {
    "duration": 60,
    "start_time": "2023-03-09T07:43:38.826Z"
   },
   {
    "duration": 107,
    "start_time": "2023-03-09T07:43:45.420Z"
   },
   {
    "duration": 25,
    "start_time": "2023-03-09T07:43:49.066Z"
   },
   {
    "duration": 13,
    "start_time": "2023-03-09T07:45:07.268Z"
   },
   {
    "duration": 3,
    "start_time": "2023-03-09T07:50:27.862Z"
   },
   {
    "duration": 55,
    "start_time": "2023-03-09T07:50:47.869Z"
   },
   {
    "duration": 3,
    "start_time": "2023-03-09T07:50:58.280Z"
   },
   {
    "duration": 52,
    "start_time": "2023-03-09T07:50:59.104Z"
   },
   {
    "duration": 51,
    "start_time": "2023-03-09T07:51:16.060Z"
   },
   {
    "duration": 3,
    "start_time": "2023-03-09T07:58:24.910Z"
   },
   {
    "duration": 77,
    "start_time": "2023-03-09T07:58:25.629Z"
   },
   {
    "duration": 7,
    "start_time": "2023-03-09T07:59:00.440Z"
   },
   {
    "duration": 62,
    "start_time": "2023-03-09T07:59:00.803Z"
   },
   {
    "duration": 4,
    "start_time": "2023-03-09T07:59:28.640Z"
   },
   {
    "duration": 79,
    "start_time": "2023-03-09T07:59:30.019Z"
   },
   {
    "duration": 5,
    "start_time": "2023-03-09T08:00:13.231Z"
   },
   {
    "duration": 59,
    "start_time": "2023-03-09T08:00:15.105Z"
   },
   {
    "duration": 4,
    "start_time": "2023-03-09T08:02:13.943Z"
   },
   {
    "duration": 59,
    "start_time": "2023-03-09T08:02:15.508Z"
   },
   {
    "duration": 3,
    "start_time": "2023-03-09T08:12:32.419Z"
   },
   {
    "duration": 85,
    "start_time": "2023-03-09T08:12:33.477Z"
   },
   {
    "duration": 3,
    "start_time": "2023-03-09T08:13:34.103Z"
   },
   {
    "duration": 72,
    "start_time": "2023-03-09T08:13:34.981Z"
   },
   {
    "duration": 3,
    "start_time": "2023-03-09T08:14:04.069Z"
   },
   {
    "duration": 57,
    "start_time": "2023-03-09T08:14:04.426Z"
   },
   {
    "duration": 3,
    "start_time": "2023-03-09T08:14:50.492Z"
   },
   {
    "duration": 69,
    "start_time": "2023-03-09T08:14:50.777Z"
   },
   {
    "duration": 3,
    "start_time": "2023-03-09T08:33:36.321Z"
   },
   {
    "duration": 5,
    "start_time": "2023-03-09T08:34:45.931Z"
   },
   {
    "duration": 69,
    "start_time": "2023-03-09T08:34:48.692Z"
   },
   {
    "duration": 6,
    "start_time": "2023-03-09T08:37:48.111Z"
   },
   {
    "duration": 69,
    "start_time": "2023-03-09T08:37:53.997Z"
   },
   {
    "duration": 7,
    "start_time": "2023-03-09T08:40:38.355Z"
   },
   {
    "duration": 47,
    "start_time": "2023-03-09T08:41:34.990Z"
   },
   {
    "duration": 26,
    "start_time": "2023-03-09T08:41:51.303Z"
   },
   {
    "duration": 12,
    "start_time": "2023-03-09T08:44:00.464Z"
   },
   {
    "duration": 19,
    "start_time": "2023-03-09T08:45:52.966Z"
   },
   {
    "duration": 25,
    "start_time": "2023-03-09T08:49:00.194Z"
   },
   {
    "duration": 26,
    "start_time": "2023-03-09T08:49:06.390Z"
   },
   {
    "duration": 4,
    "start_time": "2023-03-09T08:55:23.389Z"
   },
   {
    "duration": 5,
    "start_time": "2023-03-09T08:55:37.232Z"
   },
   {
    "duration": 32,
    "start_time": "2023-03-09T08:56:38.685Z"
   },
   {
    "duration": 39,
    "start_time": "2023-03-09T08:56:58.246Z"
   },
   {
    "duration": 22,
    "start_time": "2023-03-09T08:57:53.692Z"
   },
   {
    "duration": 22,
    "start_time": "2023-03-09T08:59:09.856Z"
   },
   {
    "duration": 15,
    "start_time": "2023-03-09T08:59:29.947Z"
   },
   {
    "duration": 12,
    "start_time": "2023-03-09T08:59:44.080Z"
   },
   {
    "duration": 10,
    "start_time": "2023-03-09T08:59:49.799Z"
   },
   {
    "duration": 26,
    "start_time": "2023-03-09T09:00:07.230Z"
   },
   {
    "duration": 13,
    "start_time": "2023-03-09T09:00:21.834Z"
   },
   {
    "duration": 11,
    "start_time": "2023-03-09T09:00:43.795Z"
   },
   {
    "duration": 21,
    "start_time": "2023-03-09T09:00:49.078Z"
   },
   {
    "duration": 7,
    "start_time": "2023-03-09T09:01:56.355Z"
   },
   {
    "duration": 6,
    "start_time": "2023-03-09T09:02:02.353Z"
   },
   {
    "duration": 24,
    "start_time": "2023-03-09T09:02:26.069Z"
   },
   {
    "duration": 33,
    "start_time": "2023-03-09T09:02:46.107Z"
   },
   {
    "duration": 67,
    "start_time": "2023-03-09T09:04:23.614Z"
   },
   {
    "duration": 3,
    "start_time": "2023-03-09T09:55:29.263Z"
   },
   {
    "duration": 3,
    "start_time": "2023-03-09T09:59:40.722Z"
   },
   {
    "duration": 81,
    "start_time": "2023-03-09T09:59:43.309Z"
   },
   {
    "duration": 3,
    "start_time": "2023-03-09T10:00:01.579Z"
   },
   {
    "duration": 58,
    "start_time": "2023-03-09T10:00:02.397Z"
   },
   {
    "duration": 7,
    "start_time": "2023-03-09T10:00:03.432Z"
   },
   {
    "duration": 73,
    "start_time": "2023-03-09T10:00:04.485Z"
   },
   {
    "duration": 7,
    "start_time": "2023-03-09T10:02:27.131Z"
   },
   {
    "duration": 79,
    "start_time": "2023-03-09T10:02:27.491Z"
   },
   {
    "duration": 1336,
    "start_time": "2023-03-09T10:29:46.534Z"
   },
   {
    "duration": 3,
    "start_time": "2023-03-09T10:30:11.367Z"
   },
   {
    "duration": 14,
    "start_time": "2023-03-09T10:30:13.857Z"
   },
   {
    "duration": 380,
    "start_time": "2023-03-09T12:31:38.647Z"
   },
   {
    "duration": 209,
    "start_time": "2023-03-09T12:31:39.029Z"
   },
   {
    "duration": 4,
    "start_time": "2023-03-09T12:31:39.240Z"
   },
   {
    "duration": 78,
    "start_time": "2023-03-09T12:31:39.245Z"
   },
   {
    "duration": 3,
    "start_time": "2023-03-09T12:31:39.325Z"
   },
   {
    "duration": 13,
    "start_time": "2023-03-09T12:31:39.329Z"
   },
   {
    "duration": 4,
    "start_time": "2023-03-09T12:31:52.374Z"
   },
   {
    "duration": 6,
    "start_time": "2023-03-09T12:32:09.149Z"
   },
   {
    "duration": 10,
    "start_time": "2023-03-09T12:35:55.121Z"
   },
   {
    "duration": 16,
    "start_time": "2023-03-09T12:43:13.422Z"
   },
   {
    "duration": 26,
    "start_time": "2023-03-09T12:43:18.024Z"
   },
   {
    "duration": 8,
    "start_time": "2023-03-09T12:44:35.994Z"
   },
   {
    "duration": 84,
    "start_time": "2023-03-09T12:55:08.224Z"
   },
   {
    "duration": 9,
    "start_time": "2023-03-09T12:55:30.566Z"
   },
   {
    "duration": 6,
    "start_time": "2023-03-09T12:55:37.777Z"
   },
   {
    "duration": 74,
    "start_time": "2023-03-09T13:08:21.407Z"
   },
   {
    "duration": 6,
    "start_time": "2023-03-09T13:08:39.478Z"
   },
   {
    "duration": 92,
    "start_time": "2023-03-09T13:08:41.897Z"
   },
   {
    "duration": 3,
    "start_time": "2023-03-09T13:09:16.514Z"
   },
   {
    "duration": 68,
    "start_time": "2023-03-09T13:09:16.519Z"
   },
   {
    "duration": 5,
    "start_time": "2023-03-09T13:09:16.589Z"
   },
   {
    "duration": 103,
    "start_time": "2023-03-09T13:09:16.597Z"
   },
   {
    "duration": 4,
    "start_time": "2023-03-09T13:09:16.702Z"
   },
   {
    "duration": 11,
    "start_time": "2023-03-09T13:09:16.708Z"
   },
   {
    "duration": 15,
    "start_time": "2023-03-09T13:09:16.721Z"
   },
   {
    "duration": 13,
    "start_time": "2023-03-09T13:09:16.738Z"
   },
   {
    "duration": 7,
    "start_time": "2023-03-09T13:09:16.753Z"
   },
   {
    "duration": 9,
    "start_time": "2023-03-09T13:09:16.763Z"
   },
   {
    "duration": 104,
    "start_time": "2023-03-09T13:09:16.787Z"
   },
   {
    "duration": 995,
    "start_time": "2023-03-09T13:21:23.769Z"
   },
   {
    "duration": 61,
    "start_time": "2023-03-09T13:21:24.766Z"
   },
   {
    "duration": 4,
    "start_time": "2023-03-09T13:21:24.829Z"
   },
   {
    "duration": 99,
    "start_time": "2023-03-09T13:21:24.836Z"
   },
   {
    "duration": 3,
    "start_time": "2023-03-09T13:21:24.938Z"
   },
   {
    "duration": 11,
    "start_time": "2023-03-09T13:21:24.943Z"
   },
   {
    "duration": 4,
    "start_time": "2023-03-09T13:21:24.955Z"
   },
   {
    "duration": 32,
    "start_time": "2023-03-09T13:21:24.960Z"
   },
   {
    "duration": 8,
    "start_time": "2023-03-09T13:21:24.994Z"
   },
   {
    "duration": 9,
    "start_time": "2023-03-09T13:21:25.005Z"
   },
   {
    "duration": 112,
    "start_time": "2023-03-09T13:21:25.016Z"
   },
   {
    "duration": 21,
    "start_time": "2023-03-09T13:32:03.021Z"
   },
   {
    "duration": 242,
    "start_time": "2023-03-09T13:39:34.163Z"
   },
   {
    "duration": 43,
    "start_time": "2023-03-09T13:39:50.121Z"
   },
   {
    "duration": 9,
    "start_time": "2023-03-09T13:39:56.978Z"
   },
   {
    "duration": 408,
    "start_time": "2023-03-09T13:40:32.100Z"
   },
   {
    "duration": 133,
    "start_time": "2023-03-09T13:40:43.945Z"
   },
   {
    "duration": 331,
    "start_time": "2023-03-09T13:41:20.452Z"
   },
   {
    "duration": 17,
    "start_time": "2023-03-09T13:41:39.836Z"
   },
   {
    "duration": 266,
    "start_time": "2023-03-09T13:41:48.566Z"
   },
   {
    "duration": 372,
    "start_time": "2023-03-09T13:42:04.157Z"
   },
   {
    "duration": 18,
    "start_time": "2023-03-09T13:42:24.077Z"
   },
   {
    "duration": 18,
    "start_time": "2023-03-09T13:42:41.177Z"
   },
   {
    "duration": 18,
    "start_time": "2023-03-09T13:42:59.919Z"
   },
   {
    "duration": 348,
    "start_time": "2023-03-09T13:43:05.516Z"
   },
   {
    "duration": 194,
    "start_time": "2023-03-09T13:43:48.638Z"
   },
   {
    "duration": 369,
    "start_time": "2023-03-09T13:46:20.644Z"
   },
   {
    "duration": 18,
    "start_time": "2023-03-09T13:46:39.889Z"
   },
   {
    "duration": 20,
    "start_time": "2023-03-09T13:48:43.578Z"
   },
   {
    "duration": 10,
    "start_time": "2023-03-09T13:50:03.346Z"
   },
   {
    "duration": 35,
    "start_time": "2023-03-09T13:50:09.864Z"
   },
   {
    "duration": 4,
    "start_time": "2023-03-09T13:51:02.195Z"
   },
   {
    "duration": 264,
    "start_time": "2023-03-09T13:51:47.197Z"
   },
   {
    "duration": 223,
    "start_time": "2023-03-09T13:52:17.514Z"
   },
   {
    "duration": 230,
    "start_time": "2023-03-09T13:55:51.069Z"
   },
   {
    "duration": 206,
    "start_time": "2023-03-09T13:56:36.310Z"
   },
   {
    "duration": 2487,
    "start_time": "2023-03-09T13:56:43.910Z"
   },
   {
    "duration": 144,
    "start_time": "2023-03-09T13:56:55.450Z"
   },
   {
    "duration": 176,
    "start_time": "2023-03-09T13:57:50.022Z"
   },
   {
    "duration": 178,
    "start_time": "2023-03-09T13:57:58.191Z"
   },
   {
    "duration": 178,
    "start_time": "2023-03-09T13:58:08.739Z"
   },
   {
    "duration": 156,
    "start_time": "2023-03-09T14:04:12.894Z"
   },
   {
    "duration": 183,
    "start_time": "2023-03-09T14:11:36.854Z"
   },
   {
    "duration": 166,
    "start_time": "2023-03-09T14:14:40.409Z"
   },
   {
    "duration": 392,
    "start_time": "2023-03-09T14:14:48.054Z"
   },
   {
    "duration": 170,
    "start_time": "2023-03-09T14:14:52.420Z"
   },
   {
    "duration": 181,
    "start_time": "2023-03-09T14:15:48.719Z"
   },
   {
    "duration": 181,
    "start_time": "2023-03-09T14:15:53.778Z"
   },
   {
    "duration": 3,
    "start_time": "2023-03-09T14:16:02.590Z"
   },
   {
    "duration": 78,
    "start_time": "2023-03-09T14:16:02.596Z"
   },
   {
    "duration": 4,
    "start_time": "2023-03-09T14:16:02.676Z"
   },
   {
    "duration": 87,
    "start_time": "2023-03-09T14:16:02.682Z"
   },
   {
    "duration": 4,
    "start_time": "2023-03-09T14:16:02.787Z"
   },
   {
    "duration": 16,
    "start_time": "2023-03-09T14:16:02.793Z"
   },
   {
    "duration": 13,
    "start_time": "2023-03-09T14:16:02.811Z"
   },
   {
    "duration": 15,
    "start_time": "2023-03-09T14:16:02.826Z"
   },
   {
    "duration": 22,
    "start_time": "2023-03-09T14:16:02.843Z"
   },
   {
    "duration": 18,
    "start_time": "2023-03-09T14:16:02.867Z"
   },
   {
    "duration": 86,
    "start_time": "2023-03-09T14:16:02.886Z"
   },
   {
    "duration": 173,
    "start_time": "2023-03-09T14:16:12.576Z"
   },
   {
    "duration": 182,
    "start_time": "2023-03-09T14:16:21.219Z"
   },
   {
    "duration": 203,
    "start_time": "2023-03-09T14:16:33.953Z"
   },
   {
    "duration": 172,
    "start_time": "2023-03-09T14:16:46.027Z"
   },
   {
    "duration": 206,
    "start_time": "2023-03-09T14:16:59.625Z"
   },
   {
    "duration": 166,
    "start_time": "2023-03-09T14:17:07.898Z"
   },
   {
    "duration": 173,
    "start_time": "2023-03-09T14:17:18.030Z"
   },
   {
    "duration": 160,
    "start_time": "2023-03-09T14:19:14.236Z"
   },
   {
    "duration": 147,
    "start_time": "2023-03-09T14:19:22.028Z"
   },
   {
    "duration": 182,
    "start_time": "2023-03-09T14:22:49.048Z"
   },
   {
    "duration": 298,
    "start_time": "2023-03-09T14:22:56.316Z"
   },
   {
    "duration": 226,
    "start_time": "2023-03-09T14:24:15.072Z"
   },
   {
    "duration": 205,
    "start_time": "2023-03-09T14:24:33.094Z"
   },
   {
    "duration": 203,
    "start_time": "2023-03-09T14:24:37.276Z"
   },
   {
    "duration": 156,
    "start_time": "2023-03-09T14:29:31.610Z"
   },
   {
    "duration": 169,
    "start_time": "2023-03-09T14:29:51.114Z"
   },
   {
    "duration": 161,
    "start_time": "2023-03-09T14:30:10.689Z"
   },
   {
    "duration": 1103,
    "start_time": "2023-03-09T14:35:36.526Z"
   },
   {
    "duration": 55,
    "start_time": "2023-03-09T14:35:37.630Z"
   },
   {
    "duration": 3,
    "start_time": "2023-03-09T14:35:37.687Z"
   },
   {
    "duration": 95,
    "start_time": "2023-03-09T14:35:37.692Z"
   },
   {
    "duration": 4,
    "start_time": "2023-03-09T14:35:37.790Z"
   },
   {
    "duration": 14,
    "start_time": "2023-03-09T14:35:37.796Z"
   },
   {
    "duration": 7,
    "start_time": "2023-03-09T14:35:37.812Z"
   },
   {
    "duration": 10,
    "start_time": "2023-03-09T14:35:37.820Z"
   },
   {
    "duration": 24,
    "start_time": "2023-03-09T14:35:37.832Z"
   },
   {
    "duration": 12,
    "start_time": "2023-03-09T14:35:37.858Z"
   },
   {
    "duration": 85,
    "start_time": "2023-03-09T14:35:37.872Z"
   },
   {
    "duration": 318,
    "start_time": "2023-03-09T14:35:37.959Z"
   },
   {
    "duration": 294,
    "start_time": "2023-03-09T14:37:09.983Z"
   },
   {
    "duration": 288,
    "start_time": "2023-03-09T14:37:36.653Z"
   },
   {
    "duration": 292,
    "start_time": "2023-03-09T14:39:07.199Z"
   },
   {
    "duration": 363,
    "start_time": "2023-03-09T14:39:37.856Z"
   },
   {
    "duration": 282,
    "start_time": "2023-03-09T14:39:48.301Z"
   },
   {
    "duration": 290,
    "start_time": "2023-03-09T14:39:56.533Z"
   },
   {
    "duration": 297,
    "start_time": "2023-03-09T14:40:13.649Z"
   },
   {
    "duration": 93,
    "start_time": "2023-03-09T14:44:15.996Z"
   },
   {
    "duration": 542,
    "start_time": "2023-03-09T14:44:29.091Z"
   },
   {
    "duration": 490,
    "start_time": "2023-03-09T14:45:03.445Z"
   },
   {
    "duration": 589,
    "start_time": "2023-03-09T14:50:25.141Z"
   },
   {
    "duration": 52,
    "start_time": "2023-03-12T13:17:28.640Z"
   },
   {
    "duration": 1236,
    "start_time": "2023-03-12T13:17:33.712Z"
   },
   {
    "duration": 100,
    "start_time": "2023-03-12T13:17:34.950Z"
   },
   {
    "duration": 4,
    "start_time": "2023-03-12T13:17:35.051Z"
   },
   {
    "duration": 112,
    "start_time": "2023-03-12T13:17:35.056Z"
   },
   {
    "duration": 3,
    "start_time": "2023-03-12T13:17:35.171Z"
   },
   {
    "duration": 17,
    "start_time": "2023-03-12T13:17:35.175Z"
   },
   {
    "duration": 27,
    "start_time": "2023-03-12T13:17:35.194Z"
   },
   {
    "duration": 49,
    "start_time": "2023-03-12T13:17:35.222Z"
   },
   {
    "duration": 50,
    "start_time": "2023-03-12T13:17:35.272Z"
   },
   {
    "duration": 26,
    "start_time": "2023-03-12T13:17:35.324Z"
   },
   {
    "duration": 93,
    "start_time": "2023-03-12T13:17:35.352Z"
   },
   {
    "duration": 258,
    "start_time": "2023-03-12T13:17:41.649Z"
   },
   {
    "duration": 270,
    "start_time": "2023-03-12T13:18:04.142Z"
   },
   {
    "duration": 251,
    "start_time": "2023-03-12T13:18:09.930Z"
   },
   {
    "duration": 243,
    "start_time": "2023-03-12T13:18:16.735Z"
   },
   {
    "duration": 101,
    "start_time": "2023-03-12T13:23:45.167Z"
   },
   {
    "duration": 65,
    "start_time": "2023-03-12T13:24:24.823Z"
   },
   {
    "duration": 150,
    "start_time": "2023-03-12T13:24:49.493Z"
   },
   {
    "duration": 10,
    "start_time": "2023-03-12T13:24:55.318Z"
   },
   {
    "duration": 230,
    "start_time": "2023-03-12T13:25:01.890Z"
   },
   {
    "duration": 201,
    "start_time": "2023-03-12T13:25:32.240Z"
   },
   {
    "duration": 12,
    "start_time": "2023-03-12T13:25:45.052Z"
   },
   {
    "duration": 228,
    "start_time": "2023-03-12T13:25:52.236Z"
   },
   {
    "duration": 221,
    "start_time": "2023-03-12T13:26:47.372Z"
   },
   {
    "duration": 248,
    "start_time": "2023-03-12T13:49:43.772Z"
   },
   {
    "duration": 350,
    "start_time": "2023-03-12T13:52:04.847Z"
   },
   {
    "duration": 302,
    "start_time": "2023-03-12T13:53:34.468Z"
   },
   {
    "duration": 281,
    "start_time": "2023-03-12T13:53:50.225Z"
   },
   {
    "duration": 244,
    "start_time": "2023-03-12T13:55:22.218Z"
   },
   {
    "duration": 12,
    "start_time": "2023-03-12T13:59:17.999Z"
   },
   {
    "duration": 161,
    "start_time": "2023-03-12T13:59:23.655Z"
   },
   {
    "duration": 131,
    "start_time": "2023-03-12T13:59:49.911Z"
   },
   {
    "duration": 144,
    "start_time": "2023-03-12T14:00:25.822Z"
   },
   {
    "duration": 142,
    "start_time": "2023-03-12T14:00:37.215Z"
   },
   {
    "duration": 155,
    "start_time": "2023-03-12T14:00:39.860Z"
   },
   {
    "duration": 163,
    "start_time": "2023-03-12T14:00:54.992Z"
   },
   {
    "duration": 347,
    "start_time": "2023-03-12T14:01:02.832Z"
   },
   {
    "duration": 257,
    "start_time": "2023-03-12T14:02:14.791Z"
   },
   {
    "duration": 125,
    "start_time": "2023-03-12T14:16:47.305Z"
   },
   {
    "duration": 260,
    "start_time": "2023-03-12T14:17:05.110Z"
   },
   {
    "duration": 148,
    "start_time": "2023-03-12T14:17:36.844Z"
   },
   {
    "duration": 290,
    "start_time": "2023-03-12T14:22:50.368Z"
   },
   {
    "duration": 102,
    "start_time": "2023-03-12T14:26:10.195Z"
   },
   {
    "duration": 8,
    "start_time": "2023-03-12T14:26:26.455Z"
   },
   {
    "duration": 20,
    "start_time": "2023-03-12T14:26:45.173Z"
   },
   {
    "duration": 96,
    "start_time": "2023-03-12T14:27:13.829Z"
   },
   {
    "duration": 4,
    "start_time": "2023-03-12T14:28:08.242Z"
   },
   {
    "duration": 4,
    "start_time": "2023-03-12T14:28:17.869Z"
   },
   {
    "duration": 17,
    "start_time": "2023-03-12T14:28:41.706Z"
   },
   {
    "duration": 104,
    "start_time": "2023-03-12T14:29:11.843Z"
   },
   {
    "duration": 34,
    "start_time": "2023-03-12T14:30:20.616Z"
   },
   {
    "duration": 5,
    "start_time": "2023-03-12T14:30:33.008Z"
   },
   {
    "duration": 14,
    "start_time": "2023-03-12T14:30:48.148Z"
   },
   {
    "duration": 8,
    "start_time": "2023-03-12T14:32:25.746Z"
   },
   {
    "duration": 44,
    "start_time": "2023-03-12T14:32:34.163Z"
   },
   {
    "duration": 30,
    "start_time": "2023-03-12T14:33:34.591Z"
   },
   {
    "duration": 17,
    "start_time": "2023-03-12T14:34:00.066Z"
   },
   {
    "duration": 16,
    "start_time": "2023-03-12T14:34:10.361Z"
   },
   {
    "duration": 404,
    "start_time": "2023-03-12T14:37:12.848Z"
   },
   {
    "duration": 839,
    "start_time": "2023-03-12T14:37:30.896Z"
   },
   {
    "duration": 16,
    "start_time": "2023-03-12T14:37:40.918Z"
   },
   {
    "duration": 9,
    "start_time": "2023-03-12T14:38:07.855Z"
   },
   {
    "duration": 14,
    "start_time": "2023-03-12T14:38:13.517Z"
   },
   {
    "duration": 15,
    "start_time": "2023-03-12T14:38:18.501Z"
   },
   {
    "duration": 8,
    "start_time": "2023-03-12T14:38:27.871Z"
   },
   {
    "duration": 17,
    "start_time": "2023-03-12T14:38:33.195Z"
   },
   {
    "duration": 480,
    "start_time": "2023-03-12T14:40:30.055Z"
   },
   {
    "duration": 4288,
    "start_time": "2023-03-12T14:40:58.923Z"
   },
   {
    "duration": 1101,
    "start_time": "2023-03-12T14:41:49.813Z"
   },
   {
    "duration": 1104,
    "start_time": "2023-03-12T14:42:14.627Z"
   },
   {
    "duration": 44,
    "start_time": "2023-03-12T14:42:36.441Z"
   },
   {
    "duration": 118,
    "start_time": "2023-03-12T14:58:08.573Z"
   },
   {
    "duration": 79,
    "start_time": "2023-03-12T14:58:23.075Z"
   },
   {
    "duration": 39,
    "start_time": "2023-03-12T14:58:40.996Z"
   },
   {
    "duration": 15,
    "start_time": "2023-03-12T14:59:04.396Z"
   },
   {
    "duration": 17,
    "start_time": "2023-03-12T15:00:55.023Z"
   },
   {
    "duration": 14,
    "start_time": "2023-03-12T15:01:09.613Z"
   },
   {
    "duration": 1428,
    "start_time": "2023-03-13T02:19:04.784Z"
   },
   {
    "duration": 111,
    "start_time": "2023-03-13T02:19:06.214Z"
   },
   {
    "duration": 4,
    "start_time": "2023-03-13T02:19:06.326Z"
   },
   {
    "duration": 86,
    "start_time": "2023-03-13T02:19:06.332Z"
   },
   {
    "duration": 3,
    "start_time": "2023-03-13T02:19:06.420Z"
   },
   {
    "duration": 15,
    "start_time": "2023-03-13T02:19:06.425Z"
   },
   {
    "duration": 9,
    "start_time": "2023-03-13T02:19:06.441Z"
   },
   {
    "duration": 28,
    "start_time": "2023-03-13T02:19:06.452Z"
   },
   {
    "duration": 14,
    "start_time": "2023-03-13T02:19:06.482Z"
   },
   {
    "duration": 15,
    "start_time": "2023-03-13T02:19:06.498Z"
   },
   {
    "duration": 103,
    "start_time": "2023-03-13T02:19:06.515Z"
   },
   {
    "duration": 385,
    "start_time": "2023-03-13T02:19:06.620Z"
   },
   {
    "duration": 125,
    "start_time": "2023-03-13T02:32:36.324Z"
   },
   {
    "duration": 30,
    "start_time": "2023-03-13T02:32:50.467Z"
   },
   {
    "duration": 15,
    "start_time": "2023-03-13T02:33:27.113Z"
   },
   {
    "duration": 16,
    "start_time": "2023-03-13T02:34:28.750Z"
   },
   {
    "duration": 25,
    "start_time": "2023-03-13T02:34:47.290Z"
   },
   {
    "duration": 6,
    "start_time": "2023-03-13T02:35:39.885Z"
   },
   {
    "duration": 19,
    "start_time": "2023-03-13T02:35:55.980Z"
   },
   {
    "duration": 143,
    "start_time": "2023-03-13T02:36:31.079Z"
   },
   {
    "duration": 184,
    "start_time": "2023-03-13T02:37:36.262Z"
   },
   {
    "duration": 11,
    "start_time": "2023-03-13T02:37:42.900Z"
   },
   {
    "duration": 201,
    "start_time": "2023-03-13T02:38:22.601Z"
   },
   {
    "duration": 186,
    "start_time": "2023-03-13T02:38:34.181Z"
   },
   {
    "duration": 188,
    "start_time": "2023-03-13T02:38:39.268Z"
   },
   {
    "duration": 350,
    "start_time": "2023-03-13T02:41:40.059Z"
   },
   {
    "duration": 469,
    "start_time": "2023-03-13T02:43:20.485Z"
   },
   {
    "duration": 343,
    "start_time": "2023-03-13T02:43:57.537Z"
   },
   {
    "duration": 348,
    "start_time": "2023-03-13T02:44:05.936Z"
   },
   {
    "duration": 345,
    "start_time": "2023-03-13T02:45:59.360Z"
   },
   {
    "duration": 464,
    "start_time": "2023-03-13T02:46:10.361Z"
   },
   {
    "duration": 376,
    "start_time": "2023-03-13T02:46:26.809Z"
   },
   {
    "duration": 467,
    "start_time": "2023-03-13T02:46:34.794Z"
   },
   {
    "duration": 374,
    "start_time": "2023-03-13T02:46:50.719Z"
   },
   {
    "duration": 376,
    "start_time": "2023-03-13T02:47:03.630Z"
   },
   {
    "duration": 491,
    "start_time": "2023-03-13T02:47:18.254Z"
   },
   {
    "duration": 170,
    "start_time": "2023-03-13T02:47:45.964Z"
   },
   {
    "duration": 188,
    "start_time": "2023-03-13T02:50:40.787Z"
   },
   {
    "duration": 299,
    "start_time": "2023-03-13T03:05:40.806Z"
   },
   {
    "duration": 326,
    "start_time": "2023-03-13T03:05:59.788Z"
   },
   {
    "duration": 408,
    "start_time": "2023-03-13T03:06:11.156Z"
   },
   {
    "duration": 194,
    "start_time": "2023-03-13T03:06:34.834Z"
   },
   {
    "duration": 191,
    "start_time": "2023-03-13T03:07:07.124Z"
   },
   {
    "duration": 234,
    "start_time": "2023-03-13T03:10:29.411Z"
   },
   {
    "duration": 176,
    "start_time": "2023-03-13T03:22:46.555Z"
   },
   {
    "duration": 207,
    "start_time": "2023-03-13T03:23:11.717Z"
   },
   {
    "duration": 180,
    "start_time": "2023-03-13T03:23:20.033Z"
   },
   {
    "duration": 195,
    "start_time": "2023-03-13T03:23:50.329Z"
   },
   {
    "duration": 170,
    "start_time": "2023-03-13T03:26:38.654Z"
   },
   {
    "duration": 179,
    "start_time": "2023-03-13T03:26:48.969Z"
   },
   {
    "duration": 177,
    "start_time": "2023-03-13T03:30:43.325Z"
   },
   {
    "duration": 1355,
    "start_time": "2023-03-13T08:51:06.298Z"
   },
   {
    "duration": 194,
    "start_time": "2023-03-13T08:51:07.656Z"
   },
   {
    "duration": 5,
    "start_time": "2023-03-13T08:51:07.852Z"
   },
   {
    "duration": 94,
    "start_time": "2023-03-13T08:51:07.859Z"
   },
   {
    "duration": 3,
    "start_time": "2023-03-13T08:51:07.955Z"
   },
   {
    "duration": 24,
    "start_time": "2023-03-13T08:51:07.959Z"
   },
   {
    "duration": 4,
    "start_time": "2023-03-13T08:51:07.985Z"
   },
   {
    "duration": 6,
    "start_time": "2023-03-13T08:51:07.990Z"
   },
   {
    "duration": 7,
    "start_time": "2023-03-13T08:51:07.998Z"
   },
   {
    "duration": 20,
    "start_time": "2023-03-13T08:51:08.007Z"
   },
   {
    "duration": 99,
    "start_time": "2023-03-13T08:51:08.028Z"
   },
   {
    "duration": 342,
    "start_time": "2023-03-13T08:51:08.129Z"
   },
   {
    "duration": 56,
    "start_time": "2023-03-13T08:55:34.865Z"
   },
   {
    "duration": 44,
    "start_time": "2023-03-13T08:55:59.246Z"
   },
   {
    "duration": 695,
    "start_time": "2023-03-13T08:56:09.612Z"
   },
   {
    "duration": 55,
    "start_time": "2023-03-13T08:56:39.403Z"
   },
   {
    "duration": 793,
    "start_time": "2023-03-13T08:57:01.938Z"
   },
   {
    "duration": 514,
    "start_time": "2023-03-13T08:57:33.015Z"
   },
   {
    "duration": 521,
    "start_time": "2023-03-13T08:58:31.378Z"
   },
   {
    "duration": 592,
    "start_time": "2023-03-13T09:00:16.873Z"
   },
   {
    "duration": 529,
    "start_time": "2023-03-13T09:03:05.349Z"
   },
   {
    "duration": 545,
    "start_time": "2023-03-13T09:03:12.464Z"
   },
   {
    "duration": 218,
    "start_time": "2023-03-13T09:04:45.765Z"
   },
   {
    "duration": 59,
    "start_time": "2023-03-13T09:25:59.749Z"
   },
   {
    "duration": 302,
    "start_time": "2023-03-13T09:26:05.459Z"
   },
   {
    "duration": 299,
    "start_time": "2023-03-13T09:26:21.618Z"
   },
   {
    "duration": 285,
    "start_time": "2023-03-13T09:27:01.701Z"
   },
   {
    "duration": 293,
    "start_time": "2023-03-13T09:27:31.734Z"
   },
   {
    "duration": 275,
    "start_time": "2023-03-13T09:28:14.324Z"
   },
   {
    "duration": 66,
    "start_time": "2023-03-13T09:40:06.899Z"
   },
   {
    "duration": 19,
    "start_time": "2023-03-13T09:40:12.418Z"
   },
   {
    "duration": 18,
    "start_time": "2023-03-13T09:40:24.349Z"
   },
   {
    "duration": 251,
    "start_time": "2023-03-13T09:40:44.478Z"
   },
   {
    "duration": 151,
    "start_time": "2023-03-13T09:41:32.870Z"
   },
   {
    "duration": 155,
    "start_time": "2023-03-13T09:45:06.258Z"
   },
   {
    "duration": 3,
    "start_time": "2023-03-13T09:46:08.754Z"
   },
   {
    "duration": 4,
    "start_time": "2023-03-13T09:46:16.097Z"
   },
   {
    "duration": 63,
    "start_time": "2023-03-13T09:47:22.394Z"
   },
   {
    "duration": 5,
    "start_time": "2023-03-13T09:47:26.557Z"
   },
   {
    "duration": 10,
    "start_time": "2023-03-13T09:47:39.255Z"
   },
   {
    "duration": 6,
    "start_time": "2023-03-13T09:47:44.013Z"
   },
   {
    "duration": 14,
    "start_time": "2023-03-13T09:47:57.959Z"
   },
   {
    "duration": 10,
    "start_time": "2023-03-13T09:48:03.664Z"
   },
   {
    "duration": 5,
    "start_time": "2023-03-13T09:48:23.133Z"
   },
   {
    "duration": 13,
    "start_time": "2023-03-13T09:49:10.363Z"
   },
   {
    "duration": 248,
    "start_time": "2023-03-13T09:50:26.733Z"
   },
   {
    "duration": 127,
    "start_time": "2023-03-13T09:51:26.702Z"
   },
   {
    "duration": 176,
    "start_time": "2023-03-13T09:52:26.800Z"
   },
   {
    "duration": 184,
    "start_time": "2023-03-13T09:53:14.618Z"
   },
   {
    "duration": 236,
    "start_time": "2023-03-13T09:54:27.827Z"
   },
   {
    "duration": 440,
    "start_time": "2023-03-13T09:54:59.199Z"
   },
   {
    "duration": 440,
    "start_time": "2023-03-13T09:55:51.496Z"
   },
   {
    "duration": 338,
    "start_time": "2023-03-13T09:56:04.723Z"
   },
   {
    "duration": 443,
    "start_time": "2023-03-13T09:56:10.567Z"
   },
   {
    "duration": 430,
    "start_time": "2023-03-13T09:56:32.980Z"
   },
   {
    "duration": 410,
    "start_time": "2023-03-13T09:56:48.697Z"
   },
   {
    "duration": 359,
    "start_time": "2023-03-13T09:57:07.050Z"
   },
   {
    "duration": 445,
    "start_time": "2023-03-13T09:57:30.165Z"
   },
   {
    "duration": 88,
    "start_time": "2023-03-13T12:13:01.661Z"
   },
   {
    "duration": 1537,
    "start_time": "2023-03-13T12:13:06.711Z"
   },
   {
    "duration": 127,
    "start_time": "2023-03-13T12:13:08.251Z"
   },
   {
    "duration": 4,
    "start_time": "2023-03-13T12:13:08.381Z"
   },
   {
    "duration": 125,
    "start_time": "2023-03-13T12:13:08.387Z"
   },
   {
    "duration": 4,
    "start_time": "2023-03-13T12:13:08.515Z"
   },
   {
    "duration": 63,
    "start_time": "2023-03-13T12:13:08.521Z"
   },
   {
    "duration": 42,
    "start_time": "2023-03-13T12:13:08.587Z"
   },
   {
    "duration": 44,
    "start_time": "2023-03-13T12:13:08.631Z"
   },
   {
    "duration": 45,
    "start_time": "2023-03-13T12:13:08.677Z"
   },
   {
    "duration": 135,
    "start_time": "2023-03-13T12:13:08.724Z"
   },
   {
    "duration": 136,
    "start_time": "2023-03-13T12:13:08.861Z"
   },
   {
    "duration": 457,
    "start_time": "2023-03-13T12:13:08.999Z"
   },
   {
    "duration": 234,
    "start_time": "2023-03-13T12:13:16.617Z"
   },
   {
    "duration": 234,
    "start_time": "2023-03-13T12:13:50.427Z"
   },
   {
    "duration": 84,
    "start_time": "2023-03-13T12:15:07.679Z"
   },
   {
    "duration": 225,
    "start_time": "2023-03-13T12:15:31.511Z"
   },
   {
    "duration": 263,
    "start_time": "2023-03-13T12:16:44.695Z"
   },
   {
    "duration": 177,
    "start_time": "2023-03-13T12:17:10.718Z"
   },
   {
    "duration": 232,
    "start_time": "2023-03-13T12:17:32.190Z"
   },
   {
    "duration": 86,
    "start_time": "2023-03-13T12:32:14.267Z"
   },
   {
    "duration": 162,
    "start_time": "2023-03-13T12:32:27.446Z"
   },
   {
    "duration": 11,
    "start_time": "2023-03-13T12:34:17.483Z"
   },
   {
    "duration": 242,
    "start_time": "2023-03-13T12:34:53.173Z"
   },
   {
    "duration": 160,
    "start_time": "2023-03-13T12:38:04.744Z"
   },
   {
    "duration": 22,
    "start_time": "2023-03-13T12:38:13.596Z"
   },
   {
    "duration": 144,
    "start_time": "2023-03-13T12:39:30.145Z"
   },
   {
    "duration": 130,
    "start_time": "2023-03-13T12:39:47.485Z"
   },
   {
    "duration": 213,
    "start_time": "2023-03-13T12:41:22.324Z"
   },
   {
    "duration": 163,
    "start_time": "2023-03-13T12:42:31.838Z"
   },
   {
    "duration": 169,
    "start_time": "2023-03-13T12:44:40.733Z"
   },
   {
    "duration": 177,
    "start_time": "2023-03-13T12:44:55.146Z"
   },
   {
    "duration": 13,
    "start_time": "2023-03-13T13:29:27.234Z"
   },
   {
    "duration": 164,
    "start_time": "2023-03-13T13:35:34.810Z"
   },
   {
    "duration": 155,
    "start_time": "2023-03-13T13:36:17.702Z"
   },
   {
    "duration": 182,
    "start_time": "2023-03-13T13:36:40.057Z"
   },
   {
    "duration": 259,
    "start_time": "2023-03-13T13:36:53.896Z"
   },
   {
    "duration": 171,
    "start_time": "2023-03-13T13:37:09.940Z"
   },
   {
    "duration": 84,
    "start_time": "2023-03-13T13:40:24.392Z"
   },
   {
    "duration": 190,
    "start_time": "2023-03-13T13:40:29.068Z"
   },
   {
    "duration": 203,
    "start_time": "2023-03-13T13:42:22.362Z"
   },
   {
    "duration": 176,
    "start_time": "2023-03-13T13:45:28.470Z"
   },
   {
    "duration": 175,
    "start_time": "2023-03-13T13:45:57.235Z"
   },
   {
    "duration": 334,
    "start_time": "2023-03-13T14:05:54.054Z"
   },
   {
    "duration": 341,
    "start_time": "2023-03-13T14:06:44.758Z"
   },
   {
    "duration": 328,
    "start_time": "2023-03-13T14:07:53.465Z"
   },
   {
    "duration": 382,
    "start_time": "2023-03-13T14:08:08.793Z"
   },
   {
    "duration": 303,
    "start_time": "2023-03-13T14:08:33.190Z"
   },
   {
    "duration": 578,
    "start_time": "2023-03-13T14:17:57.873Z"
   },
   {
    "duration": 444,
    "start_time": "2023-03-13T14:18:07.174Z"
   },
   {
    "duration": 223,
    "start_time": "2023-03-13T14:21:55.201Z"
   },
   {
    "duration": 370,
    "start_time": "2023-03-13T14:26:31.903Z"
   },
   {
    "duration": 389,
    "start_time": "2023-03-13T14:27:25.605Z"
   },
   {
    "duration": 524,
    "start_time": "2023-03-13T14:27:41.078Z"
   },
   {
    "duration": 417,
    "start_time": "2023-03-13T14:28:00.641Z"
   },
   {
    "duration": 227,
    "start_time": "2023-03-13T14:30:40.425Z"
   },
   {
    "duration": 264,
    "start_time": "2023-03-13T14:30:52.507Z"
   },
   {
    "duration": 76,
    "start_time": "2023-03-14T04:19:36.842Z"
   },
   {
    "duration": 1454,
    "start_time": "2023-03-14T04:19:40.448Z"
   },
   {
    "duration": 112,
    "start_time": "2023-03-14T04:19:41.904Z"
   },
   {
    "duration": 4,
    "start_time": "2023-03-14T04:19:42.018Z"
   },
   {
    "duration": 109,
    "start_time": "2023-03-14T04:19:42.025Z"
   },
   {
    "duration": 4,
    "start_time": "2023-03-14T04:19:42.136Z"
   },
   {
    "duration": 32,
    "start_time": "2023-03-14T04:19:42.142Z"
   },
   {
    "duration": 28,
    "start_time": "2023-03-14T04:19:42.175Z"
   },
   {
    "duration": 10,
    "start_time": "2023-03-14T04:19:42.206Z"
   },
   {
    "duration": 12,
    "start_time": "2023-03-14T04:19:42.219Z"
   },
   {
    "duration": 14,
    "start_time": "2023-03-14T04:19:42.234Z"
   },
   {
    "duration": 131,
    "start_time": "2023-03-14T04:19:42.250Z"
   },
   {
    "duration": 467,
    "start_time": "2023-03-14T04:19:42.392Z"
   },
   {
    "duration": 345,
    "start_time": "2023-03-14T04:19:42.872Z"
   },
   {
    "duration": 239,
    "start_time": "2023-03-14T04:19:43.221Z"
   },
   {
    "duration": 268,
    "start_time": "2023-03-14T04:19:43.462Z"
   },
   {
    "duration": 244,
    "start_time": "2023-03-14T04:19:43.732Z"
   },
   {
    "duration": 229,
    "start_time": "2023-03-14T04:19:43.978Z"
   },
   {
    "duration": 242,
    "start_time": "2023-03-14T04:19:44.209Z"
   },
   {
    "duration": 247,
    "start_time": "2023-03-14T04:19:44.453Z"
   },
   {
    "duration": 295,
    "start_time": "2023-03-14T04:19:44.702Z"
   },
   {
    "duration": 167,
    "start_time": "2023-03-14T04:19:45.001Z"
   },
   {
    "duration": 2239,
    "start_time": "2023-03-14T04:19:48.795Z"
   },
   {
    "duration": 85,
    "start_time": "2023-03-14T04:20:30.821Z"
   },
   {
    "duration": 76,
    "start_time": "2023-03-14T04:22:37.785Z"
   },
   {
    "duration": 19,
    "start_time": "2023-03-14T04:22:55.600Z"
   },
   {
    "duration": 23,
    "start_time": "2023-03-14T04:23:06.569Z"
   },
   {
    "duration": 175,
    "start_time": "2023-03-14T04:23:12.014Z"
   },
   {
    "duration": 9,
    "start_time": "2023-03-14T04:23:54.114Z"
   },
   {
    "duration": 156,
    "start_time": "2023-03-14T04:24:17.666Z"
   },
   {
    "duration": 126,
    "start_time": "2023-03-14T04:24:31.198Z"
   },
   {
    "duration": 233,
    "start_time": "2023-03-14T04:24:56.145Z"
   },
   {
    "duration": 19,
    "start_time": "2023-03-14T04:25:05.503Z"
   },
   {
    "duration": 20,
    "start_time": "2023-03-14T04:25:35.998Z"
   },
   {
    "duration": 16,
    "start_time": "2023-03-14T04:25:48.593Z"
   },
   {
    "duration": 150,
    "start_time": "2023-03-14T04:26:07.662Z"
   },
   {
    "duration": 25,
    "start_time": "2023-03-14T04:26:16.870Z"
   },
   {
    "duration": 18,
    "start_time": "2023-03-14T04:26:31.142Z"
   },
   {
    "duration": 17,
    "start_time": "2023-03-14T04:26:46.395Z"
   },
   {
    "duration": 31,
    "start_time": "2023-03-14T04:26:55.673Z"
   },
   {
    "duration": 63,
    "start_time": "2023-03-14T04:28:32.309Z"
   },
   {
    "duration": 20,
    "start_time": "2023-03-14T04:28:51.149Z"
   },
   {
    "duration": 157,
    "start_time": "2023-03-14T04:30:11.885Z"
   },
   {
    "duration": 185,
    "start_time": "2023-03-14T04:30:18.359Z"
   },
   {
    "duration": 275,
    "start_time": "2023-03-14T04:30:32.699Z"
   },
   {
    "duration": 153,
    "start_time": "2023-03-14T04:30:47.872Z"
   },
   {
    "duration": 114,
    "start_time": "2023-03-14T04:30:54.692Z"
   },
   {
    "duration": 14,
    "start_time": "2023-03-14T04:31:41.594Z"
   },
   {
    "duration": 221,
    "start_time": "2023-03-14T04:31:46.387Z"
   },
   {
    "duration": 12,
    "start_time": "2023-03-14T04:31:54.393Z"
   },
   {
    "duration": 128,
    "start_time": "2023-03-14T04:32:03.273Z"
   },
   {
    "duration": 17,
    "start_time": "2023-03-14T04:32:19.614Z"
   },
   {
    "duration": 22,
    "start_time": "2023-03-14T04:32:43.330Z"
   },
   {
    "duration": 9,
    "start_time": "2023-03-14T04:32:54.793Z"
   },
   {
    "duration": 202,
    "start_time": "2023-03-14T04:33:48.521Z"
   },
   {
    "duration": 248,
    "start_time": "2023-03-14T04:33:56.367Z"
   },
   {
    "duration": 196,
    "start_time": "2023-03-14T04:34:26.909Z"
   },
   {
    "duration": 229,
    "start_time": "2023-03-14T04:35:09.403Z"
   },
   {
    "duration": 2497,
    "start_time": "2023-03-14T04:36:50.638Z"
   },
   {
    "duration": 2549,
    "start_time": "2023-03-14T04:37:11.653Z"
   },
   {
    "duration": 2455,
    "start_time": "2023-03-14T04:37:38.443Z"
   },
   {
    "duration": 482,
    "start_time": "2023-03-14T04:39:00.523Z"
   },
   {
    "duration": 25,
    "start_time": "2023-03-14T04:39:14.595Z"
   },
   {
    "duration": 175,
    "start_time": "2023-03-14T04:39:30.265Z"
   },
   {
    "duration": 206,
    "start_time": "2023-03-14T04:39:41.518Z"
   },
   {
    "duration": 223,
    "start_time": "2023-03-14T04:39:56.755Z"
   },
   {
    "duration": 284,
    "start_time": "2023-03-14T04:40:47.757Z"
   },
   {
    "duration": 282,
    "start_time": "2023-03-14T04:41:04.346Z"
   },
   {
    "duration": 292,
    "start_time": "2023-03-14T04:41:24.537Z"
   },
   {
    "duration": 281,
    "start_time": "2023-03-14T04:41:33.758Z"
   },
   {
    "duration": 180,
    "start_time": "2023-03-14T04:45:38.036Z"
   },
   {
    "duration": 194,
    "start_time": "2023-03-14T04:46:46.903Z"
   },
   {
    "duration": 99,
    "start_time": "2023-03-14T04:50:10.194Z"
   },
   {
    "duration": 14,
    "start_time": "2023-03-14T04:50:14.825Z"
   },
   {
    "duration": 14,
    "start_time": "2023-03-14T04:50:31.102Z"
   },
   {
    "duration": 15,
    "start_time": "2023-03-14T04:50:45.935Z"
   },
   {
    "duration": 123,
    "start_time": "2023-03-14T04:50:57.495Z"
   },
   {
    "duration": 23,
    "start_time": "2023-03-14T04:51:55.916Z"
   },
   {
    "duration": 22,
    "start_time": "2023-03-14T04:52:20.681Z"
   },
   {
    "duration": 18,
    "start_time": "2023-03-14T04:53:05.198Z"
   },
   {
    "duration": 502,
    "start_time": "2023-03-14T04:53:25.752Z"
   },
   {
    "duration": 195,
    "start_time": "2023-03-14T04:55:13.603Z"
   },
   {
    "duration": 210,
    "start_time": "2023-03-14T04:55:18.848Z"
   },
   {
    "duration": 22,
    "start_time": "2023-03-14T04:57:01.839Z"
   },
   {
    "duration": 26,
    "start_time": "2023-03-14T04:57:13.661Z"
   },
   {
    "duration": 235,
    "start_time": "2023-03-14T04:57:41.271Z"
   },
   {
    "duration": 202,
    "start_time": "2023-03-14T04:57:45.991Z"
   },
   {
    "duration": 299,
    "start_time": "2023-03-14T04:58:32.453Z"
   },
   {
    "duration": 210,
    "start_time": "2023-03-14T04:58:38.705Z"
   },
   {
    "duration": 198,
    "start_time": "2023-03-14T04:58:47.095Z"
   },
   {
    "duration": 211,
    "start_time": "2023-03-14T04:58:51.427Z"
   },
   {
    "duration": 266,
    "start_time": "2023-03-14T05:00:45.933Z"
   },
   {
    "duration": 133,
    "start_time": "2023-03-14T05:00:59.230Z"
   },
   {
    "duration": 152,
    "start_time": "2023-03-14T05:01:08.097Z"
   },
   {
    "duration": 163,
    "start_time": "2023-03-14T05:09:58.645Z"
   },
   {
    "duration": 9,
    "start_time": "2023-03-14T05:10:59.722Z"
   },
   {
    "duration": 217,
    "start_time": "2023-03-14T05:11:04.984Z"
   },
   {
    "duration": 19,
    "start_time": "2023-03-14T05:23:05.688Z"
   },
   {
    "duration": 158,
    "start_time": "2023-03-14T05:23:22.899Z"
   },
   {
    "duration": 175,
    "start_time": "2023-03-14T05:23:36.275Z"
   },
   {
    "duration": 94,
    "start_time": "2023-03-14T05:25:22.129Z"
   },
   {
    "duration": 122,
    "start_time": "2023-03-14T05:25:31.598Z"
   },
   {
    "duration": 130,
    "start_time": "2023-03-14T05:26:20.078Z"
   },
   {
    "duration": 154,
    "start_time": "2023-03-14T05:26:31.532Z"
   },
   {
    "duration": 123,
    "start_time": "2023-03-14T05:26:44.140Z"
   },
   {
    "duration": 85,
    "start_time": "2023-03-14T05:26:58.251Z"
   },
   {
    "duration": 257,
    "start_time": "2023-03-14T05:27:56.769Z"
   },
   {
    "duration": 251,
    "start_time": "2023-03-14T05:28:20.478Z"
   },
   {
    "duration": 264,
    "start_time": "2023-03-14T05:29:37.714Z"
   },
   {
    "duration": 259,
    "start_time": "2023-03-14T05:29:47.245Z"
   },
   {
    "duration": 239,
    "start_time": "2023-03-14T05:29:55.002Z"
   },
   {
    "duration": 236,
    "start_time": "2023-03-14T05:30:09.076Z"
   },
   {
    "duration": 243,
    "start_time": "2023-03-14T05:30:31.017Z"
   },
   {
    "duration": 249,
    "start_time": "2023-03-14T05:30:39.599Z"
   },
   {
    "duration": 271,
    "start_time": "2023-03-14T05:30:49.489Z"
   },
   {
    "duration": 255,
    "start_time": "2023-03-14T05:30:58.748Z"
   },
   {
    "duration": 334,
    "start_time": "2023-03-14T05:31:20.463Z"
   },
   {
    "duration": 245,
    "start_time": "2023-03-14T05:31:43.490Z"
   },
   {
    "duration": 522,
    "start_time": "2023-03-14T05:31:54.818Z"
   },
   {
    "duration": 54,
    "start_time": "2023-03-14T14:26:45.505Z"
   },
   {
    "duration": 1563,
    "start_time": "2023-03-14T14:26:50.895Z"
   },
   {
    "duration": 142,
    "start_time": "2023-03-14T14:26:52.460Z"
   },
   {
    "duration": 36,
    "start_time": "2023-03-14T14:26:52.605Z"
   },
   {
    "duration": 203,
    "start_time": "2023-03-14T14:26:52.643Z"
   },
   {
    "duration": 19,
    "start_time": "2023-03-14T14:26:52.850Z"
   },
   {
    "duration": 82,
    "start_time": "2023-03-14T14:26:52.871Z"
   },
   {
    "duration": 51,
    "start_time": "2023-03-14T14:26:52.955Z"
   },
   {
    "duration": 11,
    "start_time": "2023-03-14T14:26:53.008Z"
   },
   {
    "duration": 19,
    "start_time": "2023-03-14T14:26:53.022Z"
   },
   {
    "duration": 13,
    "start_time": "2023-03-14T14:26:53.043Z"
   },
   {
    "duration": 126,
    "start_time": "2023-03-14T14:26:53.058Z"
   },
   {
    "duration": 407,
    "start_time": "2023-03-14T14:26:53.186Z"
   },
   {
    "duration": 272,
    "start_time": "2023-03-14T14:26:53.595Z"
   },
   {
    "duration": 186,
    "start_time": "2023-03-14T14:26:53.870Z"
   },
   {
    "duration": 254,
    "start_time": "2023-03-14T14:26:54.058Z"
   },
   {
    "duration": 197,
    "start_time": "2023-03-14T14:26:54.314Z"
   },
   {
    "duration": 203,
    "start_time": "2023-03-14T14:26:54.513Z"
   },
   {
    "duration": 253,
    "start_time": "2023-03-14T14:26:54.718Z"
   },
   {
    "duration": 223,
    "start_time": "2023-03-14T14:26:54.976Z"
   },
   {
    "duration": 256,
    "start_time": "2023-03-14T14:26:55.201Z"
   },
   {
    "duration": 187,
    "start_time": "2023-03-14T14:26:55.460Z"
   },
   {
    "duration": 238,
    "start_time": "2023-03-14T14:26:55.649Z"
   },
   {
    "duration": 209,
    "start_time": "2023-03-14T14:26:55.889Z"
   },
   {
    "duration": 597,
    "start_time": "2023-03-14T14:27:02.363Z"
   },
   {
    "duration": 395,
    "start_time": "2023-03-14T14:31:34.109Z"
   },
   {
    "duration": 408,
    "start_time": "2023-03-14T14:31:43.170Z"
   },
   {
    "duration": 359,
    "start_time": "2023-03-14T14:32:06.967Z"
   },
   {
    "duration": 314,
    "start_time": "2023-03-14T14:33:16.854Z"
   },
   {
    "duration": 250,
    "start_time": "2023-03-14T14:40:59.711Z"
   },
   {
    "duration": 297,
    "start_time": "2023-03-14T14:43:00.673Z"
   },
   {
    "duration": 326,
    "start_time": "2023-03-14T14:44:49.619Z"
   },
   {
    "duration": 357,
    "start_time": "2023-03-14T14:44:57.763Z"
   },
   {
    "duration": 356,
    "start_time": "2023-03-14T14:45:01.730Z"
   },
   {
    "duration": 340,
    "start_time": "2023-03-14T14:45:07.750Z"
   },
   {
    "duration": 474,
    "start_time": "2023-03-14T14:45:21.844Z"
   },
   {
    "duration": 348,
    "start_time": "2023-03-14T14:45:26.341Z"
   },
   {
    "duration": 333,
    "start_time": "2023-03-14T14:45:44.848Z"
   },
   {
    "duration": 332,
    "start_time": "2023-03-14T14:45:56.315Z"
   },
   {
    "duration": 314,
    "start_time": "2023-03-14T14:46:08.929Z"
   },
   {
    "duration": 310,
    "start_time": "2023-03-14T15:07:00.625Z"
   },
   {
    "duration": 404,
    "start_time": "2023-03-14T15:07:10.326Z"
   },
   {
    "duration": 308,
    "start_time": "2023-03-14T15:07:15.537Z"
   },
   {
    "duration": 260,
    "start_time": "2023-03-14T15:09:05.593Z"
   },
   {
    "duration": 291,
    "start_time": "2023-03-14T15:09:12.068Z"
   },
   {
    "duration": 312,
    "start_time": "2023-03-14T15:12:09.244Z"
   },
   {
    "duration": 303,
    "start_time": "2023-03-14T15:12:50.297Z"
   },
   {
    "duration": 316,
    "start_time": "2023-03-14T15:16:05.548Z"
   },
   {
    "duration": 213,
    "start_time": "2023-03-14T15:16:26.795Z"
   },
   {
    "duration": 210,
    "start_time": "2023-03-14T15:16:55.545Z"
   },
   {
    "duration": 292,
    "start_time": "2023-03-14T15:17:27.252Z"
   },
   {
    "duration": 17,
    "start_time": "2023-03-14T15:19:48.096Z"
   },
   {
    "duration": 327,
    "start_time": "2023-03-14T15:21:01.868Z"
   },
   {
    "duration": 442,
    "start_time": "2023-03-14T15:21:32.461Z"
   },
   {
    "duration": 323,
    "start_time": "2023-03-14T15:21:53.316Z"
   },
   {
    "duration": 450,
    "start_time": "2023-03-14T15:22:21.207Z"
   },
   {
    "duration": 299,
    "start_time": "2023-03-14T15:29:46.239Z"
   },
   {
    "duration": 289,
    "start_time": "2023-03-14T15:34:40.368Z"
   },
   {
    "duration": 157,
    "start_time": "2023-03-14T15:53:27.696Z"
   },
   {
    "duration": 13,
    "start_time": "2023-03-14T16:01:28.994Z"
   },
   {
    "duration": 113,
    "start_time": "2023-03-14T16:01:35.305Z"
   },
   {
    "duration": 11,
    "start_time": "2023-03-14T16:01:50.319Z"
   },
   {
    "duration": 211,
    "start_time": "2023-03-14T16:01:55.654Z"
   },
   {
    "duration": 214,
    "start_time": "2023-03-14T16:08:56.076Z"
   },
   {
    "duration": 169,
    "start_time": "2023-03-14T16:09:45.066Z"
   },
   {
    "duration": 156,
    "start_time": "2023-03-14T16:10:32.114Z"
   },
   {
    "duration": 14,
    "start_time": "2023-03-14T16:11:15.900Z"
   },
   {
    "duration": 141,
    "start_time": "2023-03-14T16:11:59.608Z"
   },
   {
    "duration": 13,
    "start_time": "2023-03-14T16:12:04.038Z"
   },
   {
    "duration": 265,
    "start_time": "2023-03-14T16:12:20.212Z"
   },
   {
    "duration": 21,
    "start_time": "2023-03-14T16:12:21.376Z"
   },
   {
    "duration": 177,
    "start_time": "2023-03-14T16:14:16.858Z"
   },
   {
    "duration": 20,
    "start_time": "2023-03-14T16:14:38.459Z"
   },
   {
    "duration": 149,
    "start_time": "2023-03-14T16:15:24.440Z"
   },
   {
    "duration": 149,
    "start_time": "2023-03-14T16:15:30.314Z"
   },
   {
    "duration": 300,
    "start_time": "2023-03-14T16:30:08.567Z"
   },
   {
    "duration": 282,
    "start_time": "2023-03-14T16:30:24.347Z"
   },
   {
    "duration": 284,
    "start_time": "2023-03-14T16:31:19.369Z"
   },
   {
    "duration": 16,
    "start_time": "2023-03-14T16:45:01.596Z"
   },
   {
    "duration": 1409,
    "start_time": "2023-03-14T16:45:17.207Z"
   },
   {
    "duration": 13,
    "start_time": "2023-03-14T16:46:04.472Z"
   },
   {
    "duration": 10,
    "start_time": "2023-03-14T16:46:19.893Z"
   },
   {
    "duration": 11,
    "start_time": "2023-03-14T16:47:03.919Z"
   },
   {
    "duration": 10,
    "start_time": "2023-03-14T16:47:20.950Z"
   },
   {
    "duration": 10,
    "start_time": "2023-03-14T16:51:06.940Z"
   },
   {
    "duration": 13,
    "start_time": "2023-03-14T16:51:26.173Z"
   },
   {
    "duration": 16,
    "start_time": "2023-03-14T17:08:23.836Z"
   },
   {
    "duration": 4,
    "start_time": "2023-03-14T17:09:07.505Z"
   },
   {
    "duration": 14,
    "start_time": "2023-03-14T17:09:12.147Z"
   },
   {
    "duration": 11,
    "start_time": "2023-03-14T17:09:41.756Z"
   },
   {
    "duration": 14,
    "start_time": "2023-03-14T17:10:09.512Z"
   },
   {
    "duration": 15,
    "start_time": "2023-03-14T17:13:15.148Z"
   },
   {
    "duration": 16,
    "start_time": "2023-03-14T17:13:35.674Z"
   },
   {
    "duration": 11,
    "start_time": "2023-03-14T17:14:13.914Z"
   },
   {
    "duration": 13,
    "start_time": "2023-03-14T17:17:46.156Z"
   },
   {
    "duration": 13,
    "start_time": "2023-03-14T17:21:26.714Z"
   },
   {
    "duration": 10,
    "start_time": "2023-03-14T17:21:50.596Z"
   },
   {
    "duration": 16,
    "start_time": "2023-03-14T17:22:24.814Z"
   },
   {
    "duration": 368,
    "start_time": "2023-03-14T17:57:00.360Z"
   },
   {
    "duration": 318,
    "start_time": "2023-03-14T18:08:42.570Z"
   },
   {
    "duration": 408,
    "start_time": "2023-03-14T18:11:08.462Z"
   },
   {
    "duration": 253,
    "start_time": "2023-03-14T18:11:24.155Z"
   },
   {
    "duration": 264,
    "start_time": "2023-03-14T18:12:07.470Z"
   },
   {
    "duration": 250,
    "start_time": "2023-03-14T18:12:18.396Z"
   },
   {
    "duration": 322,
    "start_time": "2023-03-14T18:15:52.319Z"
   },
   {
    "duration": 277,
    "start_time": "2023-03-14T18:17:36.656Z"
   },
   {
    "duration": 226,
    "start_time": "2023-03-14T18:28:48.904Z"
   },
   {
    "duration": 189,
    "start_time": "2023-03-14T18:29:51.556Z"
   },
   {
    "duration": 170,
    "start_time": "2023-03-14T18:29:58.499Z"
   },
   {
    "duration": 264,
    "start_time": "2023-03-14T18:30:33.757Z"
   },
   {
    "duration": 170,
    "start_time": "2023-03-14T18:35:14.878Z"
   },
   {
    "duration": 433,
    "start_time": "2023-03-14T18:35:35.973Z"
   },
   {
    "duration": 217,
    "start_time": "2023-03-14T18:37:05.607Z"
   },
   {
    "duration": 297,
    "start_time": "2023-03-14T18:42:44.630Z"
   },
   {
    "duration": 194,
    "start_time": "2023-03-14T18:44:10.808Z"
   },
   {
    "duration": 169,
    "start_time": "2023-03-14T18:44:17.310Z"
   },
   {
    "duration": 248,
    "start_time": "2023-03-14T18:46:20.769Z"
   },
   {
    "duration": 185,
    "start_time": "2023-03-14T18:50:06.382Z"
   },
   {
    "duration": 177,
    "start_time": "2023-03-14T18:50:15.563Z"
   },
   {
    "duration": 193,
    "start_time": "2023-03-14T18:50:49.336Z"
   },
   {
    "duration": 224,
    "start_time": "2023-03-14T18:54:22.383Z"
   },
   {
    "duration": 203,
    "start_time": "2023-03-14T19:09:50.790Z"
   },
   {
    "duration": 199,
    "start_time": "2023-03-14T19:12:09.092Z"
   },
   {
    "duration": 215,
    "start_time": "2023-03-14T19:12:19.274Z"
   },
   {
    "duration": 349,
    "start_time": "2023-03-14T19:12:28.240Z"
   },
   {
    "duration": 331,
    "start_time": "2023-03-14T19:33:38.316Z"
   },
   {
    "duration": 278,
    "start_time": "2023-03-14T19:44:25.539Z"
   },
   {
    "duration": 247,
    "start_time": "2023-03-14T19:48:49.033Z"
   },
   {
    "duration": 10,
    "start_time": "2023-03-14T21:19:04.579Z"
   },
   {
    "duration": 10,
    "start_time": "2023-03-14T21:19:09.915Z"
   },
   {
    "duration": 76,
    "start_time": "2023-03-15T08:07:06.019Z"
   },
   {
    "duration": 1368,
    "start_time": "2023-03-15T08:07:10.857Z"
   },
   {
    "duration": 163,
    "start_time": "2023-03-15T08:07:12.227Z"
   },
   {
    "duration": 5,
    "start_time": "2023-03-15T08:07:12.392Z"
   },
   {
    "duration": 84,
    "start_time": "2023-03-15T08:07:12.399Z"
   },
   {
    "duration": 3,
    "start_time": "2023-03-15T08:07:12.486Z"
   },
   {
    "duration": 10,
    "start_time": "2023-03-15T08:07:12.511Z"
   },
   {
    "duration": 4,
    "start_time": "2023-03-15T08:07:12.523Z"
   },
   {
    "duration": 7,
    "start_time": "2023-03-15T08:07:12.529Z"
   },
   {
    "duration": 7,
    "start_time": "2023-03-15T08:07:12.538Z"
   },
   {
    "duration": 7,
    "start_time": "2023-03-15T08:07:12.547Z"
   },
   {
    "duration": 111,
    "start_time": "2023-03-15T08:07:12.555Z"
   },
   {
    "duration": 369,
    "start_time": "2023-03-15T08:07:12.669Z"
   },
   {
    "duration": 257,
    "start_time": "2023-03-15T08:07:13.039Z"
   },
   {
    "duration": 152,
    "start_time": "2023-03-15T08:07:13.298Z"
   },
   {
    "duration": 210,
    "start_time": "2023-03-15T08:07:13.452Z"
   },
   {
    "duration": 168,
    "start_time": "2023-03-15T08:07:13.664Z"
   },
   {
    "duration": 160,
    "start_time": "2023-03-15T08:07:13.834Z"
   },
   {
    "duration": 206,
    "start_time": "2023-03-15T08:07:13.996Z"
   },
   {
    "duration": 202,
    "start_time": "2023-03-15T08:07:14.204Z"
   },
   {
    "duration": 242,
    "start_time": "2023-03-15T08:07:14.407Z"
   },
   {
    "duration": 156,
    "start_time": "2023-03-15T08:07:14.651Z"
   },
   {
    "duration": 197,
    "start_time": "2023-03-15T08:07:14.812Z"
   },
   {
    "duration": 204,
    "start_time": "2023-03-15T08:07:15.012Z"
   },
   {
    "duration": 302,
    "start_time": "2023-03-15T08:07:15.218Z"
   },
   {
    "duration": 285,
    "start_time": "2023-03-15T08:07:15.522Z"
   },
   {
    "duration": 245,
    "start_time": "2023-03-15T08:07:15.812Z"
   },
   {
    "duration": 11,
    "start_time": "2023-03-15T08:07:16.059Z"
   },
   {
    "duration": 12,
    "start_time": "2023-03-15T08:07:30.519Z"
   },
   {
    "duration": 11,
    "start_time": "2023-03-15T08:08:35.244Z"
   },
   {
    "duration": 11,
    "start_time": "2023-03-15T08:12:11.501Z"
   },
   {
    "duration": 1128,
    "start_time": "2023-03-15T09:50:19.752Z"
   },
   {
    "duration": 49,
    "start_time": "2023-03-15T09:50:20.882Z"
   },
   {
    "duration": 3,
    "start_time": "2023-03-15T09:50:20.933Z"
   },
   {
    "duration": 105,
    "start_time": "2023-03-15T09:50:20.940Z"
   },
   {
    "duration": 4,
    "start_time": "2023-03-15T09:50:21.047Z"
   },
   {
    "duration": 14,
    "start_time": "2023-03-15T09:50:21.053Z"
   },
   {
    "duration": 12,
    "start_time": "2023-03-15T09:50:21.069Z"
   },
   {
    "duration": 30,
    "start_time": "2023-03-15T09:50:21.083Z"
   },
   {
    "duration": 7,
    "start_time": "2023-03-15T09:50:21.115Z"
   },
   {
    "duration": 8,
    "start_time": "2023-03-15T09:50:21.125Z"
   },
   {
    "duration": 107,
    "start_time": "2023-03-15T09:50:21.135Z"
   },
   {
    "duration": 350,
    "start_time": "2023-03-15T09:50:21.243Z"
   },
   {
    "duration": 237,
    "start_time": "2023-03-15T09:50:21.595Z"
   },
   {
    "duration": 157,
    "start_time": "2023-03-15T09:50:21.834Z"
   },
   {
    "duration": 205,
    "start_time": "2023-03-15T09:50:21.993Z"
   },
   {
    "duration": 174,
    "start_time": "2023-03-15T09:50:22.200Z"
   },
   {
    "duration": 160,
    "start_time": "2023-03-15T09:50:22.376Z"
   },
   {
    "duration": 168,
    "start_time": "2023-03-15T09:50:22.538Z"
   },
   {
    "duration": 171,
    "start_time": "2023-03-15T09:50:22.708Z"
   },
   {
    "duration": 246,
    "start_time": "2023-03-15T09:50:22.881Z"
   },
   {
    "duration": 180,
    "start_time": "2023-03-15T09:50:23.130Z"
   },
   {
    "duration": 200,
    "start_time": "2023-03-15T09:50:23.312Z"
   },
   {
    "duration": 218,
    "start_time": "2023-03-15T09:50:23.514Z"
   },
   {
    "duration": 285,
    "start_time": "2023-03-15T09:50:23.733Z"
   },
   {
    "duration": 283,
    "start_time": "2023-03-15T09:50:24.020Z"
   },
   {
    "duration": 289,
    "start_time": "2023-03-15T09:50:24.305Z"
   },
   {
    "duration": 20,
    "start_time": "2023-03-15T09:50:24.596Z"
   },
   {
    "duration": 14,
    "start_time": "2023-03-15T09:50:24.620Z"
   },
   {
    "duration": 1145,
    "start_time": "2023-03-15T10:22:28.226Z"
   },
   {
    "duration": 193,
    "start_time": "2023-03-15T10:22:29.374Z"
   },
   {
    "duration": 5,
    "start_time": "2023-03-15T10:22:29.569Z"
   },
   {
    "duration": 108,
    "start_time": "2023-03-15T10:22:29.575Z"
   },
   {
    "duration": 4,
    "start_time": "2023-03-15T10:22:29.686Z"
   },
   {
    "duration": 38,
    "start_time": "2023-03-15T10:22:29.692Z"
   },
   {
    "duration": 14,
    "start_time": "2023-03-15T10:22:29.732Z"
   },
   {
    "duration": 21,
    "start_time": "2023-03-15T10:22:29.748Z"
   },
   {
    "duration": 26,
    "start_time": "2023-03-15T10:22:29.771Z"
   },
   {
    "duration": 40,
    "start_time": "2023-03-15T10:22:29.799Z"
   },
   {
    "duration": 103,
    "start_time": "2023-03-15T10:22:29.841Z"
   },
   {
    "duration": 338,
    "start_time": "2023-03-15T10:22:29.946Z"
   },
   {
    "duration": 221,
    "start_time": "2023-03-15T10:22:30.286Z"
   },
   {
    "duration": 161,
    "start_time": "2023-03-15T10:22:30.510Z"
   },
   {
    "duration": 202,
    "start_time": "2023-03-15T10:22:30.673Z"
   },
   {
    "duration": 163,
    "start_time": "2023-03-15T10:22:30.877Z"
   },
   {
    "duration": 160,
    "start_time": "2023-03-15T10:22:31.042Z"
   },
   {
    "duration": 174,
    "start_time": "2023-03-15T10:22:31.204Z"
   },
   {
    "duration": 169,
    "start_time": "2023-03-15T10:22:31.380Z"
   },
   {
    "duration": 239,
    "start_time": "2023-03-15T10:22:31.551Z"
   },
   {
    "duration": 152,
    "start_time": "2023-03-15T10:22:31.792Z"
   },
   {
    "duration": 198,
    "start_time": "2023-03-15T10:22:31.945Z"
   },
   {
    "duration": 198,
    "start_time": "2023-03-15T10:22:32.145Z"
   },
   {
    "duration": 277,
    "start_time": "2023-03-15T10:22:32.345Z"
   },
   {
    "duration": 301,
    "start_time": "2023-03-15T10:22:32.624Z"
   },
   {
    "duration": 245,
    "start_time": "2023-03-15T10:22:32.927Z"
   },
   {
    "duration": 10,
    "start_time": "2023-03-15T10:22:33.174Z"
   },
   {
    "duration": 17,
    "start_time": "2023-03-15T10:22:33.185Z"
   },
   {
    "duration": 1705,
    "start_time": "2023-03-15T14:35:05.635Z"
   },
   {
    "duration": 117,
    "start_time": "2023-03-15T14:35:07.342Z"
   },
   {
    "duration": 5,
    "start_time": "2023-03-15T14:35:07.462Z"
   },
   {
    "duration": 133,
    "start_time": "2023-03-15T14:35:07.470Z"
   },
   {
    "duration": 4,
    "start_time": "2023-03-15T14:35:07.606Z"
   },
   {
    "duration": 21,
    "start_time": "2023-03-15T14:35:07.612Z"
   },
   {
    "duration": 31,
    "start_time": "2023-03-15T14:35:07.635Z"
   },
   {
    "duration": 7,
    "start_time": "2023-03-15T14:35:07.668Z"
   },
   {
    "duration": 18,
    "start_time": "2023-03-15T14:35:07.677Z"
   },
   {
    "duration": 12,
    "start_time": "2023-03-15T14:35:07.697Z"
   },
   {
    "duration": 128,
    "start_time": "2023-03-15T14:35:07.712Z"
   },
   {
    "duration": 412,
    "start_time": "2023-03-15T14:35:07.864Z"
   },
   {
    "duration": 294,
    "start_time": "2023-03-15T14:35:08.278Z"
   },
   {
    "duration": 189,
    "start_time": "2023-03-15T14:35:08.575Z"
   },
   {
    "duration": 246,
    "start_time": "2023-03-15T14:35:08.767Z"
   },
   {
    "duration": 197,
    "start_time": "2023-03-15T14:35:09.015Z"
   },
   {
    "duration": 187,
    "start_time": "2023-03-15T14:35:09.214Z"
   },
   {
    "duration": 212,
    "start_time": "2023-03-15T14:35:09.402Z"
   },
   {
    "duration": 204,
    "start_time": "2023-03-15T14:35:09.616Z"
   },
   {
    "duration": 288,
    "start_time": "2023-03-15T14:35:09.822Z"
   },
   {
    "duration": 197,
    "start_time": "2023-03-15T14:35:10.112Z"
   },
   {
    "duration": 231,
    "start_time": "2023-03-15T14:35:10.312Z"
   },
   {
    "duration": 222,
    "start_time": "2023-03-15T14:35:10.545Z"
   },
   {
    "duration": 321,
    "start_time": "2023-03-15T14:35:10.769Z"
   },
   {
    "duration": 349,
    "start_time": "2023-03-15T14:35:11.093Z"
   },
   {
    "duration": 449,
    "start_time": "2023-03-15T14:35:11.444Z"
   },
   {
    "duration": 0,
    "start_time": "2023-03-15T14:35:11.896Z"
   },
   {
    "duration": 0,
    "start_time": "2023-03-15T14:35:11.897Z"
   },
   {
    "duration": 308,
    "start_time": "2023-03-15T14:37:51.754Z"
   },
   {
    "duration": 471,
    "start_time": "2023-03-15T14:38:10.817Z"
   },
   {
    "duration": 343,
    "start_time": "2023-03-15T14:38:18.896Z"
   },
   {
    "duration": 260,
    "start_time": "2023-03-15T14:41:13.489Z"
   },
   {
    "duration": 260,
    "start_time": "2023-03-15T14:47:54.404Z"
   },
   {
    "duration": 193,
    "start_time": "2023-03-15T14:48:01.827Z"
   },
   {
    "duration": 168,
    "start_time": "2023-03-15T14:48:11.752Z"
   },
   {
    "duration": 628,
    "start_time": "2023-03-15T14:49:41.906Z"
   },
   {
    "duration": 339,
    "start_time": "2023-03-15T14:50:42.103Z"
   },
   {
    "duration": 169,
    "start_time": "2023-03-15T14:51:21.396Z"
   },
   {
    "duration": 91,
    "start_time": "2023-03-15T14:52:48.417Z"
   },
   {
    "duration": 218,
    "start_time": "2023-03-15T14:53:00.039Z"
   },
   {
    "duration": 71,
    "start_time": "2023-03-15T14:59:16.406Z"
   },
   {
    "duration": 193,
    "start_time": "2023-03-15T15:01:22.511Z"
   },
   {
    "duration": 174,
    "start_time": "2023-03-15T15:03:05.922Z"
   },
   {
    "duration": 180,
    "start_time": "2023-03-15T15:03:14.212Z"
   },
   {
    "duration": 182,
    "start_time": "2023-03-15T15:09:08.225Z"
   },
   {
    "duration": 178,
    "start_time": "2023-03-15T15:09:32.703Z"
   },
   {
    "duration": 204,
    "start_time": "2023-03-15T15:09:46.636Z"
   },
   {
    "duration": 306,
    "start_time": "2023-03-15T15:09:58.507Z"
   },
   {
    "duration": 219,
    "start_time": "2023-03-15T15:11:01.732Z"
   },
   {
    "duration": 246,
    "start_time": "2023-03-15T15:11:18.707Z"
   },
   {
    "duration": 231,
    "start_time": "2023-03-15T15:11:42.207Z"
   },
   {
    "duration": 225,
    "start_time": "2023-03-15T15:11:55.205Z"
   },
   {
    "duration": 189,
    "start_time": "2023-03-15T15:12:10.749Z"
   },
   {
    "duration": 306,
    "start_time": "2023-03-15T15:14:07.435Z"
   },
   {
    "duration": 302,
    "start_time": "2023-03-15T15:15:33.349Z"
   },
   {
    "duration": 419,
    "start_time": "2023-03-15T15:18:44.706Z"
   },
   {
    "duration": 431,
    "start_time": "2023-03-15T15:19:19.002Z"
   },
   {
    "duration": 287,
    "start_time": "2023-03-15T15:21:59.937Z"
   },
   {
    "duration": 1281,
    "start_time": "2023-03-15T16:02:37.392Z"
   },
   {
    "duration": 56,
    "start_time": "2023-03-15T16:02:38.675Z"
   },
   {
    "duration": 5,
    "start_time": "2023-03-15T16:02:38.732Z"
   },
   {
    "duration": 102,
    "start_time": "2023-03-15T16:02:38.739Z"
   },
   {
    "duration": 22,
    "start_time": "2023-03-15T16:02:38.843Z"
   },
   {
    "duration": 27,
    "start_time": "2023-03-15T16:02:38.866Z"
   },
   {
    "duration": 5,
    "start_time": "2023-03-15T16:02:38.895Z"
   },
   {
    "duration": 11,
    "start_time": "2023-03-15T16:02:38.902Z"
   },
   {
    "duration": 13,
    "start_time": "2023-03-15T16:02:38.915Z"
   },
   {
    "duration": 11,
    "start_time": "2023-03-15T16:02:38.932Z"
   },
   {
    "duration": 128,
    "start_time": "2023-03-15T16:02:38.945Z"
   },
   {
    "duration": 387,
    "start_time": "2023-03-15T16:02:39.075Z"
   },
   {
    "duration": 294,
    "start_time": "2023-03-15T16:02:39.465Z"
   },
   {
    "duration": 173,
    "start_time": "2023-03-15T16:02:39.761Z"
   },
   {
    "duration": 241,
    "start_time": "2023-03-15T16:02:39.936Z"
   },
   {
    "duration": 188,
    "start_time": "2023-03-15T16:02:40.179Z"
   },
   {
    "duration": 202,
    "start_time": "2023-03-15T16:02:40.369Z"
   },
   {
    "duration": 198,
    "start_time": "2023-03-15T16:02:40.573Z"
   },
   {
    "duration": 181,
    "start_time": "2023-03-15T16:02:40.773Z"
   },
   {
    "duration": 280,
    "start_time": "2023-03-15T16:02:40.963Z"
   },
   {
    "duration": 180,
    "start_time": "2023-03-15T16:02:41.245Z"
   },
   {
    "duration": 240,
    "start_time": "2023-03-15T16:02:41.427Z"
   },
   {
    "duration": 243,
    "start_time": "2023-03-15T16:02:41.669Z"
   },
   {
    "duration": 316,
    "start_time": "2023-03-15T16:02:41.914Z"
   },
   {
    "duration": 333,
    "start_time": "2023-03-15T16:02:42.232Z"
   },
   {
    "duration": 310,
    "start_time": "2023-03-15T16:02:42.567Z"
   },
   {
    "duration": 13,
    "start_time": "2023-03-15T16:02:42.879Z"
   },
   {
    "duration": 31,
    "start_time": "2023-03-15T16:02:42.895Z"
   },
   {
    "duration": 1373,
    "start_time": "2023-03-16T05:59:49.803Z"
   },
   {
    "duration": 99,
    "start_time": "2023-03-16T05:59:51.178Z"
   },
   {
    "duration": 4,
    "start_time": "2023-03-16T05:59:51.278Z"
   },
   {
    "duration": 66,
    "start_time": "2023-03-16T05:59:51.283Z"
   },
   {
    "duration": 3,
    "start_time": "2023-03-16T05:59:51.351Z"
   },
   {
    "duration": 64,
    "start_time": "2023-03-16T05:59:51.356Z"
   },
   {
    "duration": 8,
    "start_time": "2023-03-16T05:59:51.421Z"
   },
   {
    "duration": 24,
    "start_time": "2023-03-16T05:59:51.430Z"
   },
   {
    "duration": 17,
    "start_time": "2023-03-16T05:59:51.455Z"
   },
   {
    "duration": 11,
    "start_time": "2023-03-16T05:59:51.473Z"
   },
   {
    "duration": 84,
    "start_time": "2023-03-16T05:59:51.486Z"
   },
   {
    "duration": 284,
    "start_time": "2023-03-16T05:59:51.572Z"
   },
   {
    "duration": 219,
    "start_time": "2023-03-16T05:59:51.858Z"
   },
   {
    "duration": 125,
    "start_time": "2023-03-16T05:59:52.080Z"
   },
   {
    "duration": 172,
    "start_time": "2023-03-16T05:59:52.207Z"
   },
   {
    "duration": 175,
    "start_time": "2023-03-16T05:59:52.381Z"
   },
   {
    "duration": 157,
    "start_time": "2023-03-16T05:59:52.558Z"
   },
   {
    "duration": 138,
    "start_time": "2023-03-16T05:59:52.717Z"
   },
   {
    "duration": 160,
    "start_time": "2023-03-16T05:59:52.857Z"
   },
   {
    "duration": 217,
    "start_time": "2023-03-16T05:59:53.018Z"
   },
   {
    "duration": 136,
    "start_time": "2023-03-16T05:59:53.237Z"
   },
   {
    "duration": 178,
    "start_time": "2023-03-16T05:59:53.375Z"
   },
   {
    "duration": 214,
    "start_time": "2023-03-16T05:59:53.555Z"
   },
   {
    "duration": 235,
    "start_time": "2023-03-16T05:59:53.771Z"
   },
   {
    "duration": 236,
    "start_time": "2023-03-16T05:59:54.007Z"
   },
   {
    "duration": 216,
    "start_time": "2023-03-16T05:59:54.245Z"
   },
   {
    "duration": 18,
    "start_time": "2023-03-16T05:59:54.463Z"
   },
   {
    "duration": 9,
    "start_time": "2023-03-16T05:59:54.482Z"
   },
   {
    "duration": 12,
    "start_time": "2023-03-16T06:00:35.665Z"
   },
   {
    "duration": 10,
    "start_time": "2023-03-16T06:01:19.002Z"
   },
   {
    "duration": 9,
    "start_time": "2023-03-16T06:01:23.098Z"
   },
   {
    "duration": 17,
    "start_time": "2023-03-16T06:03:08.381Z"
   },
   {
    "duration": 126,
    "start_time": "2023-03-16T06:03:20.946Z"
   },
   {
    "duration": 13,
    "start_time": "2023-03-16T06:03:47.237Z"
   },
   {
    "duration": 9,
    "start_time": "2023-03-16T06:04:11.122Z"
   },
   {
    "duration": 12,
    "start_time": "2023-03-16T06:04:15.596Z"
   },
   {
    "duration": 10,
    "start_time": "2023-03-16T06:04:39.523Z"
   },
   {
    "duration": 10,
    "start_time": "2023-03-16T06:04:57.820Z"
   },
   {
    "duration": 10,
    "start_time": "2023-03-16T06:05:10.746Z"
   },
   {
    "duration": 13,
    "start_time": "2023-03-16T06:05:38.510Z"
   },
   {
    "duration": 9,
    "start_time": "2023-03-16T06:05:53.196Z"
   },
   {
    "duration": 11,
    "start_time": "2023-03-16T06:06:21.340Z"
   },
   {
    "duration": 9,
    "start_time": "2023-03-16T06:06:59.042Z"
   },
   {
    "duration": 13,
    "start_time": "2023-03-16T06:07:30.283Z"
   },
   {
    "duration": 10,
    "start_time": "2023-03-16T06:07:43.904Z"
   },
   {
    "duration": 14,
    "start_time": "2023-03-16T06:07:50.122Z"
   },
   {
    "duration": 10,
    "start_time": "2023-03-16T06:08:19.227Z"
   },
   {
    "duration": 1100,
    "start_time": "2023-03-16T06:09:12.008Z"
   },
   {
    "duration": 51,
    "start_time": "2023-03-16T06:09:13.110Z"
   },
   {
    "duration": 4,
    "start_time": "2023-03-16T06:09:13.163Z"
   },
   {
    "duration": 78,
    "start_time": "2023-03-16T06:09:13.168Z"
   },
   {
    "duration": 3,
    "start_time": "2023-03-16T06:09:13.248Z"
   },
   {
    "duration": 26,
    "start_time": "2023-03-16T06:09:13.253Z"
   },
   {
    "duration": 5,
    "start_time": "2023-03-16T06:09:13.281Z"
   },
   {
    "duration": 18,
    "start_time": "2023-03-16T06:09:13.288Z"
   },
   {
    "duration": 20,
    "start_time": "2023-03-16T06:09:13.308Z"
   },
   {
    "duration": 13,
    "start_time": "2023-03-16T06:09:13.329Z"
   },
   {
    "duration": 78,
    "start_time": "2023-03-16T06:09:13.344Z"
   },
   {
    "duration": 330,
    "start_time": "2023-03-16T06:09:13.423Z"
   },
   {
    "duration": 255,
    "start_time": "2023-03-16T06:09:13.755Z"
   },
   {
    "duration": 138,
    "start_time": "2023-03-16T06:09:14.013Z"
   },
   {
    "duration": 183,
    "start_time": "2023-03-16T06:09:14.152Z"
   },
   {
    "duration": 173,
    "start_time": "2023-03-16T06:09:14.337Z"
   },
   {
    "duration": 163,
    "start_time": "2023-03-16T06:09:14.511Z"
   },
   {
    "duration": 164,
    "start_time": "2023-03-16T06:09:14.679Z"
   },
   {
    "duration": 156,
    "start_time": "2023-03-16T06:09:14.845Z"
   },
   {
    "duration": 246,
    "start_time": "2023-03-16T06:09:15.003Z"
   },
   {
    "duration": 152,
    "start_time": "2023-03-16T06:09:15.250Z"
   },
   {
    "duration": 218,
    "start_time": "2023-03-16T06:09:15.404Z"
   },
   {
    "duration": 205,
    "start_time": "2023-03-16T06:09:15.623Z"
   },
   {
    "duration": 236,
    "start_time": "2023-03-16T06:09:15.829Z"
   },
   {
    "duration": 290,
    "start_time": "2023-03-16T06:09:16.066Z"
   },
   {
    "duration": 224,
    "start_time": "2023-03-16T06:09:16.357Z"
   },
   {
    "duration": 10,
    "start_time": "2023-03-16T06:09:16.583Z"
   },
   {
    "duration": 16,
    "start_time": "2023-03-16T06:09:16.594Z"
   },
   {
    "duration": 1501,
    "start_time": "2023-03-16T06:24:59.263Z"
   },
   {
    "duration": 125,
    "start_time": "2023-03-16T06:25:00.768Z"
   },
   {
    "duration": 5,
    "start_time": "2023-03-16T06:25:00.894Z"
   },
   {
    "duration": 114,
    "start_time": "2023-03-16T06:25:00.901Z"
   },
   {
    "duration": 4,
    "start_time": "2023-03-16T06:25:01.017Z"
   },
   {
    "duration": 67,
    "start_time": "2023-03-16T06:25:01.022Z"
   },
   {
    "duration": 33,
    "start_time": "2023-03-16T06:25:01.091Z"
   },
   {
    "duration": 50,
    "start_time": "2023-03-16T06:25:01.126Z"
   },
   {
    "duration": 49,
    "start_time": "2023-03-16T06:25:01.178Z"
   },
   {
    "duration": 37,
    "start_time": "2023-03-16T06:25:01.230Z"
   },
   {
    "duration": 130,
    "start_time": "2023-03-16T06:25:01.269Z"
   },
   {
    "duration": 379,
    "start_time": "2023-03-16T06:25:01.401Z"
   },
   {
    "duration": 293,
    "start_time": "2023-03-16T06:25:01.783Z"
   },
   {
    "duration": 185,
    "start_time": "2023-03-16T06:25:02.079Z"
   },
   {
    "duration": 228,
    "start_time": "2023-03-16T06:25:02.266Z"
   },
   {
    "duration": 184,
    "start_time": "2023-03-16T06:25:02.496Z"
   },
   {
    "duration": 196,
    "start_time": "2023-03-16T06:25:02.682Z"
   },
   {
    "duration": 186,
    "start_time": "2023-03-16T06:25:02.880Z"
   },
   {
    "duration": 178,
    "start_time": "2023-03-16T06:25:03.068Z"
   },
   {
    "duration": 274,
    "start_time": "2023-03-16T06:25:03.248Z"
   },
   {
    "duration": 175,
    "start_time": "2023-03-16T06:25:03.524Z"
   },
   {
    "duration": 234,
    "start_time": "2023-03-16T06:25:03.701Z"
   },
   {
    "duration": 246,
    "start_time": "2023-03-16T06:25:03.937Z"
   },
   {
    "duration": 339,
    "start_time": "2023-03-16T06:25:04.185Z"
   },
   {
    "duration": 317,
    "start_time": "2023-03-16T06:25:04.527Z"
   },
   {
    "duration": 304,
    "start_time": "2023-03-16T06:25:04.845Z"
   },
   {
    "duration": 19,
    "start_time": "2023-03-16T06:25:05.151Z"
   },
   {
    "duration": 29,
    "start_time": "2023-03-16T06:25:05.174Z"
   }
  ],
  "kernelspec": {
   "display_name": "Python 3 (ipykernel)",
   "language": "python",
   "name": "python3"
  },
  "language_info": {
   "codemirror_mode": {
    "name": "ipython",
    "version": 3
   },
   "file_extension": ".py",
   "mimetype": "text/x-python",
   "name": "python",
   "nbconvert_exporter": "python",
   "pygments_lexer": "ipython3",
   "version": "3.9.5"
  },
  "toc": {
   "base_numbering": 1,
   "nav_menu": {},
   "number_sections": true,
   "sideBar": true,
   "skip_h1_title": true,
   "title_cell": "Table of Contents",
   "title_sidebar": "Contents",
   "toc_cell": false,
   "toc_position": {},
   "toc_section_display": true,
   "toc_window_display": false
  }
 },
 "nbformat": 4,
 "nbformat_minor": 2
}
