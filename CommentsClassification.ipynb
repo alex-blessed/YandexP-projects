{
 "cells": [
  {
   "cell_type": "markdown",
   "metadata": {},
   "source": [
    "# Проект для «Викишоп»"
   ]
  },
  {
   "cell_type": "markdown",
   "metadata": {},
   "source": [
    "Интернет-магазин «Викишоп» запускает новый сервис. Теперь пользователи могут редактировать и дополнять описания товаров, как в вики-сообществах. То есть клиенты предлагают свои правки и комментируют изменения других.  \n",
    "\n",
    "**Цель работы:**  \n",
    "Создать модель классификации комментариев на позитивные и негативные.  \n",
    "Метрика качества - *F1*. Она должна быть не ниже 0.75.  \n",
    "\n",
    "**Ход работы**\n",
    "1. Импорт данных\n",
    "2. Перевод текста в признак\n",
    "    - Очистка текста\n",
    "    - Лемматизация текста\n",
    "    - Расчет TF-IDF\n",
    "3. Обучение моделей \n",
    "4. Тестирование финальной модели"
   ]
  },
  {
   "cell_type": "markdown",
   "metadata": {},
   "source": [
    "## Импорт библиотек"
   ]
  },
  {
   "cell_type": "markdown",
   "metadata": {},
   "source": [
    "---\n",
    "Чтобы лемматизация была быстрее, использовал pandarallel   \n",
    "Но можно и без этой библиотеки, тогда будет через tqdm"
   ]
  },
  {
   "cell_type": "code",
   "execution_count": null,
   "metadata": {},
   "outputs": [],
   "source": [
    "!pip install pandarallel\n",
    "from pandarallel import pandarallel"
   ]
  },
  {
   "cell_type": "markdown",
   "metadata": {},
   "source": [
    "---"
   ]
  },
  {
   "cell_type": "code",
   "execution_count": 54,
   "metadata": {},
   "outputs": [],
   "source": [
    "import re\n",
    "import pandas as pd\n",
    "import numpy as np\n",
    "import matplotlib.pyplot as plt\n",
    "from tqdm.notebook import tqdm\n",
    "\n",
    "\n",
    "from sklearn.model_selection import (\n",
    "    train_test_split, cross_val_score, GridSearchCV)\n",
    "from sklearn.pipeline import make_pipeline\n",
    "from sklearn.linear_model import LogisticRegression\n",
    "from sklearn.naive_bayes import ComplementNB\n",
    "from sklearn.svm import LinearSVC\n",
    "from sklearn.metrics import f1_score\n",
    "\n",
    "import spacy\n",
    "from sklearn.feature_extraction.text import TfidfVectorizer"
   ]
  },
  {
   "cell_type": "markdown",
   "metadata": {},
   "source": [
    "## Импорт данных"
   ]
  },
  {
   "cell_type": "code",
   "execution_count": 55,
   "metadata": {},
   "outputs": [
    {
     "name": "stdout",
     "output_type": "stream",
     "text": [
      "<class 'pandas.core.frame.DataFrame'>\n",
      "RangeIndex: 159292 entries, 0 to 159291\n",
      "Data columns (total 3 columns):\n",
      " #   Column      Non-Null Count   Dtype \n",
      "---  ------      --------------   ----- \n",
      " 0   Unnamed: 0  159292 non-null  int64 \n",
      " 1   text        159292 non-null  object\n",
      " 2   toxic       159292 non-null  int64 \n",
      "dtypes: int64(2), object(1)\n",
      "memory usage: 3.6+ MB\n"
     ]
    }
   ],
   "source": [
    "try:\n",
    "    data_raw = pd.read_csv('toxic_comments.csv')\n",
    "except:\n",
    "    data_raw = pd.read_csv('/datasets/toxic_comments.csv')\n",
    "data_raw.info()"
   ]
  },
  {
   "cell_type": "code",
   "execution_count": 56,
   "metadata": {},
   "outputs": [
    {
     "data": {
      "text/html": [
       "<div>\n",
       "<style scoped>\n",
       "    .dataframe tbody tr th:only-of-type {\n",
       "        vertical-align: middle;\n",
       "    }\n",
       "\n",
       "    .dataframe tbody tr th {\n",
       "        vertical-align: top;\n",
       "    }\n",
       "\n",
       "    .dataframe thead th {\n",
       "        text-align: right;\n",
       "    }\n",
       "</style>\n",
       "<table border=\"1\" class=\"dataframe\">\n",
       "  <thead>\n",
       "    <tr style=\"text-align: right;\">\n",
       "      <th></th>\n",
       "      <th>Unnamed: 0</th>\n",
       "      <th>text</th>\n",
       "      <th>toxic</th>\n",
       "    </tr>\n",
       "  </thead>\n",
       "  <tbody>\n",
       "    <tr>\n",
       "      <th>86680</th>\n",
       "      <td>86761</td>\n",
       "      <td>Original research by 82.124.250.35\\nI've added...</td>\n",
       "      <td>0</td>\n",
       "    </tr>\n",
       "    <tr>\n",
       "      <th>21700</th>\n",
       "      <td>21720</td>\n",
       "      <td>\"\\n\\n This was a \"\"tool\"\" \\n\\nI'm so tired of ...</td>\n",
       "      <td>0</td>\n",
       "    </tr>\n",
       "    <tr>\n",
       "      <th>119617</th>\n",
       "      <td>119722</td>\n",
       "      <td>...atleast half of the items on the April Fool...</td>\n",
       "      <td>0</td>\n",
       "    </tr>\n",
       "    <tr>\n",
       "      <th>103690</th>\n",
       "      <td>103787</td>\n",
       "      <td>I still think the collage is silly, especially...</td>\n",
       "      <td>0</td>\n",
       "    </tr>\n",
       "    <tr>\n",
       "      <th>143733</th>\n",
       "      <td>143888</td>\n",
       "      <td>The sentences didn't need to be linked. Semi-c...</td>\n",
       "      <td>0</td>\n",
       "    </tr>\n",
       "  </tbody>\n",
       "</table>\n",
       "</div>"
      ],
      "text/plain": [
       "        Unnamed: 0                                               text  toxic\n",
       "86680        86761  Original research by 82.124.250.35\\nI've added...      0\n",
       "21700        21720  \"\\n\\n This was a \"\"tool\"\" \\n\\nI'm so tired of ...      0\n",
       "119617      119722  ...atleast half of the items on the April Fool...      0\n",
       "103690      103787  I still think the collage is silly, especially...      0\n",
       "143733      143888  The sentences didn't need to be linked. Semi-c...      0"
      ]
     },
     "execution_count": 56,
     "metadata": {},
     "output_type": "execute_result"
    }
   ],
   "source": [
    "data_raw.sample(5)"
   ]
  },
  {
   "cell_type": "markdown",
   "metadata": {},
   "source": [
    "Уберем лишний столбец *Unnamed: 0*"
   ]
  },
  {
   "cell_type": "code",
   "execution_count": 57,
   "metadata": {},
   "outputs": [],
   "source": [
    "data_raw = data_raw.drop(['Unnamed: 0'], axis=1)"
   ]
  },
  {
   "cell_type": "code",
   "execution_count": 58,
   "metadata": {},
   "outputs": [
    {
     "data": {
      "image/png": "[encoded data removed]",
      "text/plain": [
       "<Figure size 640x480 with 1 Axes>"
      ]
     },
     "metadata": {},
     "output_type": "display_data"
    }
   ],
   "source": [
    "data_raw['toxic'].value_counts().plot(kind='barh')\n",
    "plt.title('Распределение комментариев в датасете \\\n",
    "\\n(1 - токсичные, 0 - нейтральные)')\n",
    "plt.show()"
   ]
  },
  {
   "cell_type": "markdown",
   "metadata": {},
   "source": [
    "## Готовим признаки"
   ]
  },
  {
   "cell_type": "markdown",
   "metadata": {},
   "source": [
    "### Лемматизация текста"
   ]
  },
  {
   "cell_type": "markdown",
   "metadata": {},
   "source": [
    "Скачаем из библиотеки spacy готовый пайплайн из:\n",
    " - Токенизатора\n",
    " - POS тэггера\n",
    " - Лемматизатора"
   ]
  },
  {
   "cell_type": "code",
   "execution_count": 59,
   "metadata": {},
   "outputs": [],
   "source": [
    "nlp = spacy.load('en_core_web_sm', disable=['parser', 'ner'])"
   ]
  },
  {
   "cell_type": "markdown",
   "metadata": {},
   "source": [
    "Создадим функцию, которая:\n",
    " 1) Приводит текст к нижнему регистру, убирает из текса небуквенные символы, единичные буквы\n",
    " 2) Токенизирует текст\n",
    " 3) Убирает токены стоп-слов и токены пунктуации\n",
    " 4) Возвращает леммы слов\n",
    " 5) Собирает текст в одну строку"
   ]
  },
  {
   "cell_type": "code",
   "execution_count": 60,
   "metadata": {},
   "outputs": [],
   "source": [
    "def clean_and_lem(text):\n",
    "    lower = text.lower()\n",
    "    clear = re.sub('[^a-z]', ' ', lower)\n",
    "    cleared = re.sub(r'\\b\\w{1,2}\\b', ' ', clear).split()\n",
    "    sentence = ' '.join(cleared)\n",
    "    doc = nlp(sentence)\n",
    "    tokens = [tokens for tokens in doc if (tokens.is_stop == False)]\n",
    "    tokens = [tokens for tokens in tokens if (tokens.is_punct == False)]\n",
    "    final_token = [token.lemma_ for token in tokens]\n",
    "    res = ' '.join(final_token)\n",
    "    return res"
   ]
  },
  {
   "cell_type": "markdown",
   "metadata": {},
   "source": [
    "Проверим работу функции на нескольких текстах"
   ]
  },
  {
   "cell_type": "code",
   "execution_count": 61,
   "metadata": {},
   "outputs": [
    {
     "name": "stdout",
     "output_type": "stream",
     "text": [
      "Было\n",
      "⬇️⬇️⬇️⬇️⬇️⬇️\n",
      "Стало\n",
      "➖➖➖➖➖➖➖➖➖➖➖➖➖➖➖➖➖➖➖➖➖➖➖➖➖➖➖➖➖➖➖➖➖➖➖➖➖➖➖➖➖➖➖➖➖➖➖➖➖➖\n",
      "Explanation\n",
      "Why the edits made under my username Hardcore Metallica Fan were reverted? They weren't vandalisms, just closure on some GAs after I voted at New York Dolls FAC. And please don't remove the template from the talk page since I'm retired now.89.205.38.27\n",
      "⬇️⬇️⬇️⬇️⬇️⬇️\n",
      "\n",
      "explanation edit username hardcore metallica fan revert weren vandalism closure gas vote new york dolls fac don remove template talk page retire\n",
      "➖➖➖➖➖➖➖➖➖➖➖➖➖➖➖➖➖➖➖➖➖➖➖➖➖➖➖➖➖➖➖➖➖➖➖➖➖➖➖➖➖➖➖➖➖➖➖➖➖➖\n",
      "D'aww! He matches this background colour I'm seemingly stuck with. Thanks.  (talk) 21:51, January 11, 2016 (UTC)\n",
      "⬇️⬇️⬇️⬇️⬇️⬇️\n",
      "\n",
      "aww match background colour seemingly stuck thank talk january utc\n",
      "➖➖➖➖➖➖➖➖➖➖➖➖➖➖➖➖➖➖➖➖➖➖➖➖➖➖➖➖➖➖➖➖➖➖➖➖➖➖➖➖➖➖➖➖➖➖➖➖➖➖\n",
      "Hey man, I'm really not trying to edit war. It's just that this guy is constantly removing relevant information and talking to me through edits instead of my talk page. He seems to care more about the formatting than the actual info.\n",
      "⬇️⬇️⬇️⬇️⬇️⬇️\n",
      "\n",
      "hey man try edit war guy constantly remove relevant information talk edit instead talk page care formatting actual info\n"
     ]
    }
   ],
   "source": [
    "data = data_raw[0:3].copy()\n",
    "data['text'] = data['text'].apply(clean_and_lem)\n",
    "\n",
    "print('Было\\n⬇️⬇️⬇️⬇️⬇️⬇️\\nСтало')\n",
    "for i in range(3):\n",
    "    print('➖'*50)\n",
    "    print(data_raw['text'][i])\n",
    "    print('⬇️⬇️⬇️⬇️⬇️⬇️', end='\\n\\n')\n",
    "    print(data['text'][i])"
   ]
  },
  {
   "cell_type": "code",
   "execution_count": 62,
   "metadata": {},
   "outputs": [
    {
     "name": "stdout",
     "output_type": "stream",
     "text": [
      "INFO: Pandarallel will run on 8 workers.\n",
      "INFO: Pandarallel will use standard multiprocessing data transfer (pipe) to transfer data between the main process and workers.\n"
     ]
    },
    {
     "data": {
      "application/vnd.jupyter.widget-view+json": {
       "model_id": "58b7bfb5d77d47a7b843c88f670aefca",
       "version_major": 2,
       "version_minor": 0
      },
      "text/plain": [
       "VBox(children=(HBox(children=(IntProgress(value=0, description='0.00%', max=19912), Label(value='0 / 19912')))…"
      ]
     },
     "metadata": {},
     "output_type": "display_data"
    }
   ],
   "source": [
    "#тут нужно подождать\n",
    "data = data_raw.copy()\n",
    "try:\n",
    "    # у меня на 6 ядрах(ноут) ~ 1 минута\n",
    "    pandarallel.initialize(progress_bar=True)\n",
    "    data['text'] = data['text'].parallel_apply(clean_and_lem)\n",
    "except:\n",
    "    # а тут ~ 10 минут \n",
    "    tqdm.pandas()\n",
    "    data['text'] = data['text'].progress_apply(clean_and_lem)"
   ]
  },
  {
   "cell_type": "markdown",
   "metadata": {},
   "source": [
    "### Делим на выборки"
   ]
  },
  {
   "cell_type": "markdown",
   "metadata": {},
   "source": [
    "Разделим на train/test выборки"
   ]
  },
  {
   "cell_type": "code",
   "execution_count": 63,
   "metadata": {},
   "outputs": [
    {
     "name": "stdout",
     "output_type": "stream",
     "text": [
      "(127433, 2) (31859, 2)\n"
     ]
    }
   ],
   "source": [
    "train, test = train_test_split(\n",
    "    data, test_size=0.2, stratify=data['toxic'], random_state=123)\n",
    "print(train.shape, test.shape)"
   ]
  },
  {
   "cell_type": "markdown",
   "metadata": {},
   "source": [
    "И разделим признаки и таргет"
   ]
  },
  {
   "cell_type": "code",
   "execution_count": 64,
   "metadata": {},
   "outputs": [],
   "source": [
    "X_train = train['text']\n",
    "X_test = test['text']\n",
    "\n",
    "y_train = train['toxic']\n",
    "y_test = test['toxic']"
   ]
  },
  {
   "cell_type": "markdown",
   "metadata": {},
   "source": [
    "## Обучение"
   ]
  },
  {
   "cell_type": "markdown",
   "metadata": {},
   "source": [
    "После TfidfVectorizer мы получили признаки в виде разреженной матрицы(sparse matrix).  \n",
    "Поэтому, возьмем модели, которые умеют с такой матрицей работать.  \n",
    "Точность моделей будем проверять кросс-валидацией(3 фолда)"
   ]
  },
  {
   "cell_type": "code",
   "execution_count": 65,
   "metadata": {},
   "outputs": [],
   "source": [
    "vectorizer = TfidfVectorizer()"
   ]
  },
  {
   "cell_type": "markdown",
   "metadata": {},
   "source": [
    "### LogisticRegression"
   ]
  },
  {
   "cell_type": "code",
   "execution_count": 66,
   "metadata": {},
   "outputs": [
    {
     "name": "stdout",
     "output_type": "stream",
     "text": [
      "Результат f1: 0.773\n"
     ]
    }
   ],
   "source": [
    "model = LogisticRegression(C=13, max_iter=1000, random_state=123)\n",
    "pipe = make_pipeline(vectorizer, model)\n",
    "cv = cross_val_score(pipe, X_train, y_train, cv=3, scoring='f1', n_jobs=4)\n",
    "print('Результат f1: {:.3f}'.format(cv.mean()))"
   ]
  },
  {
   "cell_type": "markdown",
   "metadata": {},
   "source": [
    "Тут крутился перебор гиперпараметров. Можно раскомментировать и проверить 🙃"
   ]
  },
  {
   "cell_type": "code",
   "execution_count": 67,
   "metadata": {},
   "outputs": [],
   "source": [
    "# %%time\n",
    "# model = LogisticRegression(max_iter=1000, random_state=123)\n",
    "# pipe = make_pipeline(vectorizer, model)\n",
    "# parameters = {'logisticregression__C':np.logspace(-2, 2, 10)}\n",
    "# gs = GridSearchCV(pipe, parameters, scoring='f1', cv=3, n_jobs=5)\n",
    "# gs.fit(X_train, y_train)\n",
    "# print(gs.best_score_)\n",
    "# gs.best_params_"
   ]
  },
  {
   "cell_type": "markdown",
   "metadata": {},
   "source": [
    "### LinearSVC"
   ]
  },
  {
   "cell_type": "code",
   "execution_count": 68,
   "metadata": {},
   "outputs": [
    {
     "name": "stdout",
     "output_type": "stream",
     "text": [
      "Результат f1: 0.777\n"
     ]
    }
   ],
   "source": [
    "model = LinearSVC(random_state=123, dual='auto')\n",
    "pipe = make_pipeline(vectorizer, model)\n",
    "cv = cross_val_score(pipe, X_train, y_train, cv=3, scoring='f1', n_jobs=4)\n",
    "print('Результат f1: {:.3f}'.format(cv.mean()))"
   ]
  },
  {
   "cell_type": "markdown",
   "metadata": {},
   "source": [
    "Тут крутился перебор гиперпараметров. Можно раскомментировать и проверить 🙃"
   ]
  },
  {
   "cell_type": "code",
   "execution_count": 69,
   "metadata": {},
   "outputs": [],
   "source": [
    "# %%time\n",
    "# parameters = {'linearsvc__C':np.logspace(-1, 1, 10)}\n",
    "# gs = GridSearchCV(pipe, parameters, scoring='f1', cv=3, n_jobs=5)\n",
    "# gs.fit(X_train, y_train)\n",
    "# print(gs.best_score_)\n",
    "# gs.best_params_"
   ]
  },
  {
   "cell_type": "markdown",
   "metadata": {},
   "source": [
    "### ComplementNB"
   ]
  },
  {
   "cell_type": "code",
   "execution_count": 70,
   "metadata": {},
   "outputs": [
    {
     "name": "stdout",
     "output_type": "stream",
     "text": [
      "Результат f1: 0.671\n"
     ]
    }
   ],
   "source": [
    "model = ComplementNB(alpha=0.2)\n",
    "pipe = make_pipeline(vectorizer, model)\n",
    "cv = cross_val_score(pipe, X_train, y_train, cv=3, scoring='f1', n_jobs=4)\n",
    "print('Результат f1: {:.3f}'.format(cv.mean()))"
   ]
  },
  {
   "cell_type": "markdown",
   "metadata": {},
   "source": [
    "Тут крутился перебор гиперпараметров. Можно раскомментировать и проверить 🙃"
   ]
  },
  {
   "cell_type": "code",
   "execution_count": 71,
   "metadata": {},
   "outputs": [],
   "source": [
    "# %%time\n",
    "# parameters = {'complementnb__alpha':np.logspace(-2, 1, 10)}\n",
    "# gs = GridSearchCV(pipe, parameters, scoring='f1', cv=3, n_jobs=5)\n",
    "# gs.fit(X_train, y_train)\n",
    "# print(gs.best_score_)\n",
    "# gs.best_params_"
   ]
  },
  {
   "cell_type": "markdown",
   "metadata": {},
   "source": [
    "---\n",
    "По итогам лучший результат на тренировочной выборке показала модель LinearSVC"
   ]
  },
  {
   "cell_type": "markdown",
   "metadata": {},
   "source": [
    "## Тестирование"
   ]
  },
  {
   "cell_type": "markdown",
   "metadata": {},
   "source": [
    "Узнаем результат на тестовой выборке"
   ]
  },
  {
   "cell_type": "code",
   "execution_count": 72,
   "metadata": {},
   "outputs": [
    {
     "name": "stdout",
     "output_type": "stream",
     "text": [
      "Результат f1: 0.786\n"
     ]
    }
   ],
   "source": [
    "model = LinearSVC(random_state=123, dual='auto')\n",
    "pipe = make_pipeline(vectorizer, model)\n",
    "pipe.fit(X_train, y_train)\n",
    "y_pred = pipe.predict(X_test)\n",
    "print('Результат f1: {:.3f}'.format(f1_score(y_test, y_pred)))"
   ]
  },
  {
   "cell_type": "markdown",
   "metadata": {},
   "source": [
    "## Выводы"
   ]
  },
  {
   "cell_type": "markdown",
   "metadata": {},
   "source": [
    "Для задачи классификации комментариев на негативные и позитивные были обучены и протестированы несколько моделей.  \n",
    "Обучались модели на размеченных комментариях, переведенных в матрицу векторов *TF-IDF*(оценки важности слова в контексте документа).  \n",
    "\n",
    "Наилучший результат на тестовой выборке показала модель **LinearSVC** с **F1 = 0.786** (требуемый результат >0.75)"
   ]
  }
 ],
 "metadata": {
  "kernelspec": {
   "display_name": "Python 3 (ipykernel)",
   "language": "python",
   "name": "python3"
  },
  "language_info": {
   "codemirror_mode": {
    "name": "ipython",
    "version": 3
   },
   "file_extension": ".py",
   "mimetype": "text/x-python",
   "name": "python",
   "nbconvert_exporter": "python",
   "pygments_lexer": "ipython3",
   "version": "3.10.12"
  },
  "toc": {
   "base_numbering": 1,
   "nav_menu": {},
   "number_sections": true,
   "sideBar": true,
   "skip_h1_title": true,
   "title_cell": "Содержание",
   "title_sidebar": "Contents",
   "toc_cell": true,
   "toc_position": {
    "height": "calc(100% - 180px)",
    "left": "10px",
    "top": "150px",
    "width": "302.391px"
   },
   "toc_section_display": true,
   "toc_window_display": false
  },
  "toc-autonumbering": false,
  "toc-showcode": false,
  "toc-showmarkdowntxt": false,
  "toc-showtags": false
 },
 "nbformat": 4,
 "nbformat_minor": 4
}
