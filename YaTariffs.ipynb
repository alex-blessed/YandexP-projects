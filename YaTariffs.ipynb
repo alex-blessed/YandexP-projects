{
 "cells": [
  {
   "cell_type": "markdown",
   "metadata": {},
   "source": [
    "<div class=\"alert alert-info\">\n",
    "<font size=\"5\"><b>Комментарий ревьюера</b></font>\n",
    "\n",
    "Привет Александр! Меня зовут Марат, и я буду твоим ревьюером. Спешу сообщить что все ключевые этапы в работе выполнены,  с задачей тебе удалось справиться. По поводу обращения - в IT сфере принято общаться на «ты» :) Но, если привычней на «вы», дай знать. Как ревьюера моя задача помочь тебе в развитии, дав хорошие советы. Я внимательно посмотрю твой код, ознакомлюсь с твоими выводами и оставлю комментарии. Где то могу предложить небольшие исправление в коде, но ненавязчиво. Где потребуются уточнения, я оставлю много наводящих вопросов. Они помогут тебя с поиском верного решения.\n",
    "\n",
    "Все мои комментарии размечены по цветам, для лучшего восприятия. \n",
    "    \n",
    "<div class=\"alert alert-success\">Зеленым цветом и словом «Успех» отмечены особо удачные и элегантные решения, которыми ты можешь гордиться. </div>\n",
    "        \n",
    "<div class=\"alert alert-warning\">Желтым и значком словом «Совет», помечены решения у которых есть альтернативные решения, более оптимальные. Ты можешь найти их сразу и доработать проект, или отложить это на потом, для будущих проектах. Проект будет принят и без их доработки. </div>\n",
    "        \n",
    "<div class=\"alert alert-danger\"> Красным цветом и значком словом «Ошибка» помечу твои решения, на которые стоит обратить внимание прежде всего. После их доработки проект будет принят. </div>\n",
    "        \n",
    "Залог успеха - работа сообща, взаимное уважение и работа в диалоге. Поэтому, помечай свои ответные комментарии на мои реплики заметным цветом или курсивом, так мне будет легче их отслеживать. Пожалуйста, не изменяй и не удаляй мои комментарии. Все это поможет выполнить повторную проверку быстрей.\n",
    "\n",
    "</div>\n",
    "<div class=\"alert alert-info\">\n",
    "<font size=\"3\"><b>Комментарий студента</b></font>\n",
    "\n",
    "Привет! Договорились, оставлю комментарии на свои изменения таким цветом\n",
    "</div>"
   ]
  },
  {
   "cell_type": "markdown",
   "metadata": {},
   "source": [
    "<div class=\"alert alert-success\">\n",
    "<font size=\"5\"><b>Комментарий ревьюераV2</b></font>\n",
    "\n",
    "\n",
    "\n",
    "Успех 👍:\n",
    "\n",
    "\n",
    "\n",
    "Привет Александр! Принято\n",
    "\n",
    "\n",
    "\n",
    "\n",
    "</div>\n"
   ]
  },
  {
   "cell_type": "markdown",
   "metadata": {},
   "source": [
    "# Рекомендация тарифов"
   ]
  },
  {
   "cell_type": "markdown",
   "metadata": {},
   "source": [
    "Оператор мобильной связи «Мегалайн» выяснил: многие клиенты пользуются архивными тарифами. Они хотят построить систему, способную проанализировать поведение клиентов и предложить пользователям новый тариф: «Смарт» или «Ультра».\n",
    "\n",
    "**Цель исследования**\n",
    "  \n",
    "Создать систему рекомендаций тарифов на основе данных о использовании мобильной сети и мобильного трафика пользователями\n",
    "\n",
    "**Ход исследования**\n",
    "\n",
    " - Сформируем обучающую, валидационную и тестовую выборки\n",
    " - Изучим точность нескольких моделей: `дерева решений`, `случайного леса` и `логистической регрессии`\n",
    " - Проверим наиболее точную модель на тестовой выборке\n",
    " - проверим наиболее точную модель в тесте на адекватность"
   ]
  },
  {
   "cell_type": "markdown",
   "metadata": {},
   "source": [
    "<div class=\"alert alert-success\">\n",
    "<font size=\"5\"><b>Комментарий ревьюера</b></font>\n",
    "\n",
    "Успех:\n",
    "\n",
    "\n",
    "Вступление в работу очень важно, так человек, который смотрит твой проект (и на работе в том числе) будет сразу введен в курс дела.\n",
    "\n",
    "\n",
    "\n",
    "\n",
    "\n",
    "</div>"
   ]
  },
  {
   "cell_type": "markdown",
   "metadata": {},
   "source": [
    "## Откройте и изучите файл"
   ]
  },
  {
   "cell_type": "code",
   "execution_count": 1,
   "metadata": {},
   "outputs": [
    {
     "name": "stdout",
     "output_type": "stream",
     "text": [
      "Requirement already satisfied: tqdm in /opt/conda/lib/python3.9/site-packages (4.61.2)\n",
      "Collecting tqdm\n",
      "  Downloading tqdm-4.65.0-py3-none-any.whl (77 kB)\n",
      "\u001b[K     |████████████████████████████████| 77 kB 990 kB/s eta 0:00:01\n",
      "\u001b[?25hInstalling collected packages: tqdm\n",
      "  Attempting uninstall: tqdm\n",
      "    Found existing installation: tqdm 4.61.2\n",
      "    Uninstalling tqdm-4.61.2:\n",
      "      Successfully uninstalled tqdm-4.61.2\n",
      "Successfully installed tqdm-4.65.0\n"
     ]
    }
   ],
   "source": [
    "!pip install tqdm -U"
   ]
  },
  {
   "cell_type": "markdown",
   "metadata": {},
   "source": [
    "Импортируем библиотеки"
   ]
  },
  {
   "cell_type": "code",
   "execution_count": 1,
   "metadata": {},
   "outputs": [],
   "source": [
    "import pandas as pd\n",
    "import matplotlib.pyplot as plt\n",
    "import seaborn as sns\n",
    "from sklearn.tree import DecisionTreeClassifier, plot_tree\n",
    "from sklearn.ensemble import RandomForestClassifier \n",
    "from sklearn.linear_model import LogisticRegression\n",
    "from sklearn.model_selection import train_test_split\n",
    "from sklearn.metrics import accuracy_score, confusion_matrix, classification_report\n",
    "from sklearn.dummy import DummyClassifier\n",
    "from tqdm import tqdm"
   ]
  },
  {
   "cell_type": "markdown",
   "metadata": {},
   "source": [
    "<div class=\"alert alert-success\">\n",
    "<font size=\"5\"><b>Комментарий ревьюера</b></font>\n",
    "\n",
    "Успех:\n",
    "\n",
    "Собираем все импорты в верхней части, чтобы легче было ориентироваться и добавлять новые по необходимости. \n",
    "\n",
    "\n",
    "<div class=\"alert alert-warning\">\n",
    "\n",
    "Совет:     \n",
    "    \n",
    "    \n",
    "\n",
    "\n",
    "- кстати есть рекомендации PEP-8 при написании кода, в том числе и для импортов. Если интересно можешь почитать [тут](https://pythonworld.ru/osnovy/pep-8-rukovodstvo-po-napisaniyu-koda-na-python.html), в будущем пригодится ) \n",
    "</div>\n",
    "</div>\n",
    "<div class=\"alert alert-info\">\n",
    "<font size=\"3\"><b>Комментарий студента</b></font>\n",
    "\n",
    "Спасибо, буду стараться весь код соблюдать по стандартам. А можешь подсказать, как правильнее оформить импорт? Вроде каждый на отдельной строке и импортирую только то, что используется\n",
    "</div>"
   ]
  },
  {
   "cell_type": "markdown",
   "metadata": {},
   "source": [
    "<div class=\"alert alert-warning\">\n",
    "<font size=\"5\"><b>Комментарий ревьюераV2</b></font>\n",
    "\n",
    "\n",
    "\n",
    "Совет 🤔:\n",
    "\n",
    "    \n",
    "Пока исправлять особо нечего, это на будущее.  Будущем могут быть такие ошибки    \n",
    "    \n",
    "Вместо\n",
    "    \n",
    "\n",
    "    from sklearn.model_selection import cross_val_score\n",
    "    from sklearn.model_selection import train_test_split\n",
    "    from sklearn.model_selection import StratifiedKFold\n",
    "    from sklearn.model_selection import GridSearchCV\n",
    "    \n",
    "\n",
    "Пишем в одну строку через запятую    \n",
    "\n",
    "    \n",
    "    from sklearn.model_selection import cross_val_score,  train_test_split, ...\n",
    "    \n",
    "    \n",
    "И я не знаю специально ты или случайно, но ты правильно поставил в самый низ \n",
    "    \n",
    "    \n",
    "    \n",
    "    from tqdm import tqdm\n",
    "    \n",
    "    \n",
    ", потому что это сторонняя библиотека\n",
    "    \n",
    "    "
   ]
  },
  {
   "cell_type": "markdown",
   "metadata": {},
   "source": [
    "Импортируем данные"
   ]
  },
  {
   "cell_type": "code",
   "execution_count": 2,
   "metadata": {
    "tags": []
   },
   "outputs": [],
   "source": [
    "try:\n",
    "    df = pd.read_csv('users_behavior.csv')\n",
    "except:\n",
    "    df = pd.read_csv('/datasets/users_behavior.csv')"
   ]
  },
  {
   "cell_type": "markdown",
   "metadata": {},
   "source": [
    "Познакомимся с датасетом"
   ]
  },
  {
   "cell_type": "markdown",
   "metadata": {},
   "source": [
    "На первый взгляд, нет отсутсвующих значений"
   ]
  },
  {
   "cell_type": "code",
   "execution_count": 3,
   "metadata": {},
   "outputs": [
    {
     "name": "stdout",
     "output_type": "stream",
     "text": [
      "<class 'pandas.core.frame.DataFrame'>\n",
      "RangeIndex: 3214 entries, 0 to 3213\n",
      "Data columns (total 5 columns):\n",
      " #   Column    Non-Null Count  Dtype  \n",
      "---  ------    --------------  -----  \n",
      " 0   calls     3214 non-null   float64\n",
      " 1   minutes   3214 non-null   float64\n",
      " 2   messages  3214 non-null   float64\n",
      " 3   mb_used   3214 non-null   float64\n",
      " 4   is_ultra  3214 non-null   int64  \n",
      "dtypes: float64(4), int64(1)\n",
      "memory usage: 125.7 KB\n"
     ]
    }
   ],
   "source": [
    "df.info()"
   ]
  },
  {
   "cell_type": "code",
   "execution_count": 4,
   "metadata": {},
   "outputs": [
    {
     "data": {
      "text/html": [
       "<div>\n",
       "<style scoped>\n",
       "    .dataframe tbody tr th:only-of-type {\n",
       "        vertical-align: middle;\n",
       "    }\n",
       "\n",
       "    .dataframe tbody tr th {\n",
       "        vertical-align: top;\n",
       "    }\n",
       "\n",
       "    .dataframe thead th {\n",
       "        text-align: right;\n",
       "    }\n",
       "</style>\n",
       "<table border=\"1\" class=\"dataframe\">\n",
       "  <thead>\n",
       "    <tr style=\"text-align: right;\">\n",
       "      <th></th>\n",
       "      <th>calls</th>\n",
       "      <th>minutes</th>\n",
       "      <th>messages</th>\n",
       "      <th>mb_used</th>\n",
       "      <th>is_ultra</th>\n",
       "    </tr>\n",
       "  </thead>\n",
       "  <tbody>\n",
       "    <tr>\n",
       "      <th>0</th>\n",
       "      <td>40.0</td>\n",
       "      <td>311.90</td>\n",
       "      <td>83.0</td>\n",
       "      <td>19915.42</td>\n",
       "      <td>0</td>\n",
       "    </tr>\n",
       "    <tr>\n",
       "      <th>1</th>\n",
       "      <td>85.0</td>\n",
       "      <td>516.75</td>\n",
       "      <td>56.0</td>\n",
       "      <td>22696.96</td>\n",
       "      <td>0</td>\n",
       "    </tr>\n",
       "    <tr>\n",
       "      <th>2</th>\n",
       "      <td>77.0</td>\n",
       "      <td>467.66</td>\n",
       "      <td>86.0</td>\n",
       "      <td>21060.45</td>\n",
       "      <td>0</td>\n",
       "    </tr>\n",
       "    <tr>\n",
       "      <th>3</th>\n",
       "      <td>106.0</td>\n",
       "      <td>745.53</td>\n",
       "      <td>81.0</td>\n",
       "      <td>8437.39</td>\n",
       "      <td>1</td>\n",
       "    </tr>\n",
       "    <tr>\n",
       "      <th>4</th>\n",
       "      <td>66.0</td>\n",
       "      <td>418.74</td>\n",
       "      <td>1.0</td>\n",
       "      <td>14502.75</td>\n",
       "      <td>0</td>\n",
       "    </tr>\n",
       "  </tbody>\n",
       "</table>\n",
       "</div>"
      ],
      "text/plain": [
       "   calls  minutes  messages   mb_used  is_ultra\n",
       "0   40.0   311.90      83.0  19915.42         0\n",
       "1   85.0   516.75      56.0  22696.96         0\n",
       "2   77.0   467.66      86.0  21060.45         0\n",
       "3  106.0   745.53      81.0   8437.39         1\n",
       "4   66.0   418.74       1.0  14502.75         0"
      ]
     },
     "execution_count": 4,
     "metadata": {},
     "output_type": "execute_result"
    }
   ],
   "source": [
    "df.head()"
   ]
  },
  {
   "cell_type": "markdown",
   "metadata": {},
   "source": [
    "Аномально больших или множество нулевых значений в нашем датасете нет"
   ]
  },
  {
   "cell_type": "code",
   "execution_count": 5,
   "metadata": {},
   "outputs": [
    {
     "data": {
      "text/html": [
       "<div>\n",
       "<style scoped>\n",
       "    .dataframe tbody tr th:only-of-type {\n",
       "        vertical-align: middle;\n",
       "    }\n",
       "\n",
       "    .dataframe tbody tr th {\n",
       "        vertical-align: top;\n",
       "    }\n",
       "\n",
       "    .dataframe thead th {\n",
       "        text-align: right;\n",
       "    }\n",
       "</style>\n",
       "<table border=\"1\" class=\"dataframe\">\n",
       "  <thead>\n",
       "    <tr style=\"text-align: right;\">\n",
       "      <th></th>\n",
       "      <th>calls</th>\n",
       "      <th>minutes</th>\n",
       "      <th>messages</th>\n",
       "      <th>mb_used</th>\n",
       "      <th>is_ultra</th>\n",
       "    </tr>\n",
       "  </thead>\n",
       "  <tbody>\n",
       "    <tr>\n",
       "      <th>count</th>\n",
       "      <td>3214.000000</td>\n",
       "      <td>3214.000000</td>\n",
       "      <td>3214.000000</td>\n",
       "      <td>3214.000000</td>\n",
       "      <td>3214.000000</td>\n",
       "    </tr>\n",
       "    <tr>\n",
       "      <th>mean</th>\n",
       "      <td>63.038892</td>\n",
       "      <td>438.208787</td>\n",
       "      <td>38.281269</td>\n",
       "      <td>17207.673836</td>\n",
       "      <td>0.306472</td>\n",
       "    </tr>\n",
       "    <tr>\n",
       "      <th>std</th>\n",
       "      <td>33.236368</td>\n",
       "      <td>234.569872</td>\n",
       "      <td>36.148326</td>\n",
       "      <td>7570.968246</td>\n",
       "      <td>0.461100</td>\n",
       "    </tr>\n",
       "    <tr>\n",
       "      <th>min</th>\n",
       "      <td>0.000000</td>\n",
       "      <td>0.000000</td>\n",
       "      <td>0.000000</td>\n",
       "      <td>0.000000</td>\n",
       "      <td>0.000000</td>\n",
       "    </tr>\n",
       "    <tr>\n",
       "      <th>25%</th>\n",
       "      <td>40.000000</td>\n",
       "      <td>274.575000</td>\n",
       "      <td>9.000000</td>\n",
       "      <td>12491.902500</td>\n",
       "      <td>0.000000</td>\n",
       "    </tr>\n",
       "    <tr>\n",
       "      <th>50%</th>\n",
       "      <td>62.000000</td>\n",
       "      <td>430.600000</td>\n",
       "      <td>30.000000</td>\n",
       "      <td>16943.235000</td>\n",
       "      <td>0.000000</td>\n",
       "    </tr>\n",
       "    <tr>\n",
       "      <th>75%</th>\n",
       "      <td>82.000000</td>\n",
       "      <td>571.927500</td>\n",
       "      <td>57.000000</td>\n",
       "      <td>21424.700000</td>\n",
       "      <td>1.000000</td>\n",
       "    </tr>\n",
       "    <tr>\n",
       "      <th>max</th>\n",
       "      <td>244.000000</td>\n",
       "      <td>1632.060000</td>\n",
       "      <td>224.000000</td>\n",
       "      <td>49745.730000</td>\n",
       "      <td>1.000000</td>\n",
       "    </tr>\n",
       "  </tbody>\n",
       "</table>\n",
       "</div>"
      ],
      "text/plain": [
       "             calls      minutes     messages       mb_used     is_ultra\n",
       "count  3214.000000  3214.000000  3214.000000   3214.000000  3214.000000\n",
       "mean     63.038892   438.208787    38.281269  17207.673836     0.306472\n",
       "std      33.236368   234.569872    36.148326   7570.968246     0.461100\n",
       "min       0.000000     0.000000     0.000000      0.000000     0.000000\n",
       "25%      40.000000   274.575000     9.000000  12491.902500     0.000000\n",
       "50%      62.000000   430.600000    30.000000  16943.235000     0.000000\n",
       "75%      82.000000   571.927500    57.000000  21424.700000     1.000000\n",
       "max     244.000000  1632.060000   224.000000  49745.730000     1.000000"
      ]
     },
     "execution_count": 5,
     "metadata": {},
     "output_type": "execute_result"
    }
   ],
   "source": [
    "df.describe()"
   ]
  },
  {
   "cell_type": "markdown",
   "metadata": {},
   "source": [
    "Посмотрим на распределение целевого признака"
   ]
  },
  {
   "cell_type": "code",
   "execution_count": 18,
   "metadata": {},
   "outputs": [
    {
     "data": {
      "image/png": "[encoded data removed]",
      "text/plain": [
       "<Figure size 600x400 with 1 Axes>"
      ]
     },
     "metadata": {},
     "output_type": "display_data"
    }
   ],
   "source": [
    "sns.set_theme()\n",
    "percentage = [len(df[df['is_ultra'] == 0]) / df.shape[0],\n",
    "              len(df[df['is_ultra'] == 1]) / df.shape[0]]\n",
    "plt.figure(figsize=(6, 4))\n",
    "ax = sns.barplot(y=df['is_ultra'].value_counts(), \n",
    "                 x=['smart', 'ultra'], \n",
    "                 width=0.3)\n",
    "plt.title('Распределение целевого признака', fontsize=16)\n",
    "plt.ylabel('кол-во')\n",
    "\n",
    "patches = ax.patches\n",
    "for i in range(len(patches)):\n",
    "    x = patches[i].get_x() + patches[i].get_width()/2\n",
    "    y = patches[i].get_height()+.05\n",
    "    ax.annotate('{:.1%}'.format(percentage[i]), (x, y), ha='center')\n",
    "plt.show()"
   ]
  },
  {
   "cell_type": "markdown",
   "metadata": {},
   "source": [
    "Посмотрим на корреляцию признаков"
   ]
  },
  {
   "cell_type": "code",
   "execution_count": 5,
   "metadata": {},
   "outputs": [
    {
     "data": {
      "image/png": "[encoded data removed]",
      "text/plain": [
       "<Figure size 576x288 with 2 Axes>"
      ]
     },
     "metadata": {
      "needs_background": "light"
     },
     "output_type": "display_data"
    }
   ],
   "source": [
    "plt.figure(figsize=(8,4))\n",
    "sns.heatmap(df.corr(), annot=True, cmap='crest')\n",
    "plt.show()"
   ]
  },
  {
   "cell_type": "markdown",
   "metadata": {},
   "source": [
    "В нашем датасете целевой признак распределен не равномерно, что стоить учесть при обучении модели.  \n",
    "Также, есть зависимость между признаками `calls`(кол-во звонков) и `minutes`(кол-во потраченных минут на звонки)"
   ]
  },
  {
   "cell_type": "markdown",
   "metadata": {},
   "source": [
    "<div class=\"alert alert-danger\">\n",
    "<font size=\"5\"><b>Комментарий ревьюера</b></font>\n",
    "\n",
    "Ошибка:\n",
    "    \n",
    "Мне пришлось подправить твой код чтобы запустилось. Для некоторых особо строгих ревьюеров это основание завернуть работу без проверки, так что будь внимательней в следующий раз )\n",
    "    \n",
    "Совет - используй конструкцию try except:    \n",
    "  \n",
    "    try:\n",
    "\n",
    "        df = pd.read_csv('C:/your_project/users_behavior.csv')\n",
    "    except:\n",
    "\n",
    "        df = pd.read_csv('/datasets/users_behavior.csv')\n",
    "   \n",
    "</div>\n",
    "<div class=\"alert alert-info\">\n",
    "<font size=\"3\"><b>Комментарий студента</b></font>\n",
    "\n",
    "Спасибо, что исправил и проверил дальше) И за удобную конструкцию, чтобы не менять путь до датасета каждый раз, когда буду отправлять проект на ревью\n",
    "</div>"
   ]
  },
  {
   "cell_type": "markdown",
   "metadata": {},
   "source": [
    "<div class=\"alert alert-success\">\n",
    "<font size=\"5\"><b>Комментарий ревьюера</b></font>\n",
    "\n",
    "Успех:\n",
    "\n",
    "👍 Данные изучены.\n",
    "\n",
    "\n",
    "\n",
    "<div class=\"alert alert-warning\">\n",
    "\n",
    "\n",
    "\n",
    "Совет: \n",
    "\n",
    "\n",
    "\n",
    "\n",
    "- Можно еще отдельно проверить датасет на сбалансированность классов в таргете. Это помогло бы решить бонусное задание сразу (Только не надо балансировать данные, это тема следующего проекта).\n",
    "\n",
    "\n",
    "\n",
    "\n",
    "- Можно посмотреть корреляцию признаков. Знаешь что такое мультиколлинеарность, какие два типа проблем возникает, для каких моделей и какие варианты решения?\n",
    "\n",
    "\n",
    "\n",
    "\n",
    "</div>\n",
    "</div>\n",
    "<div class=\"alert alert-info\">\n",
    "<font size=\"3\"><b>Комментарий студента</b></font>\n",
    "\n",
    "Добавил оба пункта. Про мультиколлинеарность очень полезным оказался комментарий - я прочитал статьи, на ютубе ролики посмотрел, много нового узнал. А до этого даже не задумывался о том, что корреляция между признаками может мешать обучению. Да и в принципе, стало очень интересно, как проблемы или особенности в данных могут влиять на обучение и как с этим справиться, теперь читаю на эти темы статьи,  пусть и не все термины еще понимаю)\n",
    "</div>"
   ]
  },
  {
   "cell_type": "markdown",
   "metadata": {},
   "source": [
    "\n",
    "<div class=\"alert alert-warning\">\n",
    "<font size=\"5\"><b>Комментарий ревьюераV2</b></font>\n",
    "\n",
    "\n",
    "Совет 🤔:\n",
    "\n",
    "\n",
    "\n",
    "- Мультиколлинеарность\n",
    "\n",
    "\n",
    "    \n",
    "    \n",
    "    \n",
    "\n",
    "Не знаю вычитал ты это или нет, но очень часто мультикалинеарность не представляет собой особую проблему.  Как видишь у нас есть мультиколлинеарность, и кажется что можно один из признаков убрать, но на самом деле не всё так плохо\n",
    "    \n",
    "\n",
    "\n",
    "- Первый момент: мультиколлинеарность проблема линейных моделей - могут переобучаться.... теоретически. Но в логистической, и в линейной регрессиях реализована регуляризация, которая решает проблему мультиколлинеарности признаков. \"Деревянные\" модели (RF, DT) устойчивы к мультиколлинеарности, а кластеризация тоже почти не зависит от линейных зависимостей. Получается, избавляться от мультиколлинеарности чтобы не переобучаться не обязательно )) \n",
    "    \n",
    "    \n",
    "- Второй момент: интерпретируемость линейной модели (мы по коеффициентам судим как признаки влияют на таргет), тут  мультиколлинеарность надо убирать.\n",
    "\n",
    "\n",
    "Так что получается что в нашем случае убирать мультиколлинеарность имеет смысл только если мы захотим посмотреть как конкретно признаки влияют на Таргет\n",
    "\n",
    "   "
   ]
  },
  {
   "cell_type": "markdown",
   "metadata": {},
   "source": [
    "## Разбейте данные на выборки"
   ]
  },
  {
   "cell_type": "markdown",
   "metadata": {},
   "source": [
    "Разобьем наш датасет на выборку для обучения и теста. Используем параметр *stratify*, чтобы в выборках сохранилось изначальное распределение таргета"
   ]
  },
  {
   "cell_type": "code",
   "execution_count": 19,
   "metadata": {},
   "outputs": [
    {
     "name": "stdout",
     "output_type": "stream",
     "text": [
      "Train size:  2571\n",
      "Test size:  643\n"
     ]
    }
   ],
   "source": [
    "X = df.drop(['is_ultra'], axis=1)\n",
    "y = df['is_ultra']\n",
    "\n",
    "X_train, X_test, y_train, y_test = train_test_split(\n",
    "    X, y, test_size=0.2, random_state=12345, stratify=y)\n",
    "\n",
    "print('Train size: ', X_train.shape[0])\n",
    "print('Test size: ', X_test.shape[0])"
   ]
  },
  {
   "cell_type": "markdown",
   "metadata": {},
   "source": [
    "И проверим разбиение на датасетах с таргет признаками(для фич оно будет такое же)"
   ]
  },
  {
   "cell_type": "code",
   "execution_count": 7,
   "metadata": {},
   "outputs": [
    {
     "name": "stdout",
     "output_type": "stream",
     "text": [
      "Размер тренировочного датасета 59.99%\n",
      "Размер тестового датасета 20.01%\n",
      "Размер валидирующего датасета 20.01%\n"
     ]
    }
   ],
   "source": [
    "print('Размер тренировочного датасета', '{:.2%}'.format(target_train.shape[0] / target.shape[0]))\n",
    "print('Размер тестового датасета', '{:.2%}'.format(target_test.shape[0] / target.shape[0]))\n",
    "print('Размер валидирующего датасета', '{:.2%}'.format(target_valid.shape[0] / target.shape[0]))"
   ]
  },
  {
   "cell_type": "markdown",
   "metadata": {},
   "source": [
    "<div class=\"alert alert-success\">\n",
    "<font size=\"5\"><b>Комментарий ревьюера</b></font>\n",
    "\n",
    "Успех:\n",
    "\n",
    "Все правильно!\n",
    "\n",
    "\n",
    "\n",
    "<div class=\"alert alert-warning\">\n",
    "\n",
    "\n",
    "\n",
    "Совет: \n",
    "\n",
    "\n",
    "- Обрати внимание на аргумент stratify, он позволит сохранить изначальное распределение таргетов во всех новых датасетах.  Существующий дисбаланс никуда не денется, но в каждом датасете он будет одинаковым. [Почитать](https://pythonru.com/baza-znanij/sklearn-train-test-split) можно тут\n",
    "\n",
    "\n",
    "- После разбиения лучше перестраховаться и использовать .shape, для контроля за корректностью разбиения\n",
    "</div>\n",
    "</div>\n",
    "<div class=\"alert alert-info\">\n",
    "<font size=\"3\"><b>Комментарий студента</b></font>\n",
    "\n",
    "Еще одна вещь о которой даже не подумал, теперь выборки будут подобные друг другу\n",
    "</div>"
   ]
  },
  {
   "cell_type": "markdown",
   "metadata": {},
   "source": [
    "<div class=\"alert alert-success\">\n",
    "<font size=\"5\"><b>Комментарий ревьюераV2</b></font>\n",
    "\n",
    "\n",
    "\n",
    "Успех 👍:\n",
    "\n",
    "\n",
    "\n",
    "👍\n",
    "\n",
    "\n",
    "\n",
    "\n",
    "</div>\n"
   ]
  },
  {
   "cell_type": "markdown",
   "metadata": {},
   "source": [
    "## Исследуйте модели"
   ]
  },
  {
   "cell_type": "markdown",
   "metadata": {},
   "source": [
    "### Дерево решений"
   ]
  },
  {
   "cell_type": "markdown",
   "metadata": {},
   "source": [
    "Первая модель для исследования - дерево решений. Попробуем глубину дерева от 1 до 10 и выберем самую удачную"
   ]
  },
  {
   "cell_type": "code",
   "execution_count": 8,
   "metadata": {},
   "outputs": [
    {
     "data": {
      "image/png": "[encoded data removed]",
      "text/plain": [
       "<Figure size 432x288 with 1 Axes>"
      ]
     },
     "metadata": {},
     "output_type": "display_data"
    },
    {
     "name": "stdout",
     "output_type": "stream",
     "text": [
      "Оптимальная глубина: 8\n",
      "Лучшая точность: 0.8087091757387247\n"
     ]
    }
   ],
   "source": [
    "def decision_tree(return_model=False):\n",
    "    accuracy_train = []\n",
    "    accuracy_valid = []\n",
    "    best_accuracy = 0\n",
    "    best_depth = 0\n",
    "\n",
    "    for depth in range(1, 10):\n",
    "        model = DecisionTreeClassifier(max_depth=depth, random_state=123)\n",
    "        model.fit(features_train, target_train)\n",
    "\n",
    "        answers_train = model.predict(features_train)\n",
    "        answers_valid = model.predict(features_valid)\n",
    "\n",
    "        accuracy_train.append(accuracy_score(target_train, answers_train))\n",
    "        accuracy_valid.append(accuracy_score(target_valid, answers_valid))\n",
    "\n",
    "        if accuracy_valid[depth - 1] > best_accuracy:\n",
    "            best_accuracy = accuracy_valid[depth - 1]\n",
    "            best_depth = depth\n",
    "            best_model = model\n",
    "\n",
    "    sns.set()\n",
    "    xaxis = range(1, len(accuracy_train)+1)\n",
    "    sns.lineplot(x=xaxis, y=accuracy_train, label='train')\n",
    "    sns.lineplot(x=xaxis, y=accuracy_valid, label='valid')\n",
    "    plt.xlabel('Глубина дерева')\n",
    "    plt.ylabel('Точность')\n",
    "    plt.show()\n",
    "    print('Оптимальная глубина:', best_depth)\n",
    "    print('Лучшая точность:', best_accuracy)\n",
    "\n",
    "decision_tree()"
   ]
  },
  {
   "cell_type": "markdown",
   "metadata": {},
   "source": [
    "Видно, что модель начинает переобучаться, если задать слишком высокий гиперпараметр глубины"
   ]
  },
  {
   "cell_type": "code",
   "execution_count": 9,
   "metadata": {},
   "outputs": [
    {
     "data": {
      "image/png": "[encoded data removed]",
      "text/plain": [
       "<Figure size 720x360 with 1 Axes>"
      ]
     },
     "metadata": {},
     "output_type": "display_data"
    }
   ],
   "source": [
    "model = DecisionTreeClassifier(max_depth=3, random_state=123)\n",
    "model.fit(features_train, target_train)\n",
    "plt.figure(figsize=(10, 5))\n",
    "plot_tree(model, feature_names=['calls', 'minutes', 'messages', 'mb_used'], class_names=['smart', 'ultra'], filled=True)\n",
    "plt.show()"
   ]
  },
  {
   "cell_type": "markdown",
   "metadata": {},
   "source": [
    "<div class=\"alert alert-success\">\n",
    "<font size=\"5\"><b>Комментарий ревьюера</b></font>\n",
    "\n",
    "Успех:\n",
    " \n",
    "Работа выполнена в соответствии с критериями: \n",
    "\n",
    "\n",
    "\n",
    " - модель обучена на обучающем наборе\n",
    " - получена оценка качества на валидационном наборе\n",
    " - перебор гиперпараметров осуществляется в цикле\n",
    "\n",
    "\n",
    "Отличный график, и верный вывод\n",
    "\n",
    "\n",
    "\n",
    "<div class=\"alert alert-warning\">\n",
    "\n",
    "\n",
    "Совет: \n",
    "\n",
    "\n",
    "- tree_plot можно построить, с max_depth равной 3 или 4 (глубже уже будет громоздко) - глянуть как DT сплиты делает, будет понимание как модель принимает решения: какие признаки  использует, на каких значениях делает разбиение вправо - влево \n",
    "\n",
    "\n",
    "\n",
    "\n",
    "</div>\n",
    "</div>\n",
    "<div class=\"alert alert-info\">\n",
    "<font size=\"3\"><b>Комментарий студента</b></font>\n",
    "\n",
    "Как человеку, любящему все визуализировать, мне нравится возможно увидеть дерево в таком виде. И видно сразу, как повлиял баланс классов. Как я понял, в обозначениях узла value =[] это число обьектов, отнесенных вправо/влево. А почему тогда значение samples у дочерних узлов отличается? Или samples это не количество обьектов, которые узлу надо распределить?\n",
    "</div>"
   ]
  },
  {
   "cell_type": "markdown",
   "metadata": {},
   "source": [
    "<div class=\"alert alert-warning\">\n",
    "<font size=\"5\"><b>Комментарий ревьюераV2</b></font>\n",
    "\n",
    "\n",
    "\n",
    "Совет 🤔:\n",
    "\n",
    "\n",
    "\n",
    "1337+597 = Число примеров тренировочной выборке.  Как-то так должно быть \n"
   ]
  },
  {
   "cell_type": "markdown",
   "metadata": {},
   "source": [
    "### Лес деревьев"
   ]
  },
  {
   "cell_type": "markdown",
   "metadata": {},
   "source": [
    "Следующая модель - лес деревьев. Его обучение и перебор количества деревьев займет больше времени, но и точность ожидается выше"
   ]
  },
  {
   "cell_type": "code",
   "execution_count": 10,
   "metadata": {
    "scrolled": true
   },
   "outputs": [
    {
     "name": "stderr",
     "output_type": "stream",
     "text": [
      "100%|██████████| 55/55 [00:34<00:00,  1.58it/s]\n"
     ]
    },
    {
     "data": {
      "image/png": "[encoded data removed]",
      "text/plain": [
       "<Figure size 720x360 with 1 Axes>"
      ]
     },
     "metadata": {},
     "output_type": "display_data"
    },
    {
     "name": "stdout",
     "output_type": "stream",
     "text": [
      "Оптимальное количество деревьев: 47 c глубиной 8\n",
      "Лучшая точность: 0.8164852255054432\n"
     ]
    }
   ],
   "source": [
    "def random_forest():\n",
    "    accuracy = []\n",
    "    best_accuracy = 0\n",
    "    best_est = 0\n",
    "    best_depth = 0\n",
    "\n",
    "    for est in tqdm(range(3, 58)):\n",
    "        best_accuracy_tmp = 0\n",
    "        best_depth_tmp = 0\n",
    "        \n",
    "        # перебираем для каждого n_estimators глубину деревьев и выбираем лучшую\n",
    "        for depth in range(2, 10):\n",
    "            model = RandomForestClassifier(n_estimators=est, max_depth=depth, random_state=123)\n",
    "            model.fit(features_train, target_train)\n",
    "        \n",
    "            answers = model.predict(features_valid)\n",
    "            accuracy_tmp = (accuracy_score(target_valid, answers))\n",
    "\n",
    "            if accuracy_tmp > best_accuracy_tmp:\n",
    "                best_accuracy_tmp = accuracy_tmp\n",
    "                best_depth_tmp = depth\n",
    "                \n",
    "        accuracy.append(best_accuracy_tmp)\n",
    "        if best_accuracy_tmp > best_accuracy:\n",
    "            best_accuracy = best_accuracy_tmp\n",
    "            best_est = est\n",
    "            best_depth = best_depth_tmp\n",
    "\n",
    "    sns.set()\n",
    "    plt.figure(figsize=(10, 5))\n",
    "    xaxis = range(3, len(accuracy)+3)\n",
    "    sns.lineplot(x=xaxis, y=accuracy)\n",
    "    plt.ylim(0.8, 0.83)\n",
    "    plt.title('Точность на валидирующей выборке')\n",
    "    plt.xlabel('Количество деревьев')\n",
    "    plt.ylabel('Точность')\n",
    "    plt.show()\n",
    "    print('Оптимальное количество деревьев:', best_est, 'c глубиной', best_depth)\n",
    "    print('Лучшая точность:', best_accuracy)\n",
    "\n",
    "random_forest()"
   ]
  },
  {
   "cell_type": "markdown",
   "metadata": {},
   "source": [
    "Случайный лес показывает высокую точность уже при небольшом количестве деревьев. Стоит ли использовать больше, например 18 деревьев, ради прироста точности на сотую часть? Тут нужно оценивать уже затраты модели и ожидаемую прибыль от предсказаний модели"
   ]
  },
  {
   "cell_type": "markdown",
   "metadata": {},
   "source": [
    "<div class=\"alert alert-warning\">\n",
    "<font size=\"5\"><b>Комментарий ревьюера</b></font>\n",
    "\n",
    "\n",
    "\n",
    "Совет 🤔:\n",
    "\n",
    "\n",
    "\n",
    "- Александр, можно было сделать похитрее, RF одна из лучших моделей в классическом machine-learning, поэтому можно было добавить перебор 2 гиперпараметров в двойном цикле, в результата метрика качества вырастет. \n",
    " \n",
    "\n",
    "\n",
    "- Когда что то долго крутиться, можно использовать  %%time - ставишь на самый вверх ячейки с кодом, время выполнения которого хочешь замерить, может не знаешь.  Быстрее не станет, но все будут видеть стоит ли ждать не отходя от ПК или можно сходить чаек поставить )) \n",
    "    \n",
    "    Или tqdm, это ещё лучше, потому что он показывает интерактивно, на каком этапе расчетов мы находимся\n",
    "\n",
    "    \n",
    "    from tqdm import tqdm\n",
    "\n",
    "\n",
    "    for n_estimators in tqdm(range(3,58)):\n",
    "\n",
    "        ..........\n",
    "\n",
    "\n",
    "\n",
    "(дальше мы будем уходить от неэффективных в питоне циклов к apply.  Там тоже есть аналог прогресс-баров:  .progress_apply)\n",
    "    \n",
    "И будет красиво )   \n",
    " \n",
    "\n",
    "\n",
    "\n",
    "- Видишь разницу, и можешь объяснить разницу между поведением метрики на валидации у дерева решений и случайного леса \n",
    "</div>\n",
    "<div class=\"alert alert-info\">\n",
    "<font size=\"3\"><b>Комментарий студента</b></font>\n",
    "    \n",
    "Прогресс-бар вообще крутой, появилось желание его почти везде теперь использовать) Пробовал еще менять критерий разделения на 'entropy' - результат почти такой же\n",
    "</div>"
   ]
  },
  {
   "cell_type": "markdown",
   "metadata": {
    "tags": []
   },
   "source": [
    "### Логистическая регрессия"
   ]
  },
  {
   "cell_type": "markdown",
   "metadata": {},
   "source": [
    "Модель - логистическая регрессия. У нее попробуем поменять гиперпараметр итераций обучения от 100 до 1000 с шагом в 100"
   ]
  },
  {
   "cell_type": "code",
   "execution_count": 11,
   "metadata": {},
   "outputs": [
    {
     "data": {
      "image/png": "[encoded data removed]",
      "text/plain": [
       "<Figure size 432x288 with 1 Axes>"
      ]
     },
     "metadata": {},
     "output_type": "display_data"
    },
    {
     "name": "stdout",
     "output_type": "stream",
     "text": [
      "Оптимальное количество итераций обучения: 100\n",
      "Лучшая точность: 0.6967340590979783\n"
     ]
    }
   ],
   "source": [
    "def logistic_regression():\n",
    "    accuracy_train = []\n",
    "    accuracy_valid = []\n",
    "    best_accuracy = 0\n",
    "    best_iter = 0\n",
    "\n",
    "    for iterations in range(100, 1001, 100):\n",
    "        model = LogisticRegression(max_iter=iterations, random_state=123)\n",
    "        model.fit(features_train, target_train)\n",
    "\n",
    "        answers_train = model.predict(features_train)\n",
    "        answers_valid = model.predict(features_valid)\n",
    "\n",
    "        accuracy_train.append(accuracy_score(target_train, answers_train))\n",
    "        accuracy_valid.append(accuracy_score(target_valid, answers_valid))\n",
    "\n",
    "        if accuracy_valid[iterations//100 - 1] > best_accuracy:\n",
    "            best_accuracy = accuracy_valid[iterations//100 - 1]\n",
    "            best_iter = iterations\n",
    "\n",
    "    sns.set()\n",
    "    xaxis = range(100, len(accuracy_train)*100+1, 100)\n",
    "    sns.lineplot(x=xaxis, y=accuracy_train, label='train')\n",
    "    sns.lineplot(x=xaxis, y=accuracy_valid, label='valid')\n",
    "    plt.xlabel('Количество итераций обучения')\n",
    "    plt.ylabel('Точность')\n",
    "    plt.show()\n",
    "    print('Оптимальное количество итераций обучения:', best_iter)\n",
    "    print('Лучшая точность:', best_accuracy)\n",
    "\n",
    "logistic_regression()"
   ]
  },
  {
   "cell_type": "markdown",
   "metadata": {},
   "source": [
    "Гиперпараметр никак не повлиял на точность обученной модели"
   ]
  },
  {
   "cell_type": "markdown",
   "metadata": {},
   "source": [
    "### Итог\n",
    "---\n",
    "По итогам, наиболее точной в предсказаниях оказалась модель случайного леса. Ее мы дальше и проверим на тестовой выборке, а также на адекватность"
   ]
  },
  {
   "cell_type": "markdown",
   "metadata": {},
   "source": [
    "\n",
    "<div class=\"alert alert-success\">\n",
    "<font size=\"5\"><b>Комментарий ревьюера</b></font>\n",
    "\n",
    "Успех:\n",
    "\n",
    "\n",
    "Все верно, RF лучший. \n",
    "\n",
    "\n",
    "<div class=\"alert alert-warning\">\n",
    "\n",
    "\n",
    "Совет: \n",
    "\n",
    "Если есть желание можешь ответить на вопросики ))    \n",
    "\n",
    "\n",
    "\n",
    "- Как назвать ситуацию, когда на валидации при увеличении глубины дерева (модель DT), метрика качества стала снижаться? Как по твоему в это же время вела себя эта же метрика на train?\n",
    "\n",
    "\n",
    "- Насколько знаю вы еще под капот моделям не заглядывали, но может знаешь почему обычно RF показывает более высокие результаты из выбранных?\n",
    "\n",
    "\n",
    "- Мы решаем задачу классификации (а еще есть задача регрессии), а в названии модели с помощью которой мы решаем задачу \"классификации\" (Логистическая регрессия) есть слово \"регрессия\".  Нет ли тут парадокса? )\n",
    "    \n",
    "\n",
    "- Почему логистическая регрессия показывать на много более худшие результаты?  \n",
    "\n",
    "</div>\n",
    "</div>\n",
    "<div class=\"alert alert-info\">\n",
    "<font size=\"3\"><b>Комментарий студента</b></font>\n",
    "    \n",
    " - Это переобучение, модель дерева становиться настолько большой, что начинает не предсказывать зависимости между фичами и таргетом, а просто включает в себя каждый вариант фичи/таргет\n",
    "    \n",
    " - Насколько я понял, в RF для каждого дерева при обучении своя подвыборка, так что, даже если одно дерево переобучиться, то остальные нет. А решение принимается голосованием всех деревьев и шанс, что большинство окажется переобученым низкий\n",
    "    \n",
    " - Ну, регрессия - это восстановление зависимости, а добавляя слово логистическая, модель предсказывает не значение точки, вероятность отнести ее к какому-либо из классов\n",
    "    \n",
    " - Думаю, у логистической регрессии такие результаты из-за корреляции в признаках, а еще значения признаков не нормализованы\n",
    "</div>"
   ]
  },
  {
   "cell_type": "markdown",
   "metadata": {},
   "source": [
    "<div class=\"alert alert-success\">\n",
    "<font size=\"5\"><b>Комментарий ревьюераV2</b></font>\n",
    "\n",
    "\n",
    "Успех:\n",
    "\n",
    "\n",
    "Дополню чуть\n",
    "\n",
    "1. Верно\n",
    "    \n",
    "    \n",
    "2. Да, в RF обучается несколько деревьев, а решение принимается путем голосования. Каждое дерево в RF учится на своем датасете (используется техника бутстрап), таким образом достигается \"независимость\" этих самых деревьев, в итоге ошибка разброса снижается.\n",
    "\n",
    "    \n",
    "3. \"Регрессия\", потому что внутри нее скалярное произведение (как и в линейной регрессии), дающее на выходе вещественное число (от + бесконечности до - бесконечности), на это число вешают сигмойду, логарифм и получают значение от 0 до 1 (вероятность класса).   \n",
    "    \n",
    "    \n",
    "4. Логистическая регрессия плоха (и хороша с другой стороны) тем что это линейный классификатор: обьекты на классы разделяем гиперплоскостью (прямой если на плоскости), а в данном датасете видимо более сложные, нелинейные связи между признаками и таргетом.   А RF с DT с этим справляются. На других данных  LR могла оказаться лучше, например потому что RF не может экстраполировать.\n",
    "\n",
    "\n",
    "</div>"
   ]
  },
  {
   "cell_type": "markdown",
   "metadata": {},
   "source": [
    "## Проверьте модель на тестовой выборке"
   ]
  },
  {
   "cell_type": "markdown",
   "metadata": {},
   "source": [
    "Выборку для валидации теперь можно объединить с обучающей"
   ]
  },
  {
   "cell_type": "code",
   "execution_count": 16,
   "metadata": {},
   "outputs": [
    {
     "name": "stdout",
     "output_type": "stream",
     "text": [
      "Точность на тестовой выборке 0.8211508553654744\n"
     ]
    }
   ],
   "source": [
    "features_train = pd.concat([features_train, features_valid])\n",
    "target_train = pd.concat([target_train, target_valid])\n",
    "\n",
    "best_model = RandomForestClassifier(n_estimators=47, max_depth=8, random_state=123)\n",
    "best_model.fit(features_train, target_train)\n",
    "answers_test = best_model.predict(features_test)\n",
    "print('Точность на тестовой выборке', accuracy_score(target_test, answers_test))"
   ]
  },
  {
   "cell_type": "markdown",
   "metadata": {},
   "source": [
    "<div class=\"alert alert-danger\">\n",
    "<font size=\"5\"><b>Комментарий ревьюераV2</b></font>\n",
    "\n",
    "\n",
    "\n",
    "Ошибка ❌:\n",
    "\n",
    "\n",
    "\n",
    "\n",
    "Может после стратификации но теперь у тебя лучшие гиперпараметры такие\n",
    "    \n",
    "    Оптимальное количество деревьев: 47 c глубиной 8\n",
    "</div>\n",
    "<div class=\"alert alert-info\">\n",
    "<font size=\"3\"><b>Комментарий студентаV2</b></font>\n",
    "    \n",
    "Действительно, забыл изменить. Исправил \n",
    "</div>"
   ]
  },
  {
   "cell_type": "markdown",
   "metadata": {},
   "source": [
    "<div class=\"alert alert-success\">\n",
    "<font size=\"5\"><b>Комментарий ревьюераV3</b></font>\n",
    "\n",
    "\n",
    "\n",
    "Успех 👍:\n",
    "\n",
    "\n",
    "\n",
    "👍\n",
    "\n",
    "\n",
    "\n",
    "\n",
    "</div>\n"
   ]
  },
  {
   "cell_type": "markdown",
   "metadata": {},
   "source": [
    "Точность оказалась на уровне валидирующей выборки, что ожидаемо"
   ]
  },
  {
   "cell_type": "markdown",
   "metadata": {},
   "source": [
    "---\n",
    "Посмотрим еще на разные метрики модели\n",
    "\n",
    "Матрица ошибок"
   ]
  },
  {
   "cell_type": "code",
   "execution_count": 17,
   "metadata": {},
   "outputs": [
    {
     "data": {
      "image/png": "[encoded data removed]",
      "text/plain": [
       "<Figure size 432x288 with 2 Axes>"
      ]
     },
     "metadata": {},
     "output_type": "display_data"
    }
   ],
   "source": [
    "conf_matrix = confusion_matrix(target_test, answers_test)\n",
    "sns.heatmap(conf_matrix, annot=True, fmt='d')\n",
    "plt.xlabel('Ответы модели')\n",
    "plt.ylabel('Правда')\n",
    "plt.yticks(rotation=0);"
   ]
  },
  {
   "cell_type": "markdown",
   "metadata": {},
   "source": [
    "Precision, recall и F1"
   ]
  },
  {
   "cell_type": "code",
   "execution_count": 18,
   "metadata": {},
   "outputs": [
    {
     "name": "stdout",
     "output_type": "stream",
     "text": [
      "              precision    recall  f1-score   support\n",
      "\n",
      "       Smart       0.82      0.95      0.88       446\n",
      "       Ultra       0.82      0.53      0.65       197\n",
      "\n",
      "    accuracy                           0.82       643\n",
      "   macro avg       0.82      0.74      0.76       643\n",
      "weighted avg       0.82      0.82      0.81       643\n",
      "\n"
     ]
    }
   ],
   "source": [
    "report = classification_report(target_test, answers_test, target_names=['Smart', 'Ultra'])\n",
    "print(report)"
   ]
  },
  {
   "cell_type": "markdown",
   "metadata": {},
   "source": [
    "Наша модель точнее рекомендует тариф Smart, сказывается дизбаланс классов в тренировочном датасете. Наша модель почти точно найдет людей, которым подойдет тариф Smart, а вот тех, кому подойдет Ultra - только 53%. Я бы вернулся к заказчику с уточнением, какие метрики для него важнее. И получается, что метрику accuracy не совсем релевантно использовать для оценки пригодности бизнес-задаче"
   ]
  },
  {
   "cell_type": "markdown",
   "metadata": {},
   "source": [
    "\n",
    "<div class=\"alert alert-success\">\n",
    "<font size=\"5\"><b>Комментарий ревьюера</b></font>\n",
    "\n",
    "Успех:\n",
    "\n",
    "\n",
    "- Все верно, логика моделирования не нарушена, тут тестируем только лучшую модель (или парочку, если метрики были близки) отобранную на валидации. \n",
    "\n",
    "- Если студент получил на тесте accuraсy  выше 0,78, это считается отличным результатом. Ты подбираешь лучшую комбинацию не по одному гиперпараметру и вот он результат!\n",
    "\n",
    "\n",
    "\n",
    "<div class=\"alert alert-warning\">\n",
    "\n",
    "Вопросики и совет:\n",
    "\n",
    "\n",
    "\n",
    "\n",
    "- Как попробовать улучшить результат, не мучаясь с кодом?! Смотри - мы сформировали train выборку на которой обучаем модель, а валидационную используем для поиска лучших значений гиперпараметров. Оке, нашли их. Так почему бы теперь модель с выбранными гиперпараметрами не обучить на тренировочной + валидационной выборке (только не нужно делать новые сплиты, используй pd.concat(), к примеру)?! Чем больше данных, тем лучше модель может обучиться. И эту дообученную модель проверим на тесте. Гаранитий что станет лучше нет, но ML это постоянные эксперименты.  \n",
    "    \n",
    "    \n",
    "- А можешь предложить как нам использовать полученный результат в бизнесе? Как нам на этих прогнозах сделать деньги? \n",
    "\n",
    "\n",
    "\n",
    "\n",
    "- Александр, в качестве бонуса можешь вывести еще несколько метрик своей модели - precision, recall, F1 и confussion matrix) Все есть в sklearn)\n",
    "</div>\n",
    "</div>\n",
    "<div class=\"alert alert-info\">\n",
    "<font size=\"3\"><b>Комментарий студента</b></font>\n",
    "    \n",
    " - Сделал\n",
    "    \n",
    " - Насколько я понял, в RF для каждого дерева при обучении своя подвыборка, так что, даже если одно дерево переобучиться, то остальные нет. А решение принимается голосованием всех деревьев и шанс, что большинство окажется переобученым низкий\n",
    "    \n",
    " - Например, если модель верно предскажет тариф, клиент на него перейдет, а с нового тарифа компания будет получать больше прибыли. Или, при верной рекомендации тарифа клиент не перейдет в другую компания, то есть, снижение оттока(хотя, возможна и ситуация, при которой неверно предсказаный тариф подтолкнет клиента уйти)\n",
    "    \n",
    " - Узнал огромный пласт информации про метрики, теперь мне моя accuracy кажется почти бесполезной) \n",
    "</div>"
   ]
  },
  {
   "cell_type": "markdown",
   "metadata": {},
   "source": [
    "<div class=\"alert alert-success\">\n",
    "<font size=\"5\"><b>Комментарий ревьюераV2</b></font>\n",
    "\n",
    "Успех:\n",
    "    \n",
    "- Довольный клиент это к деньгам, и рост конверсия тоже прибыли ) Я вижу практическое применение прогнозов модели еще и таким образом. Допустим какой-то тариф более выгоден компании, тогда мы можем предложить перейти на него клиентам, но не всем, а тем, кому данный тариф подходит (на основе прогноза модели). Таким образом мы сэкономим время и деньги, ведь просто предлагать переходить всем это лишние траты (не говоря о клиентах, которые уходят, если слишком назойливо им что-то предлагать, что для них явно не подходит). \n",
    "\n",
    "    \n",
    "    \n",
    "- accuracy действительно есть ряд недостатков. Но на самом деле какой-то универсальной метрики нет, лучше всегда использовать набор метрик\n",
    "    \n",
    "   "
   ]
  },
  {
   "cell_type": "markdown",
   "metadata": {},
   "source": [
    "## (бонус) Проверьте модели на адекватность"
   ]
  },
  {
   "cell_type": "code",
   "execution_count": 15,
   "metadata": {},
   "outputs": [
    {
     "name": "stdout",
     "output_type": "stream",
     "text": [
      "Точность случайной модели 0.6936236391912908\n"
     ]
    }
   ],
   "source": [
    "dummy_classifier = DummyClassifier(strategy=\"most_frequent\")\n",
    "dummy_classifier.fit(features_train, target_train)\n",
    "dummyclassifier_answers = dummy_classifier.predict(features_test)\n",
    "print('Точность случайной модели', accuracy_score(target_test, dummyclassifier_answers))"
   ]
  },
  {
   "cell_type": "markdown",
   "metadata": {},
   "source": [
    "Точность модели, которая всегда будет отвечать 0 составляет 0.69, а у нашей 0.82. Это значит, наша модель пусть немного, но все же умнее случайной"
   ]
  },
  {
   "cell_type": "markdown",
   "metadata": {},
   "source": [
    "<div class=\"alert alert-success\">\n",
    "<font size=\"5\"><b>Комментарий ревьюера</b></font>\n",
    "\n",
    "Успех:\n",
    "\n",
    "Все верно. \n",
    "\n",
    "👍 что используешь специальную обертку для проверки на адекватность\n",
    "\n",
    "</div>"
   ]
  },
  {
   "cell_type": "markdown",
   "metadata": {},
   "source": [
    "## Итог\n",
    "\n",
    "При создании системы рекомендаций протестировали три типа модели:\n",
    "- Дерево решений\n",
    "- Случайный лес\n",
    "- Логистическая регрессия\n",
    "\n",
    "Самой точной оказалась `модель Случайного леса` - с точностью 0.80, которая также успешно прошла проверку на адекватность.\n",
    "\n",
    "При изменении случайного распределения и обучения(random_state) могут незначительно меняться оптимальные гиперпараметры для моделей, а также точность. Но модель случайного леса всегда остается самой точной и проходит тест на адекватность"
   ]
  },
  {
   "cell_type": "markdown",
   "metadata": {},
   "source": [
    "\n",
    "<div class=\"alert alert-info\">\n",
    "<font size=\"5\"><b>Комментарий ревьюера</b></font>\n",
    "\n",
    "\n",
    "\n",
    "\n",
    "Александр, у тебя старательно выполненная работа, все четко, осмысленно. Выводы присутствуют\n",
    "    \n",
    "    \n",
    "\n",
    "\n",
    "Я оставил небольшие советы и вопросики (если есть время и желание можешь воспользоваться/ответить): \n",
    "\n",
    "\n",
    "\n",
    "\n",
    "- обрати внимание на проверку сбалансированность классов в таргете в разделе EDA\n",
    "- использовать stratify\n",
    "- добавить график метрики    \n",
    "- как можно улучшить результаты \n",
    "\n",
    "\n",
    "\n",
    "    \n",
    "Обязательное к исправлению:\n",
    "\n",
    "\n",
    "\n",
    "    \n",
    "    \n",
    "    \n",
    "- ошибка неисполнения кода\n",
    "\n",
    "\n",
    "\n",
    "\n",
    "    \n",
    "    \n",
    "Жду исправлений, для принятия проекта. Если какие то вопросы, то сразу спрашивай ) \n",
    "\n",
    "\n",
    "\n",
    "\n",
    "\n",
    "</div>\n",
    "<div class=\"alert alert-info\">\n",
    "<font size=\"3\"><b>Комментарий студента</b></font>\n",
    "    \n",
    "Исправил ошибку, дополнил код и ответил на вопросы\n",
    "</div>"
   ]
  },
  {
   "cell_type": "markdown",
   "metadata": {},
   "source": [
    "\n",
    "<div class=\"alert alert-info\">\n",
    "<font size=\"5\"><b>Комментарий ревьюераV2</b></font>\n",
    "\n",
    "Спасибо за работу!    \n",
    "\n",
    "    \n",
    "    \n",
    "    \n",
    "Что осталось из красного:\n",
    "\n",
    " \n",
    "    \n",
    "- Есть несоответствие между озвученными лучшими гиперпараметрами, и использованными на финальном тестировании\n",
    "</div>\n",
    "<div class=\"alert alert-info\">\n",
    "<font size=\"3\"><b>Комментарий студентаV2</b></font>\n",
    "    \n",
    "Исправил\n",
    "</div>"
   ]
  },
  {
   "cell_type": "markdown",
   "metadata": {},
   "source": [
    "\n",
    "<div class=\"alert alert-info\">\n",
    "<font size=\"5\"><b>Комментарий ревьюераV3</b></font>\n",
    "\n",
    "Спасибо за работу!    \n",
    "\n",
    "    \n",
    "Красное исправлено, многие желтые советы использованы, на  вопросы есть ответы  (это все было по желанию), значит стремишься развиваться, а желание и интерес это главное. Надеюсь мои советы и вопросики были полезны и в копилочку знаний упало что то новое, а проект стал лучше, и симпатичней.\n",
    "\n",
    "\n",
    "Отличная работа Александр. Желаю успехов в дальнейшей учебе!\n"
   ]
  },
  {
   "cell_type": "markdown",
   "metadata": {},
   "source": [
    "## Чек-лист готовности проекта"
   ]
  },
  {
   "cell_type": "markdown",
   "metadata": {},
   "source": [
    "Поставьте 'x' в выполненных пунктах. Далее нажмите Shift+Enter."
   ]
  },
  {
   "cell_type": "markdown",
   "metadata": {},
   "source": [
    "- [x] Jupyter Notebook открыт\n",
    "- [x] Весь код исполняется без ошибок\n",
    "- [x] Ячейки с кодом расположены в порядке исполнения\n",
    "- [x] Выполнено задание 1: данные загружены и изучены\n",
    "- [x] Выполнено задание 2: данные разбиты на три выборки\n",
    "- [x] Выполнено задание 3: проведено исследование моделей\n",
    "    - [x] Рассмотрено больше одной модели\n",
    "    - [x] Рассмотрено хотя бы 3 значения гипепараметров для какой-нибудь модели\n",
    "    - [x] Написаны выводы по результатам исследования\n",
    "- [x] Выполнено задание 3: Проведено тестирование\n",
    "- [x] Удалось достичь accuracy не меньше 0.75\n"
   ]
  }
 ],
 "metadata": {
  "kernelspec": {
   "display_name": "Python 3 (ipykernel)",
   "language": "python",
   "name": "python3"
  },
  "language_info": {
   "codemirror_mode": {
    "name": "ipython",
    "version": 3
   },
   "file_extension": ".py",
   "mimetype": "text/x-python",
   "name": "python",
   "nbconvert_exporter": "python",
   "pygments_lexer": "ipython3",
   "version": "3.10.10"
  },
  "toc": {
   "base_numbering": 1,
   "nav_menu": {},
   "number_sections": true,
   "sideBar": true,
   "skip_h1_title": true,
   "title_cell": "Table of Contents",
   "title_sidebar": "Contents",
   "toc_cell": false,
   "toc_position": {},
   "toc_section_display": true,
   "toc_window_display": false
  }
 },
 "nbformat": 4,
 "nbformat_minor": 4
}
